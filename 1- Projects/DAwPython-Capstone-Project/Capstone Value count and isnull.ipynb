{
  "cells": [
    {
      "cell_type": "markdown",
      "metadata": {
        "id": "MskfsLRp0FIM"
      },
      "source": [
        "___\n",
        "\n",
        "<p style=\"text-align: center;\"><img src=\"https://docs.google.com/uc?id=1lY0Uj5R04yMY3-ZppPWxqCr5pvBLYPnV\" class=\"img-fluid\" alt=\"CLRSWY\"></p>\n",
        "\n",
        "___"
      ]
    },
    {
      "cell_type": "markdown",
      "metadata": {
        "id": "UmHotYyy0FIN"
      },
      "source": [
        "# WELCOME!"
      ]
    },
    {
      "cell_type": "markdown",
      "metadata": {
        "id": "ynHXPm-Q0FIO"
      },
      "source": [
        "## Introduction\n",
        "Welcome to \"***AutoScout Data Analysis Project***\". This is the capstone project of ***Data Analysis*** Module. **Auto Scout** data which using for this project, scraped from the on-line car trading company in 2019, contains many features of 9 different car models. In this project, you will have the opportunity to apply many commonly used algorithms for Data Cleaning and Exploratory Data Analysis by using many Python libraries such as Numpy, Pandas, Matplotlib, Seaborn, Scipy you will analyze clean dataset.\n",
        "\n",
        "The project consists of 3 parts:\n",
        "* First part is related with 'data cleaning'. It deals with Incorrect Headers, Incorrect Format, Anomalies, Dropping useless columns.\n",
        "* Second part is related with 'filling data'. It deals with Missing Values. Categorical to numeric transformation is done.\n",
        "* Third part is related with 'handling outliers of data' via Visualisation libraries. Some insights are extracted.\n"
      ]
    },
    {
      "cell_type": "markdown",
      "metadata": {
        "id": "TGlaKf940FIO"
      },
      "source": [
        "# PART- 1 `( Data Cleaning )`"
      ]
    },
    {
      "cell_type": "code",
      "execution_count": 1,
      "metadata": {
        "id": "W55Vhy430FIO"
      },
      "outputs": [],
      "source": [
        "import pandas as pd\n",
        "import re\n",
        "import numpy as np\n",
        "import seaborn as sns\n",
        "sns.set_style(\"whitegrid\")\n",
        "\n",
        "import matplotlib.pyplot as plt\n",
        "%matplotlib inline\n",
        "\n",
        "import warnings\n",
        "warnings.filterwarnings(\"ignore\")\n",
        "warnings.warn(\"this will not show\")\n",
        "\n",
        "pd.set_option('display.float_format', lambda x: '%.3f' % x)\n",
        "pd.options.display.max_rows=100\n",
        "pd.options.display.max_columns=100"
      ]
    },
    {
      "cell_type": "code",
      "execution_count": 4,
      "metadata": {
        "colab": {
          "base_uri": "https://localhost:8080/",
          "height": 503
        },
        "id": "S7EsRLdU0FIP",
        "outputId": "3f16ce67-41a6-4aa3-b43c-5f2cf4d14698"
      },
      "outputs": [
        {
          "data": {
            "text/html": [
              "<div>\n",
              "<style scoped>\n",
              "    .dataframe tbody tr th:only-of-type {\n",
              "        vertical-align: middle;\n",
              "    }\n",
              "\n",
              "    .dataframe tbody tr th {\n",
              "        vertical-align: top;\n",
              "    }\n",
              "\n",
              "    .dataframe thead th {\n",
              "        text-align: right;\n",
              "    }\n",
              "</style>\n",
              "<table border=\"1\" class=\"dataframe\">\n",
              "  <thead>\n",
              "    <tr style=\"text-align: right;\">\n",
              "      <th></th>\n",
              "      <th>url</th>\n",
              "      <th>make_model</th>\n",
              "      <th>short_description</th>\n",
              "      <th>body_type</th>\n",
              "      <th>price</th>\n",
              "      <th>vat</th>\n",
              "      <th>km</th>\n",
              "      <th>registration</th>\n",
              "      <th>prev_owner</th>\n",
              "      <th>kW</th>\n",
              "      <th>hp</th>\n",
              "      <th>Type</th>\n",
              "      <th>Previous Owners</th>\n",
              "      <th>Next Inspection</th>\n",
              "      <th>Inspection new</th>\n",
              "      <th>Warranty</th>\n",
              "      <th>Full Service</th>\n",
              "      <th>Non-smoking Vehicle</th>\n",
              "      <th>null</th>\n",
              "      <th>Make</th>\n",
              "      <th>Model</th>\n",
              "      <th>Offer Number</th>\n",
              "      <th>First Registration</th>\n",
              "      <th>Body Color</th>\n",
              "      <th>Paint Type</th>\n",
              "      <th>Body Color Original</th>\n",
              "      <th>Upholstery</th>\n",
              "      <th>Body</th>\n",
              "      <th>Nr. of Doors</th>\n",
              "      <th>Nr. of Seats</th>\n",
              "      <th>Model Code</th>\n",
              "      <th>Gearing Type</th>\n",
              "      <th>Displacement</th>\n",
              "      <th>Cylinders</th>\n",
              "      <th>Weight</th>\n",
              "      <th>Drive chain</th>\n",
              "      <th>Fuel</th>\n",
              "      <th>Consumption</th>\n",
              "      <th>CO2 Emission</th>\n",
              "      <th>Emission Class</th>\n",
              "      <th>\\nComfort &amp; Convenience\\n</th>\n",
              "      <th>\\nEntertainment &amp; Media\\n</th>\n",
              "      <th>\\nExtras\\n</th>\n",
              "      <th>\\nSafety &amp; Security\\n</th>\n",
              "      <th>description</th>\n",
              "      <th>Emission Label</th>\n",
              "      <th>Gears</th>\n",
              "      <th>Country version</th>\n",
              "      <th>Electricity consumption</th>\n",
              "      <th>Last Service Date</th>\n",
              "      <th>Other Fuel Types</th>\n",
              "      <th>Availability</th>\n",
              "      <th>Last Timing Belt Service Date</th>\n",
              "      <th>Available from</th>\n",
              "    </tr>\n",
              "  </thead>\n",
              "  <tbody>\n",
              "    <tr>\n",
              "      <th>3890</th>\n",
              "      <td>https://www.autoscout24.com//offers/audi-a3-s-...</td>\n",
              "      <td>Audi A3</td>\n",
              "      <td>S-tronic NAVIGATIE / XENON / BTW AFTREKBAAR</td>\n",
              "      <td>Sedans</td>\n",
              "      <td>20950</td>\n",
              "      <td>None</td>\n",
              "      <td>26,943 km</td>\n",
              "      <td>10/2017</td>\n",
              "      <td>1 previous owner</td>\n",
              "      <td>NaN</td>\n",
              "      <td>85 kW</td>\n",
              "      <td>[, Used, , Diesel]</td>\n",
              "      <td>\\n1\\n</td>\n",
              "      <td>NaN</td>\n",
              "      <td>NaN</td>\n",
              "      <td>[\\n12 months\\n, \\nEuro 6\\n]</td>\n",
              "      <td>[\\n, \\n]</td>\n",
              "      <td>[\\n, \\n]</td>\n",
              "      <td>[]</td>\n",
              "      <td>\\nAudi\\n</td>\n",
              "      <td>[\\n, A3, \\n]</td>\n",
              "      <td>NaN</td>\n",
              "      <td>[\\n, 2017, \\n]</td>\n",
              "      <td>[\\n, Grey, \\n]</td>\n",
              "      <td>[\\nMetallic\\n]</td>\n",
              "      <td>[\\nMoessongrijs metaalkleur\\n]</td>\n",
              "      <td>[\\nCloth, Black\\n]</td>\n",
              "      <td>[\\n, Sedans, \\n]</td>\n",
              "      <td>[\\n4\\n]</td>\n",
              "      <td>[\\n5\\n]</td>\n",
              "      <td>NaN</td>\n",
              "      <td>[\\n, Automatic, \\n]</td>\n",
              "      <td>[\\n1,598 cc\\n]</td>\n",
              "      <td>[\\n4\\n]</td>\n",
              "      <td>[\\n1,365 kg\\n]</td>\n",
              "      <td>[\\nfront\\n]</td>\n",
              "      <td>[\\n, Diesel, \\n]</td>\n",
              "      <td>[[4 l/100 km (comb)], [], []]</td>\n",
              "      <td>[\\n102 g CO2/km (comb)\\n]</td>\n",
              "      <td>[\\nEuro 6\\n]</td>\n",
              "      <td>[Air conditioning, Armrest, Automatic climate ...</td>\n",
              "      <td>[Bluetooth, CD player, On-board computer, Radi...</td>\n",
              "      <td>[Alloy wheels]</td>\n",
              "      <td>[ABS, Alarm system, Central door lock, Central...</td>\n",
              "      <td>[\\nDecocars Biedt aan: , Audi A3 1600 TDi S-tr...</td>\n",
              "      <td>NaN</td>\n",
              "      <td>[\\n7\\n]</td>\n",
              "      <td>[\\nBelgium\\n]</td>\n",
              "      <td>NaN</td>\n",
              "      <td>[\\n01/2017\\n, \\n102 g CO2/km (comb)\\n]</td>\n",
              "      <td>NaN</td>\n",
              "      <td>NaN</td>\n",
              "      <td>NaN</td>\n",
              "      <td>NaN</td>\n",
              "    </tr>\n",
              "    <tr>\n",
              "      <th>5940</th>\n",
              "      <td>https://www.autoscout24.com//offers/opel-astra...</td>\n",
              "      <td>Opel Astra</td>\n",
              "      <td>1.6 CDTi 136 CV Excellence Auto</td>\n",
              "      <td>None</td>\n",
              "      <td>12990</td>\n",
              "      <td>None</td>\n",
              "      <td>47,000 km</td>\n",
              "      <td>07/2016</td>\n",
              "      <td>None</td>\n",
              "      <td>NaN</td>\n",
              "      <td>100 kW</td>\n",
              "      <td>[, Used, , Diesel]</td>\n",
              "      <td>NaN</td>\n",
              "      <td>NaN</td>\n",
              "      <td>NaN</td>\n",
              "      <td>NaN</td>\n",
              "      <td>NaN</td>\n",
              "      <td>NaN</td>\n",
              "      <td>[]</td>\n",
              "      <td>\\nOpel\\n</td>\n",
              "      <td>[\\n, Astra, \\n]</td>\n",
              "      <td>NaN</td>\n",
              "      <td>[\\n, 2016, \\n]</td>\n",
              "      <td>[\\n, Black, \\n]</td>\n",
              "      <td>NaN</td>\n",
              "      <td>NaN</td>\n",
              "      <td>NaN</td>\n",
              "      <td>NaN</td>\n",
              "      <td>[\\n5\\n]</td>\n",
              "      <td>NaN</td>\n",
              "      <td>NaN</td>\n",
              "      <td>[\\n, Automatic, \\n]</td>\n",
              "      <td>NaN</td>\n",
              "      <td>NaN</td>\n",
              "      <td>NaN</td>\n",
              "      <td>NaN</td>\n",
              "      <td>[\\n, Diesel, \\n]</td>\n",
              "      <td>[[4.5 l/100 km (comb)], [5.7 l/100 km (city)],...</td>\n",
              "      <td>[\\n119 g CO2/km (comb)\\n]</td>\n",
              "      <td>NaN</td>\n",
              "      <td>[Air conditioning, Multi-function steering wheel]</td>\n",
              "      <td>NaN</td>\n",
              "      <td>NaN</td>\n",
              "      <td>[ABS, Central door lock, Daytime running light...</td>\n",
              "      <td>[\\nMás de 2.000 coches en la web de Flexicar ,...</td>\n",
              "      <td>NaN</td>\n",
              "      <td>NaN</td>\n",
              "      <td>NaN</td>\n",
              "      <td>NaN</td>\n",
              "      <td>NaN</td>\n",
              "      <td>NaN</td>\n",
              "      <td>NaN</td>\n",
              "      <td>NaN</td>\n",
              "      <td>NaN</td>\n",
              "    </tr>\n",
              "    <tr>\n",
              "      <th>4278</th>\n",
              "      <td>https://www.autoscout24.com//offers/audi-a3-sp...</td>\n",
              "      <td>Audi A3</td>\n",
              "      <td>Sportback sport 1.6 TDI Xenon - Navi</td>\n",
              "      <td>Sedans</td>\n",
              "      <td>17900</td>\n",
              "      <td>VAT deductible</td>\n",
              "      <td>64,595 km</td>\n",
              "      <td>04/2017</td>\n",
              "      <td>1 previous owner</td>\n",
              "      <td>NaN</td>\n",
              "      <td>85 kW</td>\n",
              "      <td>[, Used, , Diesel (Particulate Filter)]</td>\n",
              "      <td>\\n1\\n</td>\n",
              "      <td>NaN</td>\n",
              "      <td>[\\nYes\\n, \\n111 g CO2/km (comb)\\n]</td>\n",
              "      <td>[\\n, \\n, \\nEuro 6\\n]</td>\n",
              "      <td>[\\n, \\n, \\n4 (Green)\\n]</td>\n",
              "      <td>[\\n, \\n]</td>\n",
              "      <td>[]</td>\n",
              "      <td>\\nAudi\\n</td>\n",
              "      <td>[\\n, A3, \\n]</td>\n",
              "      <td>[\\n5762\\n]</td>\n",
              "      <td>[\\n, 2017, \\n]</td>\n",
              "      <td>[\\n, Black, \\n]</td>\n",
              "      <td>NaN</td>\n",
              "      <td>[\\nBrillantschwarz\\n]</td>\n",
              "      <td>[\\nCloth, Black\\n]</td>\n",
              "      <td>[\\n, Sedans, \\n]</td>\n",
              "      <td>[\\n5\\n]</td>\n",
              "      <td>[\\n5\\n]</td>\n",
              "      <td>[\\n0588/BLH\\n]</td>\n",
              "      <td>[\\n, Manual, \\n]</td>\n",
              "      <td>[\\n1,598 cc\\n]</td>\n",
              "      <td>[\\n4\\n]</td>\n",
              "      <td>[\\n1,335 kg\\n]</td>\n",
              "      <td>[\\nfront\\n]</td>\n",
              "      <td>[\\n, Diesel (Particulate Filter), \\n]</td>\n",
              "      <td>[[4.2 l/100 km (comb)], [4.7 l/100 km (city)],...</td>\n",
              "      <td>[\\n111 g CO2/km (comb)\\n]</td>\n",
              "      <td>[\\nEuro 6\\n]</td>\n",
              "      <td>[Air conditioning, Armrest, Automatic climate ...</td>\n",
              "      <td>[Bluetooth, CD player, Hands-free equipment, M...</td>\n",
              "      <td>[Alloy wheels, Sport seats]</td>\n",
              "      <td>[ABS, Central door lock, Daytime running light...</td>\n",
              "      <td>[\\n, Assistenzsysteme, Einparkhilfe vorne und ...</td>\n",
              "      <td>NaN</td>\n",
              "      <td>[\\n6\\n]</td>\n",
              "      <td>NaN</td>\n",
              "      <td>NaN</td>\n",
              "      <td>NaN</td>\n",
              "      <td>NaN</td>\n",
              "      <td>NaN</td>\n",
              "      <td>NaN</td>\n",
              "      <td>NaN</td>\n",
              "    </tr>\n",
              "  </tbody>\n",
              "</table>\n",
              "</div>"
            ],
            "text/plain": [
              "                                                    url  make_model  \\\n",
              "3890  https://www.autoscout24.com//offers/audi-a3-s-...     Audi A3   \n",
              "5940  https://www.autoscout24.com//offers/opel-astra...  Opel Astra   \n",
              "4278  https://www.autoscout24.com//offers/audi-a3-sp...     Audi A3   \n",
              "\n",
              "                                short_description body_type  price  \\\n",
              "3890  S-tronic NAVIGATIE / XENON / BTW AFTREKBAAR    Sedans  20950   \n",
              "5940              1.6 CDTi 136 CV Excellence Auto      None  12990   \n",
              "4278         Sportback sport 1.6 TDI Xenon - Navi    Sedans  17900   \n",
              "\n",
              "                 vat         km registration        prev_owner  kW      hp  \\\n",
              "3890            None  26,943 km      10/2017  1 previous owner NaN   85 kW   \n",
              "5940            None  47,000 km      07/2016              None NaN  100 kW   \n",
              "4278  VAT deductible  64,595 km      04/2017  1 previous owner NaN   85 kW   \n",
              "\n",
              "                                         Type Previous Owners Next Inspection  \\\n",
              "3890                       [, Used, , Diesel]           \\n1\\n             NaN   \n",
              "5940                       [, Used, , Diesel]             NaN             NaN   \n",
              "4278  [, Used, , Diesel (Particulate Filter)]           \\n1\\n             NaN   \n",
              "\n",
              "                          Inspection new                     Warranty  \\\n",
              "3890                                 NaN  [\\n12 months\\n, \\nEuro 6\\n]   \n",
              "5940                                 NaN                          NaN   \n",
              "4278  [\\nYes\\n, \\n111 g CO2/km (comb)\\n]         [\\n, \\n, \\nEuro 6\\n]   \n",
              "\n",
              "                 Full Service Non-smoking Vehicle null      Make  \\\n",
              "3890                 [\\n, \\n]            [\\n, \\n]   []  \\nAudi\\n   \n",
              "5940                      NaN                 NaN   []  \\nOpel\\n   \n",
              "4278  [\\n, \\n, \\n4 (Green)\\n]            [\\n, \\n]   []  \\nAudi\\n   \n",
              "\n",
              "                Model Offer Number First Registration       Body Color  \\\n",
              "3890     [\\n, A3, \\n]          NaN     [\\n, 2017, \\n]   [\\n, Grey, \\n]   \n",
              "5940  [\\n, Astra, \\n]          NaN     [\\n, 2016, \\n]  [\\n, Black, \\n]   \n",
              "4278     [\\n, A3, \\n]   [\\n5762\\n]     [\\n, 2017, \\n]  [\\n, Black, \\n]   \n",
              "\n",
              "          Paint Type             Body Color Original          Upholstery  \\\n",
              "3890  [\\nMetallic\\n]  [\\nMoessongrijs metaalkleur\\n]  [\\nCloth, Black\\n]   \n",
              "5940             NaN                             NaN                 NaN   \n",
              "4278             NaN           [\\nBrillantschwarz\\n]  [\\nCloth, Black\\n]   \n",
              "\n",
              "                  Body Nr. of Doors Nr. of Seats      Model Code  \\\n",
              "3890  [\\n, Sedans, \\n]      [\\n4\\n]      [\\n5\\n]             NaN   \n",
              "5940               NaN      [\\n5\\n]          NaN             NaN   \n",
              "4278  [\\n, Sedans, \\n]      [\\n5\\n]      [\\n5\\n]  [\\n0588/BLH\\n]   \n",
              "\n",
              "             Gearing Type    Displacement Cylinders          Weight  \\\n",
              "3890  [\\n, Automatic, \\n]  [\\n1,598 cc\\n]   [\\n4\\n]  [\\n1,365 kg\\n]   \n",
              "5940  [\\n, Automatic, \\n]             NaN       NaN             NaN   \n",
              "4278     [\\n, Manual, \\n]  [\\n1,598 cc\\n]   [\\n4\\n]  [\\n1,335 kg\\n]   \n",
              "\n",
              "      Drive chain                                   Fuel  \\\n",
              "3890  [\\nfront\\n]                       [\\n, Diesel, \\n]   \n",
              "5940          NaN                       [\\n, Diesel, \\n]   \n",
              "4278  [\\nfront\\n]  [\\n, Diesel (Particulate Filter), \\n]   \n",
              "\n",
              "                                            Consumption  \\\n",
              "3890                      [[4 l/100 km (comb)], [], []]   \n",
              "5940  [[4.5 l/100 km (comb)], [5.7 l/100 km (city)],...   \n",
              "4278  [[4.2 l/100 km (comb)], [4.7 l/100 km (city)],...   \n",
              "\n",
              "                   CO2 Emission Emission Class  \\\n",
              "3890  [\\n102 g CO2/km (comb)\\n]   [\\nEuro 6\\n]   \n",
              "5940  [\\n119 g CO2/km (comb)\\n]            NaN   \n",
              "4278  [\\n111 g CO2/km (comb)\\n]   [\\nEuro 6\\n]   \n",
              "\n",
              "                              \\nComfort & Convenience\\n  \\\n",
              "3890  [Air conditioning, Armrest, Automatic climate ...   \n",
              "5940  [Air conditioning, Multi-function steering wheel]   \n",
              "4278  [Air conditioning, Armrest, Automatic climate ...   \n",
              "\n",
              "                              \\nEntertainment & Media\\n  \\\n",
              "3890  [Bluetooth, CD player, On-board computer, Radi...   \n",
              "5940                                                NaN   \n",
              "4278  [Bluetooth, CD player, Hands-free equipment, M...   \n",
              "\n",
              "                       \\nExtras\\n  \\\n",
              "3890               [Alloy wheels]   \n",
              "5940                          NaN   \n",
              "4278  [Alloy wheels, Sport seats]   \n",
              "\n",
              "                                  \\nSafety & Security\\n  \\\n",
              "3890  [ABS, Alarm system, Central door lock, Central...   \n",
              "5940  [ABS, Central door lock, Daytime running light...   \n",
              "4278  [ABS, Central door lock, Daytime running light...   \n",
              "\n",
              "                                            description Emission Label  \\\n",
              "3890  [\\nDecocars Biedt aan: , Audi A3 1600 TDi S-tr...            NaN   \n",
              "5940  [\\nMás de 2.000 coches en la web de Flexicar ,...            NaN   \n",
              "4278  [\\n, Assistenzsysteme, Einparkhilfe vorne und ...            NaN   \n",
              "\n",
              "        Gears Country version Electricity consumption  \\\n",
              "3890  [\\n7\\n]   [\\nBelgium\\n]                     NaN   \n",
              "5940      NaN             NaN                     NaN   \n",
              "4278  [\\n6\\n]             NaN                     NaN   \n",
              "\n",
              "                           Last Service Date Other Fuel Types Availability  \\\n",
              "3890  [\\n01/2017\\n, \\n102 g CO2/km (comb)\\n]              NaN          NaN   \n",
              "5940                                     NaN              NaN          NaN   \n",
              "4278                                     NaN              NaN          NaN   \n",
              "\n",
              "     Last Timing Belt Service Date Available from  \n",
              "3890                           NaN            NaN  \n",
              "5940                           NaN            NaN  \n",
              "4278                           NaN            NaN  "
            ]
          },
          "execution_count": 4,
          "metadata": {},
          "output_type": "execute_result"
        }
      ],
      "source": [
        "scout_car = pd.read_json ('scout_car.json', lines = True)\n",
        "df = scout_car.copy()\n",
        "df.sample(3)"
      ]
    },
    {
      "cell_type": "code",
      "execution_count": 5,
      "metadata": {
        "colab": {
          "base_uri": "https://localhost:8080/",
          "height": 1000
        },
        "id": "VQ-5Ty6-0FIP",
        "outputId": "b7224ea7-d376-46ac-fc13-46e7f4754338"
      },
      "outputs": [
        {
          "data": {
            "text/html": [
              "<div>\n",
              "<style scoped>\n",
              "    .dataframe tbody tr th:only-of-type {\n",
              "        vertical-align: middle;\n",
              "    }\n",
              "\n",
              "    .dataframe tbody tr th {\n",
              "        vertical-align: top;\n",
              "    }\n",
              "\n",
              "    .dataframe thead th {\n",
              "        text-align: right;\n",
              "    }\n",
              "</style>\n",
              "<table border=\"1\" class=\"dataframe\">\n",
              "  <thead>\n",
              "    <tr style=\"text-align: right;\">\n",
              "      <th></th>\n",
              "      <th>6705</th>\n",
              "      <th>13545</th>\n",
              "      <th>11581</th>\n",
              "    </tr>\n",
              "  </thead>\n",
              "  <tbody>\n",
              "    <tr>\n",
              "      <th>url</th>\n",
              "      <td>https://www.autoscout24.com//offers/opel-astra...</td>\n",
              "      <td>https://www.autoscout24.com//offers/renault-cl...</td>\n",
              "      <td>https://www.autoscout24.com//offers/opel-insig...</td>\n",
              "    </tr>\n",
              "    <tr>\n",
              "      <th>make_model</th>\n",
              "      <td>Opel Astra</td>\n",
              "      <td>Renault Clio</td>\n",
              "      <td>Opel Insignia</td>\n",
              "    </tr>\n",
              "    <tr>\n",
              "      <th>short_description</th>\n",
              "      <td>K 1.4 Turbo Automatik Edition PDC AGR-Sitze</td>\n",
              "      <td>1.5dCi eco2 Energy Authentique 75</td>\n",
              "      <td>B ST 2.0 D Innov./LED/Frontkamera/18\"</td>\n",
              "    </tr>\n",
              "    <tr>\n",
              "      <th>body_type</th>\n",
              "      <td>Sedans</td>\n",
              "      <td>Compact</td>\n",
              "      <td>Station wagon</td>\n",
              "    </tr>\n",
              "    <tr>\n",
              "      <th>price</th>\n",
              "      <td>16590</td>\n",
              "      <td>7999</td>\n",
              "      <td>18750</td>\n",
              "    </tr>\n",
              "    <tr>\n",
              "      <th>vat</th>\n",
              "      <td>None</td>\n",
              "      <td>None</td>\n",
              "      <td>VAT deductible</td>\n",
              "    </tr>\n",
              "    <tr>\n",
              "      <th>km</th>\n",
              "      <td>17,000 km</td>\n",
              "      <td>88,000 km</td>\n",
              "      <td>25,358 km</td>\n",
              "    </tr>\n",
              "    <tr>\n",
              "      <th>registration</th>\n",
              "      <td>01/2017</td>\n",
              "      <td>06/2016</td>\n",
              "      <td>08/2017</td>\n",
              "    </tr>\n",
              "    <tr>\n",
              "      <th>prev_owner</th>\n",
              "      <td>1 previous owner</td>\n",
              "      <td>None</td>\n",
              "      <td>1 previous owner</td>\n",
              "    </tr>\n",
              "    <tr>\n",
              "      <th>kW</th>\n",
              "      <td>NaN</td>\n",
              "      <td>NaN</td>\n",
              "      <td>NaN</td>\n",
              "    </tr>\n",
              "    <tr>\n",
              "      <th>hp</th>\n",
              "      <td>110 kW</td>\n",
              "      <td>55 kW</td>\n",
              "      <td>125 kW</td>\n",
              "    </tr>\n",
              "    <tr>\n",
              "      <th>Type</th>\n",
              "      <td>[, Used, , Super 95]</td>\n",
              "      <td>[, Used, , Diesel]</td>\n",
              "      <td>[, Used, , Diesel (Particulate Filter)]</td>\n",
              "    </tr>\n",
              "    <tr>\n",
              "      <th>Previous Owners</th>\n",
              "      <td>\\n1\\n</td>\n",
              "      <td>NaN</td>\n",
              "      <td>\\n1\\n</td>\n",
              "    </tr>\n",
              "    <tr>\n",
              "      <th>Next Inspection</th>\n",
              "      <td>[\\n02/2021\\n, \\n127 g CO2/km (comb)\\n]</td>\n",
              "      <td>NaN</td>\n",
              "      <td>NaN</td>\n",
              "    </tr>\n",
              "    <tr>\n",
              "      <th>Inspection new</th>\n",
              "      <td>NaN</td>\n",
              "      <td>NaN</td>\n",
              "      <td>NaN</td>\n",
              "    </tr>\n",
              "    <tr>\n",
              "      <th>Warranty</th>\n",
              "      <td>[\\n, \\n, \\nEuro 6\\n]</td>\n",
              "      <td>\\n12 months\\n</td>\n",
              "      <td>[\\n, \\n, \\n139 g CO2/km (comb)\\n]</td>\n",
              "    </tr>\n",
              "    <tr>\n",
              "      <th>Full Service</th>\n",
              "      <td>[\\n, \\n, \\n4 (Green)\\n]</td>\n",
              "      <td>NaN</td>\n",
              "      <td>NaN</td>\n",
              "    </tr>\n",
              "    <tr>\n",
              "      <th>Non-smoking Vehicle</th>\n",
              "      <td>NaN</td>\n",
              "      <td>NaN</td>\n",
              "      <td>[\\n, \\n, \\nEuro 6\\n]</td>\n",
              "    </tr>\n",
              "    <tr>\n",
              "      <th>null</th>\n",
              "      <td>[]</td>\n",
              "      <td>[]</td>\n",
              "      <td>[]</td>\n",
              "    </tr>\n",
              "    <tr>\n",
              "      <th>Make</th>\n",
              "      <td>\\nOpel\\n</td>\n",
              "      <td>\\nRenault\\n</td>\n",
              "      <td>\\nOpel\\n</td>\n",
              "    </tr>\n",
              "    <tr>\n",
              "      <th>Model</th>\n",
              "      <td>[\\n, Astra, \\n]</td>\n",
              "      <td>[\\n, Clio, \\n]</td>\n",
              "      <td>[\\n, Insignia, \\n]</td>\n",
              "    </tr>\n",
              "    <tr>\n",
              "      <th>Offer Number</th>\n",
              "      <td>[\\n10183543\\n]</td>\n",
              "      <td>[\\n2783767\\n]</td>\n",
              "      <td>[\\nJB 72 A X\\n]</td>\n",
              "    </tr>\n",
              "    <tr>\n",
              "      <th>First Registration</th>\n",
              "      <td>[\\n, 2017, \\n]</td>\n",
              "      <td>[\\n, 2016, \\n]</td>\n",
              "      <td>[\\n, 2017, \\n]</td>\n",
              "    </tr>\n",
              "    <tr>\n",
              "      <th>Body Color</th>\n",
              "      <td>[\\n, Silver, \\n]</td>\n",
              "      <td>[\\n, White, \\n]</td>\n",
              "      <td>[\\n, Silver, \\n]</td>\n",
              "    </tr>\n",
              "    <tr>\n",
              "      <th>Paint Type</th>\n",
              "      <td>[\\nMetallic\\n]</td>\n",
              "      <td>NaN</td>\n",
              "      <td>[\\nMetallic\\n]</td>\n",
              "    </tr>\n",
              "    <tr>\n",
              "      <th>Body Color Original</th>\n",
              "      <td>[\\nArgonsilber\\n]</td>\n",
              "      <td>[\\nBlanco\\n]</td>\n",
              "      <td>[\\nArgonsilber\\n]</td>\n",
              "    </tr>\n",
              "    <tr>\n",
              "      <th>Upholstery</th>\n",
              "      <td>[\\nCloth, Black\\n]</td>\n",
              "      <td>NaN</td>\n",
              "      <td>[\\nPart leather, Black\\n]</td>\n",
              "    </tr>\n",
              "    <tr>\n",
              "      <th>Body</th>\n",
              "      <td>[\\n, Sedans, \\n]</td>\n",
              "      <td>[\\n, Compact, \\n]</td>\n",
              "      <td>[\\n, Station wagon, \\n]</td>\n",
              "    </tr>\n",
              "    <tr>\n",
              "      <th>Nr. of Doors</th>\n",
              "      <td>[\\n5\\n]</td>\n",
              "      <td>[\\n5\\n]</td>\n",
              "      <td>[\\n4\\n]</td>\n",
              "    </tr>\n",
              "    <tr>\n",
              "      <th>Nr. of Seats</th>\n",
              "      <td>[\\n5\\n]</td>\n",
              "      <td>[\\n5\\n]</td>\n",
              "      <td>[\\n5\\n]</td>\n",
              "    </tr>\n",
              "    <tr>\n",
              "      <th>Model Code</th>\n",
              "      <td>[\\n0035/BFM\\n]</td>\n",
              "      <td>NaN</td>\n",
              "      <td>NaN</td>\n",
              "    </tr>\n",
              "    <tr>\n",
              "      <th>Gearing Type</th>\n",
              "      <td>[\\n, Automatic, \\n]</td>\n",
              "      <td>[\\n, Manual, \\n]</td>\n",
              "      <td>[\\n, Manual, \\n]</td>\n",
              "    </tr>\n",
              "    <tr>\n",
              "      <th>Displacement</th>\n",
              "      <td>[\\n1,399 cc\\n]</td>\n",
              "      <td>[\\n1,461 cc\\n]</td>\n",
              "      <td>[\\n1,956 cc\\n]</td>\n",
              "    </tr>\n",
              "    <tr>\n",
              "      <th>Cylinders</th>\n",
              "      <td>[\\n4\\n]</td>\n",
              "      <td>[\\n4\\n]</td>\n",
              "      <td>NaN</td>\n",
              "    </tr>\n",
              "    <tr>\n",
              "      <th>Weight</th>\n",
              "      <td>[\\n1,308 kg\\n]</td>\n",
              "      <td>[\\n1,071 kg\\n]</td>\n",
              "      <td>NaN</td>\n",
              "    </tr>\n",
              "    <tr>\n",
              "      <th>Drive chain</th>\n",
              "      <td>[\\nfront\\n]</td>\n",
              "      <td>[\\nfront\\n]</td>\n",
              "      <td>NaN</td>\n",
              "    </tr>\n",
              "    <tr>\n",
              "      <th>Fuel</th>\n",
              "      <td>[\\n, Super 95, \\n]</td>\n",
              "      <td>[\\n, Diesel, \\n]</td>\n",
              "      <td>[\\n, Diesel (Particulate Filter), \\n]</td>\n",
              "    </tr>\n",
              "    <tr>\n",
              "      <th>Consumption</th>\n",
              "      <td>[[5.5 l/100 km (comb)], [7.2 l/100 km (city)],...</td>\n",
              "      <td>[[3 l/100 km (comb)], [4 l/100 km (city)], [3 ...</td>\n",
              "      <td>[[5.3 l/100 km (comb)], [6.9 l/100 km (city)],...</td>\n",
              "    </tr>\n",
              "    <tr>\n",
              "      <th>CO2 Emission</th>\n",
              "      <td>[\\n127 g CO2/km (comb)\\n]</td>\n",
              "      <td>NaN</td>\n",
              "      <td>[\\n139 g CO2/km (comb)\\n]</td>\n",
              "    </tr>\n",
              "    <tr>\n",
              "      <th>Emission Class</th>\n",
              "      <td>[\\nEuro 6\\n]</td>\n",
              "      <td>NaN</td>\n",
              "      <td>[\\nEuro 6\\n]</td>\n",
              "    </tr>\n",
              "    <tr>\n",
              "      <th>\\nComfort &amp; Convenience\\n</th>\n",
              "      <td>[Air conditioning, Cruise control, Hill Holder...</td>\n",
              "      <td>NaN</td>\n",
              "      <td>[Air conditioning, Armrest, Automatic climate ...</td>\n",
              "    </tr>\n",
              "    <tr>\n",
              "      <th>\\nEntertainment &amp; Media\\n</th>\n",
              "      <td>[Bluetooth, Hands-free equipment, On-board com...</td>\n",
              "      <td>NaN</td>\n",
              "      <td>[Bluetooth, Hands-free equipment, On-board com...</td>\n",
              "    </tr>\n",
              "    <tr>\n",
              "      <th>\\nExtras\\n</th>\n",
              "      <td>[Catalytic Converter, Touch screen]</td>\n",
              "      <td>NaN</td>\n",
              "      <td>[Alloy wheels, Roof rack, Ski bag, Touch scree...</td>\n",
              "    </tr>\n",
              "    <tr>\n",
              "      <th>\\nSafety &amp; Security\\n</th>\n",
              "      <td>[ABS, Central door lock, Driver-side airbag, E...</td>\n",
              "      <td>NaN</td>\n",
              "      <td>[ABS, Adaptive headlights, Central door lock, ...</td>\n",
              "    </tr>\n",
              "    <tr>\n",
              "      <th>description</th>\n",
              "      <td>[\\n, Sonderausstattung: , Parkpilot vorne u. h...</td>\n",
              "      <td>[\\nDL MOTOR COMPRA VENTA MULTIMARCAS CON MAS D...</td>\n",
              "      <td>[\\n, Fahrzeug steht in 14913 Jüterbog, Dennewi...</td>\n",
              "    </tr>\n",
              "    <tr>\n",
              "      <th>Emission Label</th>\n",
              "      <td>NaN</td>\n",
              "      <td>NaN</td>\n",
              "      <td>[\\n4 (Green)\\n]</td>\n",
              "    </tr>\n",
              "    <tr>\n",
              "      <th>Gears</th>\n",
              "      <td>[\\n6\\n]</td>\n",
              "      <td>[\\n5\\n]</td>\n",
              "      <td>NaN</td>\n",
              "    </tr>\n",
              "    <tr>\n",
              "      <th>Country version</th>\n",
              "      <td>[\\nGermany\\n]</td>\n",
              "      <td>NaN</td>\n",
              "      <td>NaN</td>\n",
              "    </tr>\n",
              "    <tr>\n",
              "      <th>Electricity consumption</th>\n",
              "      <td>NaN</td>\n",
              "      <td>NaN</td>\n",
              "      <td>NaN</td>\n",
              "    </tr>\n",
              "    <tr>\n",
              "      <th>Last Service Date</th>\n",
              "      <td>NaN</td>\n",
              "      <td>NaN</td>\n",
              "      <td>NaN</td>\n",
              "    </tr>\n",
              "    <tr>\n",
              "      <th>Other Fuel Types</th>\n",
              "      <td>NaN</td>\n",
              "      <td>NaN</td>\n",
              "      <td>NaN</td>\n",
              "    </tr>\n",
              "    <tr>\n",
              "      <th>Availability</th>\n",
              "      <td>NaN</td>\n",
              "      <td>NaN</td>\n",
              "      <td>NaN</td>\n",
              "    </tr>\n",
              "    <tr>\n",
              "      <th>Last Timing Belt Service Date</th>\n",
              "      <td>NaN</td>\n",
              "      <td>NaN</td>\n",
              "      <td>NaN</td>\n",
              "    </tr>\n",
              "    <tr>\n",
              "      <th>Available from</th>\n",
              "      <td>NaN</td>\n",
              "      <td>NaN</td>\n",
              "      <td>NaN</td>\n",
              "    </tr>\n",
              "  </tbody>\n",
              "</table>\n",
              "</div>"
            ],
            "text/plain": [
              "                                                                           6705   \\\n",
              "url                            https://www.autoscout24.com//offers/opel-astra...   \n",
              "make_model                                                            Opel Astra   \n",
              "short_description                    K 1.4 Turbo Automatik Edition PDC AGR-Sitze   \n",
              "body_type                                                                 Sedans   \n",
              "price                                                                      16590   \n",
              "vat                                                                         None   \n",
              "km                                                                     17,000 km   \n",
              "registration                                                             01/2017   \n",
              "prev_owner                                                      1 previous owner   \n",
              "kW                                                                           NaN   \n",
              "hp                                                                        110 kW   \n",
              "Type                                                        [, Used, , Super 95]   \n",
              "Previous Owners                                                            \\n1\\n   \n",
              "Next Inspection                           [\\n02/2021\\n, \\n127 g CO2/km (comb)\\n]   \n",
              "Inspection new                                                               NaN   \n",
              "Warranty                                                    [\\n, \\n, \\nEuro 6\\n]   \n",
              "Full Service                                             [\\n, \\n, \\n4 (Green)\\n]   \n",
              "Non-smoking Vehicle                                                          NaN   \n",
              "null                                                                          []   \n",
              "Make                                                                    \\nOpel\\n   \n",
              "Model                                                            [\\n, Astra, \\n]   \n",
              "Offer Number                                                      [\\n10183543\\n]   \n",
              "First Registration                                                [\\n, 2017, \\n]   \n",
              "Body Color                                                      [\\n, Silver, \\n]   \n",
              "Paint Type                                                        [\\nMetallic\\n]   \n",
              "Body Color Original                                            [\\nArgonsilber\\n]   \n",
              "Upholstery                                                    [\\nCloth, Black\\n]   \n",
              "Body                                                            [\\n, Sedans, \\n]   \n",
              "Nr. of Doors                                                             [\\n5\\n]   \n",
              "Nr. of Seats                                                             [\\n5\\n]   \n",
              "Model Code                                                        [\\n0035/BFM\\n]   \n",
              "Gearing Type                                                 [\\n, Automatic, \\n]   \n",
              "Displacement                                                      [\\n1,399 cc\\n]   \n",
              "Cylinders                                                                [\\n4\\n]   \n",
              "Weight                                                            [\\n1,308 kg\\n]   \n",
              "Drive chain                                                          [\\nfront\\n]   \n",
              "Fuel                                                          [\\n, Super 95, \\n]   \n",
              "Consumption                    [[5.5 l/100 km (comb)], [7.2 l/100 km (city)],...   \n",
              "CO2 Emission                                           [\\n127 g CO2/km (comb)\\n]   \n",
              "Emission Class                                                      [\\nEuro 6\\n]   \n",
              "\\nComfort & Convenience\\n      [Air conditioning, Cruise control, Hill Holder...   \n",
              "\\nEntertainment & Media\\n      [Bluetooth, Hands-free equipment, On-board com...   \n",
              "\\nExtras\\n                                   [Catalytic Converter, Touch screen]   \n",
              "\\nSafety & Security\\n          [ABS, Central door lock, Driver-side airbag, E...   \n",
              "description                    [\\n, Sonderausstattung: , Parkpilot vorne u. h...   \n",
              "Emission Label                                                               NaN   \n",
              "Gears                                                                    [\\n6\\n]   \n",
              "Country version                                                    [\\nGermany\\n]   \n",
              "Electricity consumption                                                      NaN   \n",
              "Last Service Date                                                            NaN   \n",
              "Other Fuel Types                                                             NaN   \n",
              "Availability                                                                 NaN   \n",
              "Last Timing Belt Service Date                                                NaN   \n",
              "Available from                                                               NaN   \n",
              "\n",
              "                                                                           13545  \\\n",
              "url                            https://www.autoscout24.com//offers/renault-cl...   \n",
              "make_model                                                          Renault Clio   \n",
              "short_description                              1.5dCi eco2 Energy Authentique 75   \n",
              "body_type                                                                Compact   \n",
              "price                                                                       7999   \n",
              "vat                                                                         None   \n",
              "km                                                                     88,000 km   \n",
              "registration                                                             06/2016   \n",
              "prev_owner                                                                  None   \n",
              "kW                                                                           NaN   \n",
              "hp                                                                         55 kW   \n",
              "Type                                                          [, Used, , Diesel]   \n",
              "Previous Owners                                                              NaN   \n",
              "Next Inspection                                                              NaN   \n",
              "Inspection new                                                               NaN   \n",
              "Warranty                                                           \\n12 months\\n   \n",
              "Full Service                                                                 NaN   \n",
              "Non-smoking Vehicle                                                          NaN   \n",
              "null                                                                          []   \n",
              "Make                                                                 \\nRenault\\n   \n",
              "Model                                                             [\\n, Clio, \\n]   \n",
              "Offer Number                                                       [\\n2783767\\n]   \n",
              "First Registration                                                [\\n, 2016, \\n]   \n",
              "Body Color                                                       [\\n, White, \\n]   \n",
              "Paint Type                                                                   NaN   \n",
              "Body Color Original                                                 [\\nBlanco\\n]   \n",
              "Upholstery                                                                   NaN   \n",
              "Body                                                           [\\n, Compact, \\n]   \n",
              "Nr. of Doors                                                             [\\n5\\n]   \n",
              "Nr. of Seats                                                             [\\n5\\n]   \n",
              "Model Code                                                                   NaN   \n",
              "Gearing Type                                                    [\\n, Manual, \\n]   \n",
              "Displacement                                                      [\\n1,461 cc\\n]   \n",
              "Cylinders                                                                [\\n4\\n]   \n",
              "Weight                                                            [\\n1,071 kg\\n]   \n",
              "Drive chain                                                          [\\nfront\\n]   \n",
              "Fuel                                                            [\\n, Diesel, \\n]   \n",
              "Consumption                    [[3 l/100 km (comb)], [4 l/100 km (city)], [3 ...   \n",
              "CO2 Emission                                                                 NaN   \n",
              "Emission Class                                                               NaN   \n",
              "\\nComfort & Convenience\\n                                                    NaN   \n",
              "\\nEntertainment & Media\\n                                                    NaN   \n",
              "\\nExtras\\n                                                                   NaN   \n",
              "\\nSafety & Security\\n                                                        NaN   \n",
              "description                    [\\nDL MOTOR COMPRA VENTA MULTIMARCAS CON MAS D...   \n",
              "Emission Label                                                               NaN   \n",
              "Gears                                                                    [\\n5\\n]   \n",
              "Country version                                                              NaN   \n",
              "Electricity consumption                                                      NaN   \n",
              "Last Service Date                                                            NaN   \n",
              "Other Fuel Types                                                             NaN   \n",
              "Availability                                                                 NaN   \n",
              "Last Timing Belt Service Date                                                NaN   \n",
              "Available from                                                               NaN   \n",
              "\n",
              "                                                                           11581  \n",
              "url                            https://www.autoscout24.com//offers/opel-insig...  \n",
              "make_model                                                         Opel Insignia  \n",
              "short_description                          B ST 2.0 D Innov./LED/Frontkamera/18\"  \n",
              "body_type                                                          Station wagon  \n",
              "price                                                                      18750  \n",
              "vat                                                               VAT deductible  \n",
              "km                                                                     25,358 km  \n",
              "registration                                                             08/2017  \n",
              "prev_owner                                                      1 previous owner  \n",
              "kW                                                                           NaN  \n",
              "hp                                                                        125 kW  \n",
              "Type                                     [, Used, , Diesel (Particulate Filter)]  \n",
              "Previous Owners                                                            \\n1\\n  \n",
              "Next Inspection                                                              NaN  \n",
              "Inspection new                                                               NaN  \n",
              "Warranty                                       [\\n, \\n, \\n139 g CO2/km (comb)\\n]  \n",
              "Full Service                                                                 NaN  \n",
              "Non-smoking Vehicle                                         [\\n, \\n, \\nEuro 6\\n]  \n",
              "null                                                                          []  \n",
              "Make                                                                    \\nOpel\\n  \n",
              "Model                                                         [\\n, Insignia, \\n]  \n",
              "Offer Number                                                     [\\nJB 72 A X\\n]  \n",
              "First Registration                                                [\\n, 2017, \\n]  \n",
              "Body Color                                                      [\\n, Silver, \\n]  \n",
              "Paint Type                                                        [\\nMetallic\\n]  \n",
              "Body Color Original                                            [\\nArgonsilber\\n]  \n",
              "Upholstery                                             [\\nPart leather, Black\\n]  \n",
              "Body                                                     [\\n, Station wagon, \\n]  \n",
              "Nr. of Doors                                                             [\\n4\\n]  \n",
              "Nr. of Seats                                                             [\\n5\\n]  \n",
              "Model Code                                                                   NaN  \n",
              "Gearing Type                                                    [\\n, Manual, \\n]  \n",
              "Displacement                                                      [\\n1,956 cc\\n]  \n",
              "Cylinders                                                                    NaN  \n",
              "Weight                                                                       NaN  \n",
              "Drive chain                                                                  NaN  \n",
              "Fuel                                       [\\n, Diesel (Particulate Filter), \\n]  \n",
              "Consumption                    [[5.3 l/100 km (comb)], [6.9 l/100 km (city)],...  \n",
              "CO2 Emission                                           [\\n139 g CO2/km (comb)\\n]  \n",
              "Emission Class                                                      [\\nEuro 6\\n]  \n",
              "\\nComfort & Convenience\\n      [Air conditioning, Armrest, Automatic climate ...  \n",
              "\\nEntertainment & Media\\n      [Bluetooth, Hands-free equipment, On-board com...  \n",
              "\\nExtras\\n                     [Alloy wheels, Roof rack, Ski bag, Touch scree...  \n",
              "\\nSafety & Security\\n          [ABS, Adaptive headlights, Central door lock, ...  \n",
              "description                    [\\n, Fahrzeug steht in 14913 Jüterbog, Dennewi...  \n",
              "Emission Label                                                   [\\n4 (Green)\\n]  \n",
              "Gears                                                                        NaN  \n",
              "Country version                                                              NaN  \n",
              "Electricity consumption                                                      NaN  \n",
              "Last Service Date                                                            NaN  \n",
              "Other Fuel Types                                                             NaN  \n",
              "Availability                                                                 NaN  \n",
              "Last Timing Belt Service Date                                                NaN  \n",
              "Available from                                                               NaN  "
            ]
          },
          "execution_count": 5,
          "metadata": {},
          "output_type": "execute_result"
        }
      ],
      "source": [
        "df.sample(3).T"
      ]
    },
    {
      "cell_type": "code",
      "execution_count": 6,
      "metadata": {
        "colab": {
          "base_uri": "https://localhost:8080/"
        },
        "id": "SEyuV-IW0FIP",
        "outputId": "56af072d-9426-4fee-8920-0f542c836c70"
      },
      "outputs": [
        {
          "data": {
            "text/plain": [
              "(15919, 54)"
            ]
          },
          "execution_count": 6,
          "metadata": {},
          "output_type": "execute_result"
        }
      ],
      "source": [
        "df.shape"
      ]
    },
    {
      "cell_type": "code",
      "execution_count": null,
      "metadata": {
        "colab": {
          "base_uri": "https://localhost:8080/"
        },
        "id": "pz8E_h_S0FIP",
        "outputId": "70a80d09-0b7d-409d-a59f-f5eb81da5ffc"
      },
      "outputs": [
        {
          "name": "stdout",
          "output_type": "stream",
          "text": [
            "<class 'pandas.core.frame.DataFrame'>\n",
            "RangeIndex: 15919 entries, 0 to 15918\n",
            "Data columns (total 54 columns):\n",
            " #   Column                         Non-Null Count  Dtype  \n",
            "---  ------                         --------------  -----  \n",
            " 0   url                            15919 non-null  object \n",
            " 1   make_model                     15919 non-null  object \n",
            " 2   short_description              15873 non-null  object \n",
            " 3   body_type                      15859 non-null  object \n",
            " 4   price                          15919 non-null  int64  \n",
            " 5   vat                            11406 non-null  object \n",
            " 6   km                             15919 non-null  object \n",
            " 7   registration                   15919 non-null  object \n",
            " 8   prev_owner                     9091 non-null   object \n",
            " 9   kW                             0 non-null      float64\n",
            " 10  hp                             15919 non-null  object \n",
            " 11  Type                           15917 non-null  object \n",
            " 12  Previous Owners                9279 non-null   object \n",
            " 13  Next Inspection                3535 non-null   object \n",
            " 14  Inspection new                 3932 non-null   object \n",
            " 15  Warranty                       10499 non-null  object \n",
            " 16  Full Service                   8215 non-null   object \n",
            " 17  Non-smoking Vehicle            7177 non-null   object \n",
            " 18  null                           15919 non-null  object \n",
            " 19  Make                           15919 non-null  object \n",
            " 20  Model                          15919 non-null  object \n",
            " 21  Offer Number                   12744 non-null  object \n",
            " 22  First Registration             14322 non-null  object \n",
            " 23  Body Color                     15322 non-null  object \n",
            " 24  Paint Type                     10147 non-null  object \n",
            " 25  Body Color Original            12160 non-null  object \n",
            " 26  Upholstery                     12199 non-null  object \n",
            " 27  Body                           15859 non-null  object \n",
            " 28  Nr. of Doors                   15707 non-null  object \n",
            " 29  Nr. of Seats                   14942 non-null  object \n",
            " 30  Model Code                     4978 non-null   object \n",
            " 31  Gearing Type                   15919 non-null  object \n",
            " 32  Displacement                   15423 non-null  object \n",
            " 33  Cylinders                      10239 non-null  object \n",
            " 34  Weight                         8945 non-null   object \n",
            " 35  Drive chain                    9061 non-null   object \n",
            " 36  Fuel                           15919 non-null  object \n",
            " 37  Consumption                    14013 non-null  object \n",
            " 38  CO2 Emission                   14111 non-null  object \n",
            " 39  Emission Class                 12898 non-null  object \n",
            " 40  \n",
            "Comfort & Convenience\n",
            "        14999 non-null  object \n",
            " 41  \n",
            "Entertainment & Media\n",
            "        14545 non-null  object \n",
            " 42  \n",
            "Extras\n",
            "                       12957 non-null  object \n",
            " 43  \n",
            "Safety & Security\n",
            "            14937 non-null  object \n",
            " 44  description                    15919 non-null  object \n",
            " 45  Emission Label                 3985 non-null   object \n",
            " 46  Gears                          11207 non-null  object \n",
            " 47  Country version                7586 non-null   object \n",
            " 48  Electricity consumption        137 non-null    object \n",
            " 49  Last Service Date              566 non-null    object \n",
            " 50  Other Fuel Types               880 non-null    object \n",
            " 51  Availability                   635 non-null    object \n",
            " 52  Last Timing Belt Service Date  16 non-null     object \n",
            " 53  Available from                 272 non-null    object \n",
            "dtypes: float64(1), int64(1), object(52)\n",
            "memory usage: 6.6+ MB\n"
          ]
        }
      ],
      "source": [
        "df.info()"
      ]
    },
    {
      "cell_type": "code",
      "execution_count": 7,
      "metadata": {
        "colab": {
          "base_uri": "https://localhost:8080/"
        },
        "id": "tsGhhwr2mCL-",
        "outputId": "4ccb6b4d-c5f3-4cb3-98d5-393105cbac76"
      },
      "outputs": [
        {
          "data": {
            "text/plain": [
              "Audi A3           3097\n",
              "Audi A1           2614\n",
              "Opel Insignia     2598\n",
              "Opel Astra        2526\n",
              "Opel Corsa        2219\n",
              "Renault Clio      1839\n",
              "Renault Espace     991\n",
              "Renault Duster      34\n",
              "Audi A2              1\n",
              "Name: make_model, dtype: int64"
            ]
          },
          "execution_count": 7,
          "metadata": {},
          "output_type": "execute_result"
        }
      ],
      "source": [
        "df.make_model.value_counts()"
      ]
    },
    {
      "cell_type": "code",
      "execution_count": 8,
      "metadata": {
        "colab": {
          "base_uri": "https://localhost:8080/"
        },
        "id": "AdTGWtbY5I7O",
        "outputId": "1da1b1ba-d9a4-4807-c776-21b16648ea2d"
      },
      "outputs": [
        {
          "data": {
            "text/plain": [
              "Opel       7343\n",
              "Audi       5712\n",
              "Renault    2864\n",
              "Name: Make, dtype: int64"
            ]
          },
          "execution_count": 8,
          "metadata": {},
          "output_type": "execute_result"
        }
      ],
      "source": [
        "df['Make']=df['Make'].replace('\\\\n','', regex=True)\n",
        "df['Make'].value_counts()"
      ]
    },
    {
      "cell_type": "code",
      "execution_count": 9,
      "metadata": {
        "colab": {
          "base_uri": "https://localhost:8080/"
        },
        "id": "CWclF7sqmWMq",
        "outputId": "a58231c5-d0d5-422f-9b5d-1a77345cccda"
      },
      "outputs": [
        {
          "data": {
            "text/plain": [
              "SPB 1.6 TDI 116 CV S tronic Sport                 64\n",
              "1.4 66kW (90CV) Selective                         40\n",
              "MOVE KLIMA CD USB ALLWETTER BLUETOOTH             38\n",
              "SPB 30 TDI S tronic Business                      35\n",
              "SPB 30 TFSI S tronic Admired                      35\n",
              "                                                  ..\n",
              "K Sports Tourer Business **Navi*Voll**             1\n",
              "1.0 Turbo ecoFLEX Automatic Elective Park Navi     1\n",
              "1.6 CDTI Business *Navi*Automatik*Spurh.*          1\n",
              "1.6 136 CV Automatica Navi E 6 Garanzia Full       1\n",
              "TCe 225 EDC GPF LIM Deluxe Pano,RFK                1\n",
              "Name: short_description, Length: 10001, dtype: int64"
            ]
          },
          "execution_count": 9,
          "metadata": {},
          "output_type": "execute_result"
        }
      ],
      "source": [
        "df.short_description.value_counts()"
      ]
    },
    {
      "cell_type": "code",
      "execution_count": null,
      "metadata": {
        "colab": {
          "base_uri": "https://localhost:8080/",
          "height": 519
        },
        "id": "_iGgHDt6n4mA",
        "outputId": "4990cf7d-fd5e-4a02-cee5-1b57e06dc1af"
      },
      "outputs": [
        {
          "data": {
            "text/html": [
              "\n",
              "  <div id=\"df-24c5e493-e722-48da-9b4a-f08a09f9ef87\">\n",
              "    <div class=\"colab-df-container\">\n",
              "      <div>\n",
              "<style scoped>\n",
              "    .dataframe tbody tr th:only-of-type {\n",
              "        vertical-align: middle;\n",
              "    }\n",
              "\n",
              "    .dataframe tbody tr th {\n",
              "        vertical-align: top;\n",
              "    }\n",
              "\n",
              "    .dataframe thead th {\n",
              "        text-align: right;\n",
              "    }\n",
              "</style>\n",
              "<table border=\"1\" class=\"dataframe\">\n",
              "  <thead>\n",
              "    <tr style=\"text-align: right;\">\n",
              "      <th></th>\n",
              "      <th>short_description</th>\n",
              "      <th>description</th>\n",
              "    </tr>\n",
              "  </thead>\n",
              "  <tbody>\n",
              "    <tr>\n",
              "      <th>0</th>\n",
              "      <td>Sportback 1.4 TDI S-tronic Xenon Navi Klima</td>\n",
              "      <td>[\\n, Sicherheit:,  , Deaktivierung für Beifahr...</td>\n",
              "    </tr>\n",
              "    <tr>\n",
              "      <th>1</th>\n",
              "      <td>1.8 TFSI sport</td>\n",
              "      <td>[\\nLangstreckenfahrzeug daher die hohe Kilomet...</td>\n",
              "    </tr>\n",
              "    <tr>\n",
              "      <th>2</th>\n",
              "      <td>Sportback 1.6 TDI S tronic Einparkhilfe plus+m...</td>\n",
              "      <td>[\\n, Fahrzeug-Nummer: AM-95365,  , Ehem. UPE 2...</td>\n",
              "    </tr>\n",
              "    <tr>\n",
              "      <th>3</th>\n",
              "      <td>1.4 TDi Design S tronic</td>\n",
              "      <td>[\\nAudi A1: , - 1e eigenaar , - Perfecte staat...</td>\n",
              "    </tr>\n",
              "    <tr>\n",
              "      <th>4</th>\n",
              "      <td>Sportback 1.4 TDI S-Tronic S-Line Ext. admired...</td>\n",
              "      <td>[\\n, Technik &amp; Sicherheit:, Xenon plus, Klimaa...</td>\n",
              "    </tr>\n",
              "    <tr>\n",
              "      <th>5</th>\n",
              "      <td>1.6 TDI Sport DSG *SHZ*Xenon*Navi*Bose*PDC*</td>\n",
              "      <td>[\\nSichern Sie sich diesen Audi A1 1.6 TDI Spo...</td>\n",
              "    </tr>\n",
              "    <tr>\n",
              "      <th>6</th>\n",
              "      <td>Sportback 1.6 TDI S-TRONIC S-LINE*NAVI|XENON*</td>\n",
              "      <td>[\\nREDUZIERT !!!, MwSt. ausweisbar, Nettopreis...</td>\n",
              "    </tr>\n",
              "    <tr>\n",
              "      <th>7</th>\n",
              "      <td>Sportback 1.4 TDI admired S tronic</td>\n",
              "      <td>[\\n, Ausstattungspakete:,  Ausstattungspaket: ...</td>\n",
              "    </tr>\n",
              "    <tr>\n",
              "      <th>8</th>\n",
              "      <td>SPB 1.6 TDI S-tronic Metal plus + Xeno</td>\n",
              "      <td>[\\nAuto in ottime condizioni. Unico proprietar...</td>\n",
              "    </tr>\n",
              "    <tr>\n",
              "      <th>9</th>\n",
              "      <td>SPORTBACK TFSI ULTRA 95 S-TRONIC AMB.</td>\n",
              "      <td>[\\nClim automatique,Ecran multifonction couleu...</td>\n",
              "    </tr>\n",
              "    <tr>\n",
              "      <th>10</th>\n",
              "      <td>SPORTBACK1.6 TDI 116 CV S tronic Metal plus</td>\n",
              "      <td>[\\nautovettura ufficiale unico proprietario , ...</td>\n",
              "    </tr>\n",
              "    <tr>\n",
              "      <th>11</th>\n",
              "      <td>Sportback Sport »1.4 TFSI|Xenon|Navi|EPH+|SHZ|...</td>\n",
              "      <td>[\\n, Außenausstattung, beheizbare Außenspiegel...</td>\n",
              "    </tr>\n",
              "    <tr>\n",
              "      <th>12</th>\n",
              "      <td>Sportback 1.4 TFSI S-tronic *S line*NAV*XEN*</td>\n",
              "      <td>[\\n, Highlights:, Anschlussgarantie 1 Jahr, ma...</td>\n",
              "    </tr>\n",
              "    <tr>\n",
              "      <th>13</th>\n",
              "      <td>1.4 TFSI 150ch COD Ambition Luxe S tronic 7</td>\n",
              "      <td>[\\nMarque: AUDIModèle: A1Version: 1.4 TFSI 150...</td>\n",
              "    </tr>\n",
              "    <tr>\n",
              "      <th>14</th>\n",
              "      <td>Sportback 1.0 TFSI S-TRonic*Navi*Xenon*APS* Sport</td>\n",
              "      <td>[\\n,  www.nord-automobile.de, AUDI A1 1.0 TFSI...</td>\n",
              "    </tr>\n",
              "  </tbody>\n",
              "</table>\n",
              "</div>\n",
              "      <button class=\"colab-df-convert\" onclick=\"convertToInteractive('df-24c5e493-e722-48da-9b4a-f08a09f9ef87')\"\n",
              "              title=\"Convert this dataframe to an interactive table.\"\n",
              "              style=\"display:none;\">\n",
              "        \n",
              "  <svg xmlns=\"http://www.w3.org/2000/svg\" height=\"24px\"viewBox=\"0 0 24 24\"\n",
              "       width=\"24px\">\n",
              "    <path d=\"M0 0h24v24H0V0z\" fill=\"none\"/>\n",
              "    <path d=\"M18.56 5.44l.94 2.06.94-2.06 2.06-.94-2.06-.94-.94-2.06-.94 2.06-2.06.94zm-11 1L8.5 8.5l.94-2.06 2.06-.94-2.06-.94L8.5 2.5l-.94 2.06-2.06.94zm10 10l.94 2.06.94-2.06 2.06-.94-2.06-.94-.94-2.06-.94 2.06-2.06.94z\"/><path d=\"M17.41 7.96l-1.37-1.37c-.4-.4-.92-.59-1.43-.59-.52 0-1.04.2-1.43.59L10.3 9.45l-7.72 7.72c-.78.78-.78 2.05 0 2.83L4 21.41c.39.39.9.59 1.41.59.51 0 1.02-.2 1.41-.59l7.78-7.78 2.81-2.81c.8-.78.8-2.07 0-2.86zM5.41 20L4 18.59l7.72-7.72 1.47 1.35L5.41 20z\"/>\n",
              "  </svg>\n",
              "      </button>\n",
              "      \n",
              "  <style>\n",
              "    .colab-df-container {\n",
              "      display:flex;\n",
              "      flex-wrap:wrap;\n",
              "      gap: 12px;\n",
              "    }\n",
              "\n",
              "    .colab-df-convert {\n",
              "      background-color: #E8F0FE;\n",
              "      border: none;\n",
              "      border-radius: 50%;\n",
              "      cursor: pointer;\n",
              "      display: none;\n",
              "      fill: #1967D2;\n",
              "      height: 32px;\n",
              "      padding: 0 0 0 0;\n",
              "      width: 32px;\n",
              "    }\n",
              "\n",
              "    .colab-df-convert:hover {\n",
              "      background-color: #E2EBFA;\n",
              "      box-shadow: 0px 1px 2px rgba(60, 64, 67, 0.3), 0px 1px 3px 1px rgba(60, 64, 67, 0.15);\n",
              "      fill: #174EA6;\n",
              "    }\n",
              "\n",
              "    [theme=dark] .colab-df-convert {\n",
              "      background-color: #3B4455;\n",
              "      fill: #D2E3FC;\n",
              "    }\n",
              "\n",
              "    [theme=dark] .colab-df-convert:hover {\n",
              "      background-color: #434B5C;\n",
              "      box-shadow: 0px 1px 3px 1px rgba(0, 0, 0, 0.15);\n",
              "      filter: drop-shadow(0px 1px 2px rgba(0, 0, 0, 0.3));\n",
              "      fill: #FFFFFF;\n",
              "    }\n",
              "  </style>\n",
              "\n",
              "      <script>\n",
              "        const buttonEl =\n",
              "          document.querySelector('#df-24c5e493-e722-48da-9b4a-f08a09f9ef87 button.colab-df-convert');\n",
              "        buttonEl.style.display =\n",
              "          google.colab.kernel.accessAllowed ? 'block' : 'none';\n",
              "\n",
              "        async function convertToInteractive(key) {\n",
              "          const element = document.querySelector('#df-24c5e493-e722-48da-9b4a-f08a09f9ef87');\n",
              "          const dataTable =\n",
              "            await google.colab.kernel.invokeFunction('convertToInteractive',\n",
              "                                                     [key], {});\n",
              "          if (!dataTable) return;\n",
              "\n",
              "          const docLinkHtml = 'Like what you see? Visit the ' +\n",
              "            '<a target=\"_blank\" href=https://colab.research.google.com/notebooks/data_table.ipynb>data table notebook</a>'\n",
              "            + ' to learn more about interactive tables.';\n",
              "          element.innerHTML = '';\n",
              "          dataTable['output_type'] = 'display_data';\n",
              "          await google.colab.output.renderOutput(dataTable, element);\n",
              "          const docLink = document.createElement('div');\n",
              "          docLink.innerHTML = docLinkHtml;\n",
              "          element.appendChild(docLink);\n",
              "        }\n",
              "      </script>\n",
              "    </div>\n",
              "  </div>\n",
              "  "
            ],
            "text/plain": [
              "                                    short_description  \\\n",
              "0         Sportback 1.4 TDI S-tronic Xenon Navi Klima   \n",
              "1                                      1.8 TFSI sport   \n",
              "2   Sportback 1.6 TDI S tronic Einparkhilfe plus+m...   \n",
              "3                             1.4 TDi Design S tronic   \n",
              "4   Sportback 1.4 TDI S-Tronic S-Line Ext. admired...   \n",
              "5         1.6 TDI Sport DSG *SHZ*Xenon*Navi*Bose*PDC*   \n",
              "6       Sportback 1.6 TDI S-TRONIC S-LINE*NAVI|XENON*   \n",
              "7                  Sportback 1.4 TDI admired S tronic   \n",
              "8              SPB 1.6 TDI S-tronic Metal plus + Xeno   \n",
              "9               SPORTBACK TFSI ULTRA 95 S-TRONIC AMB.   \n",
              "10        SPORTBACK1.6 TDI 116 CV S tronic Metal plus   \n",
              "11  Sportback Sport »1.4 TFSI|Xenon|Navi|EPH+|SHZ|...   \n",
              "12       Sportback 1.4 TFSI S-tronic *S line*NAV*XEN*   \n",
              "13        1.4 TFSI 150ch COD Ambition Luxe S tronic 7   \n",
              "14  Sportback 1.0 TFSI S-TRonic*Navi*Xenon*APS* Sport   \n",
              "\n",
              "                                          description  \n",
              "0   [\\n, Sicherheit:,  , Deaktivierung für Beifahr...  \n",
              "1   [\\nLangstreckenfahrzeug daher die hohe Kilomet...  \n",
              "2   [\\n, Fahrzeug-Nummer: AM-95365,  , Ehem. UPE 2...  \n",
              "3   [\\nAudi A1: , - 1e eigenaar , - Perfecte staat...  \n",
              "4   [\\n, Technik & Sicherheit:, Xenon plus, Klimaa...  \n",
              "5   [\\nSichern Sie sich diesen Audi A1 1.6 TDI Spo...  \n",
              "6   [\\nREDUZIERT !!!, MwSt. ausweisbar, Nettopreis...  \n",
              "7   [\\n, Ausstattungspakete:,  Ausstattungspaket: ...  \n",
              "8   [\\nAuto in ottime condizioni. Unico proprietar...  \n",
              "9   [\\nClim automatique,Ecran multifonction couleu...  \n",
              "10  [\\nautovettura ufficiale unico proprietario , ...  \n",
              "11  [\\n, Außenausstattung, beheizbare Außenspiegel...  \n",
              "12  [\\n, Highlights:, Anschlussgarantie 1 Jahr, ma...  \n",
              "13  [\\nMarque: AUDIModèle: A1Version: 1.4 TFSI 150...  \n",
              "14  [\\n,  www.nord-automobile.de, AUDI A1 1.0 TFSI...  "
            ]
          },
          "execution_count": 216,
          "metadata": {},
          "output_type": "execute_result"
        }
      ],
      "source": [
        "df[[\"short_description\",\"description\"]].head(15)"
      ]
    },
    {
      "cell_type": "code",
      "execution_count": 10,
      "metadata": {
        "colab": {
          "base_uri": "https://localhost:8080/",
          "height": 519
        },
        "id": "dmVJNeJqm1o6",
        "outputId": "e63365b6-2cf9-42e4-c547-095a6ab6a5c7"
      },
      "outputs": [
        {
          "data": {
            "text/html": [
              "<div>\n",
              "<style scoped>\n",
              "    .dataframe tbody tr th:only-of-type {\n",
              "        vertical-align: middle;\n",
              "    }\n",
              "\n",
              "    .dataframe tbody tr th {\n",
              "        vertical-align: top;\n",
              "    }\n",
              "\n",
              "    .dataframe thead th {\n",
              "        text-align: right;\n",
              "    }\n",
              "</style>\n",
              "<table border=\"1\" class=\"dataframe\">\n",
              "  <thead>\n",
              "    <tr style=\"text-align: right;\">\n",
              "      <th></th>\n",
              "      <th>short_description</th>\n",
              "      <th>description</th>\n",
              "    </tr>\n",
              "  </thead>\n",
              "  <tbody>\n",
              "    <tr>\n",
              "      <th>13320</th>\n",
              "      <td>Energy TCe Intens EDC</td>\n",
              "      <td>[]</td>\n",
              "    </tr>\n",
              "    <tr>\n",
              "      <th>12450</th>\n",
              "      <td>GSI</td>\n",
              "      <td>[\\nPrachtige Insignia GSI 4X4 met een 210pk 8 ...</td>\n",
              "    </tr>\n",
              "    <tr>\n",
              "      <th>2691</th>\n",
              "      <td>SPB 1.2 TFSI 110 CV S tronic</td>\n",
              "      <td>[\\n, Audi A3 Sportback 1.2 81 kW (110 cv) TFSI...</td>\n",
              "    </tr>\n",
              "    <tr>\n",
              "      <th>13658</th>\n",
              "      <td>1.5 dCi 8V 75CV 5 porte</td>\n",
              "      <td>[\\nAuto in perfette condizione, tagliandata Re...</td>\n",
              "    </tr>\n",
              "    <tr>\n",
              "      <th>7479</th>\n",
              "      <td>S/T INNOVATION 1,6 136CV</td>\n",
              "      <td>[\\n, USATO AZIENDALE GARANTITO - , prezzo escl...</td>\n",
              "    </tr>\n",
              "    <tr>\n",
              "      <th>2671</th>\n",
              "      <td>Sportback 1.6 TDI Automaat Sport Edition Navi,...</td>\n",
              "      <td>[\\nIn uitstekende staat verkerende A3 SportBac...</td>\n",
              "    </tr>\n",
              "    <tr>\n",
              "      <th>745</th>\n",
              "      <td>SPB 1.4 TDI S tronic GUIDOSIMPLEX \" km 8.000\"</td>\n",
              "      <td>[\\nPER CONTATTI 3806820974 - 3351409111 ,  ANN...</td>\n",
              "    </tr>\n",
              "    <tr>\n",
              "      <th>6954</th>\n",
              "      <td>Sports Tourer Astra ST Edition 1.6 CDTI ecoFle...</td>\n",
              "      <td>[\\nKlimaautomatik 2-Zonen, Klimaautomatik, Aud...</td>\n",
              "    </tr>\n",
              "    <tr>\n",
              "      <th>1863</th>\n",
              "      <td>Sportback 25 TFSI</td>\n",
              "      <td>[]</td>\n",
              "    </tr>\n",
              "    <tr>\n",
              "      <th>14870</th>\n",
              "      <td>Sitzhzg.,Klima,PDC,Bluetooth,Tempomat</td>\n",
              "      <td>[\\n, BONUSAKTION,  - limitiert u. zeitlich bef...</td>\n",
              "    </tr>\n",
              "    <tr>\n",
              "      <th>4683</th>\n",
              "      <td>SB 30 1.6 tdi Sport 116cv s-tronic</td>\n",
              "      <td>[\\nLa dotazione tecnica e gli optionals potreb...</td>\n",
              "    </tr>\n",
              "    <tr>\n",
              "      <th>7889</th>\n",
              "      <td>ST 1.4 Turbo Aut. Navi Kamera 17 Zoll BT</td>\n",
              "      <td>[\\n, Innenausstattung:, Teilleder, Schwarz, La...</td>\n",
              "    </tr>\n",
              "    <tr>\n",
              "      <th>7888</th>\n",
              "      <td>K ST 1.4 AT Innovation* Navi*AGR*SHZ*11tkm</td>\n",
              "      <td>[\\n4 Einstiegstüren, Unfallfrei, Herstellergar...</td>\n",
              "    </tr>\n",
              "    <tr>\n",
              "      <th>2495</th>\n",
              "      <td>Sportback 25 TFSI advanced 1.0</td>\n",
              "      <td>[\\n, Getriebe:,  Schaltgetriebe, Technik:,  Bo...</td>\n",
              "    </tr>\n",
              "    <tr>\n",
              "      <th>11896</th>\n",
              "      <td>2.0 CDTI ST AT Inno *Panorama*AHK*Matrix*</td>\n",
              "      <td>[\\n, Fahrtauglich, Unfallfrei, Herstellergaran...</td>\n",
              "    </tr>\n",
              "  </tbody>\n",
              "</table>\n",
              "</div>"
            ],
            "text/plain": [
              "                                       short_description  \\\n",
              "13320                              Energy TCe Intens EDC   \n",
              "12450                                                GSI   \n",
              "2691                        SPB 1.2 TFSI 110 CV S tronic   \n",
              "13658                            1.5 dCi 8V 75CV 5 porte   \n",
              "7479                            S/T INNOVATION 1,6 136CV   \n",
              "2671   Sportback 1.6 TDI Automaat Sport Edition Navi,...   \n",
              "745        SPB 1.4 TDI S tronic GUIDOSIMPLEX \" km 8.000\"   \n",
              "6954   Sports Tourer Astra ST Edition 1.6 CDTI ecoFle...   \n",
              "1863                                   Sportback 25 TFSI   \n",
              "14870              Sitzhzg.,Klima,PDC,Bluetooth,Tempomat   \n",
              "4683                  SB 30 1.6 tdi Sport 116cv s-tronic   \n",
              "7889            ST 1.4 Turbo Aut. Navi Kamera 17 Zoll BT   \n",
              "7888          K ST 1.4 AT Innovation* Navi*AGR*SHZ*11tkm   \n",
              "2495                      Sportback 25 TFSI advanced 1.0   \n",
              "11896          2.0 CDTI ST AT Inno *Panorama*AHK*Matrix*   \n",
              "\n",
              "                                             description  \n",
              "13320                                                 []  \n",
              "12450  [\\nPrachtige Insignia GSI 4X4 met een 210pk 8 ...  \n",
              "2691   [\\n, Audi A3 Sportback 1.2 81 kW (110 cv) TFSI...  \n",
              "13658  [\\nAuto in perfette condizione, tagliandata Re...  \n",
              "7479   [\\n, USATO AZIENDALE GARANTITO - , prezzo escl...  \n",
              "2671   [\\nIn uitstekende staat verkerende A3 SportBac...  \n",
              "745    [\\nPER CONTATTI 3806820974 - 3351409111 ,  ANN...  \n",
              "6954   [\\nKlimaautomatik 2-Zonen, Klimaautomatik, Aud...  \n",
              "1863                                                  []  \n",
              "14870  [\\n, BONUSAKTION,  - limitiert u. zeitlich bef...  \n",
              "4683   [\\nLa dotazione tecnica e gli optionals potreb...  \n",
              "7889   [\\n, Innenausstattung:, Teilleder, Schwarz, La...  \n",
              "7888   [\\n4 Einstiegstüren, Unfallfrei, Herstellergar...  \n",
              "2495   [\\n, Getriebe:,  Schaltgetriebe, Technik:,  Bo...  \n",
              "11896  [\\n, Fahrtauglich, Unfallfrei, Herstellergaran...  "
            ]
          },
          "execution_count": 10,
          "metadata": {},
          "output_type": "execute_result"
        }
      ],
      "source": [
        "df[[\"short_description\",\"description\"]].sample(15)\n",
        "#bunlar ne kadar uyumlu bir komtrol edilsin kimi yerde uyumlu kimi yerde degil?"
      ]
    },
    {
      "cell_type": "code",
      "execution_count": 11,
      "metadata": {
        "colab": {
          "base_uri": "https://localhost:8080/"
        },
        "id": "HGoOWmK65Q8G",
        "outputId": "749c13e0-814d-42c1-acbe-415bb499bbb5"
      },
      "outputs": [
        {
          "data": {
            "text/plain": [
              "0            A1\n",
              "1            A1\n",
              "2            A1\n",
              "3            A1\n",
              "4            A1\n",
              "          ...  \n",
              "15914    Espace\n",
              "15915    Espace\n",
              "15916    Espace\n",
              "15917    Espace\n",
              "15918    Espace\n",
              "Name: Model, Length: 15919, dtype: object"
            ]
          },
          "execution_count": 11,
          "metadata": {},
          "output_type": "execute_result"
        }
      ],
      "source": [
        "df['Model'].apply(lambda x: np.nan if type(x)==float else x[1])"
      ]
    },
    {
      "cell_type": "code",
      "execution_count": 12,
      "metadata": {
        "colab": {
          "base_uri": "https://localhost:8080/"
        },
        "id": "GWwHGTs2nWqw",
        "outputId": "87c7d292-0945-4ceb-81b9-1a63a94c9406"
      },
      "outputs": [
        {
          "data": {
            "text/plain": [
              "0        [\\n, Sicherheit:,  , Deaktivierung für Beifahr...\n",
              "1        [\\nLangstreckenfahrzeug daher die hohe Kilomet...\n",
              "2        [\\n, Fahrzeug-Nummer: AM-95365,  , Ehem. UPE 2...\n",
              "3        [\\nAudi A1: , - 1e eigenaar , - Perfecte staat...\n",
              "4        [\\n, Technik & Sicherheit:, Xenon plus, Klimaa...\n",
              "                               ...                        \n",
              "15914    [\\nVettura visionabile nella sede in Via Roma ...\n",
              "15915    [\\nDach: Panorama-Glas-Schiebedach, Lackierung...\n",
              "15916    [\\n, Getriebe:,  Automatik, Technik:,  Bordcom...\n",
              "15917    [\\nDEK:[2691331], Renault Espace Blue dCi 200C...\n",
              "15918    [\\n, Sicherheit Airbags:,  , Seitenairbag,  , ...\n",
              "Name: description, Length: 15919, dtype: object"
            ]
          },
          "execution_count": 12,
          "metadata": {},
          "output_type": "execute_result"
        }
      ],
      "source": [
        "df.description"
      ]
    },
    {
      "cell_type": "code",
      "execution_count": 13,
      "metadata": {
        "colab": {
          "base_uri": "https://localhost:8080/",
          "height": 1000
        },
        "id": "S0zcsoRDhjSG",
        "outputId": "edb3fdf5-d1d9-4799-9136-a09d0d45ab2e"
      },
      "outputs": [
        {
          "data": {
            "text/html": [
              "<div>\n",
              "<style scoped>\n",
              "    .dataframe tbody tr th:only-of-type {\n",
              "        vertical-align: middle;\n",
              "    }\n",
              "\n",
              "    .dataframe tbody tr th {\n",
              "        vertical-align: top;\n",
              "    }\n",
              "\n",
              "    .dataframe thead th {\n",
              "        text-align: right;\n",
              "    }\n",
              "</style>\n",
              "<table border=\"1\" class=\"dataframe\">\n",
              "  <thead>\n",
              "    <tr style=\"text-align: right;\">\n",
              "      <th></th>\n",
              "      <th>Missing_Number</th>\n",
              "      <th>Missing_Percent</th>\n",
              "    </tr>\n",
              "  </thead>\n",
              "  <tbody>\n",
              "    <tr>\n",
              "      <th>kW</th>\n",
              "      <td>15919</td>\n",
              "      <td>100.000</td>\n",
              "    </tr>\n",
              "    <tr>\n",
              "      <th>Last Timing Belt Service Date</th>\n",
              "      <td>15903</td>\n",
              "      <td>99.899</td>\n",
              "    </tr>\n",
              "    <tr>\n",
              "      <th>Electricity consumption</th>\n",
              "      <td>15782</td>\n",
              "      <td>99.139</td>\n",
              "    </tr>\n",
              "    <tr>\n",
              "      <th>Available from</th>\n",
              "      <td>15647</td>\n",
              "      <td>98.291</td>\n",
              "    </tr>\n",
              "    <tr>\n",
              "      <th>Last Service Date</th>\n",
              "      <td>15353</td>\n",
              "      <td>96.445</td>\n",
              "    </tr>\n",
              "    <tr>\n",
              "      <th>Availability</th>\n",
              "      <td>15284</td>\n",
              "      <td>96.011</td>\n",
              "    </tr>\n",
              "    <tr>\n",
              "      <th>Other Fuel Types</th>\n",
              "      <td>15039</td>\n",
              "      <td>94.472</td>\n",
              "    </tr>\n",
              "    <tr>\n",
              "      <th>Next Inspection</th>\n",
              "      <td>12384</td>\n",
              "      <td>77.794</td>\n",
              "    </tr>\n",
              "    <tr>\n",
              "      <th>Inspection new</th>\n",
              "      <td>11987</td>\n",
              "      <td>75.300</td>\n",
              "    </tr>\n",
              "    <tr>\n",
              "      <th>Emission Label</th>\n",
              "      <td>11934</td>\n",
              "      <td>74.967</td>\n",
              "    </tr>\n",
              "    <tr>\n",
              "      <th>Model Code</th>\n",
              "      <td>10941</td>\n",
              "      <td>68.729</td>\n",
              "    </tr>\n",
              "    <tr>\n",
              "      <th>Non-smoking Vehicle</th>\n",
              "      <td>8742</td>\n",
              "      <td>54.916</td>\n",
              "    </tr>\n",
              "    <tr>\n",
              "      <th>Country version</th>\n",
              "      <td>8333</td>\n",
              "      <td>52.346</td>\n",
              "    </tr>\n",
              "    <tr>\n",
              "      <th>Full Service</th>\n",
              "      <td>7704</td>\n",
              "      <td>48.395</td>\n",
              "    </tr>\n",
              "    <tr>\n",
              "      <th>Weight</th>\n",
              "      <td>6974</td>\n",
              "      <td>43.809</td>\n",
              "    </tr>\n",
              "    <tr>\n",
              "      <th>Drive chain</th>\n",
              "      <td>6858</td>\n",
              "      <td>43.081</td>\n",
              "    </tr>\n",
              "    <tr>\n",
              "      <th>prev_owner</th>\n",
              "      <td>6828</td>\n",
              "      <td>42.892</td>\n",
              "    </tr>\n",
              "    <tr>\n",
              "      <th>Previous Owners</th>\n",
              "      <td>6640</td>\n",
              "      <td>41.711</td>\n",
              "    </tr>\n",
              "    <tr>\n",
              "      <th>Paint Type</th>\n",
              "      <td>5772</td>\n",
              "      <td>36.259</td>\n",
              "    </tr>\n",
              "    <tr>\n",
              "      <th>Cylinders</th>\n",
              "      <td>5680</td>\n",
              "      <td>35.681</td>\n",
              "    </tr>\n",
              "    <tr>\n",
              "      <th>Warranty</th>\n",
              "      <td>5420</td>\n",
              "      <td>34.047</td>\n",
              "    </tr>\n",
              "    <tr>\n",
              "      <th>Gears</th>\n",
              "      <td>4712</td>\n",
              "      <td>29.600</td>\n",
              "    </tr>\n",
              "    <tr>\n",
              "      <th>vat</th>\n",
              "      <td>4513</td>\n",
              "      <td>28.350</td>\n",
              "    </tr>\n",
              "    <tr>\n",
              "      <th>Body Color Original</th>\n",
              "      <td>3759</td>\n",
              "      <td>23.613</td>\n",
              "    </tr>\n",
              "    <tr>\n",
              "      <th>Upholstery</th>\n",
              "      <td>3720</td>\n",
              "      <td>23.368</td>\n",
              "    </tr>\n",
              "    <tr>\n",
              "      <th>Offer Number</th>\n",
              "      <td>3175</td>\n",
              "      <td>19.945</td>\n",
              "    </tr>\n",
              "    <tr>\n",
              "      <th>Emission Class</th>\n",
              "      <td>3021</td>\n",
              "      <td>18.977</td>\n",
              "    </tr>\n",
              "    <tr>\n",
              "      <th>\\nExtras\\n</th>\n",
              "      <td>2962</td>\n",
              "      <td>18.607</td>\n",
              "    </tr>\n",
              "    <tr>\n",
              "      <th>Consumption</th>\n",
              "      <td>1906</td>\n",
              "      <td>11.973</td>\n",
              "    </tr>\n",
              "    <tr>\n",
              "      <th>CO2 Emission</th>\n",
              "      <td>1808</td>\n",
              "      <td>11.357</td>\n",
              "    </tr>\n",
              "    <tr>\n",
              "      <th>First Registration</th>\n",
              "      <td>1597</td>\n",
              "      <td>10.032</td>\n",
              "    </tr>\n",
              "    <tr>\n",
              "      <th>\\nEntertainment &amp; Media\\n</th>\n",
              "      <td>1374</td>\n",
              "      <td>8.631</td>\n",
              "    </tr>\n",
              "    <tr>\n",
              "      <th>\\nSafety &amp; Security\\n</th>\n",
              "      <td>982</td>\n",
              "      <td>6.169</td>\n",
              "    </tr>\n",
              "    <tr>\n",
              "      <th>Nr. of Seats</th>\n",
              "      <td>977</td>\n",
              "      <td>6.137</td>\n",
              "    </tr>\n",
              "    <tr>\n",
              "      <th>\\nComfort &amp; Convenience\\n</th>\n",
              "      <td>920</td>\n",
              "      <td>5.779</td>\n",
              "    </tr>\n",
              "    <tr>\n",
              "      <th>Body Color</th>\n",
              "      <td>597</td>\n",
              "      <td>3.750</td>\n",
              "    </tr>\n",
              "    <tr>\n",
              "      <th>Displacement</th>\n",
              "      <td>496</td>\n",
              "      <td>3.116</td>\n",
              "    </tr>\n",
              "    <tr>\n",
              "      <th>Nr. of Doors</th>\n",
              "      <td>212</td>\n",
              "      <td>1.332</td>\n",
              "    </tr>\n",
              "    <tr>\n",
              "      <th>Body</th>\n",
              "      <td>60</td>\n",
              "      <td>0.377</td>\n",
              "    </tr>\n",
              "    <tr>\n",
              "      <th>body_type</th>\n",
              "      <td>60</td>\n",
              "      <td>0.377</td>\n",
              "    </tr>\n",
              "    <tr>\n",
              "      <th>short_description</th>\n",
              "      <td>46</td>\n",
              "      <td>0.289</td>\n",
              "    </tr>\n",
              "    <tr>\n",
              "      <th>Type</th>\n",
              "      <td>2</td>\n",
              "      <td>0.013</td>\n",
              "    </tr>\n",
              "    <tr>\n",
              "      <th>Fuel</th>\n",
              "      <td>0</td>\n",
              "      <td>0.000</td>\n",
              "    </tr>\n",
              "    <tr>\n",
              "      <th>Gearing Type</th>\n",
              "      <td>0</td>\n",
              "      <td>0.000</td>\n",
              "    </tr>\n",
              "    <tr>\n",
              "      <th>make_model</th>\n",
              "      <td>0</td>\n",
              "      <td>0.000</td>\n",
              "    </tr>\n",
              "    <tr>\n",
              "      <th>Model</th>\n",
              "      <td>0</td>\n",
              "      <td>0.000</td>\n",
              "    </tr>\n",
              "    <tr>\n",
              "      <th>Make</th>\n",
              "      <td>0</td>\n",
              "      <td>0.000</td>\n",
              "    </tr>\n",
              "    <tr>\n",
              "      <th>description</th>\n",
              "      <td>0</td>\n",
              "      <td>0.000</td>\n",
              "    </tr>\n",
              "    <tr>\n",
              "      <th>null</th>\n",
              "      <td>0</td>\n",
              "      <td>0.000</td>\n",
              "    </tr>\n",
              "    <tr>\n",
              "      <th>hp</th>\n",
              "      <td>0</td>\n",
              "      <td>0.000</td>\n",
              "    </tr>\n",
              "    <tr>\n",
              "      <th>registration</th>\n",
              "      <td>0</td>\n",
              "      <td>0.000</td>\n",
              "    </tr>\n",
              "    <tr>\n",
              "      <th>km</th>\n",
              "      <td>0</td>\n",
              "      <td>0.000</td>\n",
              "    </tr>\n",
              "    <tr>\n",
              "      <th>price</th>\n",
              "      <td>0</td>\n",
              "      <td>0.000</td>\n",
              "    </tr>\n",
              "    <tr>\n",
              "      <th>url</th>\n",
              "      <td>0</td>\n",
              "      <td>0.000</td>\n",
              "    </tr>\n",
              "  </tbody>\n",
              "</table>\n",
              "</div>"
            ],
            "text/plain": [
              "                               Missing_Number  Missing_Percent\n",
              "kW                                      15919          100.000\n",
              "Last Timing Belt Service Date           15903           99.899\n",
              "Electricity consumption                 15782           99.139\n",
              "Available from                          15647           98.291\n",
              "Last Service Date                       15353           96.445\n",
              "Availability                            15284           96.011\n",
              "Other Fuel Types                        15039           94.472\n",
              "Next Inspection                         12384           77.794\n",
              "Inspection new                          11987           75.300\n",
              "Emission Label                          11934           74.967\n",
              "Model Code                              10941           68.729\n",
              "Non-smoking Vehicle                      8742           54.916\n",
              "Country version                          8333           52.346\n",
              "Full Service                             7704           48.395\n",
              "Weight                                   6974           43.809\n",
              "Drive chain                              6858           43.081\n",
              "prev_owner                               6828           42.892\n",
              "Previous Owners                          6640           41.711\n",
              "Paint Type                               5772           36.259\n",
              "Cylinders                                5680           35.681\n",
              "Warranty                                 5420           34.047\n",
              "Gears                                    4712           29.600\n",
              "vat                                      4513           28.350\n",
              "Body Color Original                      3759           23.613\n",
              "Upholstery                               3720           23.368\n",
              "Offer Number                             3175           19.945\n",
              "Emission Class                           3021           18.977\n",
              "\\nExtras\\n                               2962           18.607\n",
              "Consumption                              1906           11.973\n",
              "CO2 Emission                             1808           11.357\n",
              "First Registration                       1597           10.032\n",
              "\\nEntertainment & Media\\n                1374            8.631\n",
              "\\nSafety & Security\\n                     982            6.169\n",
              "Nr. of Seats                              977            6.137\n",
              "\\nComfort & Convenience\\n                 920            5.779\n",
              "Body Color                                597            3.750\n",
              "Displacement                              496            3.116\n",
              "Nr. of Doors                              212            1.332\n",
              "Body                                       60            0.377\n",
              "body_type                                  60            0.377\n",
              "short_description                          46            0.289\n",
              "Type                                        2            0.013\n",
              "Fuel                                        0            0.000\n",
              "Gearing Type                                0            0.000\n",
              "make_model                                  0            0.000\n",
              "Model                                       0            0.000\n",
              "Make                                        0            0.000\n",
              "description                                 0            0.000\n",
              "null                                        0            0.000\n",
              "hp                                          0            0.000\n",
              "registration                                0            0.000\n",
              "km                                          0            0.000\n",
              "price                                       0            0.000\n",
              "url                                         0            0.000"
            ]
          },
          "execution_count": 13,
          "metadata": {},
          "output_type": "execute_result"
        }
      ],
      "source": [
        "def missing (df):     \n",
        "    missing_number = df.isnull().sum().sort_values(ascending=False)  #IT her sütunda toplam nan değerlerini gösterir.\n",
        "    missing_percent = (df.isnull().sum()/len(df)*100).sort_values(ascending=False)     \n",
        "    missing_values = pd.concat([missing_number, missing_percent], axis=1, keys=['Missing_Number', 'Missing_Percent'])\n",
        "    return missing_values\n",
        "\n",
        "missing(df)"
      ]
    },
    {
      "cell_type": "code",
      "execution_count": null,
      "metadata": {
        "id": "ND2lFaPy4wGS"
      },
      "outputs": [],
      "source": []
    },
    {
      "cell_type": "code",
      "execution_count": 14,
      "metadata": {
        "colab": {
          "base_uri": "https://localhost:8080/",
          "height": 300
        },
        "id": "VClJE_Q90FIP",
        "outputId": "60855fe5-7f87-41bd-b494-b51d5aeaae00"
      },
      "outputs": [
        {
          "data": {
            "text/html": [
              "<div>\n",
              "<style scoped>\n",
              "    .dataframe tbody tr th:only-of-type {\n",
              "        vertical-align: middle;\n",
              "    }\n",
              "\n",
              "    .dataframe tbody tr th {\n",
              "        vertical-align: top;\n",
              "    }\n",
              "\n",
              "    .dataframe thead th {\n",
              "        text-align: right;\n",
              "    }\n",
              "</style>\n",
              "<table border=\"1\" class=\"dataframe\">\n",
              "  <thead>\n",
              "    <tr style=\"text-align: right;\">\n",
              "      <th></th>\n",
              "      <th>price</th>\n",
              "      <th>kW</th>\n",
              "    </tr>\n",
              "  </thead>\n",
              "  <tbody>\n",
              "    <tr>\n",
              "      <th>count</th>\n",
              "      <td>15919.000</td>\n",
              "      <td>0.000</td>\n",
              "    </tr>\n",
              "    <tr>\n",
              "      <th>mean</th>\n",
              "      <td>18019.897</td>\n",
              "      <td>NaN</td>\n",
              "    </tr>\n",
              "    <tr>\n",
              "      <th>std</th>\n",
              "      <td>7386.169</td>\n",
              "      <td>NaN</td>\n",
              "    </tr>\n",
              "    <tr>\n",
              "      <th>min</th>\n",
              "      <td>13.000</td>\n",
              "      <td>NaN</td>\n",
              "    </tr>\n",
              "    <tr>\n",
              "      <th>25%</th>\n",
              "      <td>12850.000</td>\n",
              "      <td>NaN</td>\n",
              "    </tr>\n",
              "    <tr>\n",
              "      <th>50%</th>\n",
              "      <td>16900.000</td>\n",
              "      <td>NaN</td>\n",
              "    </tr>\n",
              "    <tr>\n",
              "      <th>75%</th>\n",
              "      <td>21900.000</td>\n",
              "      <td>NaN</td>\n",
              "    </tr>\n",
              "    <tr>\n",
              "      <th>max</th>\n",
              "      <td>74600.000</td>\n",
              "      <td>NaN</td>\n",
              "    </tr>\n",
              "  </tbody>\n",
              "</table>\n",
              "</div>"
            ],
            "text/plain": [
              "          price    kW\n",
              "count 15919.000 0.000\n",
              "mean  18019.897   NaN\n",
              "std    7386.169   NaN\n",
              "min      13.000   NaN\n",
              "25%   12850.000   NaN\n",
              "50%   16900.000   NaN\n",
              "75%   21900.000   NaN\n",
              "max   74600.000   NaN"
            ]
          },
          "execution_count": 14,
          "metadata": {},
          "output_type": "execute_result"
        }
      ],
      "source": [
        "df.describe()"
      ]
    },
    {
      "cell_type": "code",
      "execution_count": 15,
      "metadata": {
        "colab": {
          "base_uri": "https://localhost:8080/",
          "height": 1000
        },
        "id": "tjdfHK4kIYXE",
        "outputId": "092d8be8-2cbf-4b6d-c1cb-28ba89c721bf"
      },
      "outputs": [
        {
          "data": {
            "text/html": [
              "<div>\n",
              "<style scoped>\n",
              "    .dataframe tbody tr th:only-of-type {\n",
              "        vertical-align: middle;\n",
              "    }\n",
              "\n",
              "    .dataframe tbody tr th {\n",
              "        vertical-align: top;\n",
              "    }\n",
              "\n",
              "    .dataframe thead th {\n",
              "        text-align: right;\n",
              "    }\n",
              "</style>\n",
              "<table border=\"1\" class=\"dataframe\">\n",
              "  <thead>\n",
              "    <tr style=\"text-align: right;\">\n",
              "      <th></th>\n",
              "      <th>count</th>\n",
              "      <th>unique</th>\n",
              "      <th>top</th>\n",
              "      <th>freq</th>\n",
              "    </tr>\n",
              "  </thead>\n",
              "  <tbody>\n",
              "    <tr>\n",
              "      <th>url</th>\n",
              "      <td>15919</td>\n",
              "      <td>15919</td>\n",
              "      <td>https://www.autoscout24.com//offers/audi-a1-sp...</td>\n",
              "      <td>1</td>\n",
              "    </tr>\n",
              "    <tr>\n",
              "      <th>make_model</th>\n",
              "      <td>15919</td>\n",
              "      <td>9</td>\n",
              "      <td>Audi A3</td>\n",
              "      <td>3097</td>\n",
              "    </tr>\n",
              "    <tr>\n",
              "      <th>short_description</th>\n",
              "      <td>15873</td>\n",
              "      <td>10001</td>\n",
              "      <td>SPB 1.6 TDI 116 CV S tronic Sport</td>\n",
              "      <td>64</td>\n",
              "    </tr>\n",
              "    <tr>\n",
              "      <th>body_type</th>\n",
              "      <td>15859</td>\n",
              "      <td>9</td>\n",
              "      <td>Sedans</td>\n",
              "      <td>7903</td>\n",
              "    </tr>\n",
              "    <tr>\n",
              "      <th>vat</th>\n",
              "      <td>11406</td>\n",
              "      <td>2</td>\n",
              "      <td>VAT deductible</td>\n",
              "      <td>10980</td>\n",
              "    </tr>\n",
              "    <tr>\n",
              "      <th>km</th>\n",
              "      <td>15919</td>\n",
              "      <td>6690</td>\n",
              "      <td>10 km</td>\n",
              "      <td>1045</td>\n",
              "    </tr>\n",
              "    <tr>\n",
              "      <th>registration</th>\n",
              "      <td>15919</td>\n",
              "      <td>48</td>\n",
              "      <td>-/-</td>\n",
              "      <td>1597</td>\n",
              "    </tr>\n",
              "    <tr>\n",
              "      <th>prev_owner</th>\n",
              "      <td>9091</td>\n",
              "      <td>4</td>\n",
              "      <td>1 previous owner</td>\n",
              "      <td>8294</td>\n",
              "    </tr>\n",
              "    <tr>\n",
              "      <th>hp</th>\n",
              "      <td>15919</td>\n",
              "      <td>81</td>\n",
              "      <td>85 kW</td>\n",
              "      <td>2542</td>\n",
              "    </tr>\n",
              "    <tr>\n",
              "      <th>Type</th>\n",
              "      <td>15917</td>\n",
              "      <td>169</td>\n",
              "      <td>[, Used, , Diesel (Particulate Filter)]</td>\n",
              "      <td>3475</td>\n",
              "    </tr>\n",
              "    <tr>\n",
              "      <th>Previous Owners</th>\n",
              "      <td>9279</td>\n",
              "      <td>102</td>\n",
              "      <td>\\n1\\n</td>\n",
              "      <td>8101</td>\n",
              "    </tr>\n",
              "    <tr>\n",
              "      <th>Next Inspection</th>\n",
              "      <td>3535</td>\n",
              "      <td>1399</td>\n",
              "      <td>\\n04/2022\\n</td>\n",
              "      <td>62</td>\n",
              "    </tr>\n",
              "    <tr>\n",
              "      <th>Inspection new</th>\n",
              "      <td>3932</td>\n",
              "      <td>202</td>\n",
              "      <td>[\\nYes\\n, \\nEuro 6\\n]</td>\n",
              "      <td>523</td>\n",
              "    </tr>\n",
              "    <tr>\n",
              "      <th>Warranty</th>\n",
              "      <td>10499</td>\n",
              "      <td>515</td>\n",
              "      <td>[\\n, \\n, \\nEuro 6\\n]</td>\n",
              "      <td>1868</td>\n",
              "    </tr>\n",
              "    <tr>\n",
              "      <th>Full Service</th>\n",
              "      <td>8215</td>\n",
              "      <td>122</td>\n",
              "      <td>[\\n, \\n, \\n4 (Green)\\n]</td>\n",
              "      <td>2235</td>\n",
              "    </tr>\n",
              "    <tr>\n",
              "      <th>Non-smoking Vehicle</th>\n",
              "      <td>7177</td>\n",
              "      <td>94</td>\n",
              "      <td>[\\n, \\n]</td>\n",
              "      <td>3647</td>\n",
              "    </tr>\n",
              "    <tr>\n",
              "      <th>null</th>\n",
              "      <td>15919</td>\n",
              "      <td>1</td>\n",
              "      <td>[]</td>\n",
              "      <td>15919</td>\n",
              "    </tr>\n",
              "    <tr>\n",
              "      <th>Make</th>\n",
              "      <td>15919</td>\n",
              "      <td>3</td>\n",
              "      <td>Opel</td>\n",
              "      <td>7343</td>\n",
              "    </tr>\n",
              "    <tr>\n",
              "      <th>Model</th>\n",
              "      <td>15919</td>\n",
              "      <td>9</td>\n",
              "      <td>[\\n, A3, \\n]</td>\n",
              "      <td>3097</td>\n",
              "    </tr>\n",
              "    <tr>\n",
              "      <th>Offer Number</th>\n",
              "      <td>12744</td>\n",
              "      <td>11440</td>\n",
              "      <td>[\\nLT67679\\n]</td>\n",
              "      <td>27</td>\n",
              "    </tr>\n",
              "    <tr>\n",
              "      <th>First Registration</th>\n",
              "      <td>14322</td>\n",
              "      <td>4</td>\n",
              "      <td>[\\n, 2018, \\n]</td>\n",
              "      <td>4522</td>\n",
              "    </tr>\n",
              "    <tr>\n",
              "      <th>Body Color</th>\n",
              "      <td>15322</td>\n",
              "      <td>14</td>\n",
              "      <td>[\\n, Black, \\n]</td>\n",
              "      <td>3745</td>\n",
              "    </tr>\n",
              "    <tr>\n",
              "      <th>Paint Type</th>\n",
              "      <td>10147</td>\n",
              "      <td>3</td>\n",
              "      <td>[\\nMetallic\\n]</td>\n",
              "      <td>9794</td>\n",
              "    </tr>\n",
              "    <tr>\n",
              "      <th>Body Color Original</th>\n",
              "      <td>12160</td>\n",
              "      <td>1927</td>\n",
              "      <td>[\\nOnyx Schwarz\\n]</td>\n",
              "      <td>338</td>\n",
              "    </tr>\n",
              "    <tr>\n",
              "      <th>Upholstery</th>\n",
              "      <td>12199</td>\n",
              "      <td>46</td>\n",
              "      <td>[\\nCloth, Black\\n]</td>\n",
              "      <td>5821</td>\n",
              "    </tr>\n",
              "    <tr>\n",
              "      <th>Body</th>\n",
              "      <td>15859</td>\n",
              "      <td>9</td>\n",
              "      <td>[\\n, Sedans, \\n]</td>\n",
              "      <td>7903</td>\n",
              "    </tr>\n",
              "    <tr>\n",
              "      <th>Nr. of Doors</th>\n",
              "      <td>15707</td>\n",
              "      <td>6</td>\n",
              "      <td>[\\n5\\n]</td>\n",
              "      <td>11575</td>\n",
              "    </tr>\n",
              "    <tr>\n",
              "      <th>Nr. of Seats</th>\n",
              "      <td>14942</td>\n",
              "      <td>6</td>\n",
              "      <td>[\\n5\\n]</td>\n",
              "      <td>13336</td>\n",
              "    </tr>\n",
              "    <tr>\n",
              "      <th>Model Code</th>\n",
              "      <td>4978</td>\n",
              "      <td>232</td>\n",
              "      <td>[\\n0035/BCB\\n]</td>\n",
              "      <td>268</td>\n",
              "    </tr>\n",
              "    <tr>\n",
              "      <th>Gearing Type</th>\n",
              "      <td>15919</td>\n",
              "      <td>3</td>\n",
              "      <td>[\\n, Manual, \\n]</td>\n",
              "      <td>8153</td>\n",
              "    </tr>\n",
              "    <tr>\n",
              "      <th>Displacement</th>\n",
              "      <td>15423</td>\n",
              "      <td>77</td>\n",
              "      <td>[\\n1,598 cc\\n]</td>\n",
              "      <td>4761</td>\n",
              "    </tr>\n",
              "    <tr>\n",
              "      <th>Cylinders</th>\n",
              "      <td>10239</td>\n",
              "      <td>7</td>\n",
              "      <td>[\\n4\\n]</td>\n",
              "      <td>8105</td>\n",
              "    </tr>\n",
              "    <tr>\n",
              "      <th>Weight</th>\n",
              "      <td>8945</td>\n",
              "      <td>434</td>\n",
              "      <td>[\\n1,163 kg\\n]</td>\n",
              "      <td>574</td>\n",
              "    </tr>\n",
              "    <tr>\n",
              "      <th>Drive chain</th>\n",
              "      <td>9061</td>\n",
              "      <td>3</td>\n",
              "      <td>[\\nfront\\n]</td>\n",
              "      <td>8886</td>\n",
              "    </tr>\n",
              "    <tr>\n",
              "      <th>Fuel</th>\n",
              "      <td>15919</td>\n",
              "      <td>77</td>\n",
              "      <td>[\\n, Diesel (Particulate Filter), \\n]</td>\n",
              "      <td>4315</td>\n",
              "    </tr>\n",
              "    <tr>\n",
              "      <th>Consumption</th>\n",
              "      <td>14013</td>\n",
              "      <td>881</td>\n",
              "      <td>[[3.9 l/100 km (comb)], [4.1 l/100 km (city)],...</td>\n",
              "      <td>304</td>\n",
              "    </tr>\n",
              "    <tr>\n",
              "      <th>CO2 Emission</th>\n",
              "      <td>14111</td>\n",
              "      <td>123</td>\n",
              "      <td>[\\n120 g CO2/km (comb)\\n]</td>\n",
              "      <td>740</td>\n",
              "    </tr>\n",
              "    <tr>\n",
              "      <th>Emission Class</th>\n",
              "      <td>12898</td>\n",
              "      <td>7</td>\n",
              "      <td>[\\nEuro 6\\n]</td>\n",
              "      <td>10139</td>\n",
              "    </tr>\n",
              "    <tr>\n",
              "      <th>\\nComfort &amp; Convenience\\n</th>\n",
              "      <td>14999</td>\n",
              "      <td>6198</td>\n",
              "      <td>[Air conditioning, Electrical side mirrors, Hi...</td>\n",
              "      <td>216</td>\n",
              "    </tr>\n",
              "    <tr>\n",
              "      <th>\\nEntertainment &amp; Media\\n</th>\n",
              "      <td>14545</td>\n",
              "      <td>346</td>\n",
              "      <td>[Bluetooth, Hands-free equipment, On-board com...</td>\n",
              "      <td>1282</td>\n",
              "    </tr>\n",
              "    <tr>\n",
              "      <th>\\nExtras\\n</th>\n",
              "      <td>12957</td>\n",
              "      <td>659</td>\n",
              "      <td>[Alloy wheels]</td>\n",
              "      <td>3245</td>\n",
              "    </tr>\n",
              "    <tr>\n",
              "      <th>\\nSafety &amp; Security\\n</th>\n",
              "      <td>14937</td>\n",
              "      <td>4443</td>\n",
              "      <td>[ABS, Central door lock, Daytime running light...</td>\n",
              "      <td>538</td>\n",
              "    </tr>\n",
              "    <tr>\n",
              "      <th>description</th>\n",
              "      <td>15919</td>\n",
              "      <td>12874</td>\n",
              "      <td>[]</td>\n",
              "      <td>636</td>\n",
              "    </tr>\n",
              "    <tr>\n",
              "      <th>Emission Label</th>\n",
              "      <td>3985</td>\n",
              "      <td>6</td>\n",
              "      <td>[\\n4 (Green)\\n]</td>\n",
              "      <td>3553</td>\n",
              "    </tr>\n",
              "    <tr>\n",
              "      <th>Gears</th>\n",
              "      <td>11207</td>\n",
              "      <td>10</td>\n",
              "      <td>[\\n6\\n]</td>\n",
              "      <td>5822</td>\n",
              "    </tr>\n",
              "    <tr>\n",
              "      <th>Country version</th>\n",
              "      <td>7586</td>\n",
              "      <td>23</td>\n",
              "      <td>[\\nGermany\\n]</td>\n",
              "      <td>4502</td>\n",
              "    </tr>\n",
              "    <tr>\n",
              "      <th>Electricity consumption</th>\n",
              "      <td>137</td>\n",
              "      <td>1</td>\n",
              "      <td>[\\n0 kWh/100 km (comb)\\n]</td>\n",
              "      <td>137</td>\n",
              "    </tr>\n",
              "    <tr>\n",
              "      <th>Last Service Date</th>\n",
              "      <td>566</td>\n",
              "      <td>266</td>\n",
              "      <td>[\\n02/2019\\n, \\nEuro 6\\n]</td>\n",
              "      <td>23</td>\n",
              "    </tr>\n",
              "    <tr>\n",
              "      <th>Other Fuel Types</th>\n",
              "      <td>880</td>\n",
              "      <td>1</td>\n",
              "      <td>[[], [], []]</td>\n",
              "      <td>880</td>\n",
              "    </tr>\n",
              "    <tr>\n",
              "      <th>Availability</th>\n",
              "      <td>635</td>\n",
              "      <td>15</td>\n",
              "      <td>\\nin 90 days from ordering\\n</td>\n",
              "      <td>196</td>\n",
              "    </tr>\n",
              "    <tr>\n",
              "      <th>Last Timing Belt Service Date</th>\n",
              "      <td>16</td>\n",
              "      <td>15</td>\n",
              "      <td>[\\n04/2016\\n]</td>\n",
              "      <td>2</td>\n",
              "    </tr>\n",
              "    <tr>\n",
              "      <th>Available from</th>\n",
              "      <td>272</td>\n",
              "      <td>46</td>\n",
              "      <td>\\n31/08/19\\n</td>\n",
              "      <td>98</td>\n",
              "    </tr>\n",
              "  </tbody>\n",
              "</table>\n",
              "</div>"
            ],
            "text/plain": [
              "                               count unique  \\\n",
              "url                            15919  15919   \n",
              "make_model                     15919      9   \n",
              "short_description              15873  10001   \n",
              "body_type                      15859      9   \n",
              "vat                            11406      2   \n",
              "km                             15919   6690   \n",
              "registration                   15919     48   \n",
              "prev_owner                      9091      4   \n",
              "hp                             15919     81   \n",
              "Type                           15917    169   \n",
              "Previous Owners                 9279    102   \n",
              "Next Inspection                 3535   1399   \n",
              "Inspection new                  3932    202   \n",
              "Warranty                       10499    515   \n",
              "Full Service                    8215    122   \n",
              "Non-smoking Vehicle             7177     94   \n",
              "null                           15919      1   \n",
              "Make                           15919      3   \n",
              "Model                          15919      9   \n",
              "Offer Number                   12744  11440   \n",
              "First Registration             14322      4   \n",
              "Body Color                     15322     14   \n",
              "Paint Type                     10147      3   \n",
              "Body Color Original            12160   1927   \n",
              "Upholstery                     12199     46   \n",
              "Body                           15859      9   \n",
              "Nr. of Doors                   15707      6   \n",
              "Nr. of Seats                   14942      6   \n",
              "Model Code                      4978    232   \n",
              "Gearing Type                   15919      3   \n",
              "Displacement                   15423     77   \n",
              "Cylinders                      10239      7   \n",
              "Weight                          8945    434   \n",
              "Drive chain                     9061      3   \n",
              "Fuel                           15919     77   \n",
              "Consumption                    14013    881   \n",
              "CO2 Emission                   14111    123   \n",
              "Emission Class                 12898      7   \n",
              "\\nComfort & Convenience\\n      14999   6198   \n",
              "\\nEntertainment & Media\\n      14545    346   \n",
              "\\nExtras\\n                     12957    659   \n",
              "\\nSafety & Security\\n          14937   4443   \n",
              "description                    15919  12874   \n",
              "Emission Label                  3985      6   \n",
              "Gears                          11207     10   \n",
              "Country version                 7586     23   \n",
              "Electricity consumption          137      1   \n",
              "Last Service Date                566    266   \n",
              "Other Fuel Types                 880      1   \n",
              "Availability                     635     15   \n",
              "Last Timing Belt Service Date     16     15   \n",
              "Available from                   272     46   \n",
              "\n",
              "                                                                             top  \\\n",
              "url                            https://www.autoscout24.com//offers/audi-a1-sp...   \n",
              "make_model                                                               Audi A3   \n",
              "short_description                              SPB 1.6 TDI 116 CV S tronic Sport   \n",
              "body_type                                                                 Sedans   \n",
              "vat                                                               VAT deductible   \n",
              "km                                                                         10 km   \n",
              "registration                                                                 -/-   \n",
              "prev_owner                                                      1 previous owner   \n",
              "hp                                                                         85 kW   \n",
              "Type                                     [, Used, , Diesel (Particulate Filter)]   \n",
              "Previous Owners                                                            \\n1\\n   \n",
              "Next Inspection                                                      \\n04/2022\\n   \n",
              "Inspection new                                             [\\nYes\\n, \\nEuro 6\\n]   \n",
              "Warranty                                                    [\\n, \\n, \\nEuro 6\\n]   \n",
              "Full Service                                             [\\n, \\n, \\n4 (Green)\\n]   \n",
              "Non-smoking Vehicle                                                     [\\n, \\n]   \n",
              "null                                                                          []   \n",
              "Make                                                                        Opel   \n",
              "Model                                                               [\\n, A3, \\n]   \n",
              "Offer Number                                                       [\\nLT67679\\n]   \n",
              "First Registration                                                [\\n, 2018, \\n]   \n",
              "Body Color                                                       [\\n, Black, \\n]   \n",
              "Paint Type                                                        [\\nMetallic\\n]   \n",
              "Body Color Original                                           [\\nOnyx Schwarz\\n]   \n",
              "Upholstery                                                    [\\nCloth, Black\\n]   \n",
              "Body                                                            [\\n, Sedans, \\n]   \n",
              "Nr. of Doors                                                             [\\n5\\n]   \n",
              "Nr. of Seats                                                             [\\n5\\n]   \n",
              "Model Code                                                        [\\n0035/BCB\\n]   \n",
              "Gearing Type                                                    [\\n, Manual, \\n]   \n",
              "Displacement                                                      [\\n1,598 cc\\n]   \n",
              "Cylinders                                                                [\\n4\\n]   \n",
              "Weight                                                            [\\n1,163 kg\\n]   \n",
              "Drive chain                                                          [\\nfront\\n]   \n",
              "Fuel                                       [\\n, Diesel (Particulate Filter), \\n]   \n",
              "Consumption                    [[3.9 l/100 km (comb)], [4.1 l/100 km (city)],...   \n",
              "CO2 Emission                                           [\\n120 g CO2/km (comb)\\n]   \n",
              "Emission Class                                                      [\\nEuro 6\\n]   \n",
              "\\nComfort & Convenience\\n      [Air conditioning, Electrical side mirrors, Hi...   \n",
              "\\nEntertainment & Media\\n      [Bluetooth, Hands-free equipment, On-board com...   \n",
              "\\nExtras\\n                                                        [Alloy wheels]   \n",
              "\\nSafety & Security\\n          [ABS, Central door lock, Daytime running light...   \n",
              "description                                                                   []   \n",
              "Emission Label                                                   [\\n4 (Green)\\n]   \n",
              "Gears                                                                    [\\n6\\n]   \n",
              "Country version                                                    [\\nGermany\\n]   \n",
              "Electricity consumption                                [\\n0 kWh/100 km (comb)\\n]   \n",
              "Last Service Date                                      [\\n02/2019\\n, \\nEuro 6\\n]   \n",
              "Other Fuel Types                                                    [[], [], []]   \n",
              "Availability                                        \\nin 90 days from ordering\\n   \n",
              "Last Timing Belt Service Date                                      [\\n04/2016\\n]   \n",
              "Available from                                                      \\n31/08/19\\n   \n",
              "\n",
              "                                freq  \n",
              "url                                1  \n",
              "make_model                      3097  \n",
              "short_description                 64  \n",
              "body_type                       7903  \n",
              "vat                            10980  \n",
              "km                              1045  \n",
              "registration                    1597  \n",
              "prev_owner                      8294  \n",
              "hp                              2542  \n",
              "Type                            3475  \n",
              "Previous Owners                 8101  \n",
              "Next Inspection                   62  \n",
              "Inspection new                   523  \n",
              "Warranty                        1868  \n",
              "Full Service                    2235  \n",
              "Non-smoking Vehicle             3647  \n",
              "null                           15919  \n",
              "Make                            7343  \n",
              "Model                           3097  \n",
              "Offer Number                      27  \n",
              "First Registration              4522  \n",
              "Body Color                      3745  \n",
              "Paint Type                      9794  \n",
              "Body Color Original              338  \n",
              "Upholstery                      5821  \n",
              "Body                            7903  \n",
              "Nr. of Doors                   11575  \n",
              "Nr. of Seats                   13336  \n",
              "Model Code                       268  \n",
              "Gearing Type                    8153  \n",
              "Displacement                    4761  \n",
              "Cylinders                       8105  \n",
              "Weight                           574  \n",
              "Drive chain                     8886  \n",
              "Fuel                            4315  \n",
              "Consumption                      304  \n",
              "CO2 Emission                     740  \n",
              "Emission Class                 10139  \n",
              "\\nComfort & Convenience\\n        216  \n",
              "\\nEntertainment & Media\\n       1282  \n",
              "\\nExtras\\n                      3245  \n",
              "\\nSafety & Security\\n            538  \n",
              "description                      636  \n",
              "Emission Label                  3553  \n",
              "Gears                           5822  \n",
              "Country version                 4502  \n",
              "Electricity consumption          137  \n",
              "Last Service Date                 23  \n",
              "Other Fuel Types                 880  \n",
              "Availability                     196  \n",
              "Last Timing Belt Service Date      2  \n",
              "Available from                    98  "
            ]
          },
          "execution_count": 15,
          "metadata": {},
          "output_type": "execute_result"
        }
      ],
      "source": [
        "df.describe(include=\"object\").T"
      ]
    },
    {
      "cell_type": "code",
      "execution_count": null,
      "metadata": {
        "id": "iPUniign6OGY"
      },
      "outputs": [],
      "source": []
    },
    {
      "cell_type": "code",
      "execution_count": null,
      "metadata": {
        "id": "KvpT2qe26Sy5"
      },
      "outputs": [],
      "source": []
    },
    {
      "cell_type": "code",
      "execution_count": 16,
      "metadata": {
        "colab": {
          "base_uri": "https://localhost:8080/"
        },
        "id": "BrryUVmB5fbD",
        "outputId": "5532b22e-4b54-431e-caf8-417c2d95b026"
      },
      "outputs": [
        {
          "data": {
            "text/plain": [
              "0        Sedans\n",
              "1        Sedans\n",
              "2        Sedans\n",
              "3        Sedans\n",
              "4        Sedans\n",
              "          ...  \n",
              "15914       Van\n",
              "15915       Van\n",
              "15916       Van\n",
              "15917       Van\n",
              "15918       Van\n",
              "Name: Body, Length: 15919, dtype: object"
            ]
          },
          "execution_count": 16,
          "metadata": {},
          "output_type": "execute_result"
        }
      ],
      "source": [
        "df['Body'].apply(lambda x: np.nan if type(x)==float else x[1])"
      ]
    },
    {
      "cell_type": "code",
      "execution_count": 17,
      "metadata": {
        "colab": {
          "base_uri": "https://localhost:8080/"
        },
        "id": "KX6k018mpAob",
        "outputId": "de582578-5934-43f5-97ee-739c6c30e62f"
      },
      "outputs": [
        {
          "data": {
            "text/plain": [
              "Sedans           7903\n",
              "Station wagon    3553\n",
              "Compact          3153\n",
              "Van               783\n",
              "Other             290\n",
              "Transporter        88\n",
              "Off-Road           56\n",
              "Coupe              25\n",
              "Convertible         8\n",
              "Name: body_type, dtype: int64"
            ]
          },
          "execution_count": 17,
          "metadata": {},
          "output_type": "execute_result"
        }
      ],
      "source": [
        "df.body_type.value_counts()#nbu temizmis ve budy il baglantili body kirli bunu tut "
      ]
    },
    {
      "cell_type": "code",
      "execution_count": null,
      "metadata": {
        "id": "GraVrPYy6vEv"
      },
      "outputs": [],
      "source": []
    },
    {
      "cell_type": "code",
      "execution_count": 18,
      "metadata": {
        "colab": {
          "base_uri": "https://localhost:8080/",
          "height": 446
        },
        "id": "Y1NSWOEzpAlN",
        "outputId": "5015c7d2-9826-4063-d543-b3dab17fdca6"
      },
      "outputs": [
        {
          "data": {
            "text/plain": [
              "[, Used, , Diesel (Particulate Filter)]                                                                                 3475\n",
              "[, Used, , Diesel]                                                                                                      2516\n",
              "[, Used, , Gasoline]                                                                                                    2367\n",
              "[, Used, , Super 95]                                                                                                    1818\n",
              "[, Pre-registered, , Super 95]                                                                                           500\n",
              "                                                                                                                        ... \n",
              "[, New, , Regular/Benzine 91 / Super 95 / Super Plus 98 / Regular/Benzine E10 91 / Super Plus E10 98 / Super E10 95]       1\n",
              "[, Used, , Super 95 / Super Plus 98 / Super E10 95 / Super Plus E10 98 (Particulate Filter)]                               1\n",
              "[, Demonstration, , Super Plus 98]                                                                                         1\n",
              "[, New, , Super Plus E10 98]                                                                                               1\n",
              "[, Demonstration, , Regular/Benzine E10 91]                                                                                1\n",
              "Name: Type, Length: 169, dtype: int64"
            ]
          },
          "execution_count": 18,
          "metadata": {},
          "output_type": "execute_result"
        }
      ],
      "source": [
        "df.Type.value_counts()"
      ]
    },
    {
      "cell_type": "code",
      "execution_count": 19,
      "metadata": {
        "colab": {
          "base_uri": "https://localhost:8080/",
          "height": 412
        },
        "id": "plWHGsONpAh3",
        "outputId": "6c262aa7-b222-42e0-aef7-2d05ad0aea5e"
      },
      "outputs": [
        {
          "data": {
            "text/plain": [
              "[\\n, Sedans, \\n]           7903\n",
              "[\\n, Station wagon, \\n]    3553\n",
              "[\\n, Compact, \\n]          3153\n",
              "[\\n, Van, \\n]               783\n",
              "[\\n, Other, \\n]             290\n",
              "[\\n, Transporter, \\n]        88\n",
              "[\\n, Off-Road, \\n]           56\n",
              "[\\n, Coupe, \\n]              25\n",
              "[\\n, Convertible, \\n]         8\n",
              "Name: Body, dtype: int64"
            ]
          },
          "execution_count": 19,
          "metadata": {},
          "output_type": "execute_result"
        }
      ],
      "source": [
        "df.Body.value_counts()#bu kirli bunu drop et"
      ]
    },
    {
      "cell_type": "code",
      "execution_count": null,
      "metadata": {
        "id": "pFzWJtkXpAec"
      },
      "outputs": [],
      "source": []
    },
    {
      "cell_type": "code",
      "execution_count": 20,
      "metadata": {
        "colab": {
          "base_uri": "https://localhost:8080/"
        },
        "id": "EP1yjuPNL7qq",
        "outputId": "e448dd3a-d08e-4910-b11d-7b328457b39f"
      },
      "outputs": [
        {
          "data": {
            "text/plain": [
              "<bound method IndexOpsMixin.nunique of 0          VAT deductible\n",
              "1        Price negotiable\n",
              "2          VAT deductible\n",
              "3                    None\n",
              "4                    None\n",
              "               ...       \n",
              "15914      VAT deductible\n",
              "15915      VAT deductible\n",
              "15916      VAT deductible\n",
              "15917      VAT deductible\n",
              "15918      VAT deductible\n",
              "Name: vat, Length: 15919, dtype: object>"
            ]
          },
          "execution_count": 20,
          "metadata": {},
          "output_type": "execute_result"
        }
      ],
      "source": [
        "df.vat.nunique"
      ]
    },
    {
      "cell_type": "code",
      "execution_count": null,
      "metadata": {
        "colab": {
          "base_uri": "https://localhost:8080/"
        },
        "id": "yJpnk6DVq3bP",
        "outputId": "ae7ba778-6540-4eef-fb9b-5178ec791e63"
      },
      "outputs": [
        {
          "data": {
            "text/plain": [
              "VAT deductible      10980\n",
              "Price negotiable      426\n",
              "Name: vat, dtype: int64"
            ]
          },
          "execution_count": 226,
          "metadata": {},
          "output_type": "execute_result"
        }
      ],
      "source": [
        "df.vat.value_counts()# birinci el olmasi 2. el olmasi\n",
        "#none gercekten bosmu yoksa hic indirim yapilmamis mi \n",
        "#green ya co2 emisyon ile alakali "
      ]
    },
    {
      "cell_type": "markdown",
      "metadata": {
        "id": "IBILBoxJq3Ts"
      },
      "source": []
    },
    {
      "cell_type": "code",
      "execution_count": 21,
      "metadata": {
        "colab": {
          "base_uri": "https://localhost:8080/"
        },
        "id": "VzSAC7K-98qI",
        "outputId": "d1ed0998-942c-41e4-fb46-e042b92e46d7"
      },
      "outputs": [
        {
          "data": {
            "text/plain": [
              "url                                  0\n",
              "make_model                           0\n",
              "short_description                   46\n",
              "body_type                           60\n",
              "price                                0\n",
              "vat                               4513\n",
              "km                                   0\n",
              "registration                         0\n",
              "prev_owner                        6828\n",
              "kW                               15919\n",
              "hp                                   0\n",
              "Type                                 2\n",
              "Previous Owners                   6640\n",
              "Next Inspection                  12384\n",
              "Inspection new                   11987\n",
              "Warranty                          5420\n",
              "Full Service                      7704\n",
              "Non-smoking Vehicle               8742\n",
              "null                                 0\n",
              "Make                                 0\n",
              "Model                                0\n",
              "Offer Number                      3175\n",
              "First Registration                1597\n",
              "Body Color                         597\n",
              "Paint Type                        5772\n",
              "Body Color Original               3759\n",
              "Upholstery                        3720\n",
              "Body                                60\n",
              "Nr. of Doors                       212\n",
              "Nr. of Seats                       977\n",
              "Model Code                       10941\n",
              "Gearing Type                         0\n",
              "Displacement                       496\n",
              "Cylinders                         5680\n",
              "Weight                            6974\n",
              "Drive chain                       6858\n",
              "Fuel                                 0\n",
              "Consumption                       1906\n",
              "CO2 Emission                      1808\n",
              "Emission Class                    3021\n",
              "\\nComfort & Convenience\\n          920\n",
              "\\nEntertainment & Media\\n         1374\n",
              "\\nExtras\\n                        2962\n",
              "\\nSafety & Security\\n              982\n",
              "description                          0\n",
              "Emission Label                   11934\n",
              "Gears                             4712\n",
              "Country version                   8333\n",
              "Electricity consumption          15782\n",
              "Last Service Date                15353\n",
              "Other Fuel Types                 15039\n",
              "Availability                     15284\n",
              "Last Timing Belt Service Date    15903\n",
              "Available from                   15647\n",
              "dtype: int64"
            ]
          },
          "execution_count": 21,
          "metadata": {},
          "output_type": "execute_result"
        }
      ],
      "source": [
        "df.isnull().sum()"
      ]
    },
    {
      "cell_type": "code",
      "execution_count": 22,
      "metadata": {
        "colab": {
          "base_uri": "https://localhost:8080/"
        },
        "id": "VrDOZnPUrb7Z",
        "outputId": "fb2308dc-2448-49a3-f4bd-ebfd1997e083"
      },
      "outputs": [
        {
          "data": {
            "text/plain": [
              "url                              https://www.autoscout24.com//offers/audi-a1-s1...\n",
              "make_model                                                                 Audi A1\n",
              "short_description                                  /S1 SPB 1.6 TDI 116 CV S tronic\n",
              "body_type                                                                   Sedans\n",
              "price                                                                        15990\n",
              "vat                                                                           None\n",
              "km                                                                       73,575 km\n",
              "registration                                                               01/2016\n",
              "prev_owner                                                                    None\n",
              "kW                                                                             NaN\n",
              "hp                                                                           85 kW\n",
              "Type                                                            [, Used, , Diesel]\n",
              "Previous Owners                                                                NaN\n",
              "Next Inspection                                                                NaN\n",
              "Inspection new                                                                 NaN\n",
              "Warranty                                                                       NaN\n",
              "Full Service                                                                   NaN\n",
              "Non-smoking Vehicle                                                            NaN\n",
              "null                                                                            []\n",
              "Make                                                                          Audi\n",
              "Model                                                                 [\\n, A1, \\n]\n",
              "Offer Number                                                                   NaN\n",
              "First Registration                                                  [\\n, 2016, \\n]\n",
              "Body Color                                                         [\\n, Black, \\n]\n",
              "Paint Type                                                          [\\nMetallic\\n]\n",
              "Body Color Original                                                            NaN\n",
              "Upholstery                                                                     NaN\n",
              "Body                                                              [\\n, Sedans, \\n]\n",
              "Nr. of Doors                                                               [\\n5\\n]\n",
              "Nr. of Seats                                                                   NaN\n",
              "Model Code                                                                     NaN\n",
              "Gearing Type                                                   [\\n, Automatic, \\n]\n",
              "Displacement                                                        [\\n1,598 cc\\n]\n",
              "Cylinders                                                                  [\\n4\\n]\n",
              "Weight                                                                         NaN\n",
              "Drive chain                                                            [\\nfront\\n]\n",
              "Fuel                                                              [\\n, Diesel, \\n]\n",
              "Consumption                      [[4.3 l/100 km (comb)], [3.7 l/100 km (city)],...\n",
              "CO2 Emission                                              [\\n97 g CO2/km (comb)\\n]\n",
              "Emission Class                                                        [\\nEuro 6\\n]\n",
              "\\nComfort & Convenience\\n        [Air conditioning, Automatic climate control, ...\n",
              "\\nEntertainment & Media\\n                                                      NaN\n",
              "\\nExtras\\n                                                          [Alloy wheels]\n",
              "\\nSafety & Security\\n            [ABS, Driver-side airbag, Power steering, Trac...\n",
              "description                      [\\nDisponibile presso GMG Spa Via della Romagn...\n",
              "Emission Label                                                                 NaN\n",
              "Gears                                                                      [\\n7\\n]\n",
              "Country version                                                                NaN\n",
              "Electricity consumption                                                        NaN\n",
              "Last Service Date                                                              NaN\n",
              "Other Fuel Types                                                               NaN\n",
              "Availability                                                                   NaN\n",
              "Last Timing Belt Service Date                                                  NaN\n",
              "Available from                                                                 NaN\n",
              "Name: 388, dtype: object"
            ]
          },
          "execution_count": 22,
          "metadata": {},
          "output_type": "execute_result"
        }
      ],
      "source": [
        "df.iloc[388]#none  olan arabalar ortakmi ;luksmu bu arastirilsin \n"
      ]
    },
    {
      "cell_type": "code",
      "execution_count": null,
      "metadata": {
        "colab": {
          "base_uri": "https://localhost:8080/"
        },
        "id": "n7xJdN1Qr4rx",
        "outputId": "84460298-a1df-435f-ba6d-48e00a82deeb"
      },
      "outputs": [
        {
          "data": {
            "text/plain": [
              "url                              https://www.autoscout24.com//offers/audi-a1-1-...\n",
              "make_model                                                                 Audi A1\n",
              "short_description                             1.4 TDI Design DKG*Navi*PDC*Alu*SHZ*\n",
              "body_type                                                                  Compact\n",
              "price                                                                        14990\n",
              "vat                                                                           None\n",
              "km                                                                       49,351 km\n",
              "registration                                                               12/2016\n",
              "prev_owner                                                       2 previous owners\n",
              "kW                                                                             NaN\n",
              "hp                                                                           66 kW\n",
              "Type                                       [, Used, , Diesel (Particulate Filter)]\n",
              "Previous Owners                                                              \\n2\\n\n",
              "Next Inspection                                                                NaN\n",
              "Inspection new                                                                 NaN\n",
              "Warranty                                                                       NaN\n",
              "Full Service                                     [\\n, \\n, \\n104 g CO2/km (comb)\\n]\n",
              "Non-smoking Vehicle                                           [\\n, \\n, \\nEuro 6\\n]\n",
              "null                                                                            []\n",
              "Make                                                                      \\nAudi\\n\n",
              "Model                                                                 [\\n, A1, \\n]\n",
              "Offer Number                                                         [\\nAK13780\\n]\n",
              "First Registration                                                  [\\n, 2016, \\n]\n",
              "Body Color                                                         [\\n, Black, \\n]\n",
              "Paint Type                                                          [\\nMetallic\\n]\n",
              "Body Color Original                                                            NaN\n",
              "Upholstery                                                       [\\nCloth, Grey\\n]\n",
              "Body                                                             [\\n, Compact, \\n]\n",
              "Nr. of Doors                                                               [\\n4\\n]\n",
              "Nr. of Seats                                                               [\\n5\\n]\n",
              "Model Code                                                                     NaN\n",
              "Gearing Type                                                   [\\n, Automatic, \\n]\n",
              "Displacement                                                        [\\n1,422 cc\\n]\n",
              "Cylinders                                                                      NaN\n",
              "Weight                                                                         NaN\n",
              "Drive chain                                                                    NaN\n",
              "Fuel                                         [\\n, Diesel (Particulate Filter), \\n]\n",
              "Consumption                      [[4 l/100 km (comb)], [4.4 l/100 km (city)], [...\n",
              "CO2 Emission                                             [\\n104 g CO2/km (comb)\\n]\n",
              "Emission Class                                                        [\\nEuro 6\\n]\n",
              "\\nComfort & Convenience\\n        [Air conditioning, Armrest, Automatic climate ...\n",
              "\\nEntertainment & Media\\n        [Bluetooth, CD player, Hands-free equipment, O...\n",
              "\\nExtras\\n                              [Alloy wheels, Sport seats, Voice Control]\n",
              "\\nSafety & Security\\n            [ABS, Central door lock, Daytime running light...\n",
              "description                      [\\n, Fahrzeugbeschreibung,  Sichern Sie sich d...\n",
              "Emission Label                                                     [\\n4 (Green)\\n]\n",
              "Gears                                                                          NaN\n",
              "Country version                                                      [\\nGermany\\n]\n",
              "Electricity consumption                                                        NaN\n",
              "Last Service Date                                                              NaN\n",
              "Other Fuel Types                                                               NaN\n",
              "Availability                                                                   NaN\n",
              "Last Timing Belt Service Date                                                  NaN\n",
              "Available from                                                                 NaN\n",
              "Name: 422, dtype: object"
            ]
          },
          "execution_count": 229,
          "metadata": {},
          "output_type": "execute_result"
        }
      ],
      "source": [
        "df.iloc[422]"
      ]
    },
    {
      "cell_type": "code",
      "execution_count": null,
      "metadata": {
        "id": "CxmP37fp7XvH"
      },
      "outputs": [],
      "source": []
    },
    {
      "cell_type": "code",
      "execution_count": 23,
      "metadata": {
        "colab": {
          "base_uri": "https://localhost:8080/"
        },
        "id": "RbTc3iMQ-nd8",
        "outputId": "b5489798-8a5f-4bf1-ffda-00b87b1bc333"
      },
      "outputs": [
        {
          "data": {
            "text/plain": [
              "9357       VAT deductible\n",
              "7455       VAT deductible\n",
              "2720       VAT deductible\n",
              "3395                 None\n",
              "7595       VAT deductible\n",
              "4863       VAT deductible\n",
              "2834       VAT deductible\n",
              "4189                 None\n",
              "11235      VAT deductible\n",
              "5505       VAT deductible\n",
              "14530                None\n",
              "12497      VAT deductible\n",
              "11804                None\n",
              "13507    Price negotiable\n",
              "14252                None\n",
              "Name: vat, dtype: object"
            ]
          },
          "execution_count": 23,
          "metadata": {},
          "output_type": "execute_result"
        }
      ],
      "source": [
        "df.vat.sample(15)#vatin icinedeki bilgilerde ki one other mi yoksa ne ise ona gore aratsitrilsin"
      ]
    },
    {
      "cell_type": "code",
      "execution_count": 24,
      "metadata": {
        "colab": {
          "base_uri": "https://localhost:8080/"
        },
        "id": "6E9MPw1C-nU2",
        "outputId": "5fa029cc-00a6-4a3d-c64c-1521594b7ba3"
      },
      "outputs": [
        {
          "data": {
            "text/plain": [
              "4513"
            ]
          },
          "execution_count": 24,
          "metadata": {},
          "output_type": "execute_result"
        }
      ],
      "source": [
        "df.vat.isnull().sum()"
      ]
    },
    {
      "cell_type": "code",
      "execution_count": 25,
      "metadata": {
        "colab": {
          "base_uri": "https://localhost:8080/"
        },
        "id": "NiLxuzsrsNRX",
        "outputId": "eb53356a-e920-492c-c11b-a6a3b8e2f955"
      },
      "outputs": [
        {
          "data": {
            "text/plain": [
              "0"
            ]
          },
          "execution_count": 25,
          "metadata": {},
          "output_type": "execute_result"
        }
      ],
      "source": [
        "df.km.isnull().sum()"
      ]
    },
    {
      "cell_type": "code",
      "execution_count": null,
      "metadata": {
        "id": "wIevzlFu9J1W"
      },
      "outputs": [],
      "source": []
    },
    {
      "cell_type": "code",
      "execution_count": 62,
      "metadata": {
        "colab": {
          "base_uri": "https://localhost:8080/"
        },
        "id": "qGndplhtsRGO",
        "outputId": "52162c96-c54f-4726-ae78-d7b3614339e5"
      },
      "outputs": [
        {
          "data": {
            "text/plain": [
              "10       1045\n",
              "-        1024\n",
              "1         367\n",
              "5         170\n",
              "50        148\n",
              "         ... \n",
              "67469       1\n",
              "43197       1\n",
              "10027       1\n",
              "35882       1\n",
              "57          1\n",
              "Name: km, Length: 6690, dtype: int64"
            ]
          },
          "execution_count": 62,
          "metadata": {},
          "output_type": "execute_result"
        }
      ],
      "source": [
        "df.km.value_counts()#kalsin ama virgul falan silinecek icin duzenlencecek"
      ]
    },
    {
      "cell_type": "code",
      "execution_count": null,
      "metadata": {
        "id": "5jdkWj6h8tI0"
      },
      "outputs": [],
      "source": []
    },
    {
      "cell_type": "code",
      "execution_count": 27,
      "metadata": {
        "colab": {
          "base_uri": "https://localhost:8080/"
        },
        "id": "_MytL75MsyP5",
        "outputId": "b1a34897-6582-4190-d602-1bc92d268cee"
      },
      "outputs": [
        {
          "data": {
            "text/plain": [
              "1911    -/-\n",
              "Name: registration, dtype: object"
            ]
          },
          "execution_count": 27,
          "metadata": {},
          "output_type": "execute_result"
        }
      ],
      "source": [
        "df[\"registration\"].sample()"
      ]
    },
    {
      "cell_type": "code",
      "execution_count": 28,
      "metadata": {
        "colab": {
          "base_uri": "https://localhost:8080/"
        },
        "id": "PtTtdvcRs-AV",
        "outputId": "010eb368-ffb5-41d8-ef92-16089bc8c2e6"
      },
      "outputs": [
        {
          "data": {
            "text/plain": [
              "-/-        1597\n",
              "03/2018     695\n",
              "02/2019     585\n",
              "05/2018     572\n",
              "03/2019     543\n",
              "01/2019     541\n",
              "04/2018     541\n",
              "02/2018     539\n",
              "03/2016     536\n",
              "04/2016     532\n",
              "06/2018     532\n",
              "01/2018     511\n",
              "04/2019     506\n",
              "02/2016     472\n",
              "03/2017     471\n",
              "05/2016     459\n",
              "06/2016     452\n",
              "05/2019     440\n",
              "06/2017     409\n",
              "05/2017     404\n",
              "07/2018     396\n",
              "04/2017     380\n",
              "01/2016     376\n",
              "02/2017     368\n",
              "01/2017     306\n",
              "08/2018     285\n",
              "06/2019     224\n",
              "07/2017     215\n",
              "11/2017     180\n",
              "07/2016     176\n",
              "10/2016     160\n",
              "10/2017     154\n",
              "09/2017     149\n",
              "11/2016     142\n",
              "09/2018     141\n",
              "09/2016     141\n",
              "12/2016     134\n",
              "12/2017     123\n",
              "08/2017     114\n",
              "11/2018     110\n",
              "12/2018     103\n",
              "10/2018      97\n",
              "08/2016      94\n",
              "07/2019       6\n",
              "09/2019       5\n",
              "08/2019       1\n",
              "11/2019       1\n",
              "12/2019       1\n",
              "Name: registration, dtype: int64"
            ]
          },
          "execution_count": 28,
          "metadata": {},
          "output_type": "execute_result"
        }
      ],
      "source": [
        "df[\"registration\"].value_counts()"
      ]
    },
    {
      "cell_type": "code",
      "execution_count": 29,
      "metadata": {
        "colab": {
          "base_uri": "https://localhost:8080/"
        },
        "id": "ljrq3XzDQpOf",
        "outputId": "e289cdcf-1afe-4d40-9b9d-eb8b7f295c03"
      },
      "outputs": [
        {
          "data": {
            "text/plain": [
              "9456    [\\n, 2017, \\n]\n",
              "Name: First Registration, dtype: object"
            ]
          },
          "execution_count": 29,
          "metadata": {},
          "output_type": "execute_result"
        }
      ],
      "source": [
        "df[\"First Registration\"].sample()"
      ]
    },
    {
      "cell_type": "code",
      "execution_count": null,
      "metadata": {},
      "outputs": [],
      "source": []
    },
    {
      "cell_type": "code",
      "execution_count": 31,
      "metadata": {
        "colab": {
          "base_uri": "https://localhost:8080/",
          "height": 519
        },
        "id": "IGMZDOzB-nFa",
        "outputId": "e600d3d4-325d-4efd-fb1f-5ff24aabad67"
      },
      "outputs": [
        {
          "data": {
            "text/html": [
              "<div>\n",
              "<style scoped>\n",
              "    .dataframe tbody tr th:only-of-type {\n",
              "        vertical-align: middle;\n",
              "    }\n",
              "\n",
              "    .dataframe tbody tr th {\n",
              "        vertical-align: top;\n",
              "    }\n",
              "\n",
              "    .dataframe thead th {\n",
              "        text-align: right;\n",
              "    }\n",
              "</style>\n",
              "<table border=\"1\" class=\"dataframe\">\n",
              "  <thead>\n",
              "    <tr style=\"text-align: right;\">\n",
              "      <th></th>\n",
              "      <th>registration</th>\n",
              "      <th>First Registration</th>\n",
              "    </tr>\n",
              "  </thead>\n",
              "  <tbody>\n",
              "    <tr>\n",
              "      <th>15483</th>\n",
              "      <td>06/2019</td>\n",
              "      <td>[\\n, 2019, \\n]</td>\n",
              "    </tr>\n",
              "    <tr>\n",
              "      <th>454</th>\n",
              "      <td>02/2016</td>\n",
              "      <td>[\\n, 2016, \\n]</td>\n",
              "    </tr>\n",
              "    <tr>\n",
              "      <th>15441</th>\n",
              "      <td>03/2019</td>\n",
              "      <td>[\\n, 2019, \\n]</td>\n",
              "    </tr>\n",
              "    <tr>\n",
              "      <th>15556</th>\n",
              "      <td>-/-</td>\n",
              "      <td>NaN</td>\n",
              "    </tr>\n",
              "    <tr>\n",
              "      <th>12567</th>\n",
              "      <td>04/2019</td>\n",
              "      <td>[\\n, 2019, \\n]</td>\n",
              "    </tr>\n",
              "    <tr>\n",
              "      <th>7630</th>\n",
              "      <td>01/2019</td>\n",
              "      <td>[\\n, 2019, \\n]</td>\n",
              "    </tr>\n",
              "    <tr>\n",
              "      <th>7222</th>\n",
              "      <td>04/2018</td>\n",
              "      <td>[\\n, 2018, \\n]</td>\n",
              "    </tr>\n",
              "    <tr>\n",
              "      <th>1246</th>\n",
              "      <td>02/2017</td>\n",
              "      <td>[\\n, 2017, \\n]</td>\n",
              "    </tr>\n",
              "    <tr>\n",
              "      <th>4031</th>\n",
              "      <td>03/2019</td>\n",
              "      <td>[\\n, 2019, \\n]</td>\n",
              "    </tr>\n",
              "    <tr>\n",
              "      <th>2521</th>\n",
              "      <td>05/2019</td>\n",
              "      <td>[\\n, 2019, \\n]</td>\n",
              "    </tr>\n",
              "    <tr>\n",
              "      <th>2452</th>\n",
              "      <td>-/-</td>\n",
              "      <td>NaN</td>\n",
              "    </tr>\n",
              "    <tr>\n",
              "      <th>3092</th>\n",
              "      <td>03/2016</td>\n",
              "      <td>[\\n, 2016, \\n]</td>\n",
              "    </tr>\n",
              "    <tr>\n",
              "      <th>14318</th>\n",
              "      <td>11/2018</td>\n",
              "      <td>[\\n, 2018, \\n]</td>\n",
              "    </tr>\n",
              "    <tr>\n",
              "      <th>9489</th>\n",
              "      <td>03/2018</td>\n",
              "      <td>[\\n, 2018, \\n]</td>\n",
              "    </tr>\n",
              "    <tr>\n",
              "      <th>3274</th>\n",
              "      <td>05/2016</td>\n",
              "      <td>[\\n, 2016, \\n]</td>\n",
              "    </tr>\n",
              "  </tbody>\n",
              "</table>\n",
              "</div>"
            ],
            "text/plain": [
              "      registration First Registration\n",
              "15483      06/2019     [\\n, 2019, \\n]\n",
              "454        02/2016     [\\n, 2016, \\n]\n",
              "15441      03/2019     [\\n, 2019, \\n]\n",
              "15556          -/-                NaN\n",
              "12567      04/2019     [\\n, 2019, \\n]\n",
              "7630       01/2019     [\\n, 2019, \\n]\n",
              "7222       04/2018     [\\n, 2018, \\n]\n",
              "1246       02/2017     [\\n, 2017, \\n]\n",
              "4031       03/2019     [\\n, 2019, \\n]\n",
              "2521       05/2019     [\\n, 2019, \\n]\n",
              "2452           -/-                NaN\n",
              "3092       03/2016     [\\n, 2016, \\n]\n",
              "14318      11/2018     [\\n, 2018, \\n]\n",
              "9489       03/2018     [\\n, 2018, \\n]\n",
              "3274       05/2016     [\\n, 2016, \\n]"
            ]
          },
          "execution_count": 31,
          "metadata": {},
          "output_type": "execute_result"
        }
      ],
      "source": [
        "df[[\"registration\",\"First Registration\"]].sample(15)\n",
        "#first regstration delete edilebilir ayni bilgiyi icermekte\n",
        "#ama burda eger sadce tarih onemliyse first registrationu cekmek daha mantikli cunku liste halinde \n",
        "#split yap 1nciyi al\n"
      ]
    },
    {
      "cell_type": "code",
      "execution_count": null,
      "metadata": {},
      "outputs": [],
      "source": []
    },
    {
      "cell_type": "code",
      "execution_count": null,
      "metadata": {},
      "outputs": [],
      "source": []
    },
    {
      "cell_type": "code",
      "execution_count": null,
      "metadata": {
        "id": "aZlTBfbSZyQs"
      },
      "outputs": [],
      "source": [
        "#from scipy.stats import linregress\n",
        "#linregress(\"registration\", \"First Registration\")"
      ]
    },
    {
      "cell_type": "code",
      "execution_count": null,
      "metadata": {
        "id": "m-uhEWbQZLpZ"
      },
      "outputs": [],
      "source": [
        "#np.corrcoef(\"registration\", \"First Registration\")"
      ]
    },
    {
      "cell_type": "code",
      "execution_count": null,
      "metadata": {
        "id": "U8yUarXNXJQP"
      },
      "outputs": [],
      "source": [
        "#def corr(\"registration\",\"First Registration\"):\n",
        "  #  \"data1 & data2 should be numpy arrays.\"\n",
        "    #mean1 = [\"registration,\"].mean() \n",
        "    #mean2 = [\"First Registration\"].mean()\n",
        "    #std1 = [\"registration,\"].std()\n",
        "    #std2 =[\"First Registration\"].std()\n",
        "\n",
        "#     corr = ((data1-mean1)*(data2-mean2)).mean()/(std1*std2)\n",
        "    #corr = (([\"registration\"]*[\"First Registration\"].mean()-mean1*mean2)/(std1*std2)\n",
        "   # return corr"
      ]
    },
    {
      "cell_type": "code",
      "execution_count": null,
      "metadata": {
        "colab": {
          "base_uri": "https://localhost:8080/"
        },
        "id": "Uj-0-BVCtgQG",
        "outputId": "d9c96bfa-7b47-4418-945f-0cd42cc4eb2b"
      },
      "outputs": [
        {
          "data": {
            "text/plain": [
              "1 previous owner     8294\n",
              "2 previous owners     778\n",
              "3 previous owners      17\n",
              "4 previous owners       2\n",
              "Name: prev_owner, dtype: int64"
            ]
          },
          "execution_count": 321,
          "metadata": {},
          "output_type": "execute_result"
        }
      ],
      "source": [
        "df.prev_owner.value_counts()"
      ]
    },
    {
      "cell_type": "code",
      "execution_count": null,
      "metadata": {
        "colab": {
          "base_uri": "https://localhost:8080/"
        },
        "id": "UpMZAP5DtgNS",
        "outputId": "99b5d425-1eb2-4377-a390-224073e07517"
      },
      "outputs": [
        {
          "data": {
            "text/plain": [
              "6828"
            ]
          },
          "execution_count": 242,
          "metadata": {},
          "output_type": "execute_result"
        }
      ],
      "source": [
        "df.prev_owner.isnull().sum()"
      ]
    },
    {
      "cell_type": "code",
      "execution_count": null,
      "metadata": {
        "colab": {
          "base_uri": "https://localhost:8080/",
          "height": 519
        },
        "id": "5FRaUQZDtgKZ",
        "outputId": "3efb623e-23bc-43ad-e2a2-d974e28eb055"
      },
      "outputs": [
        {
          "data": {
            "text/html": [
              "\n",
              "  <div id=\"df-2c81c9b6-10f3-4065-af3d-e2ca0be38c53\">\n",
              "    <div class=\"colab-df-container\">\n",
              "      <div>\n",
              "<style scoped>\n",
              "    .dataframe tbody tr th:only-of-type {\n",
              "        vertical-align: middle;\n",
              "    }\n",
              "\n",
              "    .dataframe tbody tr th {\n",
              "        vertical-align: top;\n",
              "    }\n",
              "\n",
              "    .dataframe thead th {\n",
              "        text-align: right;\n",
              "    }\n",
              "</style>\n",
              "<table border=\"1\" class=\"dataframe\">\n",
              "  <thead>\n",
              "    <tr style=\"text-align: right;\">\n",
              "      <th></th>\n",
              "      <th>prev_owner</th>\n",
              "      <th>Previous Owners</th>\n",
              "    </tr>\n",
              "  </thead>\n",
              "  <tbody>\n",
              "    <tr>\n",
              "      <th>6813</th>\n",
              "      <td>1 previous owner</td>\n",
              "      <td>\\n1\\n</td>\n",
              "    </tr>\n",
              "    <tr>\n",
              "      <th>15438</th>\n",
              "      <td>None</td>\n",
              "      <td>NaN</td>\n",
              "    </tr>\n",
              "    <tr>\n",
              "      <th>2241</th>\n",
              "      <td>1 previous owner</td>\n",
              "      <td>\\n1\\n</td>\n",
              "    </tr>\n",
              "    <tr>\n",
              "      <th>1098</th>\n",
              "      <td>None</td>\n",
              "      <td>NaN</td>\n",
              "    </tr>\n",
              "    <tr>\n",
              "      <th>551</th>\n",
              "      <td>1 previous owner</td>\n",
              "      <td>\\n1\\n</td>\n",
              "    </tr>\n",
              "    <tr>\n",
              "      <th>3877</th>\n",
              "      <td>None</td>\n",
              "      <td>NaN</td>\n",
              "    </tr>\n",
              "    <tr>\n",
              "      <th>6880</th>\n",
              "      <td>None</td>\n",
              "      <td>NaN</td>\n",
              "    </tr>\n",
              "    <tr>\n",
              "      <th>6950</th>\n",
              "      <td>1 previous owner</td>\n",
              "      <td>\\n1\\n</td>\n",
              "    </tr>\n",
              "    <tr>\n",
              "      <th>8396</th>\n",
              "      <td>1 previous owner</td>\n",
              "      <td>\\n1\\n</td>\n",
              "    </tr>\n",
              "    <tr>\n",
              "      <th>14025</th>\n",
              "      <td>2 previous owners</td>\n",
              "      <td>\\n2\\n</td>\n",
              "    </tr>\n",
              "    <tr>\n",
              "      <th>1839</th>\n",
              "      <td>1 previous owner</td>\n",
              "      <td>\\n1\\n</td>\n",
              "    </tr>\n",
              "    <tr>\n",
              "      <th>8101</th>\n",
              "      <td>1 previous owner</td>\n",
              "      <td>\\n1\\n</td>\n",
              "    </tr>\n",
              "    <tr>\n",
              "      <th>340</th>\n",
              "      <td>2 previous owners</td>\n",
              "      <td>\\n2\\n</td>\n",
              "    </tr>\n",
              "    <tr>\n",
              "      <th>4936</th>\n",
              "      <td>None</td>\n",
              "      <td>NaN</td>\n",
              "    </tr>\n",
              "    <tr>\n",
              "      <th>1999</th>\n",
              "      <td>None</td>\n",
              "      <td>NaN</td>\n",
              "    </tr>\n",
              "  </tbody>\n",
              "</table>\n",
              "</div>\n",
              "      <button class=\"colab-df-convert\" onclick=\"convertToInteractive('df-2c81c9b6-10f3-4065-af3d-e2ca0be38c53')\"\n",
              "              title=\"Convert this dataframe to an interactive table.\"\n",
              "              style=\"display:none;\">\n",
              "        \n",
              "  <svg xmlns=\"http://www.w3.org/2000/svg\" height=\"24px\"viewBox=\"0 0 24 24\"\n",
              "       width=\"24px\">\n",
              "    <path d=\"M0 0h24v24H0V0z\" fill=\"none\"/>\n",
              "    <path d=\"M18.56 5.44l.94 2.06.94-2.06 2.06-.94-2.06-.94-.94-2.06-.94 2.06-2.06.94zm-11 1L8.5 8.5l.94-2.06 2.06-.94-2.06-.94L8.5 2.5l-.94 2.06-2.06.94zm10 10l.94 2.06.94-2.06 2.06-.94-2.06-.94-.94-2.06-.94 2.06-2.06.94z\"/><path d=\"M17.41 7.96l-1.37-1.37c-.4-.4-.92-.59-1.43-.59-.52 0-1.04.2-1.43.59L10.3 9.45l-7.72 7.72c-.78.78-.78 2.05 0 2.83L4 21.41c.39.39.9.59 1.41.59.51 0 1.02-.2 1.41-.59l7.78-7.78 2.81-2.81c.8-.78.8-2.07 0-2.86zM5.41 20L4 18.59l7.72-7.72 1.47 1.35L5.41 20z\"/>\n",
              "  </svg>\n",
              "      </button>\n",
              "      \n",
              "  <style>\n",
              "    .colab-df-container {\n",
              "      display:flex;\n",
              "      flex-wrap:wrap;\n",
              "      gap: 12px;\n",
              "    }\n",
              "\n",
              "    .colab-df-convert {\n",
              "      background-color: #E8F0FE;\n",
              "      border: none;\n",
              "      border-radius: 50%;\n",
              "      cursor: pointer;\n",
              "      display: none;\n",
              "      fill: #1967D2;\n",
              "      height: 32px;\n",
              "      padding: 0 0 0 0;\n",
              "      width: 32px;\n",
              "    }\n",
              "\n",
              "    .colab-df-convert:hover {\n",
              "      background-color: #E2EBFA;\n",
              "      box-shadow: 0px 1px 2px rgba(60, 64, 67, 0.3), 0px 1px 3px 1px rgba(60, 64, 67, 0.15);\n",
              "      fill: #174EA6;\n",
              "    }\n",
              "\n",
              "    [theme=dark] .colab-df-convert {\n",
              "      background-color: #3B4455;\n",
              "      fill: #D2E3FC;\n",
              "    }\n",
              "\n",
              "    [theme=dark] .colab-df-convert:hover {\n",
              "      background-color: #434B5C;\n",
              "      box-shadow: 0px 1px 3px 1px rgba(0, 0, 0, 0.15);\n",
              "      filter: drop-shadow(0px 1px 2px rgba(0, 0, 0, 0.3));\n",
              "      fill: #FFFFFF;\n",
              "    }\n",
              "  </style>\n",
              "\n",
              "      <script>\n",
              "        const buttonEl =\n",
              "          document.querySelector('#df-2c81c9b6-10f3-4065-af3d-e2ca0be38c53 button.colab-df-convert');\n",
              "        buttonEl.style.display =\n",
              "          google.colab.kernel.accessAllowed ? 'block' : 'none';\n",
              "\n",
              "        async function convertToInteractive(key) {\n",
              "          const element = document.querySelector('#df-2c81c9b6-10f3-4065-af3d-e2ca0be38c53');\n",
              "          const dataTable =\n",
              "            await google.colab.kernel.invokeFunction('convertToInteractive',\n",
              "                                                     [key], {});\n",
              "          if (!dataTable) return;\n",
              "\n",
              "          const docLinkHtml = 'Like what you see? Visit the ' +\n",
              "            '<a target=\"_blank\" href=https://colab.research.google.com/notebooks/data_table.ipynb>data table notebook</a>'\n",
              "            + ' to learn more about interactive tables.';\n",
              "          element.innerHTML = '';\n",
              "          dataTable['output_type'] = 'display_data';\n",
              "          await google.colab.output.renderOutput(dataTable, element);\n",
              "          const docLink = document.createElement('div');\n",
              "          docLink.innerHTML = docLinkHtml;\n",
              "          element.appendChild(docLink);\n",
              "        }\n",
              "      </script>\n",
              "    </div>\n",
              "  </div>\n",
              "  "
            ],
            "text/plain": [
              "              prev_owner Previous Owners\n",
              "6813    1 previous owner           \\n1\\n\n",
              "15438               None             NaN\n",
              "2241    1 previous owner           \\n1\\n\n",
              "1098                None             NaN\n",
              "551     1 previous owner           \\n1\\n\n",
              "3877                None             NaN\n",
              "6880                None             NaN\n",
              "6950    1 previous owner           \\n1\\n\n",
              "8396    1 previous owner           \\n1\\n\n",
              "14025  2 previous owners           \\n2\\n\n",
              "1839    1 previous owner           \\n1\\n\n",
              "8101    1 previous owner           \\n1\\n\n",
              "340    2 previous owners           \\n2\\n\n",
              "4936                None             NaN\n",
              "1999                None             NaN"
            ]
          },
          "execution_count": 243,
          "metadata": {},
          "output_type": "execute_result"
        }
      ],
      "source": [
        "df[[\"prev_owner\",\"Previous Owners\"]].sample(15)"
      ]
    },
    {
      "cell_type": "code",
      "execution_count": null,
      "metadata": {
        "colab": {
          "base_uri": "https://localhost:8080/"
        },
        "id": "1SsK1ZlnuD-H",
        "outputId": "528ec7d5-528f-44bd-ab0c-120cca0ccb2b"
      },
      "outputs": [
        {
          "data": {
            "text/plain": [
              "0                                                    \\n2\\n\n",
              "1                                                      NaN\n",
              "2                                                    \\n1\\n\n",
              "3                                                    \\n1\\n\n",
              "4                                                    \\n1\\n\n",
              "                               ...                        \n",
              "15914                                                  NaN\n",
              "15915    [\\n1\\n, \\n, 7.4 l/100 km (comb), \\n, 9.2 l/100...\n",
              "15916                     [\\n1\\n, \\n139 g CO2/km (comb)\\n]\n",
              "15917                                                  NaN\n",
              "15918                                                \\n1\\n\n",
              "Name: Previous Owners, Length: 15919, dtype: object"
            ]
          },
          "execution_count": 244,
          "metadata": {},
          "output_type": "execute_result"
        }
      ],
      "source": [
        "df[\"Previous Owners\"]"
      ]
    },
    {
      "cell_type": "code",
      "execution_count": null,
      "metadata": {
        "id": "M4z-hv8H0vZv"
      },
      "outputs": [],
      "source": [
        "df['Make']=df['Make'].replace('\\\\n','', regex=True)\n",
        "df['Make'].value_counts()"
      ]
    },
    {
      "cell_type": "code",
      "execution_count": 32,
      "metadata": {
        "id": "vpWOJJak00ym"
      },
      "outputs": [],
      "source": [
        "df[\"Previous_Owners\"] = [item[0] if type(item) == list else item for item in df[\"Previous Owners\"]]\n",
        "## hepsini liste disina cikaracak4\n",
        "\n",
        "\n",
        "df[\"Previous_Owners\"] = df[\"Previous_Owners\"].str.strip(\"\\n\").astype('float')\n"
      ]
    },
    {
      "cell_type": "code",
      "execution_count": 33,
      "metadata": {
        "colab": {
          "base_uri": "https://localhost:8080/"
        },
        "id": "DcRlUXfeuRpW",
        "outputId": "38e6df7b-20ae-4850-8ec3-c70e779493a7"
      },
      "outputs": [
        {
          "data": {
            "text/plain": [
              "6640"
            ]
          },
          "execution_count": 33,
          "metadata": {},
          "output_type": "execute_result"
        }
      ],
      "source": [
        "df[\"Previous Owners\"].isnull().sum()"
      ]
    },
    {
      "cell_type": "code",
      "execution_count": null,
      "metadata": {
        "colab": {
          "base_uri": "https://localhost:8080/",
          "height": 242
        },
        "id": "l4hMBDS4uRlt",
        "outputId": "28c5270f-34dc-472f-aef4-c1b92ed63b5b"
      },
      "outputs": [],
      "source": [
        "df[\"description\"].apply(lambda a:float(a.split(\"\")))"
      ]
    },
    {
      "cell_type": "code",
      "execution_count": 35,
      "metadata": {
        "colab": {
          "base_uri": "https://localhost:8080/"
        },
        "id": "U0EgbV4vRR3r",
        "outputId": "873a2e01-ff5c-436f-b9d4-3892e4034b87"
      },
      "outputs": [
        {
          "data": {
            "text/plain": [
              "count                 9091\n",
              "unique                   4\n",
              "top       1 previous owner\n",
              "freq                  8294\n",
              "Name: prev_owner, dtype: object"
            ]
          },
          "execution_count": 35,
          "metadata": {},
          "output_type": "execute_result"
        }
      ],
      "source": [
        "df.prev_owner.describe()\n",
        "#onceki kullanicilar onemli o yuzden kalsin dedik"
      ]
    },
    {
      "cell_type": "code",
      "execution_count": 36,
      "metadata": {
        "colab": {
          "base_uri": "https://localhost:8080/"
        },
        "id": "ltpdD3n0vhsH",
        "outputId": "9f4768d0-5f17-458a-97bb-80c968516758"
      },
      "outputs": [
        {
          "data": {
            "text/plain": [
              "0"
            ]
          },
          "execution_count": 36,
          "metadata": {},
          "output_type": "execute_result"
        }
      ],
      "source": [
        "df.km.isnull().sum()"
      ]
    },
    {
      "cell_type": "code",
      "execution_count": 37,
      "metadata": {
        "colab": {
          "base_uri": "https://localhost:8080/"
        },
        "id": "sHNWmuYmvhpJ",
        "outputId": "17792ded-98e3-4902-97d7-0f68dba2a4cd"
      },
      "outputs": [
        {
          "data": {
            "text/plain": [
              "10 km        1045\n",
              "- km         1024\n",
              "1 km          367\n",
              "5 km          170\n",
              "50 km         148\n",
              "             ... \n",
              "67,469 km       1\n",
              "43,197 km       1\n",
              "10,027 km       1\n",
              "35,882 km       1\n",
              "57 km           1\n",
              "Name: km, Length: 6690, dtype: int64"
            ]
          },
          "execution_count": 37,
          "metadata": {},
          "output_type": "execute_result"
        }
      ],
      "source": [
        "df.km.value_counts()"
      ]
    },
    {
      "cell_type": "code",
      "execution_count": 38,
      "metadata": {
        "colab": {
          "base_uri": "https://localhost:8080/"
        },
        "id": "KicJEk1ERR0m",
        "outputId": "4f83382c-85e7-4a00-ced5-1279d2081832"
      },
      "outputs": [
        {
          "data": {
            "text/plain": [
              "count     15919\n",
              "unique     6690\n",
              "top       10 km\n",
              "freq       1045\n",
              "Name: km, dtype: object"
            ]
          },
          "execution_count": 38,
          "metadata": {},
          "output_type": "execute_result"
        }
      ],
      "source": [
        "df.km.describe()"
      ]
    },
    {
      "cell_type": "code",
      "execution_count": 44,
      "metadata": {},
      "outputs": [
        {
          "data": {
            "text/plain": [
              "0        56013\n",
              "1        80000\n",
              "2        83450\n",
              "3        73000\n",
              "4        16200\n",
              "         ...  \n",
              "15914        -\n",
              "15915     9900\n",
              "15916       15\n",
              "15917       10\n",
              "15918        -\n",
              "Name: km, Length: 15919, dtype: object"
            ]
          },
          "execution_count": 44,
          "metadata": {},
          "output_type": "execute_result"
        }
      ],
      "source": [
        "# Km ifadesi ve \"\"\n",
        "df[\"km\"] = df[\"km\"].str.replace(\",\",\"\").str.strip(\" km\")\n",
        "df[\"km\"]"
      ]
    },
    {
      "cell_type": "code",
      "execution_count": 39,
      "metadata": {
        "colab": {
          "base_uri": "https://localhost:8080/"
        },
        "id": "UEIZfXyPwNz6",
        "outputId": "54e251ee-826d-4cb7-e5a5-9d27a33f415f"
      },
      "outputs": [
        {
          "data": {
            "text/plain": [
              "Series([], Name: kW, dtype: int64)"
            ]
          },
          "execution_count": 39,
          "metadata": {},
          "output_type": "execute_result"
        }
      ],
      "source": [
        "df.kW.value_counts()"
      ]
    },
    {
      "cell_type": "code",
      "execution_count": 40,
      "metadata": {
        "colab": {
          "base_uri": "https://localhost:8080/"
        },
        "id": "0e2n8BN8RRx_",
        "outputId": "5c0eb0ee-83ec-4645-e20c-ea223432d8a7"
      },
      "outputs": [
        {
          "data": {
            "text/plain": [
              "count   0.000\n",
              "mean      NaN\n",
              "std       NaN\n",
              "min       NaN\n",
              "25%       NaN\n",
              "50%       NaN\n",
              "75%       NaN\n",
              "max       NaN\n",
              "Name: kW, dtype: float64"
            ]
          },
          "execution_count": 40,
          "metadata": {},
          "output_type": "execute_result"
        }
      ],
      "source": [
        "df.kW.describe()"
      ]
    },
    {
      "cell_type": "code",
      "execution_count": 41,
      "metadata": {
        "colab": {
          "base_uri": "https://localhost:8080/"
        },
        "id": "m1I3tO2MwYJh",
        "outputId": "3d5781fc-5773-4755-f094-18f4beaa578e"
      },
      "outputs": [
        {
          "data": {
            "text/plain": [
              "15919"
            ]
          },
          "execution_count": 41,
          "metadata": {},
          "output_type": "execute_result"
        }
      ],
      "source": [
        "df.kW.isnull().sum()"
      ]
    },
    {
      "cell_type": "code",
      "execution_count": 42,
      "metadata": {
        "colab": {
          "base_uri": "https://localhost:8080/"
        },
        "id": "V2mKp8rFRRvZ",
        "outputId": "06c56a4f-99ce-410f-bd55-0b6420dcdccf"
      },
      "outputs": [
        {
          "data": {
            "text/plain": [
              "count     15919\n",
              "unique       81\n",
              "top       85 kW\n",
              "freq       2542\n",
              "Name: hp, dtype: object"
            ]
          },
          "execution_count": 42,
          "metadata": {},
          "output_type": "execute_result"
        }
      ],
      "source": [
        "df.hp.describe()"
      ]
    },
    {
      "cell_type": "code",
      "execution_count": null,
      "metadata": {
        "colab": {
          "base_uri": "https://localhost:8080/"
        },
        "id": "vO7bYEn7wpTS",
        "outputId": "4b5c941c-8fd2-409b-fa90-2004fcd6efa8"
      },
      "outputs": [
        {
          "data": {
            "text/plain": [
              "0"
            ]
          },
          "execution_count": 254,
          "metadata": {},
          "output_type": "execute_result"
        }
      ],
      "source": [
        "df.hp.isnull().sum()"
      ]
    },
    {
      "cell_type": "code",
      "execution_count": null,
      "metadata": {
        "colab": {
          "base_uri": "https://localhost:8080/"
        },
        "id": "xJXsAUHvwsj2",
        "outputId": "cfde33ab-ed60-4502-8e87-8a5743980723"
      },
      "outputs": [
        {
          "data": {
            "text/plain": [
              "85 kW     2542\n",
              "66 kW     2122\n",
              "81 kW     1402\n",
              "100 kW    1308\n",
              "110 kW    1112\n",
              "          ... \n",
              "84 kW        1\n",
              "195 kW       1\n",
              "44 kW        1\n",
              "239 kW       1\n",
              "9 kW         1\n",
              "Name: hp, Length: 81, dtype: int64"
            ]
          },
          "execution_count": 255,
          "metadata": {},
          "output_type": "execute_result"
        }
      ],
      "source": [
        "df.hp.value_counts()"
      ]
    },
    {
      "cell_type": "code",
      "execution_count": null,
      "metadata": {
        "colab": {
          "base_uri": "https://localhost:8080/"
        },
        "id": "eGQP5G2uRRsZ",
        "outputId": "41e344cf-9cf0-494d-ef9e-da441e252f9b"
      },
      "outputs": [
        {
          "data": {
            "text/plain": [
              "81"
            ]
          },
          "execution_count": 256,
          "metadata": {},
          "output_type": "execute_result"
        }
      ],
      "source": [
        "df.hp.nunique()"
      ]
    },
    {
      "cell_type": "code",
      "execution_count": null,
      "metadata": {
        "colab": {
          "base_uri": "https://localhost:8080/"
        },
        "id": "nm5xtDkQRRpu",
        "outputId": "7383ebfb-f486-4bdb-8d78-2cf01bc93ced"
      },
      "outputs": [
        {
          "data": {
            "text/plain": [
              "array(['66 kW', '141 kW', '85 kW', '70 kW', '92 kW', '112 kW', '60 kW',\n",
              "       '71 kW', '67 kW', '110 kW', '93 kW', '147 kW', '86 kW', '140 kW',\n",
              "       '87 kW', '- kW', '81 kW', '82 kW', '135 kW', '132 kW', '100 kW',\n",
              "       '96 kW', '162 kW', '150 kW', '294 kW', '228 kW', '270 kW',\n",
              "       '137 kW', '9 kW', '133 kW', '77 kW', '101 kW', '78 kW', '103 kW',\n",
              "       '1 kW', '74 kW', '118 kW', '84 kW', '88 kW', '80 kW', '76 kW',\n",
              "       '149 kW', '44 kW', '51 kW', '55 kW', '52 kW', '63 kW', '40 kW',\n",
              "       '65 kW', '75 kW', '125 kW', '120 kW', '184 kW', '239 kW', '121 kW',\n",
              "       '143 kW', '191 kW', '89 kW', '195 kW', '127 kW', '122 kW',\n",
              "       '154 kW', '155 kW', '104 kW', '123 kW', '146 kW', '90 kW', '53 kW',\n",
              "       '54 kW', '56 kW', '164 kW', '4 kW', '163 kW', '57 kW', '119 kW',\n",
              "       '165 kW', '117 kW', '115 kW', '98 kW', '168 kW', '167 kW'],\n",
              "      dtype=object)"
            ]
          },
          "execution_count": 257,
          "metadata": {},
          "output_type": "execute_result"
        }
      ],
      "source": [
        "df.hp.unique()"
      ]
    },
    {
      "cell_type": "code",
      "execution_count": null,
      "metadata": {
        "colab": {
          "base_uri": "https://localhost:8080/"
        },
        "id": "oHLVugBTTuZ-",
        "outputId": "5a7ad197-3715-478b-afc7-9f8623bd8ff7"
      },
      "outputs": [
        {
          "data": {
            "text/plain": [
              "count                                       15917\n",
              "unique                                        169\n",
              "top       [, Used, , Diesel (Particulate Filter)]\n",
              "freq                                         3475\n",
              "Name: Type, dtype: object"
            ]
          },
          "execution_count": 258,
          "metadata": {},
          "output_type": "execute_result"
        }
      ],
      "source": [
        "df[\"Type\"].describe()"
      ]
    },
    {
      "cell_type": "code",
      "execution_count": 43,
      "metadata": {
        "colab": {
          "base_uri": "https://localhost:8080/",
          "height": 446
        },
        "id": "CsyQr5YRxp1R",
        "outputId": "41e8a73b-a170-49bf-856e-9e3764ff2dd9"
      },
      "outputs": [
        {
          "data": {
            "text/plain": [
              "[, Used, , Diesel (Particulate Filter)]                                                                                 3475\n",
              "[, Used, , Diesel]                                                                                                      2516\n",
              "[, Used, , Gasoline]                                                                                                    2367\n",
              "[, Used, , Super 95]                                                                                                    1818\n",
              "[, Pre-registered, , Super 95]                                                                                           500\n",
              "                                                                                                                        ... \n",
              "[, New, , Regular/Benzine 91 / Super 95 / Super Plus 98 / Regular/Benzine E10 91 / Super Plus E10 98 / Super E10 95]       1\n",
              "[, Used, , Super 95 / Super Plus 98 / Super E10 95 / Super Plus E10 98 (Particulate Filter)]                               1\n",
              "[, Demonstration, , Super Plus 98]                                                                                         1\n",
              "[, New, , Super Plus E10 98]                                                                                               1\n",
              "[, Demonstration, , Regular/Benzine E10 91]                                                                                1\n",
              "Name: Type, Length: 169, dtype: int64"
            ]
          },
          "execution_count": 43,
          "metadata": {},
          "output_type": "execute_result"
        }
      ],
      "source": [
        "df.Type.value_counts()#burda 4 cesti varmis bu gruplanabilir liste duzenlenmeili"
      ]
    },
    {
      "cell_type": "code",
      "execution_count": null,
      "metadata": {
        "colab": {
          "base_uri": "https://localhost:8080/"
        },
        "id": "m1uA1tsSxpxw",
        "outputId": "1d66f087-1ed2-4db5-8fa8-34822878c5df"
      },
      "outputs": [
        {
          "data": {
            "text/plain": [
              "2"
            ]
          },
          "execution_count": 260,
          "metadata": {},
          "output_type": "execute_result"
        }
      ],
      "source": [
        "df.Type.isnull().sum()"
      ]
    },
    {
      "cell_type": "code",
      "execution_count": null,
      "metadata": {
        "id": "eOADlTdwxpuR"
      },
      "outputs": [],
      "source": []
    },
    {
      "cell_type": "code",
      "execution_count": 45,
      "metadata": {
        "colab": {
          "base_uri": "https://localhost:8080/",
          "height": 519
        },
        "id": "jms1uineTuWk",
        "outputId": "8532ed10-032d-4d96-ff10-7154e0c43630"
      },
      "outputs": [
        {
          "data": {
            "text/html": [
              "<div>\n",
              "<style scoped>\n",
              "    .dataframe tbody tr th:only-of-type {\n",
              "        vertical-align: middle;\n",
              "    }\n",
              "\n",
              "    .dataframe tbody tr th {\n",
              "        vertical-align: top;\n",
              "    }\n",
              "\n",
              "    .dataframe thead th {\n",
              "        text-align: right;\n",
              "    }\n",
              "</style>\n",
              "<table border=\"1\" class=\"dataframe\">\n",
              "  <thead>\n",
              "    <tr style=\"text-align: right;\">\n",
              "      <th></th>\n",
              "      <th>prev_owner</th>\n",
              "      <th>Previous Owners</th>\n",
              "    </tr>\n",
              "  </thead>\n",
              "  <tbody>\n",
              "    <tr>\n",
              "      <th>2517</th>\n",
              "      <td>1 previous owner</td>\n",
              "      <td>\\n1\\n</td>\n",
              "    </tr>\n",
              "    <tr>\n",
              "      <th>9040</th>\n",
              "      <td>2 previous owners</td>\n",
              "      <td>[\\n2\\n, \\n129 g CO2/km (comb)\\n]</td>\n",
              "    </tr>\n",
              "    <tr>\n",
              "      <th>1881</th>\n",
              "      <td>1 previous owner</td>\n",
              "      <td>\\n1\\n</td>\n",
              "    </tr>\n",
              "    <tr>\n",
              "      <th>1081</th>\n",
              "      <td>1 previous owner</td>\n",
              "      <td>\\n1\\n</td>\n",
              "    </tr>\n",
              "    <tr>\n",
              "      <th>5344</th>\n",
              "      <td>1 previous owner</td>\n",
              "      <td>\\n1\\n</td>\n",
              "    </tr>\n",
              "    <tr>\n",
              "      <th>4845</th>\n",
              "      <td>1 previous owner</td>\n",
              "      <td>\\n1\\n</td>\n",
              "    </tr>\n",
              "    <tr>\n",
              "      <th>13956</th>\n",
              "      <td>None</td>\n",
              "      <td>NaN</td>\n",
              "    </tr>\n",
              "    <tr>\n",
              "      <th>2674</th>\n",
              "      <td>1 previous owner</td>\n",
              "      <td>\\n1\\n</td>\n",
              "    </tr>\n",
              "    <tr>\n",
              "      <th>12787</th>\n",
              "      <td>None</td>\n",
              "      <td>NaN</td>\n",
              "    </tr>\n",
              "    <tr>\n",
              "      <th>7394</th>\n",
              "      <td>1 previous owner</td>\n",
              "      <td>\\n1\\n</td>\n",
              "    </tr>\n",
              "    <tr>\n",
              "      <th>8013</th>\n",
              "      <td>1 previous owner</td>\n",
              "      <td>\\n1\\n</td>\n",
              "    </tr>\n",
              "    <tr>\n",
              "      <th>6331</th>\n",
              "      <td>2 previous owners</td>\n",
              "      <td>\\n2\\n</td>\n",
              "    </tr>\n",
              "    <tr>\n",
              "      <th>6218</th>\n",
              "      <td>1 previous owner</td>\n",
              "      <td>\\n1\\n</td>\n",
              "    </tr>\n",
              "    <tr>\n",
              "      <th>15552</th>\n",
              "      <td>None</td>\n",
              "      <td>NaN</td>\n",
              "    </tr>\n",
              "    <tr>\n",
              "      <th>10159</th>\n",
              "      <td>1 previous owner</td>\n",
              "      <td>\\n1\\n</td>\n",
              "    </tr>\n",
              "  </tbody>\n",
              "</table>\n",
              "</div>"
            ],
            "text/plain": [
              "              prev_owner                   Previous Owners\n",
              "2517    1 previous owner                             \\n1\\n\n",
              "9040   2 previous owners  [\\n2\\n, \\n129 g CO2/km (comb)\\n]\n",
              "1881    1 previous owner                             \\n1\\n\n",
              "1081    1 previous owner                             \\n1\\n\n",
              "5344    1 previous owner                             \\n1\\n\n",
              "4845    1 previous owner                             \\n1\\n\n",
              "13956               None                               NaN\n",
              "2674    1 previous owner                             \\n1\\n\n",
              "12787               None                               NaN\n",
              "7394    1 previous owner                             \\n1\\n\n",
              "8013    1 previous owner                             \\n1\\n\n",
              "6331   2 previous owners                             \\n2\\n\n",
              "6218    1 previous owner                             \\n1\\n\n",
              "15552               None                               NaN\n",
              "10159   1 previous owner                             \\n1\\n"
            ]
          },
          "execution_count": 45,
          "metadata": {},
          "output_type": "execute_result"
        }
      ],
      "source": [
        "df[[\"prev_owner\",\"Previous Owners\"]].sample(15)"
      ]
    },
    {
      "cell_type": "code",
      "execution_count": null,
      "metadata": {
        "colab": {
          "base_uri": "https://localhost:8080/"
        },
        "id": "9yXW2w1FTuTh",
        "outputId": "e76fbb58-feb2-4b21-c441-b47cc0d4e8de"
      },
      "outputs": [
        {
          "data": {
            "text/plain": [
              "array(['2 previous owners', None, '1 previous owner', '3 previous owners',\n",
              "       '4 previous owners'], dtype=object)"
            ]
          },
          "execution_count": 262,
          "metadata": {},
          "output_type": "execute_result"
        }
      ],
      "source": [
        "df[\"prev_owner\"].unique()"
      ]
    },
    {
      "cell_type": "code",
      "execution_count": null,
      "metadata": {
        "colab": {
          "base_uri": "https://localhost:8080/"
        },
        "id": "UvH5R9CpTuQV",
        "outputId": "eed774f8-c2fe-4f49-a5aa-3e67d7dac5ef"
      },
      "outputs": [
        {
          "data": {
            "text/plain": [
              "6828"
            ]
          },
          "execution_count": 263,
          "metadata": {},
          "output_type": "execute_result"
        }
      ],
      "source": [
        "df[\"prev_owner\"].isnull().sum()"
      ]
    },
    {
      "cell_type": "code",
      "execution_count": null,
      "metadata": {
        "colab": {
          "base_uri": "https://localhost:8080/"
        },
        "id": "9lOcdGBYYkL8",
        "outputId": "b3fc02ac-a64d-40d1-9737-4f25a328695d"
      },
      "outputs": [
        {
          "data": {
            "text/plain": [
              "1 previous owner     8294\n",
              "2 previous owners     778\n",
              "3 previous owners      17\n",
              "4 previous owners       2\n",
              "Name: prev_owner, dtype: int64"
            ]
          },
          "execution_count": 264,
          "metadata": {},
          "output_type": "execute_result"
        }
      ],
      "source": [
        "df[\"prev_owner\"].value_counts()"
      ]
    },
    {
      "cell_type": "code",
      "execution_count": 46,
      "metadata": {},
      "outputs": [
        {
          "data": {
            "text/html": [
              "<div>\n",
              "<style scoped>\n",
              "    .dataframe tbody tr th:only-of-type {\n",
              "        vertical-align: middle;\n",
              "    }\n",
              "\n",
              "    .dataframe tbody tr th {\n",
              "        vertical-align: top;\n",
              "    }\n",
              "\n",
              "    .dataframe thead th {\n",
              "        text-align: right;\n",
              "    }\n",
              "</style>\n",
              "<table border=\"1\" class=\"dataframe\">\n",
              "  <thead>\n",
              "    <tr style=\"text-align: right;\">\n",
              "      <th></th>\n",
              "      <th>km</th>\n",
              "      <th>First Registration</th>\n",
              "      <th>prev_owner</th>\n",
              "    </tr>\n",
              "  </thead>\n",
              "  <tbody>\n",
              "    <tr>\n",
              "      <th>743</th>\n",
              "      <td>-</td>\n",
              "      <td>NaN</td>\n",
              "      <td>None</td>\n",
              "    </tr>\n",
              "    <tr>\n",
              "      <th>869</th>\n",
              "      <td>-</td>\n",
              "      <td>NaN</td>\n",
              "      <td>None</td>\n",
              "    </tr>\n",
              "    <tr>\n",
              "      <th>946</th>\n",
              "      <td>-</td>\n",
              "      <td>NaN</td>\n",
              "      <td>None</td>\n",
              "    </tr>\n",
              "    <tr>\n",
              "      <th>977</th>\n",
              "      <td>-</td>\n",
              "      <td>NaN</td>\n",
              "      <td>None</td>\n",
              "    </tr>\n",
              "    <tr>\n",
              "      <th>980</th>\n",
              "      <td>-</td>\n",
              "      <td>NaN</td>\n",
              "      <td>None</td>\n",
              "    </tr>\n",
              "    <tr>\n",
              "      <th>...</th>\n",
              "      <td>...</td>\n",
              "      <td>...</td>\n",
              "      <td>...</td>\n",
              "    </tr>\n",
              "    <tr>\n",
              "      <th>15890</th>\n",
              "      <td>-</td>\n",
              "      <td>NaN</td>\n",
              "      <td>None</td>\n",
              "    </tr>\n",
              "    <tr>\n",
              "      <th>15902</th>\n",
              "      <td>-</td>\n",
              "      <td>NaN</td>\n",
              "      <td>None</td>\n",
              "    </tr>\n",
              "    <tr>\n",
              "      <th>15912</th>\n",
              "      <td>-</td>\n",
              "      <td>NaN</td>\n",
              "      <td>None</td>\n",
              "    </tr>\n",
              "    <tr>\n",
              "      <th>15914</th>\n",
              "      <td>-</td>\n",
              "      <td>NaN</td>\n",
              "      <td>None</td>\n",
              "    </tr>\n",
              "    <tr>\n",
              "      <th>15918</th>\n",
              "      <td>-</td>\n",
              "      <td>[\\n, 2019, \\n]</td>\n",
              "      <td>1 previous owner</td>\n",
              "    </tr>\n",
              "  </tbody>\n",
              "</table>\n",
              "<p>1024 rows × 3 columns</p>\n",
              "</div>"
            ],
            "text/plain": [
              "      km First Registration        prev_owner\n",
              "743    -                NaN              None\n",
              "869    -                NaN              None\n",
              "946    -                NaN              None\n",
              "977    -                NaN              None\n",
              "980    -                NaN              None\n",
              "...   ..                ...               ...\n",
              "15890  -                NaN              None\n",
              "15902  -                NaN              None\n",
              "15912  -                NaN              None\n",
              "15914  -                NaN              None\n",
              "15918  -     [\\n, 2019, \\n]  1 previous owner\n",
              "\n",
              "[1024 rows x 3 columns]"
            ]
          },
          "execution_count": 46,
          "metadata": {},
          "output_type": "execute_result"
        }
      ],
      "source": [
        "df[df[\"km\"] == \"-\"].loc[:,[\"km\",\"First Registration\",\"prev_owner\"]]"
      ]
    },
    {
      "cell_type": "code",
      "execution_count": 61,
      "metadata": {},
      "outputs": [],
      "source": [
        "df1 = df.copy()\n",
        "df1.loc[df1.km == \"-\", \"km\"] = np.nan\n",
        "df1.km = df1.km.astype(float)"
      ]
    },
    {
      "cell_type": "code",
      "execution_count": 59,
      "metadata": {},
      "outputs": [
        {
          "data": {
            "text/html": [
              "<div>\n",
              "<style scoped>\n",
              "    .dataframe tbody tr th:only-of-type {\n",
              "        vertical-align: middle;\n",
              "    }\n",
              "\n",
              "    .dataframe tbody tr th {\n",
              "        vertical-align: top;\n",
              "    }\n",
              "\n",
              "    .dataframe thead th {\n",
              "        text-align: right;\n",
              "    }\n",
              "</style>\n",
              "<table border=\"1\" class=\"dataframe\">\n",
              "  <thead>\n",
              "    <tr style=\"text-align: right;\">\n",
              "      <th></th>\n",
              "      <th>price</th>\n",
              "      <th>km</th>\n",
              "      <th>kW</th>\n",
              "      <th>Previous_Owners</th>\n",
              "    </tr>\n",
              "    <tr>\n",
              "      <th>First Registration</th>\n",
              "      <th></th>\n",
              "      <th></th>\n",
              "      <th></th>\n",
              "      <th></th>\n",
              "    </tr>\n",
              "  </thead>\n",
              "  <tbody>\n",
              "    <tr>\n",
              "      <th>2016.000</th>\n",
              "      <td>13644.039</td>\n",
              "      <td>77442.521</td>\n",
              "      <td>NaN</td>\n",
              "      <td>1.168</td>\n",
              "    </tr>\n",
              "    <tr>\n",
              "      <th>2017.000</th>\n",
              "      <td>15595.916</td>\n",
              "      <td>41754.941</td>\n",
              "      <td>NaN</td>\n",
              "      <td>1.152</td>\n",
              "    </tr>\n",
              "    <tr>\n",
              "      <th>2018.000</th>\n",
              "      <td>18456.037</td>\n",
              "      <td>18035.239</td>\n",
              "      <td>NaN</td>\n",
              "      <td>1.022</td>\n",
              "    </tr>\n",
              "    <tr>\n",
              "      <th>2019.000</th>\n",
              "      <td>22805.061</td>\n",
              "      <td>2085.355</td>\n",
              "      <td>NaN</td>\n",
              "      <td>1.005</td>\n",
              "    </tr>\n",
              "  </tbody>\n",
              "</table>\n",
              "</div>"
            ],
            "text/plain": [
              "                       price        km  kW  Previous_Owners\n",
              "First Registration                                         \n",
              "2016.000           13644.039 77442.521 NaN            1.168\n",
              "2017.000           15595.916 41754.941 NaN            1.152\n",
              "2018.000           18456.037 18035.239 NaN            1.022\n",
              "2019.000           22805.061  2085.355 NaN            1.005"
            ]
          },
          "execution_count": 59,
          "metadata": {},
          "output_type": "execute_result"
        }
      ],
      "source": [
        "df1.groupby(\"First Registration\").mean()"
      ]
    },
    {
      "cell_type": "code",
      "execution_count": 47,
      "metadata": {
        "colab": {
          "base_uri": "https://localhost:8080/",
          "height": 446
        },
        "id": "87f3EoAqzoeS",
        "outputId": "339b3207-0a11-419f-8883-aad9b3987f23"
      },
      "outputs": [
        {
          "data": {
            "text/plain": [
              "\\n04/2022\\n                               62\n",
              "\\n03/2021\\n                               38\n",
              "\\n03/2022\\n                               36\n",
              "\\n06/2021\\n                               34\n",
              "\\n01/2022\\n                               32\n",
              "                                          ..\n",
              "[\\n12/2018\\n, \\n97 g CO2/km (comb)\\n]      1\n",
              "[\\n03/2022\\n, \\n1 (No sticker)\\n]          1\n",
              "[\\n05/2021\\n, \\n93 g CO2/km (comb)\\n]      1\n",
              "[\\n06/2021\\n, \\n93 g CO2/km (comb)\\n]      1\n",
              "[\\n01/2022\\n, \\n168 g CO2/km (comb)\\n]     1\n",
              "Name: Next Inspection, Length: 1399, dtype: int64"
            ]
          },
          "execution_count": 47,
          "metadata": {},
          "output_type": "execute_result"
        }
      ],
      "source": [
        "df[\"Next Inspection\"].value_counts()"
      ]
    },
    {
      "cell_type": "code",
      "execution_count": 48,
      "metadata": {
        "colab": {
          "base_uri": "https://localhost:8080/",
          "height": 446
        },
        "id": "lggrte_PzoZ5",
        "outputId": "5d718858-b3e7-41e0-c9a5-3de281efe8fd"
      },
      "outputs": [
        {
          "data": {
            "text/plain": [
              "\\n04/2022\\n                               62\n",
              "\\n03/2021\\n                               38\n",
              "\\n03/2022\\n                               36\n",
              "\\n06/2021\\n                               34\n",
              "\\n01/2022\\n                               32\n",
              "                                          ..\n",
              "[\\n12/2018\\n, \\n97 g CO2/km (comb)\\n]      1\n",
              "[\\n03/2022\\n, \\n1 (No sticker)\\n]          1\n",
              "[\\n05/2021\\n, \\n93 g CO2/km (comb)\\n]      1\n",
              "[\\n06/2021\\n, \\n93 g CO2/km (comb)\\n]      1\n",
              "[\\n01/2022\\n, \\n168 g CO2/km (comb)\\n]     1\n",
              "Name: Next Inspection, Length: 1399, dtype: int64"
            ]
          },
          "execution_count": 48,
          "metadata": {},
          "output_type": "execute_result"
        }
      ],
      "source": [
        "df[\"Next Inspection\"].value_counts()"
      ]
    },
    {
      "cell_type": "code",
      "execution_count": 49,
      "metadata": {
        "colab": {
          "base_uri": "https://localhost:8080/"
        },
        "id": "5JFIVVLBzoU_",
        "outputId": "6a23a39b-46bd-452a-fe47-f8e6a5601af5"
      },
      "outputs": [
        {
          "data": {
            "text/plain": [
              "Inspection new     11987\n",
              "Next Inspection    12384\n",
              "dtype: int64"
            ]
          },
          "execution_count": 49,
          "metadata": {},
          "output_type": "execute_result"
        }
      ],
      "source": [
        "df[[\"Inspection new\",\"Next Inspection\"]].isnull().sum()"
      ]
    },
    {
      "cell_type": "code",
      "execution_count": null,
      "metadata": {
        "colab": {
          "base_uri": "https://localhost:8080/",
          "height": 519
        },
        "id": "MFmrn8EiYkIz",
        "outputId": "058a431e-d8a0-4317-fa55-40b9c06bce0a"
      },
      "outputs": [
        {
          "data": {
            "text/html": [
              "\n",
              "  <div id=\"df-4643b4c5-34e0-4b22-a8b8-40aacae76bf2\">\n",
              "    <div class=\"colab-df-container\">\n",
              "      <div>\n",
              "<style scoped>\n",
              "    .dataframe tbody tr th:only-of-type {\n",
              "        vertical-align: middle;\n",
              "    }\n",
              "\n",
              "    .dataframe tbody tr th {\n",
              "        vertical-align: top;\n",
              "    }\n",
              "\n",
              "    .dataframe thead th {\n",
              "        text-align: right;\n",
              "    }\n",
              "</style>\n",
              "<table border=\"1\" class=\"dataframe\">\n",
              "  <thead>\n",
              "    <tr style=\"text-align: right;\">\n",
              "      <th></th>\n",
              "      <th>Inspection new</th>\n",
              "      <th>Next Inspection</th>\n",
              "    </tr>\n",
              "  </thead>\n",
              "  <tbody>\n",
              "    <tr>\n",
              "      <th>6593</th>\n",
              "      <td>NaN</td>\n",
              "      <td>[\\n04/2020\\n, \\n119 g CO2/km (comb)\\n]</td>\n",
              "    </tr>\n",
              "    <tr>\n",
              "      <th>7082</th>\n",
              "      <td>[\\nYes\\n, \\nEuro 6\\n]</td>\n",
              "      <td>[\\n06/2021\\n, \\n125 g CO2/km (comb)\\n]</td>\n",
              "    </tr>\n",
              "    <tr>\n",
              "      <th>4127</th>\n",
              "      <td>NaN</td>\n",
              "      <td>NaN</td>\n",
              "    </tr>\n",
              "    <tr>\n",
              "      <th>6150</th>\n",
              "      <td>NaN</td>\n",
              "      <td>NaN</td>\n",
              "    </tr>\n",
              "    <tr>\n",
              "      <th>10240</th>\n",
              "      <td>NaN</td>\n",
              "      <td>[\\n01/2019\\n, \\n132 g CO2/km (comb)\\n]</td>\n",
              "    </tr>\n",
              "    <tr>\n",
              "      <th>5002</th>\n",
              "      <td>NaN</td>\n",
              "      <td>NaN</td>\n",
              "    </tr>\n",
              "    <tr>\n",
              "      <th>9814</th>\n",
              "      <td>NaN</td>\n",
              "      <td>[\\n05/2021\\n, \\n120 g CO2/km (comb)\\n]</td>\n",
              "    </tr>\n",
              "    <tr>\n",
              "      <th>12791</th>\n",
              "      <td>NaN</td>\n",
              "      <td>[\\n05/2022\\n, \\n, 6.3 l/100 km (comb), \\n, 8 l...</td>\n",
              "    </tr>\n",
              "    <tr>\n",
              "      <th>1013</th>\n",
              "      <td>NaN</td>\n",
              "      <td>[\\n04/2021\\n, \\n102 g CO2/km (comb)\\n]</td>\n",
              "    </tr>\n",
              "    <tr>\n",
              "      <th>13865</th>\n",
              "      <td>NaN</td>\n",
              "      <td>\\n04/2021\\n</td>\n",
              "    </tr>\n",
              "    <tr>\n",
              "      <th>9293</th>\n",
              "      <td>[\\nYes\\n, \\n120 g CO2/km (comb)\\n]</td>\n",
              "      <td>[\\n08/2020\\n, \\n, 5.2 l/100 km (comb), \\n, 6.8...</td>\n",
              "    </tr>\n",
              "    <tr>\n",
              "      <th>3701</th>\n",
              "      <td>NaN</td>\n",
              "      <td>[\\n08/2020\\n, \\n114 g CO2/km (comb)\\n]</td>\n",
              "    </tr>\n",
              "    <tr>\n",
              "      <th>3416</th>\n",
              "      <td>NaN</td>\n",
              "      <td>[\\n06/2020\\n, \\n118 g CO2/km (comb)\\n]</td>\n",
              "    </tr>\n",
              "    <tr>\n",
              "      <th>2177</th>\n",
              "      <td>NaN</td>\n",
              "      <td>NaN</td>\n",
              "    </tr>\n",
              "    <tr>\n",
              "      <th>9588</th>\n",
              "      <td>NaN</td>\n",
              "      <td>NaN</td>\n",
              "    </tr>\n",
              "  </tbody>\n",
              "</table>\n",
              "</div>\n",
              "      <button class=\"colab-df-convert\" onclick=\"convertToInteractive('df-4643b4c5-34e0-4b22-a8b8-40aacae76bf2')\"\n",
              "              title=\"Convert this dataframe to an interactive table.\"\n",
              "              style=\"display:none;\">\n",
              "        \n",
              "  <svg xmlns=\"http://www.w3.org/2000/svg\" height=\"24px\"viewBox=\"0 0 24 24\"\n",
              "       width=\"24px\">\n",
              "    <path d=\"M0 0h24v24H0V0z\" fill=\"none\"/>\n",
              "    <path d=\"M18.56 5.44l.94 2.06.94-2.06 2.06-.94-2.06-.94-.94-2.06-.94 2.06-2.06.94zm-11 1L8.5 8.5l.94-2.06 2.06-.94-2.06-.94L8.5 2.5l-.94 2.06-2.06.94zm10 10l.94 2.06.94-2.06 2.06-.94-2.06-.94-.94-2.06-.94 2.06-2.06.94z\"/><path d=\"M17.41 7.96l-1.37-1.37c-.4-.4-.92-.59-1.43-.59-.52 0-1.04.2-1.43.59L10.3 9.45l-7.72 7.72c-.78.78-.78 2.05 0 2.83L4 21.41c.39.39.9.59 1.41.59.51 0 1.02-.2 1.41-.59l7.78-7.78 2.81-2.81c.8-.78.8-2.07 0-2.86zM5.41 20L4 18.59l7.72-7.72 1.47 1.35L5.41 20z\"/>\n",
              "  </svg>\n",
              "      </button>\n",
              "      \n",
              "  <style>\n",
              "    .colab-df-container {\n",
              "      display:flex;\n",
              "      flex-wrap:wrap;\n",
              "      gap: 12px;\n",
              "    }\n",
              "\n",
              "    .colab-df-convert {\n",
              "      background-color: #E8F0FE;\n",
              "      border: none;\n",
              "      border-radius: 50%;\n",
              "      cursor: pointer;\n",
              "      display: none;\n",
              "      fill: #1967D2;\n",
              "      height: 32px;\n",
              "      padding: 0 0 0 0;\n",
              "      width: 32px;\n",
              "    }\n",
              "\n",
              "    .colab-df-convert:hover {\n",
              "      background-color: #E2EBFA;\n",
              "      box-shadow: 0px 1px 2px rgba(60, 64, 67, 0.3), 0px 1px 3px 1px rgba(60, 64, 67, 0.15);\n",
              "      fill: #174EA6;\n",
              "    }\n",
              "\n",
              "    [theme=dark] .colab-df-convert {\n",
              "      background-color: #3B4455;\n",
              "      fill: #D2E3FC;\n",
              "    }\n",
              "\n",
              "    [theme=dark] .colab-df-convert:hover {\n",
              "      background-color: #434B5C;\n",
              "      box-shadow: 0px 1px 3px 1px rgba(0, 0, 0, 0.15);\n",
              "      filter: drop-shadow(0px 1px 2px rgba(0, 0, 0, 0.3));\n",
              "      fill: #FFFFFF;\n",
              "    }\n",
              "  </style>\n",
              "\n",
              "      <script>\n",
              "        const buttonEl =\n",
              "          document.querySelector('#df-4643b4c5-34e0-4b22-a8b8-40aacae76bf2 button.colab-df-convert');\n",
              "        buttonEl.style.display =\n",
              "          google.colab.kernel.accessAllowed ? 'block' : 'none';\n",
              "\n",
              "        async function convertToInteractive(key) {\n",
              "          const element = document.querySelector('#df-4643b4c5-34e0-4b22-a8b8-40aacae76bf2');\n",
              "          const dataTable =\n",
              "            await google.colab.kernel.invokeFunction('convertToInteractive',\n",
              "                                                     [key], {});\n",
              "          if (!dataTable) return;\n",
              "\n",
              "          const docLinkHtml = 'Like what you see? Visit the ' +\n",
              "            '<a target=\"_blank\" href=https://colab.research.google.com/notebooks/data_table.ipynb>data table notebook</a>'\n",
              "            + ' to learn more about interactive tables.';\n",
              "          element.innerHTML = '';\n",
              "          dataTable['output_type'] = 'display_data';\n",
              "          await google.colab.output.renderOutput(dataTable, element);\n",
              "          const docLink = document.createElement('div');\n",
              "          docLink.innerHTML = docLinkHtml;\n",
              "          element.appendChild(docLink);\n",
              "        }\n",
              "      </script>\n",
              "    </div>\n",
              "  </div>\n",
              "  "
            ],
            "text/plain": [
              "                           Inspection new  \\\n",
              "6593                                  NaN   \n",
              "7082                [\\nYes\\n, \\nEuro 6\\n]   \n",
              "4127                                  NaN   \n",
              "6150                                  NaN   \n",
              "10240                                 NaN   \n",
              "5002                                  NaN   \n",
              "9814                                  NaN   \n",
              "12791                                 NaN   \n",
              "1013                                  NaN   \n",
              "13865                                 NaN   \n",
              "9293   [\\nYes\\n, \\n120 g CO2/km (comb)\\n]   \n",
              "3701                                  NaN   \n",
              "3416                                  NaN   \n",
              "2177                                  NaN   \n",
              "9588                                  NaN   \n",
              "\n",
              "                                         Next Inspection  \n",
              "6593              [\\n04/2020\\n, \\n119 g CO2/km (comb)\\n]  \n",
              "7082              [\\n06/2021\\n, \\n125 g CO2/km (comb)\\n]  \n",
              "4127                                                 NaN  \n",
              "6150                                                 NaN  \n",
              "10240             [\\n01/2019\\n, \\n132 g CO2/km (comb)\\n]  \n",
              "5002                                                 NaN  \n",
              "9814              [\\n05/2021\\n, \\n120 g CO2/km (comb)\\n]  \n",
              "12791  [\\n05/2022\\n, \\n, 6.3 l/100 km (comb), \\n, 8 l...  \n",
              "1013              [\\n04/2021\\n, \\n102 g CO2/km (comb)\\n]  \n",
              "13865                                        \\n04/2021\\n  \n",
              "9293   [\\n08/2020\\n, \\n, 5.2 l/100 km (comb), \\n, 6.8...  \n",
              "3701              [\\n08/2020\\n, \\n114 g CO2/km (comb)\\n]  \n",
              "3416              [\\n06/2020\\n, \\n118 g CO2/km (comb)\\n]  \n",
              "2177                                                 NaN  \n",
              "9588                                                 NaN  "
            ]
          },
          "execution_count": 268,
          "metadata": {},
          "output_type": "execute_result"
        }
      ],
      "source": [
        "df[[\"Inspection new\",\"Next Inspection\"]].sample(15)"
      ]
    },
    {
      "cell_type": "code",
      "execution_count": null,
      "metadata": {
        "colab": {
          "base_uri": "https://localhost:8080/"
        },
        "id": "F94oS4FZZAJw",
        "outputId": "a0256560-5719-4e4d-ede4-62777a54b30a"
      },
      "outputs": [
        {
          "data": {
            "text/plain": [
              "Inspection new     11987\n",
              "Next Inspection    12384\n",
              "dtype: int64"
            ]
          },
          "execution_count": 269,
          "metadata": {},
          "output_type": "execute_result"
        }
      ],
      "source": [
        "df[[\"Inspection new\",\"Next Inspection\"]].isnull().sum()#yil 1. el 2. el olmasi gibi conditionlara gore yil doldurulcak"
      ]
    },
    {
      "cell_type": "code",
      "execution_count": 50,
      "metadata": {
        "colab": {
          "base_uri": "https://localhost:8080/",
          "height": 446
        },
        "id": "tDHB4vlt1IwT",
        "outputId": "a814807d-88c3-42e0-ec80-2de8ec785743"
      },
      "outputs": [
        {
          "data": {
            "text/plain": [
              "[\\n120 g CO2/km (comb)\\n]      740\n",
              "[[], [], []]                   628\n",
              "[\\n99 g CO2/km (comb)\\n]       545\n",
              "[\\n97 g CO2/km (comb)\\n]       537\n",
              "[\\n104 g CO2/km (comb)\\n]      501\n",
              "                              ... \n",
              "[\\n14 g CO2/km (comb)\\n]         1\n",
              "[\\n1,060 g CO2/km (comb)\\n]      1\n",
              "[\\n51 g CO2/km (comb)\\n]         1\n",
              "[\\n165 g CO2/km (comb)\\n]        1\n",
              "[\\n193 g CO2/km (comb)\\n]        1\n",
              "Name: CO2 Emission, Length: 123, dtype: int64"
            ]
          },
          "execution_count": 50,
          "metadata": {},
          "output_type": "execute_result"
        }
      ],
      "source": [
        "df[\"CO2 Emission\"].value_counts()"
      ]
    },
    {
      "cell_type": "code",
      "execution_count": 51,
      "metadata": {
        "colab": {
          "base_uri": "https://localhost:8080/",
          "height": 424
        },
        "id": "3BR4Lru51Itf",
        "outputId": "51bac698-89d2-44f9-ded2-7155f703f1db"
      },
      "outputs": [
        {
          "data": {
            "text/html": [
              "<div>\n",
              "<style scoped>\n",
              "    .dataframe tbody tr th:only-of-type {\n",
              "        vertical-align: middle;\n",
              "    }\n",
              "\n",
              "    .dataframe tbody tr th {\n",
              "        vertical-align: top;\n",
              "    }\n",
              "\n",
              "    .dataframe thead th {\n",
              "        text-align: right;\n",
              "    }\n",
              "</style>\n",
              "<table border=\"1\" class=\"dataframe\">\n",
              "  <thead>\n",
              "    <tr style=\"text-align: right;\">\n",
              "      <th></th>\n",
              "      <th>Inspection new</th>\n",
              "      <th>Next Inspection</th>\n",
              "      <th>CO2 Emission</th>\n",
              "    </tr>\n",
              "  </thead>\n",
              "  <tbody>\n",
              "    <tr>\n",
              "      <th>0</th>\n",
              "      <td>[\\nYes\\n, \\nEuro 6\\n]</td>\n",
              "      <td>[\\n06/2021\\n, \\n99 g CO2/km (comb)\\n]</td>\n",
              "      <td>[\\n99 g CO2/km (comb)\\n]</td>\n",
              "    </tr>\n",
              "    <tr>\n",
              "      <th>1</th>\n",
              "      <td>NaN</td>\n",
              "      <td>NaN</td>\n",
              "      <td>[\\n129 g CO2/km (comb)\\n]</td>\n",
              "    </tr>\n",
              "    <tr>\n",
              "      <th>2</th>\n",
              "      <td>NaN</td>\n",
              "      <td>NaN</td>\n",
              "      <td>[\\n99 g CO2/km (comb)\\n]</td>\n",
              "    </tr>\n",
              "    <tr>\n",
              "      <th>3</th>\n",
              "      <td>NaN</td>\n",
              "      <td>NaN</td>\n",
              "      <td>[\\n99 g CO2/km (comb)\\n]</td>\n",
              "    </tr>\n",
              "    <tr>\n",
              "      <th>4</th>\n",
              "      <td>[\\nYes\\n, \\n109 g CO2/km (comb)\\n]</td>\n",
              "      <td>NaN</td>\n",
              "      <td>[\\n109 g CO2/km (comb)\\n]</td>\n",
              "    </tr>\n",
              "    <tr>\n",
              "      <th>...</th>\n",
              "      <td>...</td>\n",
              "      <td>...</td>\n",
              "      <td>...</td>\n",
              "    </tr>\n",
              "    <tr>\n",
              "      <th>15914</th>\n",
              "      <td>NaN</td>\n",
              "      <td>NaN</td>\n",
              "      <td>[\\n139 g CO2/km (comb)\\n]</td>\n",
              "    </tr>\n",
              "    <tr>\n",
              "      <th>15915</th>\n",
              "      <td>NaN</td>\n",
              "      <td>[\\n01/2022\\n, \\n168 g CO2/km (comb)\\n]</td>\n",
              "      <td>[\\n168 g CO2/km (comb)\\n]</td>\n",
              "    </tr>\n",
              "    <tr>\n",
              "      <th>15916</th>\n",
              "      <td>[\\nYes\\n, \\nEuro 6d-TEMP\\n]</td>\n",
              "      <td>NaN</td>\n",
              "      <td>[\\n139 g CO2/km (comb)\\n]</td>\n",
              "    </tr>\n",
              "    <tr>\n",
              "      <th>15917</th>\n",
              "      <td>NaN</td>\n",
              "      <td>NaN</td>\n",
              "      <td>[\\n139 g CO2/km (comb)\\n]</td>\n",
              "    </tr>\n",
              "    <tr>\n",
              "      <th>15918</th>\n",
              "      <td>[\\nYes\\n, \\n153 g CO2/km (comb)\\n]</td>\n",
              "      <td>NaN</td>\n",
              "      <td>[\\n153 g CO2/km (comb)\\n]</td>\n",
              "    </tr>\n",
              "  </tbody>\n",
              "</table>\n",
              "<p>15919 rows × 3 columns</p>\n",
              "</div>"
            ],
            "text/plain": [
              "                           Inspection new  \\\n",
              "0                   [\\nYes\\n, \\nEuro 6\\n]   \n",
              "1                                     NaN   \n",
              "2                                     NaN   \n",
              "3                                     NaN   \n",
              "4      [\\nYes\\n, \\n109 g CO2/km (comb)\\n]   \n",
              "...                                   ...   \n",
              "15914                                 NaN   \n",
              "15915                                 NaN   \n",
              "15916         [\\nYes\\n, \\nEuro 6d-TEMP\\n]   \n",
              "15917                                 NaN   \n",
              "15918  [\\nYes\\n, \\n153 g CO2/km (comb)\\n]   \n",
              "\n",
              "                              Next Inspection               CO2 Emission  \n",
              "0       [\\n06/2021\\n, \\n99 g CO2/km (comb)\\n]   [\\n99 g CO2/km (comb)\\n]  \n",
              "1                                         NaN  [\\n129 g CO2/km (comb)\\n]  \n",
              "2                                         NaN   [\\n99 g CO2/km (comb)\\n]  \n",
              "3                                         NaN   [\\n99 g CO2/km (comb)\\n]  \n",
              "4                                         NaN  [\\n109 g CO2/km (comb)\\n]  \n",
              "...                                       ...                        ...  \n",
              "15914                                     NaN  [\\n139 g CO2/km (comb)\\n]  \n",
              "15915  [\\n01/2022\\n, \\n168 g CO2/km (comb)\\n]  [\\n168 g CO2/km (comb)\\n]  \n",
              "15916                                     NaN  [\\n139 g CO2/km (comb)\\n]  \n",
              "15917                                     NaN  [\\n139 g CO2/km (comb)\\n]  \n",
              "15918                                     NaN  [\\n153 g CO2/km (comb)\\n]  \n",
              "\n",
              "[15919 rows x 3 columns]"
            ]
          },
          "execution_count": 51,
          "metadata": {},
          "output_type": "execute_result"
        }
      ],
      "source": [
        "df[[\"Inspection new\",\"Next Inspection\",\"CO2 Emission\"]]"
      ]
    },
    {
      "cell_type": "code",
      "execution_count": 52,
      "metadata": {
        "colab": {
          "base_uri": "https://localhost:8080/",
          "height": 206
        },
        "id": "IfSkWuv21IqR",
        "outputId": "896a8ba5-3ecb-40e9-b868-01e6bc0b3022"
      },
      "outputs": [
        {
          "data": {
            "text/html": [
              "<div>\n",
              "<style scoped>\n",
              "    .dataframe tbody tr th:only-of-type {\n",
              "        vertical-align: middle;\n",
              "    }\n",
              "\n",
              "    .dataframe tbody tr th {\n",
              "        vertical-align: top;\n",
              "    }\n",
              "\n",
              "    .dataframe thead th {\n",
              "        text-align: right;\n",
              "    }\n",
              "</style>\n",
              "<table border=\"1\" class=\"dataframe\">\n",
              "  <thead>\n",
              "    <tr style=\"text-align: right;\">\n",
              "      <th></th>\n",
              "      <th>Next Inspection</th>\n",
              "      <th>Inspection new</th>\n",
              "      <th>CO2 Emission</th>\n",
              "      <th>Emission Class</th>\n",
              "    </tr>\n",
              "  </thead>\n",
              "  <tbody>\n",
              "    <tr>\n",
              "      <th>0</th>\n",
              "      <td>[\\n06/2021\\n, \\n99 g CO2/km (comb)\\n]</td>\n",
              "      <td>[\\nYes\\n, \\nEuro 6\\n]</td>\n",
              "      <td>[\\n99 g CO2/km (comb)\\n]</td>\n",
              "      <td>[\\nEuro 6\\n]</td>\n",
              "    </tr>\n",
              "    <tr>\n",
              "      <th>1</th>\n",
              "      <td>NaN</td>\n",
              "      <td>NaN</td>\n",
              "      <td>[\\n129 g CO2/km (comb)\\n]</td>\n",
              "      <td>[\\nEuro 6\\n]</td>\n",
              "    </tr>\n",
              "    <tr>\n",
              "      <th>2</th>\n",
              "      <td>NaN</td>\n",
              "      <td>NaN</td>\n",
              "      <td>[\\n99 g CO2/km (comb)\\n]</td>\n",
              "      <td>[\\nEuro 6\\n]</td>\n",
              "    </tr>\n",
              "    <tr>\n",
              "      <th>3</th>\n",
              "      <td>NaN</td>\n",
              "      <td>NaN</td>\n",
              "      <td>[\\n99 g CO2/km (comb)\\n]</td>\n",
              "      <td>[\\nEuro 6\\n]</td>\n",
              "    </tr>\n",
              "    <tr>\n",
              "      <th>4</th>\n",
              "      <td>NaN</td>\n",
              "      <td>[\\nYes\\n, \\n109 g CO2/km (comb)\\n]</td>\n",
              "      <td>[\\n109 g CO2/km (comb)\\n]</td>\n",
              "      <td>[\\nEuro 6\\n]</td>\n",
              "    </tr>\n",
              "  </tbody>\n",
              "</table>\n",
              "</div>"
            ],
            "text/plain": [
              "                         Next Inspection                      Inspection new  \\\n",
              "0  [\\n06/2021\\n, \\n99 g CO2/km (comb)\\n]               [\\nYes\\n, \\nEuro 6\\n]   \n",
              "1                                    NaN                                 NaN   \n",
              "2                                    NaN                                 NaN   \n",
              "3                                    NaN                                 NaN   \n",
              "4                                    NaN  [\\nYes\\n, \\n109 g CO2/km (comb)\\n]   \n",
              "\n",
              "                CO2 Emission Emission Class  \n",
              "0   [\\n99 g CO2/km (comb)\\n]   [\\nEuro 6\\n]  \n",
              "1  [\\n129 g CO2/km (comb)\\n]   [\\nEuro 6\\n]  \n",
              "2   [\\n99 g CO2/km (comb)\\n]   [\\nEuro 6\\n]  \n",
              "3   [\\n99 g CO2/km (comb)\\n]   [\\nEuro 6\\n]  \n",
              "4  [\\n109 g CO2/km (comb)\\n]   [\\nEuro 6\\n]  "
            ]
          },
          "execution_count": 52,
          "metadata": {},
          "output_type": "execute_result"
        }
      ],
      "source": [
        "df[[\"Next Inspection\",\"Inspection new\", 'CO2 Emission', 'Emission Class']].head()"
      ]
    },
    {
      "cell_type": "code",
      "execution_count": 53,
      "metadata": {
        "colab": {
          "base_uri": "https://localhost:8080/"
        },
        "id": "kQALpWTX1Inp",
        "outputId": "519f9894-7a20-43dc-d3fd-468ae3ead525"
      },
      "outputs": [
        {
          "data": {
            "text/plain": [
              "Next Inspection    12384\n",
              "Inspection new     11987\n",
              "CO2 Emission        1808\n",
              "Emission Class      3021\n",
              "dtype: int64"
            ]
          },
          "execution_count": 53,
          "metadata": {},
          "output_type": "execute_result"
        }
      ],
      "source": [
        "df[[\"Next Inspection\",\"Inspection new\", 'CO2 Emission', 'Emission Class']].isnull().sum()"
      ]
    },
    {
      "cell_type": "code",
      "execution_count": null,
      "metadata": {
        "colab": {
          "base_uri": "https://localhost:8080/",
          "height": 528
        },
        "id": "l3mkTk4R1IkW",
        "outputId": "7acdc48f-1ce4-4768-c0f5-0d1ca68f94ee"
      },
      "outputs": [
        {
          "data": {
            "text/html": [
              "\n",
              "  <div id=\"df-c9b3adbc-fb98-402e-9c0b-470fa68c179e\">\n",
              "    <div class=\"colab-df-container\">\n",
              "      <div>\n",
              "<style scoped>\n",
              "    .dataframe tbody tr th:only-of-type {\n",
              "        vertical-align: middle;\n",
              "    }\n",
              "\n",
              "    .dataframe tbody tr th {\n",
              "        vertical-align: top;\n",
              "    }\n",
              "\n",
              "    .dataframe thead th {\n",
              "        text-align: right;\n",
              "    }\n",
              "</style>\n",
              "<table border=\"1\" class=\"dataframe\">\n",
              "  <thead>\n",
              "    <tr style=\"text-align: right;\">\n",
              "      <th></th>\n",
              "      <th>Next Inspection</th>\n",
              "      <th>Inspection new</th>\n",
              "      <th>CO2 Emission</th>\n",
              "      <th>Emission Class</th>\n",
              "    </tr>\n",
              "  </thead>\n",
              "  <tbody>\n",
              "    <tr>\n",
              "      <th>10770</th>\n",
              "      <td>[\\n12/2019\\n, \\n130 g CO2/km (comb)\\n]</td>\n",
              "      <td>NaN</td>\n",
              "      <td>[\\n130 g CO2/km (comb)\\n]</td>\n",
              "      <td>[\\nEuro 6\\n]</td>\n",
              "    </tr>\n",
              "    <tr>\n",
              "      <th>9905</th>\n",
              "      <td>[\\n03/2022\\n, \\n140 g CO2/km (comb)\\n]</td>\n",
              "      <td>NaN</td>\n",
              "      <td>[\\n140 g CO2/km (comb)\\n]</td>\n",
              "      <td>[\\nEuro 6d-TEMP\\n]</td>\n",
              "    </tr>\n",
              "    <tr>\n",
              "      <th>2828</th>\n",
              "      <td>NaN</td>\n",
              "      <td>NaN</td>\n",
              "      <td>[\\n99 g CO2/km (comb)\\n]</td>\n",
              "      <td>[\\nEuro 6\\n]</td>\n",
              "    </tr>\n",
              "    <tr>\n",
              "      <th>8286</th>\n",
              "      <td>NaN</td>\n",
              "      <td>[\\nYes\\n, \\n, 4.7 l/100 km (comb), \\n, 5.8 l/1...</td>\n",
              "      <td>[\\n110 g CO2/km (comb)\\n]</td>\n",
              "      <td>NaN</td>\n",
              "    </tr>\n",
              "    <tr>\n",
              "      <th>13244</th>\n",
              "      <td>NaN</td>\n",
              "      <td>NaN</td>\n",
              "      <td>NaN</td>\n",
              "      <td>NaN</td>\n",
              "    </tr>\n",
              "    <tr>\n",
              "      <th>10306</th>\n",
              "      <td>NaN</td>\n",
              "      <td>NaN</td>\n",
              "      <td>[\\n124 g CO2/km (comb)\\n]</td>\n",
              "      <td>NaN</td>\n",
              "    </tr>\n",
              "    <tr>\n",
              "      <th>5842</th>\n",
              "      <td>NaN</td>\n",
              "      <td>NaN</td>\n",
              "      <td>[\\n130 g CO2/km (comb)\\n]</td>\n",
              "      <td>[\\nEuro 6\\n]</td>\n",
              "    </tr>\n",
              "    <tr>\n",
              "      <th>5639</th>\n",
              "      <td>NaN</td>\n",
              "      <td>\\nYes\\n</td>\n",
              "      <td>[\\n114 g CO2/km (comb)\\n]</td>\n",
              "      <td>[\\nEuro 6d-TEMP\\n]</td>\n",
              "    </tr>\n",
              "    <tr>\n",
              "      <th>9846</th>\n",
              "      <td>[\\n03/2020\\n, \\n140 g CO2/km (comb)\\n]</td>\n",
              "      <td>[\\nYes\\n, \\nEuro 6d-TEMP\\n]</td>\n",
              "      <td>[\\n140 g CO2/km (comb)\\n]</td>\n",
              "      <td>[\\nEuro 6d-TEMP\\n]</td>\n",
              "    </tr>\n",
              "    <tr>\n",
              "      <th>13366</th>\n",
              "      <td>NaN</td>\n",
              "      <td>NaN</td>\n",
              "      <td>[\\n92 g CO2/km (comb)\\n]</td>\n",
              "      <td>[\\nEuro 6\\n]</td>\n",
              "    </tr>\n",
              "  </tbody>\n",
              "</table>\n",
              "</div>\n",
              "      <button class=\"colab-df-convert\" onclick=\"convertToInteractive('df-c9b3adbc-fb98-402e-9c0b-470fa68c179e')\"\n",
              "              title=\"Convert this dataframe to an interactive table.\"\n",
              "              style=\"display:none;\">\n",
              "        \n",
              "  <svg xmlns=\"http://www.w3.org/2000/svg\" height=\"24px\"viewBox=\"0 0 24 24\"\n",
              "       width=\"24px\">\n",
              "    <path d=\"M0 0h24v24H0V0z\" fill=\"none\"/>\n",
              "    <path d=\"M18.56 5.44l.94 2.06.94-2.06 2.06-.94-2.06-.94-.94-2.06-.94 2.06-2.06.94zm-11 1L8.5 8.5l.94-2.06 2.06-.94-2.06-.94L8.5 2.5l-.94 2.06-2.06.94zm10 10l.94 2.06.94-2.06 2.06-.94-2.06-.94-.94-2.06-.94 2.06-2.06.94z\"/><path d=\"M17.41 7.96l-1.37-1.37c-.4-.4-.92-.59-1.43-.59-.52 0-1.04.2-1.43.59L10.3 9.45l-7.72 7.72c-.78.78-.78 2.05 0 2.83L4 21.41c.39.39.9.59 1.41.59.51 0 1.02-.2 1.41-.59l7.78-7.78 2.81-2.81c.8-.78.8-2.07 0-2.86zM5.41 20L4 18.59l7.72-7.72 1.47 1.35L5.41 20z\"/>\n",
              "  </svg>\n",
              "      </button>\n",
              "      \n",
              "  <style>\n",
              "    .colab-df-container {\n",
              "      display:flex;\n",
              "      flex-wrap:wrap;\n",
              "      gap: 12px;\n",
              "    }\n",
              "\n",
              "    .colab-df-convert {\n",
              "      background-color: #E8F0FE;\n",
              "      border: none;\n",
              "      border-radius: 50%;\n",
              "      cursor: pointer;\n",
              "      display: none;\n",
              "      fill: #1967D2;\n",
              "      height: 32px;\n",
              "      padding: 0 0 0 0;\n",
              "      width: 32px;\n",
              "    }\n",
              "\n",
              "    .colab-df-convert:hover {\n",
              "      background-color: #E2EBFA;\n",
              "      box-shadow: 0px 1px 2px rgba(60, 64, 67, 0.3), 0px 1px 3px 1px rgba(60, 64, 67, 0.15);\n",
              "      fill: #174EA6;\n",
              "    }\n",
              "\n",
              "    [theme=dark] .colab-df-convert {\n",
              "      background-color: #3B4455;\n",
              "      fill: #D2E3FC;\n",
              "    }\n",
              "\n",
              "    [theme=dark] .colab-df-convert:hover {\n",
              "      background-color: #434B5C;\n",
              "      box-shadow: 0px 1px 3px 1px rgba(0, 0, 0, 0.15);\n",
              "      filter: drop-shadow(0px 1px 2px rgba(0, 0, 0, 0.3));\n",
              "      fill: #FFFFFF;\n",
              "    }\n",
              "  </style>\n",
              "\n",
              "      <script>\n",
              "        const buttonEl =\n",
              "          document.querySelector('#df-c9b3adbc-fb98-402e-9c0b-470fa68c179e button.colab-df-convert');\n",
              "        buttonEl.style.display =\n",
              "          google.colab.kernel.accessAllowed ? 'block' : 'none';\n",
              "\n",
              "        async function convertToInteractive(key) {\n",
              "          const element = document.querySelector('#df-c9b3adbc-fb98-402e-9c0b-470fa68c179e');\n",
              "          const dataTable =\n",
              "            await google.colab.kernel.invokeFunction('convertToInteractive',\n",
              "                                                     [key], {});\n",
              "          if (!dataTable) return;\n",
              "\n",
              "          const docLinkHtml = 'Like what you see? Visit the ' +\n",
              "            '<a target=\"_blank\" href=https://colab.research.google.com/notebooks/data_table.ipynb>data table notebook</a>'\n",
              "            + ' to learn more about interactive tables.';\n",
              "          element.innerHTML = '';\n",
              "          dataTable['output_type'] = 'display_data';\n",
              "          await google.colab.output.renderOutput(dataTable, element);\n",
              "          const docLink = document.createElement('div');\n",
              "          docLink.innerHTML = docLinkHtml;\n",
              "          element.appendChild(docLink);\n",
              "        }\n",
              "      </script>\n",
              "    </div>\n",
              "  </div>\n",
              "  "
            ],
            "text/plain": [
              "                              Next Inspection  \\\n",
              "10770  [\\n12/2019\\n, \\n130 g CO2/km (comb)\\n]   \n",
              "9905   [\\n03/2022\\n, \\n140 g CO2/km (comb)\\n]   \n",
              "2828                                      NaN   \n",
              "8286                                      NaN   \n",
              "13244                                     NaN   \n",
              "10306                                     NaN   \n",
              "5842                                      NaN   \n",
              "5639                                      NaN   \n",
              "9846   [\\n03/2020\\n, \\n140 g CO2/km (comb)\\n]   \n",
              "13366                                     NaN   \n",
              "\n",
              "                                          Inspection new  \\\n",
              "10770                                                NaN   \n",
              "9905                                                 NaN   \n",
              "2828                                                 NaN   \n",
              "8286   [\\nYes\\n, \\n, 4.7 l/100 km (comb), \\n, 5.8 l/1...   \n",
              "13244                                                NaN   \n",
              "10306                                                NaN   \n",
              "5842                                                 NaN   \n",
              "5639                                             \\nYes\\n   \n",
              "9846                         [\\nYes\\n, \\nEuro 6d-TEMP\\n]   \n",
              "13366                                                NaN   \n",
              "\n",
              "                    CO2 Emission      Emission Class  \n",
              "10770  [\\n130 g CO2/km (comb)\\n]        [\\nEuro 6\\n]  \n",
              "9905   [\\n140 g CO2/km (comb)\\n]  [\\nEuro 6d-TEMP\\n]  \n",
              "2828    [\\n99 g CO2/km (comb)\\n]        [\\nEuro 6\\n]  \n",
              "8286   [\\n110 g CO2/km (comb)\\n]                 NaN  \n",
              "13244                        NaN                 NaN  \n",
              "10306  [\\n124 g CO2/km (comb)\\n]                 NaN  \n",
              "5842   [\\n130 g CO2/km (comb)\\n]        [\\nEuro 6\\n]  \n",
              "5639   [\\n114 g CO2/km (comb)\\n]  [\\nEuro 6d-TEMP\\n]  \n",
              "9846   [\\n140 g CO2/km (comb)\\n]  [\\nEuro 6d-TEMP\\n]  \n",
              "13366   [\\n92 g CO2/km (comb)\\n]        [\\nEuro 6\\n]  "
            ]
          },
          "execution_count": 274,
          "metadata": {},
          "output_type": "execute_result"
        }
      ],
      "source": [
        "df[[\"Next Inspection\",\"Inspection new\", 'CO2 Emission', 'Emission Class']].sample(10)"
      ]
    },
    {
      "cell_type": "code",
      "execution_count": 54,
      "metadata": {
        "colab": {
          "base_uri": "https://localhost:8080/",
          "height": 580
        },
        "id": "xNdFOadZ2lP3",
        "outputId": "d6f79e66-9caf-47de-853d-84778bd2f0da"
      },
      "outputs": [
        {
          "data": {
            "text/html": [
              "<div>\n",
              "<style scoped>\n",
              "    .dataframe tbody tr th:only-of-type {\n",
              "        vertical-align: middle;\n",
              "    }\n",
              "\n",
              "    .dataframe tbody tr th {\n",
              "        vertical-align: top;\n",
              "    }\n",
              "\n",
              "    .dataframe thead th {\n",
              "        text-align: right;\n",
              "    }\n",
              "</style>\n",
              "<table border=\"1\" class=\"dataframe\">\n",
              "  <thead>\n",
              "    <tr style=\"text-align: right;\">\n",
              "      <th></th>\n",
              "      <th>Next Inspection</th>\n",
              "      <th>Inspection new</th>\n",
              "      <th>CO2 Emission</th>\n",
              "      <th>Emission Class</th>\n",
              "      <th>First Registration</th>\n",
              "    </tr>\n",
              "  </thead>\n",
              "  <tbody>\n",
              "    <tr>\n",
              "      <th>6613</th>\n",
              "      <td>NaN</td>\n",
              "      <td>NaN</td>\n",
              "      <td>[\\n130 g CO2/km (comb)\\n]</td>\n",
              "      <td>[\\nEuro 6d-TEMP\\n]</td>\n",
              "      <td>[\\n, 2018, \\n]</td>\n",
              "    </tr>\n",
              "    <tr>\n",
              "      <th>8347</th>\n",
              "      <td>NaN</td>\n",
              "      <td>\\nYes\\n</td>\n",
              "      <td>[\\n140 g CO2/km (comb)\\n]</td>\n",
              "      <td>[\\nEuro 6\\n]</td>\n",
              "      <td>[\\n, 2018, \\n]</td>\n",
              "    </tr>\n",
              "    <tr>\n",
              "      <th>7960</th>\n",
              "      <td>NaN</td>\n",
              "      <td>NaN</td>\n",
              "      <td>[[], [], []]</td>\n",
              "      <td>[\\nEuro 6\\n]</td>\n",
              "      <td>[\\n, 2019, \\n]</td>\n",
              "    </tr>\n",
              "    <tr>\n",
              "      <th>3767</th>\n",
              "      <td>[\\n02/2021\\n, \\n99 g CO2/km (comb)\\n]</td>\n",
              "      <td>NaN</td>\n",
              "      <td>[\\n99 g CO2/km (comb)\\n]</td>\n",
              "      <td>[\\nEuro 6\\n]</td>\n",
              "      <td>[\\n, 2017, \\n]</td>\n",
              "    </tr>\n",
              "    <tr>\n",
              "      <th>1807</th>\n",
              "      <td>[\\n06/2021\\n, \\n97 g CO2/km (comb)\\n]</td>\n",
              "      <td>NaN</td>\n",
              "      <td>[\\n97 g CO2/km (comb)\\n]</td>\n",
              "      <td>[\\nEuro 6\\n]</td>\n",
              "      <td>[\\n, 2018, \\n]</td>\n",
              "    </tr>\n",
              "    <tr>\n",
              "      <th>4998</th>\n",
              "      <td>NaN</td>\n",
              "      <td>NaN</td>\n",
              "      <td>[\\n103 g CO2/km (comb)\\n]</td>\n",
              "      <td>[\\nEuro 6d-TEMP\\n]</td>\n",
              "      <td>[\\n, 2019, \\n]</td>\n",
              "    </tr>\n",
              "    <tr>\n",
              "      <th>5614</th>\n",
              "      <td>NaN</td>\n",
              "      <td>NaN</td>\n",
              "      <td>[\\n124 g CO2/km (comb)\\n]</td>\n",
              "      <td>[\\nEuro 6d-TEMP\\n]</td>\n",
              "      <td>NaN</td>\n",
              "    </tr>\n",
              "    <tr>\n",
              "      <th>213</th>\n",
              "      <td>NaN</td>\n",
              "      <td>[\\nYes\\n, \\n102 g CO2/km (comb)\\n]</td>\n",
              "      <td>[\\n102 g CO2/km (comb)\\n]</td>\n",
              "      <td>[\\nEuro 6\\n]</td>\n",
              "      <td>[\\n, 2016, \\n]</td>\n",
              "    </tr>\n",
              "    <tr>\n",
              "      <th>6709</th>\n",
              "      <td>NaN</td>\n",
              "      <td>NaN</td>\n",
              "      <td>[\\n104 g CO2/km (comb)\\n]</td>\n",
              "      <td>[\\nEuro 6\\n]</td>\n",
              "      <td>[\\n, 2018, \\n]</td>\n",
              "    </tr>\n",
              "    <tr>\n",
              "      <th>4780</th>\n",
              "      <td>[\\n06/2021\\n, \\n116 g CO2/km (comb)\\n]</td>\n",
              "      <td>[\\nYes\\n, \\nEuro 6d-TEMP\\n]</td>\n",
              "      <td>[\\n116 g CO2/km (comb)\\n]</td>\n",
              "      <td>[\\nEuro 6d-TEMP\\n]</td>\n",
              "      <td>[\\n, 2018, \\n]</td>\n",
              "    </tr>\n",
              "  </tbody>\n",
              "</table>\n",
              "</div>"
            ],
            "text/plain": [
              "                             Next Inspection  \\\n",
              "6613                                     NaN   \n",
              "8347                                     NaN   \n",
              "7960                                     NaN   \n",
              "3767   [\\n02/2021\\n, \\n99 g CO2/km (comb)\\n]   \n",
              "1807   [\\n06/2021\\n, \\n97 g CO2/km (comb)\\n]   \n",
              "4998                                     NaN   \n",
              "5614                                     NaN   \n",
              "213                                      NaN   \n",
              "6709                                     NaN   \n",
              "4780  [\\n06/2021\\n, \\n116 g CO2/km (comb)\\n]   \n",
              "\n",
              "                          Inspection new               CO2 Emission  \\\n",
              "6613                                 NaN  [\\n130 g CO2/km (comb)\\n]   \n",
              "8347                             \\nYes\\n  [\\n140 g CO2/km (comb)\\n]   \n",
              "7960                                 NaN               [[], [], []]   \n",
              "3767                                 NaN   [\\n99 g CO2/km (comb)\\n]   \n",
              "1807                                 NaN   [\\n97 g CO2/km (comb)\\n]   \n",
              "4998                                 NaN  [\\n103 g CO2/km (comb)\\n]   \n",
              "5614                                 NaN  [\\n124 g CO2/km (comb)\\n]   \n",
              "213   [\\nYes\\n, \\n102 g CO2/km (comb)\\n]  [\\n102 g CO2/km (comb)\\n]   \n",
              "6709                                 NaN  [\\n104 g CO2/km (comb)\\n]   \n",
              "4780         [\\nYes\\n, \\nEuro 6d-TEMP\\n]  [\\n116 g CO2/km (comb)\\n]   \n",
              "\n",
              "          Emission Class First Registration  \n",
              "6613  [\\nEuro 6d-TEMP\\n]     [\\n, 2018, \\n]  \n",
              "8347        [\\nEuro 6\\n]     [\\n, 2018, \\n]  \n",
              "7960        [\\nEuro 6\\n]     [\\n, 2019, \\n]  \n",
              "3767        [\\nEuro 6\\n]     [\\n, 2017, \\n]  \n",
              "1807        [\\nEuro 6\\n]     [\\n, 2018, \\n]  \n",
              "4998  [\\nEuro 6d-TEMP\\n]     [\\n, 2019, \\n]  \n",
              "5614  [\\nEuro 6d-TEMP\\n]                NaN  \n",
              "213         [\\nEuro 6\\n]     [\\n, 2016, \\n]  \n",
              "6709        [\\nEuro 6\\n]     [\\n, 2018, \\n]  \n",
              "4780  [\\nEuro 6d-TEMP\\n]     [\\n, 2018, \\n]  "
            ]
          },
          "execution_count": 54,
          "metadata": {},
          "output_type": "execute_result"
        }
      ],
      "source": [
        "df[[\"Next Inspection\",\"Inspection new\", 'CO2 Emission', 'Emission Class',\"First Registration\"]].sample(10)\n",
        "#baska yil ile baglanti kurulmali "
      ]
    },
    {
      "cell_type": "code",
      "execution_count": 57,
      "metadata": {
        "colab": {
          "base_uri": "https://localhost:8080/",
          "height": 580
        },
        "id": "oQ502muv6WlP",
        "outputId": "54ff361a-3815-4b39-cd61-decabc24aa0c"
      },
      "outputs": [
        {
          "data": {
            "text/html": [
              "<div>\n",
              "<style scoped>\n",
              "    .dataframe tbody tr th:only-of-type {\n",
              "        vertical-align: middle;\n",
              "    }\n",
              "\n",
              "    .dataframe tbody tr th {\n",
              "        vertical-align: top;\n",
              "    }\n",
              "\n",
              "    .dataframe thead th {\n",
              "        text-align: right;\n",
              "    }\n",
              "</style>\n",
              "<table border=\"1\" class=\"dataframe\">\n",
              "  <thead>\n",
              "    <tr style=\"text-align: right;\">\n",
              "      <th></th>\n",
              "      <th>Next Inspection</th>\n",
              "      <th>Warranty</th>\n",
              "      <th>Inspection new</th>\n",
              "      <th>CO2 Emission</th>\n",
              "      <th>Emission Class</th>\n",
              "    </tr>\n",
              "  </thead>\n",
              "  <tbody>\n",
              "    <tr>\n",
              "      <th>7040</th>\n",
              "      <td>NaN</td>\n",
              "      <td>[\\n, \\n, \\nEuro 6\\n]</td>\n",
              "      <td>[\\nYes\\n, \\n115 g CO2/km (comb)\\n]</td>\n",
              "      <td>[\\n115 g CO2/km (comb)\\n]</td>\n",
              "      <td>[\\nEuro 6\\n]</td>\n",
              "    </tr>\n",
              "    <tr>\n",
              "      <th>13339</th>\n",
              "      <td>NaN</td>\n",
              "      <td>NaN</td>\n",
              "      <td>NaN</td>\n",
              "      <td>[\\n126 g CO2/km (comb)\\n]</td>\n",
              "      <td>[\\nEuro 6\\n]</td>\n",
              "    </tr>\n",
              "    <tr>\n",
              "      <th>13993</th>\n",
              "      <td>NaN</td>\n",
              "      <td>NaN</td>\n",
              "      <td>NaN</td>\n",
              "      <td>NaN</td>\n",
              "      <td>[[], [], []]</td>\n",
              "    </tr>\n",
              "    <tr>\n",
              "      <th>1655</th>\n",
              "      <td>[\\n05/2021\\n, \\n0 kWh/100 km (comb)\\n]</td>\n",
              "      <td>[\\n12 months\\n, \\n102 g CO2/km (comb)\\n]</td>\n",
              "      <td>NaN</td>\n",
              "      <td>[\\n102 g CO2/km (comb)\\n]</td>\n",
              "      <td>NaN</td>\n",
              "    </tr>\n",
              "    <tr>\n",
              "      <th>12264</th>\n",
              "      <td>NaN</td>\n",
              "      <td>[\\n, \\n, \\n133 g CO2/km (comb)\\n]</td>\n",
              "      <td>NaN</td>\n",
              "      <td>[\\n133 g CO2/km (comb)\\n]</td>\n",
              "      <td>[\\nEuro 6\\n]</td>\n",
              "    </tr>\n",
              "    <tr>\n",
              "      <th>11445</th>\n",
              "      <td>[\\n07/2018\\n, \\n134 g CO2/km (comb)\\n]</td>\n",
              "      <td>[\\n, \\n, \\n4 (Green)\\n]</td>\n",
              "      <td>[\\nYes\\n, \\nEuro 6\\n]</td>\n",
              "      <td>[\\n134 g CO2/km (comb)\\n]</td>\n",
              "      <td>[\\nEuro 6\\n]</td>\n",
              "    </tr>\n",
              "    <tr>\n",
              "      <th>9650</th>\n",
              "      <td>NaN</td>\n",
              "      <td>[\\n, \\n, \\n142 g CO2/km (comb)\\n]</td>\n",
              "      <td>NaN</td>\n",
              "      <td>[\\n142 g CO2/km (comb)\\n]</td>\n",
              "      <td>[\\nEuro 6c\\n]</td>\n",
              "    </tr>\n",
              "    <tr>\n",
              "      <th>3405</th>\n",
              "      <td>NaN</td>\n",
              "      <td>NaN</td>\n",
              "      <td>NaN</td>\n",
              "      <td>[\\n119 g CO2/km (comb)\\n]</td>\n",
              "      <td>[\\nEuro 6\\n]</td>\n",
              "    </tr>\n",
              "    <tr>\n",
              "      <th>9925</th>\n",
              "      <td>\\n03/2023\\n</td>\n",
              "      <td>NaN</td>\n",
              "      <td>NaN</td>\n",
              "      <td>[[], [], []]</td>\n",
              "      <td>NaN</td>\n",
              "    </tr>\n",
              "    <tr>\n",
              "      <th>11821</th>\n",
              "      <td>[\\n06/2021\\n, \\n148 g CO2/km (comb)\\n]</td>\n",
              "      <td>[\\n, \\n, \\n4 (Green)\\n]</td>\n",
              "      <td>[\\nYes\\n, \\nEuro 6\\n]</td>\n",
              "      <td>[\\n148 g CO2/km (comb)\\n]</td>\n",
              "      <td>[\\nEuro 6\\n]</td>\n",
              "    </tr>\n",
              "  </tbody>\n",
              "</table>\n",
              "</div>"
            ],
            "text/plain": [
              "                              Next Inspection  \\\n",
              "7040                                      NaN   \n",
              "13339                                     NaN   \n",
              "13993                                     NaN   \n",
              "1655   [\\n05/2021\\n, \\n0 kWh/100 km (comb)\\n]   \n",
              "12264                                     NaN   \n",
              "11445  [\\n07/2018\\n, \\n134 g CO2/km (comb)\\n]   \n",
              "9650                                      NaN   \n",
              "3405                                      NaN   \n",
              "9925                              \\n03/2023\\n   \n",
              "11821  [\\n06/2021\\n, \\n148 g CO2/km (comb)\\n]   \n",
              "\n",
              "                                       Warranty  \\\n",
              "7040                       [\\n, \\n, \\nEuro 6\\n]   \n",
              "13339                                       NaN   \n",
              "13993                                       NaN   \n",
              "1655   [\\n12 months\\n, \\n102 g CO2/km (comb)\\n]   \n",
              "12264         [\\n, \\n, \\n133 g CO2/km (comb)\\n]   \n",
              "11445                   [\\n, \\n, \\n4 (Green)\\n]   \n",
              "9650          [\\n, \\n, \\n142 g CO2/km (comb)\\n]   \n",
              "3405                                        NaN   \n",
              "9925                                        NaN   \n",
              "11821                   [\\n, \\n, \\n4 (Green)\\n]   \n",
              "\n",
              "                           Inspection new               CO2 Emission  \\\n",
              "7040   [\\nYes\\n, \\n115 g CO2/km (comb)\\n]  [\\n115 g CO2/km (comb)\\n]   \n",
              "13339                                 NaN  [\\n126 g CO2/km (comb)\\n]   \n",
              "13993                                 NaN                        NaN   \n",
              "1655                                  NaN  [\\n102 g CO2/km (comb)\\n]   \n",
              "12264                                 NaN  [\\n133 g CO2/km (comb)\\n]   \n",
              "11445               [\\nYes\\n, \\nEuro 6\\n]  [\\n134 g CO2/km (comb)\\n]   \n",
              "9650                                  NaN  [\\n142 g CO2/km (comb)\\n]   \n",
              "3405                                  NaN  [\\n119 g CO2/km (comb)\\n]   \n",
              "9925                                  NaN               [[], [], []]   \n",
              "11821               [\\nYes\\n, \\nEuro 6\\n]  [\\n148 g CO2/km (comb)\\n]   \n",
              "\n",
              "      Emission Class  \n",
              "7040    [\\nEuro 6\\n]  \n",
              "13339   [\\nEuro 6\\n]  \n",
              "13993   [[], [], []]  \n",
              "1655             NaN  \n",
              "12264   [\\nEuro 6\\n]  \n",
              "11445   [\\nEuro 6\\n]  \n",
              "9650   [\\nEuro 6c\\n]  \n",
              "3405    [\\nEuro 6\\n]  \n",
              "9925             NaN  \n",
              "11821   [\\nEuro 6\\n]  "
            ]
          },
          "execution_count": 57,
          "metadata": {},
          "output_type": "execute_result"
        }
      ],
      "source": [
        "df[[\"Next Inspection\",\"Warranty\",\"Inspection new\", \"CO2 Emission\", \"Emission Class\"]].sample(10)"
      ]
    },
    {
      "cell_type": "code",
      "execution_count": null,
      "metadata": {
        "id": "cPXFzwAX6WiA"
      },
      "outputs": [],
      "source": []
    },
    {
      "cell_type": "code",
      "execution_count": null,
      "metadata": {
        "id": "7ZieK-o46Wem"
      },
      "outputs": [],
      "source": []
    },
    {
      "cell_type": "code",
      "execution_count": null,
      "metadata": {
        "colab": {
          "base_uri": "https://localhost:8080/"
        },
        "id": "JKP-cxV5Y9tY",
        "outputId": "2d56d8fd-ea2e-4c11-fc06-7752c3a1be1c"
      },
      "outputs": [
        {
          "data": {
            "text/plain": [
              "5420"
            ]
          },
          "execution_count": 277,
          "metadata": {},
          "output_type": "execute_result"
        }
      ],
      "source": [
        "df.Warranty.isnull().sum()"
      ]
    },
    {
      "cell_type": "code",
      "execution_count": null,
      "metadata": {
        "colab": {
          "base_uri": "https://localhost:8080/"
        },
        "id": "oZDuZM_IYkFm",
        "outputId": "0820b204-7bc2-477b-af5d-cf74e1dce067"
      },
      "outputs": [
        {
          "data": {
            "text/plain": [
              "<bound method Series.unique of 0                 [\\n, \\n, \\n4 (Green)\\n]\n",
              "1                                     NaN\n",
              "2        [\\n, \\n, \\n99 g CO2/km (comb)\\n]\n",
              "3                                     NaN\n",
              "4                    [\\n, \\n, \\nEuro 6\\n]\n",
              "                       ...               \n",
              "15914                       \\n24 months\\n\n",
              "15915                [\\n, \\n, \\nEuro 6\\n]\n",
              "15916             [\\n, \\n, \\n4 (Green)\\n]\n",
              "15917                                  \\n\n",
              "15918                                 NaN\n",
              "Name: Warranty, Length: 15919, dtype: object>"
            ]
          },
          "execution_count": 278,
          "metadata": {},
          "output_type": "execute_result"
        }
      ],
      "source": [
        "df.Warranty.unique"
      ]
    },
    {
      "cell_type": "code",
      "execution_count": null,
      "metadata": {
        "colab": {
          "base_uri": "https://localhost:8080/",
          "height": 545
        },
        "id": "gCXApZU96kWq",
        "outputId": "66820147-d595-49f4-c7fb-e85228e11900"
      },
      "outputs": [
        {
          "data": {
            "text/html": [
              "\n",
              "  <div id=\"df-64743eea-84ea-4f51-ae15-08c1704ae1c9\">\n",
              "    <div class=\"colab-df-container\">\n",
              "      <div>\n",
              "<style scoped>\n",
              "    .dataframe tbody tr th:only-of-type {\n",
              "        vertical-align: middle;\n",
              "    }\n",
              "\n",
              "    .dataframe tbody tr th {\n",
              "        vertical-align: top;\n",
              "    }\n",
              "\n",
              "    .dataframe thead th {\n",
              "        text-align: right;\n",
              "    }\n",
              "</style>\n",
              "<table border=\"1\" class=\"dataframe\">\n",
              "  <thead>\n",
              "    <tr style=\"text-align: right;\">\n",
              "      <th></th>\n",
              "      <th>Next Inspection</th>\n",
              "      <th>Warranty</th>\n",
              "      <th>Inspection new</th>\n",
              "      <th>CO2 Emission</th>\n",
              "      <th>Emission Class</th>\n",
              "    </tr>\n",
              "  </thead>\n",
              "  <tbody>\n",
              "    <tr>\n",
              "      <th>5368</th>\n",
              "      <td>NaN</td>\n",
              "      <td>NaN</td>\n",
              "      <td>NaN</td>\n",
              "      <td>NaN</td>\n",
              "      <td>NaN</td>\n",
              "    </tr>\n",
              "    <tr>\n",
              "      <th>15231</th>\n",
              "      <td>NaN</td>\n",
              "      <td>[\\n, \\n, \\n120 g CO2/km (comb)\\n]</td>\n",
              "      <td>NaN</td>\n",
              "      <td>[\\n120 g CO2/km (comb)\\n]</td>\n",
              "      <td>[\\nEuro 6\\n]</td>\n",
              "    </tr>\n",
              "    <tr>\n",
              "      <th>3418</th>\n",
              "      <td>NaN</td>\n",
              "      <td>NaN</td>\n",
              "      <td>NaN</td>\n",
              "      <td>[\\n99 g CO2/km (comb)\\n]</td>\n",
              "      <td>[\\nEuro 6\\n]</td>\n",
              "    </tr>\n",
              "    <tr>\n",
              "      <th>8943</th>\n",
              "      <td>NaN</td>\n",
              "      <td>NaN</td>\n",
              "      <td>[\\nYes\\n, \\nEuro 6\\n]</td>\n",
              "      <td>NaN</td>\n",
              "      <td>[\\nEuro 6\\n]</td>\n",
              "    </tr>\n",
              "    <tr>\n",
              "      <th>7249</th>\n",
              "      <td>NaN</td>\n",
              "      <td>[\\n, \\n, \\nEuro 6\\n]</td>\n",
              "      <td>[\\nYes\\n, \\n128 g CO2/km (comb)\\n]</td>\n",
              "      <td>[\\n128 g CO2/km (comb)\\n]</td>\n",
              "      <td>[\\nEuro 6\\n]</td>\n",
              "    </tr>\n",
              "    <tr>\n",
              "      <th>15594</th>\n",
              "      <td>NaN</td>\n",
              "      <td>[\\n, \\n, \\n4 (Green)\\n]</td>\n",
              "      <td>[\\nYes\\n, \\nEuro 6d-TEMP\\n]</td>\n",
              "      <td>[\\n135 g CO2/km (comb)\\n]</td>\n",
              "      <td>[\\nEuro 6d-TEMP\\n]</td>\n",
              "    </tr>\n",
              "    <tr>\n",
              "      <th>6023</th>\n",
              "      <td>NaN</td>\n",
              "      <td>\\n12 months\\n</td>\n",
              "      <td>NaN</td>\n",
              "      <td>[\\n104 g CO2/km (comb)\\n]</td>\n",
              "      <td>[\\nEuro 6\\n]</td>\n",
              "    </tr>\n",
              "    <tr>\n",
              "      <th>13476</th>\n",
              "      <td>NaN</td>\n",
              "      <td>\\n12 months\\n</td>\n",
              "      <td>NaN</td>\n",
              "      <td>NaN</td>\n",
              "      <td>NaN</td>\n",
              "    </tr>\n",
              "    <tr>\n",
              "      <th>15249</th>\n",
              "      <td>NaN</td>\n",
              "      <td>[\\n, \\n, \\n123 g CO2/km (comb)\\n]</td>\n",
              "      <td>NaN</td>\n",
              "      <td>[\\n123 g CO2/km (comb)\\n]</td>\n",
              "      <td>[\\nEuro 6\\n]</td>\n",
              "    </tr>\n",
              "    <tr>\n",
              "      <th>1018</th>\n",
              "      <td>NaN</td>\n",
              "      <td>NaN</td>\n",
              "      <td>[\\nYes\\n, \\n123 g CO2/km (comb)\\n]</td>\n",
              "      <td>[\\n123 g CO2/km (comb)\\n]</td>\n",
              "      <td>[\\nEuro 6\\n]</td>\n",
              "    </tr>\n",
              "  </tbody>\n",
              "</table>\n",
              "</div>\n",
              "      <button class=\"colab-df-convert\" onclick=\"convertToInteractive('df-64743eea-84ea-4f51-ae15-08c1704ae1c9')\"\n",
              "              title=\"Convert this dataframe to an interactive table.\"\n",
              "              style=\"display:none;\">\n",
              "        \n",
              "  <svg xmlns=\"http://www.w3.org/2000/svg\" height=\"24px\"viewBox=\"0 0 24 24\"\n",
              "       width=\"24px\">\n",
              "    <path d=\"M0 0h24v24H0V0z\" fill=\"none\"/>\n",
              "    <path d=\"M18.56 5.44l.94 2.06.94-2.06 2.06-.94-2.06-.94-.94-2.06-.94 2.06-2.06.94zm-11 1L8.5 8.5l.94-2.06 2.06-.94-2.06-.94L8.5 2.5l-.94 2.06-2.06.94zm10 10l.94 2.06.94-2.06 2.06-.94-2.06-.94-.94-2.06-.94 2.06-2.06.94z\"/><path d=\"M17.41 7.96l-1.37-1.37c-.4-.4-.92-.59-1.43-.59-.52 0-1.04.2-1.43.59L10.3 9.45l-7.72 7.72c-.78.78-.78 2.05 0 2.83L4 21.41c.39.39.9.59 1.41.59.51 0 1.02-.2 1.41-.59l7.78-7.78 2.81-2.81c.8-.78.8-2.07 0-2.86zM5.41 20L4 18.59l7.72-7.72 1.47 1.35L5.41 20z\"/>\n",
              "  </svg>\n",
              "      </button>\n",
              "      \n",
              "  <style>\n",
              "    .colab-df-container {\n",
              "      display:flex;\n",
              "      flex-wrap:wrap;\n",
              "      gap: 12px;\n",
              "    }\n",
              "\n",
              "    .colab-df-convert {\n",
              "      background-color: #E8F0FE;\n",
              "      border: none;\n",
              "      border-radius: 50%;\n",
              "      cursor: pointer;\n",
              "      display: none;\n",
              "      fill: #1967D2;\n",
              "      height: 32px;\n",
              "      padding: 0 0 0 0;\n",
              "      width: 32px;\n",
              "    }\n",
              "\n",
              "    .colab-df-convert:hover {\n",
              "      background-color: #E2EBFA;\n",
              "      box-shadow: 0px 1px 2px rgba(60, 64, 67, 0.3), 0px 1px 3px 1px rgba(60, 64, 67, 0.15);\n",
              "      fill: #174EA6;\n",
              "    }\n",
              "\n",
              "    [theme=dark] .colab-df-convert {\n",
              "      background-color: #3B4455;\n",
              "      fill: #D2E3FC;\n",
              "    }\n",
              "\n",
              "    [theme=dark] .colab-df-convert:hover {\n",
              "      background-color: #434B5C;\n",
              "      box-shadow: 0px 1px 3px 1px rgba(0, 0, 0, 0.15);\n",
              "      filter: drop-shadow(0px 1px 2px rgba(0, 0, 0, 0.3));\n",
              "      fill: #FFFFFF;\n",
              "    }\n",
              "  </style>\n",
              "\n",
              "      <script>\n",
              "        const buttonEl =\n",
              "          document.querySelector('#df-64743eea-84ea-4f51-ae15-08c1704ae1c9 button.colab-df-convert');\n",
              "        buttonEl.style.display =\n",
              "          google.colab.kernel.accessAllowed ? 'block' : 'none';\n",
              "\n",
              "        async function convertToInteractive(key) {\n",
              "          const element = document.querySelector('#df-64743eea-84ea-4f51-ae15-08c1704ae1c9');\n",
              "          const dataTable =\n",
              "            await google.colab.kernel.invokeFunction('convertToInteractive',\n",
              "                                                     [key], {});\n",
              "          if (!dataTable) return;\n",
              "\n",
              "          const docLinkHtml = 'Like what you see? Visit the ' +\n",
              "            '<a target=\"_blank\" href=https://colab.research.google.com/notebooks/data_table.ipynb>data table notebook</a>'\n",
              "            + ' to learn more about interactive tables.';\n",
              "          element.innerHTML = '';\n",
              "          dataTable['output_type'] = 'display_data';\n",
              "          await google.colab.output.renderOutput(dataTable, element);\n",
              "          const docLink = document.createElement('div');\n",
              "          docLink.innerHTML = docLinkHtml;\n",
              "          element.appendChild(docLink);\n",
              "        }\n",
              "      </script>\n",
              "    </div>\n",
              "  </div>\n",
              "  "
            ],
            "text/plain": [
              "      Next Inspection                           Warranty  \\\n",
              "5368              NaN                                NaN   \n",
              "15231             NaN  [\\n, \\n, \\n120 g CO2/km (comb)\\n]   \n",
              "3418              NaN                                NaN   \n",
              "8943              NaN                                NaN   \n",
              "7249              NaN               [\\n, \\n, \\nEuro 6\\n]   \n",
              "15594             NaN            [\\n, \\n, \\n4 (Green)\\n]   \n",
              "6023              NaN                      \\n12 months\\n   \n",
              "13476             NaN                      \\n12 months\\n   \n",
              "15249             NaN  [\\n, \\n, \\n123 g CO2/km (comb)\\n]   \n",
              "1018              NaN                                NaN   \n",
              "\n",
              "                           Inspection new               CO2 Emission  \\\n",
              "5368                                  NaN                        NaN   \n",
              "15231                                 NaN  [\\n120 g CO2/km (comb)\\n]   \n",
              "3418                                  NaN   [\\n99 g CO2/km (comb)\\n]   \n",
              "8943                [\\nYes\\n, \\nEuro 6\\n]                        NaN   \n",
              "7249   [\\nYes\\n, \\n128 g CO2/km (comb)\\n]  [\\n128 g CO2/km (comb)\\n]   \n",
              "15594         [\\nYes\\n, \\nEuro 6d-TEMP\\n]  [\\n135 g CO2/km (comb)\\n]   \n",
              "6023                                  NaN  [\\n104 g CO2/km (comb)\\n]   \n",
              "13476                                 NaN                        NaN   \n",
              "15249                                 NaN  [\\n123 g CO2/km (comb)\\n]   \n",
              "1018   [\\nYes\\n, \\n123 g CO2/km (comb)\\n]  [\\n123 g CO2/km (comb)\\n]   \n",
              "\n",
              "           Emission Class  \n",
              "5368                  NaN  \n",
              "15231        [\\nEuro 6\\n]  \n",
              "3418         [\\nEuro 6\\n]  \n",
              "8943         [\\nEuro 6\\n]  \n",
              "7249         [\\nEuro 6\\n]  \n",
              "15594  [\\nEuro 6d-TEMP\\n]  \n",
              "6023         [\\nEuro 6\\n]  \n",
              "13476                 NaN  \n",
              "15249        [\\nEuro 6\\n]  \n",
              "1018         [\\nEuro 6\\n]  "
            ]
          },
          "execution_count": 279,
          "metadata": {},
          "output_type": "execute_result"
        }
      ],
      "source": [
        "df[[\"Next Inspection\",\"Warranty\",\"Inspection new\", \"CO2 Emission\", \"Emission Class\"]].sample(10)"
      ]
    },
    {
      "cell_type": "code",
      "execution_count": null,
      "metadata": {
        "colab": {
          "base_uri": "https://localhost:8080/"
        },
        "id": "Ygd8sLcf61iW",
        "outputId": "91bc3680-9fd7-4d32-ae05-d73d24eba732"
      },
      "outputs": [
        {
          "data": {
            "text/plain": [
              "5420"
            ]
          },
          "execution_count": 280,
          "metadata": {},
          "output_type": "execute_result"
        }
      ],
      "source": [
        "df.Warranty.isnull().sum()"
      ]
    },
    {
      "cell_type": "code",
      "execution_count": null,
      "metadata": {
        "colab": {
          "base_uri": "https://localhost:8080/",
          "height": 446
        },
        "id": "IPNk6rS761X1",
        "outputId": "9dd21841-94e4-4377-83ef-3964699a3d76"
      },
      "outputs": [
        {
          "ename": "TypeError",
          "evalue": "ignored",
          "output_type": "error",
          "traceback": [
            "\u001b[0;31m---------------------------------------------------------------------------\u001b[0m",
            "\u001b[0;31mTypeError\u001b[0m                                 Traceback (most recent call last)",
            "\u001b[0;32mpandas/_libs/hashtable_class_helper.pxi\u001b[0m in \u001b[0;36mpandas._libs.hashtable.PyObjectHashTable.map_locations\u001b[0;34m()\u001b[0m\n",
            "\u001b[0;31mTypeError\u001b[0m: unhashable type: 'list'"
          ]
        },
        {
          "name": "stderr",
          "output_type": "stream",
          "text": [
            "Exception ignored in: 'pandas._libs.index.IndexEngine._call_map_locations'\n",
            "Traceback (most recent call last):\n",
            "  File \"pandas/_libs/hashtable_class_helper.pxi\", line 5231, in pandas._libs.hashtable.PyObjectHashTable.map_locations\n",
            "TypeError: unhashable type: 'list'\n"
          ]
        },
        {
          "data": {
            "text/plain": [
              "[\\n, \\n, \\nEuro 6\\n]                                                                               1868\n",
              "\\n12 months\\n                                                                                      1177\n",
              "\\n                                                                                                  979\n",
              "\\n24 months\\n                                                                                       566\n",
              "[\\n, \\n, \\n4 (Green)\\n]                                                                             517\n",
              "                                                                                                   ... \n",
              "[\\n72 months\\n, \\n125 g CO2/km (comb)\\n]                                                              1\n",
              "[\\n60 months\\n, \\n14 g CO2/km (comb)\\n]                                                               1\n",
              "[\\n24 months\\n, \\n121 g CO2/km (comb)\\n]                                                              1\n",
              "[\\n12 months\\n, \\nEuro 6d\\n]                                                                          1\n",
              "[\\n36 months\\n, \\n, 7.4 l/100 km (comb), \\n, 9.6 l/100 km (city), \\n, 6 l/100 km (country), \\n]       1\n",
              "Name: Warranty, Length: 515, dtype: int64"
            ]
          },
          "execution_count": 281,
          "metadata": {},
          "output_type": "execute_result"
        }
      ],
      "source": [
        "df.Warranty.value_counts()"
      ]
    },
    {
      "cell_type": "code",
      "execution_count": null,
      "metadata": {
        "colab": {
          "base_uri": "https://localhost:8080/"
        },
        "id": "S03rvG9acDvP",
        "outputId": "af082d89-dcc2-4ed6-a2b2-9dd7c34b5d33"
      },
      "outputs": [
        {
          "data": {
            "text/plain": [
              "<bound method Series.unique of 0                                [\\n, \\n]\n",
              "1                                     NaN\n",
              "2                                     NaN\n",
              "3        [\\n, \\n, \\n99 g CO2/km (comb)\\n]\n",
              "4                 [\\n, \\n, \\n4 (Green)\\n]\n",
              "                       ...               \n",
              "15914                                 NaN\n",
              "15915                                 NaN\n",
              "15916                            [\\n, \\n]\n",
              "15917                                 NaN\n",
              "15918                                 NaN\n",
              "Name: Full Service, Length: 15919, dtype: object>"
            ]
          },
          "execution_count": 282,
          "metadata": {},
          "output_type": "execute_result"
        }
      ],
      "source": [
        "df[\"Full Service\"].unique"
      ]
    },
    {
      "cell_type": "code",
      "execution_count": null,
      "metadata": {
        "colab": {
          "base_uri": "https://localhost:8080/",
          "height": 446
        },
        "id": "3cYorgQA70nv",
        "outputId": "aeb05feb-08b9-485f-e3c5-a6d3ee2d7277"
      },
      "outputs": [
        {
          "ename": "TypeError",
          "evalue": "ignored",
          "output_type": "error",
          "traceback": [
            "\u001b[0;31m---------------------------------------------------------------------------\u001b[0m",
            "\u001b[0;31mTypeError\u001b[0m                                 Traceback (most recent call last)",
            "\u001b[0;32mpandas/_libs/hashtable_class_helper.pxi\u001b[0m in \u001b[0;36mpandas._libs.hashtable.PyObjectHashTable.map_locations\u001b[0;34m()\u001b[0m\n",
            "\u001b[0;31mTypeError\u001b[0m: unhashable type: 'list'"
          ]
        },
        {
          "name": "stderr",
          "output_type": "stream",
          "text": [
            "Exception ignored in: 'pandas._libs.index.IndexEngine._call_map_locations'\n",
            "Traceback (most recent call last):\n",
            "  File \"pandas/_libs/hashtable_class_helper.pxi\", line 5231, in pandas._libs.hashtable.PyObjectHashTable.map_locations\n",
            "TypeError: unhashable type: 'list'\n"
          ]
        },
        {
          "data": {
            "text/plain": [
              "[\\n, \\n, \\n4 (Green)\\n]                                                                       2235\n",
              "[\\n, \\n, \\nEuro 6\\n]                                                                          2097\n",
              "[\\n, \\n]                                                                                      1702\n",
              "[\\n, \\n, \\nEuro 6d-TEMP\\n]                                                                     399\n",
              "\\n                                                                                             283\n",
              "                                                                                              ... \n",
              "[\\n, \\n, \\n, 6 l/100 km (comb), \\n, 8 l/100 km (city), \\n, 4.9 l/100 km (country), \\n]           1\n",
              "[\\n, \\n, \\n84 g CO2/km (comb)\\n]                                                                 1\n",
              "[\\n, \\n, \\n87 g CO2/km (comb)\\n]                                                                 1\n",
              "[\\n, \\n, \\n, 5.7 l/100 km (comb), \\n, 7.3 l/100 km (city), \\n, 4.9 l/100 km (country), \\n]       1\n",
              "[\\n, \\n, \\nEuro 4\\n]                                                                             1\n",
              "Name: Full Service, Length: 122, dtype: int64"
            ]
          },
          "execution_count": 283,
          "metadata": {},
          "output_type": "execute_result"
        }
      ],
      "source": [
        "df[\"Full Service\"].value_counts()"
      ]
    },
    {
      "cell_type": "code",
      "execution_count": null,
      "metadata": {
        "colab": {
          "base_uri": "https://localhost:8080/",
          "height": 563
        },
        "id": "j9WvcvqZ8Rv6",
        "outputId": "305bc5aa-7f3c-4ee4-a402-cf968656b2a7"
      },
      "outputs": [
        {
          "data": {
            "text/html": [
              "\n",
              "  <div id=\"df-8ce9314c-ae76-45e6-a2a9-984d502a0a14\">\n",
              "    <div class=\"colab-df-container\">\n",
              "      <div>\n",
              "<style scoped>\n",
              "    .dataframe tbody tr th:only-of-type {\n",
              "        vertical-align: middle;\n",
              "    }\n",
              "\n",
              "    .dataframe tbody tr th {\n",
              "        vertical-align: top;\n",
              "    }\n",
              "\n",
              "    .dataframe thead th {\n",
              "        text-align: right;\n",
              "    }\n",
              "</style>\n",
              "<table border=\"1\" class=\"dataframe\">\n",
              "  <thead>\n",
              "    <tr style=\"text-align: right;\">\n",
              "      <th></th>\n",
              "      <th>Full Service</th>\n",
              "      <th>Warranty</th>\n",
              "      <th>Inspection new</th>\n",
              "      <th>CO2 Emission</th>\n",
              "      <th>Emission Class</th>\n",
              "    </tr>\n",
              "  </thead>\n",
              "  <tbody>\n",
              "    <tr>\n",
              "      <th>2161</th>\n",
              "      <td>NaN</td>\n",
              "      <td>[\\n36 months\\n, \\n110 g CO2/km (comb)\\n]</td>\n",
              "      <td>NaN</td>\n",
              "      <td>[\\n110 g CO2/km (comb)\\n]</td>\n",
              "      <td>[\\nEuro 6\\n]</td>\n",
              "    </tr>\n",
              "    <tr>\n",
              "      <th>9880</th>\n",
              "      <td>[\\n, \\n, \\n4 (Green)\\n]</td>\n",
              "      <td>[\\n, \\n, \\nEuro 6d-TEMP\\n]</td>\n",
              "      <td>[\\nYes\\n, \\n150 g CO2/km (comb)\\n]</td>\n",
              "      <td>[\\n150 g CO2/km (comb)\\n]</td>\n",
              "      <td>[\\nEuro 6d-TEMP\\n]</td>\n",
              "    </tr>\n",
              "    <tr>\n",
              "      <th>8243</th>\n",
              "      <td>NaN</td>\n",
              "      <td>[\\n, \\n, \\n110 g CO2/km (comb)\\n]</td>\n",
              "      <td>NaN</td>\n",
              "      <td>[\\n110 g CO2/km (comb)\\n]</td>\n",
              "      <td>[\\nEuro 6\\n]</td>\n",
              "    </tr>\n",
              "    <tr>\n",
              "      <th>6900</th>\n",
              "      <td>NaN</td>\n",
              "      <td>\\n12 months\\n</td>\n",
              "      <td>NaN</td>\n",
              "      <td>NaN</td>\n",
              "      <td>NaN</td>\n",
              "    </tr>\n",
              "    <tr>\n",
              "      <th>6628</th>\n",
              "      <td>[\\n, \\n, \\nEuro 6\\n]</td>\n",
              "      <td>[\\n, \\n, \\n119 g CO2/km (comb)\\n]</td>\n",
              "      <td>NaN</td>\n",
              "      <td>[\\n119 g CO2/km (comb)\\n]</td>\n",
              "      <td>[\\nEuro 6\\n]</td>\n",
              "    </tr>\n",
              "    <tr>\n",
              "      <th>7282</th>\n",
              "      <td>[\\n, \\n, \\n4 (Green)\\n]</td>\n",
              "      <td>[\\n, \\n, \\nEuro 6\\n]</td>\n",
              "      <td>NaN</td>\n",
              "      <td>[\\n127 g CO2/km (comb)\\n]</td>\n",
              "      <td>[\\nEuro 6\\n]</td>\n",
              "    </tr>\n",
              "    <tr>\n",
              "      <th>10990</th>\n",
              "      <td>NaN</td>\n",
              "      <td>\\n12 months\\n</td>\n",
              "      <td>NaN</td>\n",
              "      <td>NaN</td>\n",
              "      <td>NaN</td>\n",
              "    </tr>\n",
              "    <tr>\n",
              "      <th>13592</th>\n",
              "      <td>NaN</td>\n",
              "      <td>\\n12 months\\n</td>\n",
              "      <td>NaN</td>\n",
              "      <td>[\\n85 g CO2/km (comb)\\n]</td>\n",
              "      <td>[\\nEuro 6\\n]</td>\n",
              "    </tr>\n",
              "    <tr>\n",
              "      <th>12560</th>\n",
              "      <td>[\\n, \\n, \\n4 (Green)\\n]</td>\n",
              "      <td>[\\n24 months\\n, \\nEuro 6d-TEMP\\n]</td>\n",
              "      <td>[\\nYes\\n, \\n187 g CO2/km (comb)\\n]</td>\n",
              "      <td>[\\n187 g CO2/km (comb)\\n]</td>\n",
              "      <td>[\\nEuro 6d-TEMP\\n]</td>\n",
              "    </tr>\n",
              "    <tr>\n",
              "      <th>10782</th>\n",
              "      <td>NaN</td>\n",
              "      <td>NaN</td>\n",
              "      <td>NaN</td>\n",
              "      <td>[\\n132 g CO2/km (comb)\\n]</td>\n",
              "      <td>[\\nEuro 5\\n]</td>\n",
              "    </tr>\n",
              "  </tbody>\n",
              "</table>\n",
              "</div>\n",
              "      <button class=\"colab-df-convert\" onclick=\"convertToInteractive('df-8ce9314c-ae76-45e6-a2a9-984d502a0a14')\"\n",
              "              title=\"Convert this dataframe to an interactive table.\"\n",
              "              style=\"display:none;\">\n",
              "        \n",
              "  <svg xmlns=\"http://www.w3.org/2000/svg\" height=\"24px\"viewBox=\"0 0 24 24\"\n",
              "       width=\"24px\">\n",
              "    <path d=\"M0 0h24v24H0V0z\" fill=\"none\"/>\n",
              "    <path d=\"M18.56 5.44l.94 2.06.94-2.06 2.06-.94-2.06-.94-.94-2.06-.94 2.06-2.06.94zm-11 1L8.5 8.5l.94-2.06 2.06-.94-2.06-.94L8.5 2.5l-.94 2.06-2.06.94zm10 10l.94 2.06.94-2.06 2.06-.94-2.06-.94-.94-2.06-.94 2.06-2.06.94z\"/><path d=\"M17.41 7.96l-1.37-1.37c-.4-.4-.92-.59-1.43-.59-.52 0-1.04.2-1.43.59L10.3 9.45l-7.72 7.72c-.78.78-.78 2.05 0 2.83L4 21.41c.39.39.9.59 1.41.59.51 0 1.02-.2 1.41-.59l7.78-7.78 2.81-2.81c.8-.78.8-2.07 0-2.86zM5.41 20L4 18.59l7.72-7.72 1.47 1.35L5.41 20z\"/>\n",
              "  </svg>\n",
              "      </button>\n",
              "      \n",
              "  <style>\n",
              "    .colab-df-container {\n",
              "      display:flex;\n",
              "      flex-wrap:wrap;\n",
              "      gap: 12px;\n",
              "    }\n",
              "\n",
              "    .colab-df-convert {\n",
              "      background-color: #E8F0FE;\n",
              "      border: none;\n",
              "      border-radius: 50%;\n",
              "      cursor: pointer;\n",
              "      display: none;\n",
              "      fill: #1967D2;\n",
              "      height: 32px;\n",
              "      padding: 0 0 0 0;\n",
              "      width: 32px;\n",
              "    }\n",
              "\n",
              "    .colab-df-convert:hover {\n",
              "      background-color: #E2EBFA;\n",
              "      box-shadow: 0px 1px 2px rgba(60, 64, 67, 0.3), 0px 1px 3px 1px rgba(60, 64, 67, 0.15);\n",
              "      fill: #174EA6;\n",
              "    }\n",
              "\n",
              "    [theme=dark] .colab-df-convert {\n",
              "      background-color: #3B4455;\n",
              "      fill: #D2E3FC;\n",
              "    }\n",
              "\n",
              "    [theme=dark] .colab-df-convert:hover {\n",
              "      background-color: #434B5C;\n",
              "      box-shadow: 0px 1px 3px 1px rgba(0, 0, 0, 0.15);\n",
              "      filter: drop-shadow(0px 1px 2px rgba(0, 0, 0, 0.3));\n",
              "      fill: #FFFFFF;\n",
              "    }\n",
              "  </style>\n",
              "\n",
              "      <script>\n",
              "        const buttonEl =\n",
              "          document.querySelector('#df-8ce9314c-ae76-45e6-a2a9-984d502a0a14 button.colab-df-convert');\n",
              "        buttonEl.style.display =\n",
              "          google.colab.kernel.accessAllowed ? 'block' : 'none';\n",
              "\n",
              "        async function convertToInteractive(key) {\n",
              "          const element = document.querySelector('#df-8ce9314c-ae76-45e6-a2a9-984d502a0a14');\n",
              "          const dataTable =\n",
              "            await google.colab.kernel.invokeFunction('convertToInteractive',\n",
              "                                                     [key], {});\n",
              "          if (!dataTable) return;\n",
              "\n",
              "          const docLinkHtml = 'Like what you see? Visit the ' +\n",
              "            '<a target=\"_blank\" href=https://colab.research.google.com/notebooks/data_table.ipynb>data table notebook</a>'\n",
              "            + ' to learn more about interactive tables.';\n",
              "          element.innerHTML = '';\n",
              "          dataTable['output_type'] = 'display_data';\n",
              "          await google.colab.output.renderOutput(dataTable, element);\n",
              "          const docLink = document.createElement('div');\n",
              "          docLink.innerHTML = docLinkHtml;\n",
              "          element.appendChild(docLink);\n",
              "        }\n",
              "      </script>\n",
              "    </div>\n",
              "  </div>\n",
              "  "
            ],
            "text/plain": [
              "                  Full Service                                  Warranty  \\\n",
              "2161                       NaN  [\\n36 months\\n, \\n110 g CO2/km (comb)\\n]   \n",
              "9880   [\\n, \\n, \\n4 (Green)\\n]                [\\n, \\n, \\nEuro 6d-TEMP\\n]   \n",
              "8243                       NaN         [\\n, \\n, \\n110 g CO2/km (comb)\\n]   \n",
              "6900                       NaN                             \\n12 months\\n   \n",
              "6628      [\\n, \\n, \\nEuro 6\\n]         [\\n, \\n, \\n119 g CO2/km (comb)\\n]   \n",
              "7282   [\\n, \\n, \\n4 (Green)\\n]                      [\\n, \\n, \\nEuro 6\\n]   \n",
              "10990                      NaN                             \\n12 months\\n   \n",
              "13592                      NaN                             \\n12 months\\n   \n",
              "12560  [\\n, \\n, \\n4 (Green)\\n]         [\\n24 months\\n, \\nEuro 6d-TEMP\\n]   \n",
              "10782                      NaN                                       NaN   \n",
              "\n",
              "                           Inspection new               CO2 Emission  \\\n",
              "2161                                  NaN  [\\n110 g CO2/km (comb)\\n]   \n",
              "9880   [\\nYes\\n, \\n150 g CO2/km (comb)\\n]  [\\n150 g CO2/km (comb)\\n]   \n",
              "8243                                  NaN  [\\n110 g CO2/km (comb)\\n]   \n",
              "6900                                  NaN                        NaN   \n",
              "6628                                  NaN  [\\n119 g CO2/km (comb)\\n]   \n",
              "7282                                  NaN  [\\n127 g CO2/km (comb)\\n]   \n",
              "10990                                 NaN                        NaN   \n",
              "13592                                 NaN   [\\n85 g CO2/km (comb)\\n]   \n",
              "12560  [\\nYes\\n, \\n187 g CO2/km (comb)\\n]  [\\n187 g CO2/km (comb)\\n]   \n",
              "10782                                 NaN  [\\n132 g CO2/km (comb)\\n]   \n",
              "\n",
              "           Emission Class  \n",
              "2161         [\\nEuro 6\\n]  \n",
              "9880   [\\nEuro 6d-TEMP\\n]  \n",
              "8243         [\\nEuro 6\\n]  \n",
              "6900                  NaN  \n",
              "6628         [\\nEuro 6\\n]  \n",
              "7282         [\\nEuro 6\\n]  \n",
              "10990                 NaN  \n",
              "13592        [\\nEuro 6\\n]  \n",
              "12560  [\\nEuro 6d-TEMP\\n]  \n",
              "10782        [\\nEuro 5\\n]  "
            ]
          },
          "execution_count": 284,
          "metadata": {},
          "output_type": "execute_result"
        }
      ],
      "source": [
        "df[[\"Full Service\",\"Warranty\",\"Inspection new\", \"CO2 Emission\", \"Emission Class\"]].sample(10)"
      ]
    },
    {
      "cell_type": "code",
      "execution_count": null,
      "metadata": {
        "colab": {
          "base_uri": "https://localhost:8080/",
          "height": 597
        },
        "id": "WenCOKyd8rIo",
        "outputId": "253f37f9-4151-42a1-aca7-0848e73ea8f5"
      },
      "outputs": [
        {
          "data": {
            "text/html": [
              "\n",
              "  <div id=\"df-c410ca73-0c52-46cc-b8cf-21e5912f9a7e\">\n",
              "    <div class=\"colab-df-container\">\n",
              "      <div>\n",
              "<style scoped>\n",
              "    .dataframe tbody tr th:only-of-type {\n",
              "        vertical-align: middle;\n",
              "    }\n",
              "\n",
              "    .dataframe tbody tr th {\n",
              "        vertical-align: top;\n",
              "    }\n",
              "\n",
              "    .dataframe thead th {\n",
              "        text-align: right;\n",
              "    }\n",
              "</style>\n",
              "<table border=\"1\" class=\"dataframe\">\n",
              "  <thead>\n",
              "    <tr style=\"text-align: right;\">\n",
              "      <th></th>\n",
              "      <th>Full Service</th>\n",
              "      <th>Warranty</th>\n",
              "      <th>Inspection new</th>\n",
              "      <th>CO2 Emission</th>\n",
              "      <th>Emission Class</th>\n",
              "      <th>Emission Label</th>\n",
              "    </tr>\n",
              "  </thead>\n",
              "  <tbody>\n",
              "    <tr>\n",
              "      <th>10973</th>\n",
              "      <td>NaN</td>\n",
              "      <td>NaN</td>\n",
              "      <td>[\\nYes\\n, \\n132 g CO2/km (comb)\\n]</td>\n",
              "      <td>[\\n132 g CO2/km (comb)\\n]</td>\n",
              "      <td>[\\nEuro 6\\n]</td>\n",
              "      <td>[\\n4 (Green)\\n]</td>\n",
              "    </tr>\n",
              "    <tr>\n",
              "      <th>12476</th>\n",
              "      <td>[\\n, \\n, \\nEuro 6d-TEMP\\n]</td>\n",
              "      <td>[\\n, \\n, \\n156 g CO2/km (comb)\\n]</td>\n",
              "      <td>NaN</td>\n",
              "      <td>[\\n156 g CO2/km (comb)\\n]</td>\n",
              "      <td>[\\nEuro 6d-TEMP\\n]</td>\n",
              "      <td>NaN</td>\n",
              "    </tr>\n",
              "    <tr>\n",
              "      <th>7725</th>\n",
              "      <td>[\\n, \\n, \\nEuro 6d\\n]</td>\n",
              "      <td>NaN</td>\n",
              "      <td>[\\nYes\\n, \\n138 g CO2/km (comb)\\n]</td>\n",
              "      <td>[\\n138 g CO2/km (comb)\\n]</td>\n",
              "      <td>NaN</td>\n",
              "      <td>NaN</td>\n",
              "    </tr>\n",
              "    <tr>\n",
              "      <th>10003</th>\n",
              "      <td>NaN</td>\n",
              "      <td>NaN</td>\n",
              "      <td>NaN</td>\n",
              "      <td>[\\n140 g CO2/km (comb)\\n]</td>\n",
              "      <td>[\\nEuro 6d-TEMP\\n]</td>\n",
              "      <td>[\\n4 (Green)\\n]</td>\n",
              "    </tr>\n",
              "    <tr>\n",
              "      <th>6598</th>\n",
              "      <td>NaN</td>\n",
              "      <td>\\n</td>\n",
              "      <td>NaN</td>\n",
              "      <td>[\\n126 g CO2/km (comb)\\n]</td>\n",
              "      <td>[\\nEuro 6\\n]</td>\n",
              "      <td>[\\n4 (Green)\\n]</td>\n",
              "    </tr>\n",
              "    <tr>\n",
              "      <th>5655</th>\n",
              "      <td>NaN</td>\n",
              "      <td>NaN</td>\n",
              "      <td>NaN</td>\n",
              "      <td>[\\n121 g CO2/km (comb)\\n]</td>\n",
              "      <td>[\\nEuro 6d-TEMP\\n]</td>\n",
              "      <td>[\\n4 (Green)\\n]</td>\n",
              "    </tr>\n",
              "    <tr>\n",
              "      <th>4306</th>\n",
              "      <td>[\\n, \\n, \\n4 (Green)\\n]</td>\n",
              "      <td>NaN</td>\n",
              "      <td>NaN</td>\n",
              "      <td>NaN</td>\n",
              "      <td>[[], [], []]</td>\n",
              "      <td>[\\n4 (Green)\\n]</td>\n",
              "    </tr>\n",
              "    <tr>\n",
              "      <th>13925</th>\n",
              "      <td>NaN</td>\n",
              "      <td>NaN</td>\n",
              "      <td>NaN</td>\n",
              "      <td>[\\n90 g CO2/km (comb)\\n]</td>\n",
              "      <td>[\\nEuro 6\\n]</td>\n",
              "      <td>NaN</td>\n",
              "    </tr>\n",
              "    <tr>\n",
              "      <th>5828</th>\n",
              "      <td>[\\n, \\n]</td>\n",
              "      <td>NaN</td>\n",
              "      <td>NaN</td>\n",
              "      <td>[\\n124 g CO2/km (comb)\\n]</td>\n",
              "      <td>[\\nEuro 6\\n]</td>\n",
              "      <td>NaN</td>\n",
              "    </tr>\n",
              "    <tr>\n",
              "      <th>1268</th>\n",
              "      <td>NaN</td>\n",
              "      <td>NaN</td>\n",
              "      <td>NaN</td>\n",
              "      <td>[\\n97 g CO2/km (comb)\\n]</td>\n",
              "      <td>[\\nEuro 6\\n]</td>\n",
              "      <td>NaN</td>\n",
              "    </tr>\n",
              "  </tbody>\n",
              "</table>\n",
              "</div>\n",
              "      <button class=\"colab-df-convert\" onclick=\"convertToInteractive('df-c410ca73-0c52-46cc-b8cf-21e5912f9a7e')\"\n",
              "              title=\"Convert this dataframe to an interactive table.\"\n",
              "              style=\"display:none;\">\n",
              "        \n",
              "  <svg xmlns=\"http://www.w3.org/2000/svg\" height=\"24px\"viewBox=\"0 0 24 24\"\n",
              "       width=\"24px\">\n",
              "    <path d=\"M0 0h24v24H0V0z\" fill=\"none\"/>\n",
              "    <path d=\"M18.56 5.44l.94 2.06.94-2.06 2.06-.94-2.06-.94-.94-2.06-.94 2.06-2.06.94zm-11 1L8.5 8.5l.94-2.06 2.06-.94-2.06-.94L8.5 2.5l-.94 2.06-2.06.94zm10 10l.94 2.06.94-2.06 2.06-.94-2.06-.94-.94-2.06-.94 2.06-2.06.94z\"/><path d=\"M17.41 7.96l-1.37-1.37c-.4-.4-.92-.59-1.43-.59-.52 0-1.04.2-1.43.59L10.3 9.45l-7.72 7.72c-.78.78-.78 2.05 0 2.83L4 21.41c.39.39.9.59 1.41.59.51 0 1.02-.2 1.41-.59l7.78-7.78 2.81-2.81c.8-.78.8-2.07 0-2.86zM5.41 20L4 18.59l7.72-7.72 1.47 1.35L5.41 20z\"/>\n",
              "  </svg>\n",
              "      </button>\n",
              "      \n",
              "  <style>\n",
              "    .colab-df-container {\n",
              "      display:flex;\n",
              "      flex-wrap:wrap;\n",
              "      gap: 12px;\n",
              "    }\n",
              "\n",
              "    .colab-df-convert {\n",
              "      background-color: #E8F0FE;\n",
              "      border: none;\n",
              "      border-radius: 50%;\n",
              "      cursor: pointer;\n",
              "      display: none;\n",
              "      fill: #1967D2;\n",
              "      height: 32px;\n",
              "      padding: 0 0 0 0;\n",
              "      width: 32px;\n",
              "    }\n",
              "\n",
              "    .colab-df-convert:hover {\n",
              "      background-color: #E2EBFA;\n",
              "      box-shadow: 0px 1px 2px rgba(60, 64, 67, 0.3), 0px 1px 3px 1px rgba(60, 64, 67, 0.15);\n",
              "      fill: #174EA6;\n",
              "    }\n",
              "\n",
              "    [theme=dark] .colab-df-convert {\n",
              "      background-color: #3B4455;\n",
              "      fill: #D2E3FC;\n",
              "    }\n",
              "\n",
              "    [theme=dark] .colab-df-convert:hover {\n",
              "      background-color: #434B5C;\n",
              "      box-shadow: 0px 1px 3px 1px rgba(0, 0, 0, 0.15);\n",
              "      filter: drop-shadow(0px 1px 2px rgba(0, 0, 0, 0.3));\n",
              "      fill: #FFFFFF;\n",
              "    }\n",
              "  </style>\n",
              "\n",
              "      <script>\n",
              "        const buttonEl =\n",
              "          document.querySelector('#df-c410ca73-0c52-46cc-b8cf-21e5912f9a7e button.colab-df-convert');\n",
              "        buttonEl.style.display =\n",
              "          google.colab.kernel.accessAllowed ? 'block' : 'none';\n",
              "\n",
              "        async function convertToInteractive(key) {\n",
              "          const element = document.querySelector('#df-c410ca73-0c52-46cc-b8cf-21e5912f9a7e');\n",
              "          const dataTable =\n",
              "            await google.colab.kernel.invokeFunction('convertToInteractive',\n",
              "                                                     [key], {});\n",
              "          if (!dataTable) return;\n",
              "\n",
              "          const docLinkHtml = 'Like what you see? Visit the ' +\n",
              "            '<a target=\"_blank\" href=https://colab.research.google.com/notebooks/data_table.ipynb>data table notebook</a>'\n",
              "            + ' to learn more about interactive tables.';\n",
              "          element.innerHTML = '';\n",
              "          dataTable['output_type'] = 'display_data';\n",
              "          await google.colab.output.renderOutput(dataTable, element);\n",
              "          const docLink = document.createElement('div');\n",
              "          docLink.innerHTML = docLinkHtml;\n",
              "          element.appendChild(docLink);\n",
              "        }\n",
              "      </script>\n",
              "    </div>\n",
              "  </div>\n",
              "  "
            ],
            "text/plain": [
              "                     Full Service                           Warranty  \\\n",
              "10973                         NaN                                NaN   \n",
              "12476  [\\n, \\n, \\nEuro 6d-TEMP\\n]  [\\n, \\n, \\n156 g CO2/km (comb)\\n]   \n",
              "7725        [\\n, \\n, \\nEuro 6d\\n]                                NaN   \n",
              "10003                         NaN                                NaN   \n",
              "6598                          NaN                                 \\n   \n",
              "5655                          NaN                                NaN   \n",
              "4306      [\\n, \\n, \\n4 (Green)\\n]                                NaN   \n",
              "13925                         NaN                                NaN   \n",
              "5828                     [\\n, \\n]                                NaN   \n",
              "1268                          NaN                                NaN   \n",
              "\n",
              "                           Inspection new               CO2 Emission  \\\n",
              "10973  [\\nYes\\n, \\n132 g CO2/km (comb)\\n]  [\\n132 g CO2/km (comb)\\n]   \n",
              "12476                                 NaN  [\\n156 g CO2/km (comb)\\n]   \n",
              "7725   [\\nYes\\n, \\n138 g CO2/km (comb)\\n]  [\\n138 g CO2/km (comb)\\n]   \n",
              "10003                                 NaN  [\\n140 g CO2/km (comb)\\n]   \n",
              "6598                                  NaN  [\\n126 g CO2/km (comb)\\n]   \n",
              "5655                                  NaN  [\\n121 g CO2/km (comb)\\n]   \n",
              "4306                                  NaN                        NaN   \n",
              "13925                                 NaN   [\\n90 g CO2/km (comb)\\n]   \n",
              "5828                                  NaN  [\\n124 g CO2/km (comb)\\n]   \n",
              "1268                                  NaN   [\\n97 g CO2/km (comb)\\n]   \n",
              "\n",
              "           Emission Class   Emission Label  \n",
              "10973        [\\nEuro 6\\n]  [\\n4 (Green)\\n]  \n",
              "12476  [\\nEuro 6d-TEMP\\n]              NaN  \n",
              "7725                  NaN              NaN  \n",
              "10003  [\\nEuro 6d-TEMP\\n]  [\\n4 (Green)\\n]  \n",
              "6598         [\\nEuro 6\\n]  [\\n4 (Green)\\n]  \n",
              "5655   [\\nEuro 6d-TEMP\\n]  [\\n4 (Green)\\n]  \n",
              "4306         [[], [], []]  [\\n4 (Green)\\n]  \n",
              "13925        [\\nEuro 6\\n]              NaN  \n",
              "5828         [\\nEuro 6\\n]              NaN  \n",
              "1268         [\\nEuro 6\\n]              NaN  "
            ]
          },
          "execution_count": 285,
          "metadata": {},
          "output_type": "execute_result"
        }
      ],
      "source": [
        "df[[\"Full Service\",\"Warranty\",\"Inspection new\", \"CO2 Emission\", \"Emission Class\",\"Emission Label\"]].sample(10)"
      ]
    },
    {
      "cell_type": "code",
      "execution_count": null,
      "metadata": {
        "colab": {
          "base_uri": "https://localhost:8080/"
        },
        "id": "uFKNI34S9urn",
        "outputId": "54d3017e-a9e1-42e8-9dd3-3f18eb5b8f07"
      },
      "outputs": [
        {
          "data": {
            "text/plain": [
              "<bound method IndexOpsMixin.value_counts of 0                                [\\n, \\n]\n",
              "1                                     NaN\n",
              "2                                     NaN\n",
              "3        [\\n, \\n, \\n99 g CO2/km (comb)\\n]\n",
              "4                 [\\n, \\n, \\n4 (Green)\\n]\n",
              "                       ...               \n",
              "15914                                 NaN\n",
              "15915                                 NaN\n",
              "15916                            [\\n, \\n]\n",
              "15917                                 NaN\n",
              "15918                                 NaN\n",
              "Name: Full Service, Length: 15919, dtype: object>"
            ]
          },
          "execution_count": 286,
          "metadata": {},
          "output_type": "execute_result"
        }
      ],
      "source": [
        "df[\"Full Service\"].value_counts"
      ]
    },
    {
      "cell_type": "code",
      "execution_count": null,
      "metadata": {
        "colab": {
          "base_uri": "https://localhost:8080/"
        },
        "id": "krjnmLpPcDsA",
        "outputId": "63a42d44-40bd-44ad-8f8d-115be7d04c4c"
      },
      "outputs": [
        {
          "data": {
            "text/plain": [
              "7704"
            ]
          },
          "execution_count": 287,
          "metadata": {},
          "output_type": "execute_result"
        }
      ],
      "source": [
        "df[\"Full Service\"].isnull().sum()"
      ]
    },
    {
      "cell_type": "code",
      "execution_count": null,
      "metadata": {
        "colab": {
          "base_uri": "https://localhost:8080/"
        },
        "id": "MAcCjBmy8_ec",
        "outputId": "be2387de-0eec-40ef-88f7-9843e5466922"
      },
      "outputs": [
        {
          "data": {
            "text/plain": [
              "11934"
            ]
          },
          "execution_count": 288,
          "metadata": {},
          "output_type": "execute_result"
        }
      ],
      "source": [
        "df[\"Emission Label\"].isnull().sum()"
      ]
    },
    {
      "cell_type": "code",
      "execution_count": null,
      "metadata": {
        "colab": {
          "base_uri": "https://localhost:8080/",
          "height": 359
        },
        "id": "P0YDgYOQ9B2r",
        "outputId": "aeba7a73-a8f3-423b-9495-e1b58bb135a9"
      },
      "outputs": [
        {
          "ename": "TypeError",
          "evalue": "ignored",
          "output_type": "error",
          "traceback": [
            "\u001b[0;31m---------------------------------------------------------------------------\u001b[0m",
            "\u001b[0;31mTypeError\u001b[0m                                 Traceback (most recent call last)",
            "\u001b[0;32mpandas/_libs/hashtable_class_helper.pxi\u001b[0m in \u001b[0;36mpandas._libs.hashtable.PyObjectHashTable.map_locations\u001b[0;34m()\u001b[0m\n",
            "\u001b[0;31mTypeError\u001b[0m: unhashable type: 'list'"
          ]
        },
        {
          "name": "stderr",
          "output_type": "stream",
          "text": [
            "Exception ignored in: 'pandas._libs.index.IndexEngine._call_map_locations'\n",
            "Traceback (most recent call last):\n",
            "  File \"pandas/_libs/hashtable_class_helper.pxi\", line 5231, in pandas._libs.hashtable.PyObjectHashTable.map_locations\n",
            "TypeError: unhashable type: 'list'\n"
          ]
        },
        {
          "data": {
            "text/plain": [
              "[\\n4 (Green)\\n]         3553\n",
              "[\\n1 (No sticker)\\n]     381\n",
              "[[], [], []]              40\n",
              "[\\n5 (Blue)\\n]             8\n",
              "[\\n3 (Yellow)\\n]           2\n",
              "[\\n2 (Red)\\n]              1\n",
              "Name: Emission Label, dtype: int64"
            ]
          },
          "execution_count": 289,
          "metadata": {},
          "output_type": "execute_result"
        }
      ],
      "source": [
        "df[\"Emission Label\"].value_counts()"
      ]
    },
    {
      "cell_type": "code",
      "execution_count": null,
      "metadata": {
        "id": "dQJrlG1L9BwS"
      },
      "outputs": [],
      "source": []
    },
    {
      "cell_type": "code",
      "execution_count": null,
      "metadata": {
        "colab": {
          "base_uri": "https://localhost:8080/"
        },
        "id": "XrzKK2BccDoc",
        "outputId": "c9009281-41dc-4bf7-dec3-df790155cf6f"
      },
      "outputs": [
        {
          "data": {
            "text/plain": [
              "0                       [\\n, \\n]\n",
              "1                            NaN\n",
              "2                            NaN\n",
              "3           [\\n, \\n, \\nEuro 6\\n]\n",
              "4                       [\\n, \\n]\n",
              "                  ...           \n",
              "15914                        NaN\n",
              "15915    [\\n, \\n, \\n4 (Green)\\n]\n",
              "15916                   [\\n, \\n]\n",
              "15917                        NaN\n",
              "15918                        NaN\n",
              "Name: Non-smoking Vehicle, Length: 15919, dtype: object"
            ]
          },
          "execution_count": 290,
          "metadata": {},
          "output_type": "execute_result"
        }
      ],
      "source": [
        "df[\"Non-smoking Vehicle\"]"
      ]
    },
    {
      "cell_type": "code",
      "execution_count": null,
      "metadata": {
        "colab": {
          "base_uri": "https://localhost:8080/"
        },
        "id": "CSh74UJfYkCI",
        "outputId": "614988c4-685d-4d4e-aa38-b764d917c9b3"
      },
      "outputs": [
        {
          "data": {
            "text/plain": [
              "8742"
            ]
          },
          "execution_count": 291,
          "metadata": {},
          "output_type": "execute_result"
        }
      ],
      "source": [
        "df[\"Non-smoking Vehicle\"].isnull().sum()"
      ]
    },
    {
      "cell_type": "code",
      "execution_count": null,
      "metadata": {
        "colab": {
          "base_uri": "https://localhost:8080/"
        },
        "id": "5C1KoSCRTuGT",
        "outputId": "24d064ef-c824-4943-8201-fc44923c7dea"
      },
      "outputs": [
        {
          "data": {
            "text/plain": [
              "count     15919\n",
              "unique        1\n",
              "top          []\n",
              "freq      15919\n",
              "Name: null, dtype: object"
            ]
          },
          "execution_count": 292,
          "metadata": {},
          "output_type": "execute_result"
        }
      ],
      "source": [
        "df.null.describe()"
      ]
    },
    {
      "cell_type": "code",
      "execution_count": null,
      "metadata": {
        "colab": {
          "base_uri": "https://localhost:8080/",
          "height": 363
        },
        "id": "fOGrslbK_raF",
        "outputId": "0e62fa23-8f89-44d6-9508-8d3732bd5e55"
      },
      "outputs": [
        {
          "data": {
            "text/html": [
              "\n",
              "  <div id=\"df-61dd2555-be7e-47aa-9513-37423219d3eb\">\n",
              "    <div class=\"colab-df-container\">\n",
              "      <div>\n",
              "<style scoped>\n",
              "    .dataframe tbody tr th:only-of-type {\n",
              "        vertical-align: middle;\n",
              "    }\n",
              "\n",
              "    .dataframe tbody tr th {\n",
              "        vertical-align: top;\n",
              "    }\n",
              "\n",
              "    .dataframe thead th {\n",
              "        text-align: right;\n",
              "    }\n",
              "</style>\n",
              "<table border=\"1\" class=\"dataframe\">\n",
              "  <thead>\n",
              "    <tr style=\"text-align: right;\">\n",
              "      <th></th>\n",
              "      <th>Make</th>\n",
              "      <th>Model</th>\n",
              "      <th>make_model</th>\n",
              "    </tr>\n",
              "  </thead>\n",
              "  <tbody>\n",
              "    <tr>\n",
              "      <th>15296</th>\n",
              "      <td>\\nRenault\\n</td>\n",
              "      <td>[\\n, Espace, \\n]</td>\n",
              "      <td>Renault Espace</td>\n",
              "    </tr>\n",
              "    <tr>\n",
              "      <th>12878</th>\n",
              "      <td>\\nOpel\\n</td>\n",
              "      <td>[\\n, Insignia, \\n]</td>\n",
              "      <td>Opel Insignia</td>\n",
              "    </tr>\n",
              "    <tr>\n",
              "      <th>12086</th>\n",
              "      <td>\\nOpel\\n</td>\n",
              "      <td>[\\n, Insignia, \\n]</td>\n",
              "      <td>Opel Insignia</td>\n",
              "    </tr>\n",
              "    <tr>\n",
              "      <th>6781</th>\n",
              "      <td>\\nOpel\\n</td>\n",
              "      <td>[\\n, Astra, \\n]</td>\n",
              "      <td>Opel Astra</td>\n",
              "    </tr>\n",
              "    <tr>\n",
              "      <th>12873</th>\n",
              "      <td>\\nOpel\\n</td>\n",
              "      <td>[\\n, Insignia, \\n]</td>\n",
              "      <td>Opel Insignia</td>\n",
              "    </tr>\n",
              "    <tr>\n",
              "      <th>988</th>\n",
              "      <td>\\nAudi\\n</td>\n",
              "      <td>[\\n, A1, \\n]</td>\n",
              "      <td>Audi A1</td>\n",
              "    </tr>\n",
              "    <tr>\n",
              "      <th>12986</th>\n",
              "      <td>\\nOpel\\n</td>\n",
              "      <td>[\\n, Insignia, \\n]</td>\n",
              "      <td>Opel Insignia</td>\n",
              "    </tr>\n",
              "    <tr>\n",
              "      <th>8624</th>\n",
              "      <td>\\nOpel\\n</td>\n",
              "      <td>[\\n, Corsa, \\n]</td>\n",
              "      <td>Opel Corsa</td>\n",
              "    </tr>\n",
              "    <tr>\n",
              "      <th>1228</th>\n",
              "      <td>\\nAudi\\n</td>\n",
              "      <td>[\\n, A1, \\n]</td>\n",
              "      <td>Audi A1</td>\n",
              "    </tr>\n",
              "    <tr>\n",
              "      <th>15300</th>\n",
              "      <td>\\nRenault\\n</td>\n",
              "      <td>[\\n, Espace, \\n]</td>\n",
              "      <td>Renault Espace</td>\n",
              "    </tr>\n",
              "  </tbody>\n",
              "</table>\n",
              "</div>\n",
              "      <button class=\"colab-df-convert\" onclick=\"convertToInteractive('df-61dd2555-be7e-47aa-9513-37423219d3eb')\"\n",
              "              title=\"Convert this dataframe to an interactive table.\"\n",
              "              style=\"display:none;\">\n",
              "        \n",
              "  <svg xmlns=\"http://www.w3.org/2000/svg\" height=\"24px\"viewBox=\"0 0 24 24\"\n",
              "       width=\"24px\">\n",
              "    <path d=\"M0 0h24v24H0V0z\" fill=\"none\"/>\n",
              "    <path d=\"M18.56 5.44l.94 2.06.94-2.06 2.06-.94-2.06-.94-.94-2.06-.94 2.06-2.06.94zm-11 1L8.5 8.5l.94-2.06 2.06-.94-2.06-.94L8.5 2.5l-.94 2.06-2.06.94zm10 10l.94 2.06.94-2.06 2.06-.94-2.06-.94-.94-2.06-.94 2.06-2.06.94z\"/><path d=\"M17.41 7.96l-1.37-1.37c-.4-.4-.92-.59-1.43-.59-.52 0-1.04.2-1.43.59L10.3 9.45l-7.72 7.72c-.78.78-.78 2.05 0 2.83L4 21.41c.39.39.9.59 1.41.59.51 0 1.02-.2 1.41-.59l7.78-7.78 2.81-2.81c.8-.78.8-2.07 0-2.86zM5.41 20L4 18.59l7.72-7.72 1.47 1.35L5.41 20z\"/>\n",
              "  </svg>\n",
              "      </button>\n",
              "      \n",
              "  <style>\n",
              "    .colab-df-container {\n",
              "      display:flex;\n",
              "      flex-wrap:wrap;\n",
              "      gap: 12px;\n",
              "    }\n",
              "\n",
              "    .colab-df-convert {\n",
              "      background-color: #E8F0FE;\n",
              "      border: none;\n",
              "      border-radius: 50%;\n",
              "      cursor: pointer;\n",
              "      display: none;\n",
              "      fill: #1967D2;\n",
              "      height: 32px;\n",
              "      padding: 0 0 0 0;\n",
              "      width: 32px;\n",
              "    }\n",
              "\n",
              "    .colab-df-convert:hover {\n",
              "      background-color: #E2EBFA;\n",
              "      box-shadow: 0px 1px 2px rgba(60, 64, 67, 0.3), 0px 1px 3px 1px rgba(60, 64, 67, 0.15);\n",
              "      fill: #174EA6;\n",
              "    }\n",
              "\n",
              "    [theme=dark] .colab-df-convert {\n",
              "      background-color: #3B4455;\n",
              "      fill: #D2E3FC;\n",
              "    }\n",
              "\n",
              "    [theme=dark] .colab-df-convert:hover {\n",
              "      background-color: #434B5C;\n",
              "      box-shadow: 0px 1px 3px 1px rgba(0, 0, 0, 0.15);\n",
              "      filter: drop-shadow(0px 1px 2px rgba(0, 0, 0, 0.3));\n",
              "      fill: #FFFFFF;\n",
              "    }\n",
              "  </style>\n",
              "\n",
              "      <script>\n",
              "        const buttonEl =\n",
              "          document.querySelector('#df-61dd2555-be7e-47aa-9513-37423219d3eb button.colab-df-convert');\n",
              "        buttonEl.style.display =\n",
              "          google.colab.kernel.accessAllowed ? 'block' : 'none';\n",
              "\n",
              "        async function convertToInteractive(key) {\n",
              "          const element = document.querySelector('#df-61dd2555-be7e-47aa-9513-37423219d3eb');\n",
              "          const dataTable =\n",
              "            await google.colab.kernel.invokeFunction('convertToInteractive',\n",
              "                                                     [key], {});\n",
              "          if (!dataTable) return;\n",
              "\n",
              "          const docLinkHtml = 'Like what you see? Visit the ' +\n",
              "            '<a target=\"_blank\" href=https://colab.research.google.com/notebooks/data_table.ipynb>data table notebook</a>'\n",
              "            + ' to learn more about interactive tables.';\n",
              "          element.innerHTML = '';\n",
              "          dataTable['output_type'] = 'display_data';\n",
              "          await google.colab.output.renderOutput(dataTable, element);\n",
              "          const docLink = document.createElement('div');\n",
              "          docLink.innerHTML = docLinkHtml;\n",
              "          element.appendChild(docLink);\n",
              "        }\n",
              "      </script>\n",
              "    </div>\n",
              "  </div>\n",
              "  "
            ],
            "text/plain": [
              "              Make               Model      make_model\n",
              "15296  \\nRenault\\n    [\\n, Espace, \\n]  Renault Espace\n",
              "12878     \\nOpel\\n  [\\n, Insignia, \\n]   Opel Insignia\n",
              "12086     \\nOpel\\n  [\\n, Insignia, \\n]   Opel Insignia\n",
              "6781      \\nOpel\\n     [\\n, Astra, \\n]      Opel Astra\n",
              "12873     \\nOpel\\n  [\\n, Insignia, \\n]   Opel Insignia\n",
              "988       \\nAudi\\n        [\\n, A1, \\n]         Audi A1\n",
              "12986     \\nOpel\\n  [\\n, Insignia, \\n]   Opel Insignia\n",
              "8624      \\nOpel\\n     [\\n, Corsa, \\n]      Opel Corsa\n",
              "1228      \\nAudi\\n        [\\n, A1, \\n]         Audi A1\n",
              "15300  \\nRenault\\n    [\\n, Espace, \\n]  Renault Espace"
            ]
          },
          "execution_count": 293,
          "metadata": {},
          "output_type": "execute_result"
        }
      ],
      "source": [
        "df[[\"Make\",\"Model\", \"make_model\"]].sample(10)"
      ]
    },
    {
      "cell_type": "code",
      "execution_count": null,
      "metadata": {
        "colab": {
          "base_uri": "https://localhost:8080/"
        },
        "id": "ITRbYdjK_Ey3",
        "outputId": "fadd6c6b-d660-469f-b9cd-d933704d18a6"
      },
      "outputs": [
        {
          "data": {
            "text/plain": [
              "\\nOpel\\n       7343\n",
              "\\nAudi\\n       5712\n",
              "\\nRenault\\n    2864\n",
              "Name: Make, dtype: int64"
            ]
          },
          "execution_count": 294,
          "metadata": {},
          "output_type": "execute_result"
        }
      ],
      "source": [
        "df.Make.value_counts()"
      ]
    },
    {
      "cell_type": "code",
      "execution_count": null,
      "metadata": {
        "colab": {
          "base_uri": "https://localhost:8080/"
        },
        "id": "7teFtZQ_jQa5",
        "outputId": "0cdf4efa-1d13-440b-ee2f-8cd03e0ee53f"
      },
      "outputs": [
        {
          "data": {
            "text/plain": [
              "0"
            ]
          },
          "execution_count": 295,
          "metadata": {},
          "output_type": "execute_result"
        }
      ],
      "source": [
        "df.Make.isnull().sum()"
      ]
    },
    {
      "cell_type": "code",
      "execution_count": null,
      "metadata": {
        "colab": {
          "base_uri": "https://localhost:8080/"
        },
        "id": "d2OgqEFCjQX6",
        "outputId": "5fd0cf5a-11a8-4de0-9f06-c68778fd77d6"
      },
      "outputs": [
        {
          "data": {
            "text/plain": [
              "count        15919\n",
              "unique           3\n",
              "top       \\nOpel\\n\n",
              "freq          7343\n",
              "Name: Make, dtype: object"
            ]
          },
          "execution_count": 296,
          "metadata": {},
          "output_type": "execute_result"
        }
      ],
      "source": [
        "df.Make.describe()"
      ]
    },
    {
      "cell_type": "code",
      "execution_count": null,
      "metadata": {
        "colab": {
          "base_uri": "https://localhost:8080/"
        },
        "id": "Xo00hhe5jQU5",
        "outputId": "b8989262-8767-4ba5-dcea-aaef2a8d7a1a"
      },
      "outputs": [
        {
          "data": {
            "text/plain": [
              "<bound method IndexOpsMixin.nunique of 0           \\nAudi\\n\n",
              "1           \\nAudi\\n\n",
              "2           \\nAudi\\n\n",
              "3           \\nAudi\\n\n",
              "4           \\nAudi\\n\n",
              "            ...     \n",
              "15914    \\nRenault\\n\n",
              "15915    \\nRenault\\n\n",
              "15916    \\nRenault\\n\n",
              "15917    \\nRenault\\n\n",
              "15918    \\nRenault\\n\n",
              "Name: Make, Length: 15919, dtype: object>"
            ]
          },
          "execution_count": 297,
          "metadata": {},
          "output_type": "execute_result"
        }
      ],
      "source": [
        "df.Make.nunique"
      ]
    },
    {
      "cell_type": "code",
      "execution_count": null,
      "metadata": {
        "id": "Vod9UC1a_hDY"
      },
      "outputs": [],
      "source": []
    },
    {
      "cell_type": "code",
      "execution_count": null,
      "metadata": {
        "colab": {
          "base_uri": "https://localhost:8080/"
        },
        "id": "eocISefxjQRk",
        "outputId": "f9df97e1-0d8b-47f5-9595-fc1397bffbeb"
      },
      "outputs": [
        {
          "data": {
            "text/plain": [
              "array(['\\nAudi\\n', '\\nOpel\\n', '\\nRenault\\n'], dtype=object)"
            ]
          },
          "execution_count": 298,
          "metadata": {},
          "output_type": "execute_result"
        }
      ],
      "source": [
        "df.Make.unique()"
      ]
    },
    {
      "cell_type": "code",
      "execution_count": null,
      "metadata": {
        "colab": {
          "base_uri": "https://localhost:8080/"
        },
        "id": "s-Ac0uN6kHRU",
        "outputId": "6a9c6206-7da0-4190-e71f-2e3c2f33fd93"
      },
      "outputs": [
        {
          "data": {
            "text/plain": [
              "<bound method Series.unique of 0            [\\n, A1, \\n]\n",
              "1            [\\n, A1, \\n]\n",
              "2            [\\n, A1, \\n]\n",
              "3            [\\n, A1, \\n]\n",
              "4            [\\n, A1, \\n]\n",
              "               ...       \n",
              "15914    [\\n, Espace, \\n]\n",
              "15915    [\\n, Espace, \\n]\n",
              "15916    [\\n, Espace, \\n]\n",
              "15917    [\\n, Espace, \\n]\n",
              "15918    [\\n, Espace, \\n]\n",
              "Name: Model, Length: 15919, dtype: object>"
            ]
          },
          "execution_count": 299,
          "metadata": {},
          "output_type": "execute_result"
        }
      ],
      "source": [
        "df.Model.unique"
      ]
    },
    {
      "cell_type": "code",
      "execution_count": null,
      "metadata": {
        "colab": {
          "base_uri": "https://localhost:8080/"
        },
        "id": "XNOZ3c5SkHN0",
        "outputId": "9ec77c91-2129-4ac3-dd44-754b139e4f59"
      },
      "outputs": [
        {
          "data": {
            "text/plain": [
              "<bound method IndexOpsMixin.nunique of 0            [\\n, A1, \\n]\n",
              "1            [\\n, A1, \\n]\n",
              "2            [\\n, A1, \\n]\n",
              "3            [\\n, A1, \\n]\n",
              "4            [\\n, A1, \\n]\n",
              "               ...       \n",
              "15914    [\\n, Espace, \\n]\n",
              "15915    [\\n, Espace, \\n]\n",
              "15916    [\\n, Espace, \\n]\n",
              "15917    [\\n, Espace, \\n]\n",
              "15918    [\\n, Espace, \\n]\n",
              "Name: Model, Length: 15919, dtype: object>"
            ]
          },
          "execution_count": 300,
          "metadata": {},
          "output_type": "execute_result"
        }
      ],
      "source": [
        "df.Model.nunique"
      ]
    },
    {
      "cell_type": "code",
      "execution_count": null,
      "metadata": {
        "colab": {
          "base_uri": "https://localhost:8080/"
        },
        "id": "hqhzrIbKkHKQ",
        "outputId": "7720251a-1691-4a97-a2bd-1029ca8b6525"
      },
      "outputs": [
        {
          "data": {
            "text/plain": [
              "0"
            ]
          },
          "execution_count": 301,
          "metadata": {},
          "output_type": "execute_result"
        }
      ],
      "source": [
        "df.Model.isnull().sum()"
      ]
    },
    {
      "cell_type": "code",
      "execution_count": null,
      "metadata": {
        "colab": {
          "base_uri": "https://localhost:8080/",
          "height": 412
        },
        "id": "dU-kh3j6AY8q",
        "outputId": "9c0d22f6-effc-4777-dbea-4d76ab21034f"
      },
      "outputs": [
        {
          "ename": "TypeError",
          "evalue": "ignored",
          "output_type": "error",
          "traceback": [
            "\u001b[0;31m---------------------------------------------------------------------------\u001b[0m",
            "\u001b[0;31mTypeError\u001b[0m                                 Traceback (most recent call last)",
            "\u001b[0;32mpandas/_libs/hashtable_class_helper.pxi\u001b[0m in \u001b[0;36mpandas._libs.hashtable.PyObjectHashTable.map_locations\u001b[0;34m()\u001b[0m\n",
            "\u001b[0;31mTypeError\u001b[0m: unhashable type: 'list'"
          ]
        },
        {
          "name": "stderr",
          "output_type": "stream",
          "text": [
            "Exception ignored in: 'pandas._libs.index.IndexEngine._call_map_locations'\n",
            "Traceback (most recent call last):\n",
            "  File \"pandas/_libs/hashtable_class_helper.pxi\", line 5231, in pandas._libs.hashtable.PyObjectHashTable.map_locations\n",
            "TypeError: unhashable type: 'list'\n"
          ]
        },
        {
          "data": {
            "text/plain": [
              "[\\n, A3, \\n]          3097\n",
              "[\\n, A1, \\n]          2614\n",
              "[\\n, Insignia, \\n]    2598\n",
              "[\\n, Astra, \\n]       2526\n",
              "[\\n, Corsa, \\n]       2219\n",
              "[\\n, Clio, \\n]        1839\n",
              "[\\n, Espace, \\n]       991\n",
              "[\\n, Duster, \\n]        34\n",
              "[\\n, A2, \\n]             1\n",
              "Name: Model, dtype: int64"
            ]
          },
          "execution_count": 302,
          "metadata": {},
          "output_type": "execute_result"
        }
      ],
      "source": [
        "df.Model.value_counts()"
      ]
    },
    {
      "cell_type": "code",
      "execution_count": null,
      "metadata": {
        "colab": {
          "base_uri": "https://localhost:8080/"
        },
        "id": "3j-CwmSDkwtg",
        "outputId": "5a34484b-7995-46fa-fc5e-4ff94cb5b603"
      },
      "outputs": [
        {
          "data": {
            "text/plain": [
              "<bound method Series.unique of 0             [\\nLR-062483\\n]\n",
              "1                         NaN\n",
              "2              [\\nAM-95365\\n]\n",
              "3                         NaN\n",
              "4                 [\\nC1626\\n]\n",
              "                 ...         \n",
              "15914          [\\n10988301\\n]\n",
              "15915       [\\n507370_3223\\n]\n",
              "15916          [\\nEspace16\\n]\n",
              "15917           [\\n2691331\\n]\n",
              "15918    [\\nRe_30000008029\\n]\n",
              "Name: Offer Number, Length: 15919, dtype: object>"
            ]
          },
          "execution_count": 303,
          "metadata": {},
          "output_type": "execute_result"
        }
      ],
      "source": [
        "df[\"Offer Number\"].unique"
      ]
    },
    {
      "cell_type": "code",
      "execution_count": null,
      "metadata": {
        "colab": {
          "base_uri": "https://localhost:8080/"
        },
        "id": "o8W0v3vPkwqM",
        "outputId": "82e4f47d-3b58-41b9-b24e-5f30f8224e4c"
      },
      "outputs": [
        {
          "data": {
            "text/plain": [
              "3175"
            ]
          },
          "execution_count": 304,
          "metadata": {},
          "output_type": "execute_result"
        }
      ],
      "source": [
        "df[\"Offer Number\"].isnull().sum()"
      ]
    },
    {
      "cell_type": "code",
      "execution_count": null,
      "metadata": {
        "colab": {
          "base_uri": "https://localhost:8080/"
        },
        "id": "ZvRkhCfUl8F4",
        "outputId": "82fb3533-94e5-4fdb-db84-a68521121f48"
      },
      "outputs": [
        {
          "data": {
            "text/plain": [
              "<bound method Series.unique of 0        [\\n, 2016, \\n]\n",
              "1        [\\n, 2017, \\n]\n",
              "2        [\\n, 2016, \\n]\n",
              "3        [\\n, 2016, \\n]\n",
              "4        [\\n, 2016, \\n]\n",
              "              ...      \n",
              "15914               NaN\n",
              "15915    [\\n, 2019, \\n]\n",
              "15916    [\\n, 2019, \\n]\n",
              "15917    [\\n, 2019, \\n]\n",
              "15918    [\\n, 2019, \\n]\n",
              "Name: First Registration, Length: 15919, dtype: object>"
            ]
          },
          "execution_count": 305,
          "metadata": {},
          "output_type": "execute_result"
        }
      ],
      "source": [
        "df[\"First Registration\"].unique #zaten bakmistik bahsettik yukarda"
      ]
    },
    {
      "cell_type": "code",
      "execution_count": null,
      "metadata": {
        "colab": {
          "base_uri": "https://localhost:8080/"
        },
        "id": "SZ1WmRzTB2OE",
        "outputId": "2d39c089-2bda-401a-8c29-ee2dd3bd0a5c"
      },
      "outputs": [
        {
          "data": {
            "text/plain": [
              "1597"
            ]
          },
          "execution_count": 306,
          "metadata": {},
          "output_type": "execute_result"
        }
      ],
      "source": [
        "df[\"First Registration\"].isnull().sum()"
      ]
    },
    {
      "cell_type": "code",
      "execution_count": 55,
      "metadata": {
        "colab": {
          "base_uri": "https://localhost:8080/",
          "height": 325
        },
        "id": "7ZqLUudiB_Jn",
        "outputId": "d23c0ec2-77f4-4e93-a109-65433188fd00"
      },
      "outputs": [
        {
          "data": {
            "text/plain": [
              "[\\n, 2018, \\n]    4522\n",
              "[\\n, 2016, \\n]    3674\n",
              "[\\n, 2017, \\n]    3273\n",
              "[\\n, 2019, \\n]    2853\n",
              "Name: First Registration, dtype: int64"
            ]
          },
          "execution_count": 55,
          "metadata": {},
          "output_type": "execute_result"
        }
      ],
      "source": [
        "df[\"First Registration\"].value_counts()"
      ]
    },
    {
      "cell_type": "code",
      "execution_count": 56,
      "metadata": {},
      "outputs": [
        {
          "data": {
            "text/plain": [
              "0       2016.000\n",
              "1       2017.000\n",
              "2       2016.000\n",
              "3       2016.000\n",
              "4       2016.000\n",
              "          ...   \n",
              "15914        NaN\n",
              "15915   2019.000\n",
              "15916   2019.000\n",
              "15917   2019.000\n",
              "15918   2019.000\n",
              "Name: First Registration, Length: 15919, dtype: float64"
            ]
          },
          "execution_count": 56,
          "metadata": {},
          "output_type": "execute_result"
        }
      ],
      "source": [
        "df[\"First Registration\"] = df[\"First Registration\"].str[1].astype(float)\n",
        "df[\"First Registration\"]"
      ]
    },
    {
      "cell_type": "code",
      "execution_count": null,
      "metadata": {},
      "outputs": [],
      "source": []
    },
    {
      "cell_type": "code",
      "execution_count": null,
      "metadata": {
        "colab": {
          "base_uri": "https://localhost:8080/"
        },
        "id": "-YbanOpLl8DM",
        "outputId": "b9f6590a-0897-4610-a1e7-ed575ec4842a"
      },
      "outputs": [
        {
          "data": {
            "text/plain": [
              "<bound method Series.unique of 0        [\\n, Black, \\n]\n",
              "1          [\\n, Red, \\n]\n",
              "2        [\\n, Black, \\n]\n",
              "3        [\\n, Brown, \\n]\n",
              "4        [\\n, Black, \\n]\n",
              "              ...       \n",
              "15914     [\\n, Grey, \\n]\n",
              "15915     [\\n, Grey, \\n]\n",
              "15916    [\\n, White, \\n]\n",
              "15917     [\\n, Grey, \\n]\n",
              "15918     [\\n, Grey, \\n]\n",
              "Name: Body Color, Length: 15919, dtype: object>"
            ]
          },
          "execution_count": 308,
          "metadata": {},
          "output_type": "execute_result"
        }
      ],
      "source": [
        "df[\"Body Color\"].unique"
      ]
    },
    {
      "cell_type": "code",
      "execution_count": null,
      "metadata": {
        "colab": {
          "base_uri": "https://localhost:8080/",
          "height": 498
        },
        "id": "69dDtboLCfEA",
        "outputId": "84956df3-1dca-4b31-8abe-0a4b4d4939cc"
      },
      "outputs": [
        {
          "ename": "TypeError",
          "evalue": "ignored",
          "output_type": "error",
          "traceback": [
            "\u001b[0;31m---------------------------------------------------------------------------\u001b[0m",
            "\u001b[0;31mTypeError\u001b[0m                                 Traceback (most recent call last)",
            "\u001b[0;32mpandas/_libs/hashtable_class_helper.pxi\u001b[0m in \u001b[0;36mpandas._libs.hashtable.PyObjectHashTable.map_locations\u001b[0;34m()\u001b[0m\n",
            "\u001b[0;31mTypeError\u001b[0m: unhashable type: 'list'"
          ]
        },
        {
          "name": "stderr",
          "output_type": "stream",
          "text": [
            "Exception ignored in: 'pandas._libs.index.IndexEngine._call_map_locations'\n",
            "Traceback (most recent call last):\n",
            "  File \"pandas/_libs/hashtable_class_helper.pxi\", line 5231, in pandas._libs.hashtable.PyObjectHashTable.map_locations\n",
            "TypeError: unhashable type: 'list'\n"
          ]
        },
        {
          "data": {
            "text/plain": [
              "[\\n, Black, \\n]     3745\n",
              "[\\n, Grey, \\n]      3505\n",
              "[\\n, White, \\n]     3406\n",
              "[\\n, Silver, \\n]    1647\n",
              "[\\n, Blue, \\n]      1431\n",
              "[\\n, Red, \\n]        957\n",
              "[\\n, Brown, \\n]      289\n",
              "[\\n, Green, \\n]      154\n",
              "[\\n, Beige, \\n]      108\n",
              "[\\n, Yellow, \\n]      51\n",
              "[\\n, Violet, \\n]      18\n",
              "[\\n, Bronze, \\n]       6\n",
              "[\\n, Orange, \\n]       3\n",
              "[\\n, Gold, \\n]         2\n",
              "Name: Body Color, dtype: int64"
            ]
          },
          "execution_count": 309,
          "metadata": {},
          "output_type": "execute_result"
        }
      ],
      "source": [
        "df[\"Body Color\"].value_counts()"
      ]
    },
    {
      "cell_type": "code",
      "execution_count": null,
      "metadata": {
        "colab": {
          "base_uri": "https://localhost:8080/",
          "height": 363
        },
        "id": "YmlKffooCfAo",
        "outputId": "50214abc-cec0-49c0-b223-158346b3c5bb"
      },
      "outputs": [
        {
          "data": {
            "text/html": [
              "\n",
              "  <div id=\"df-c0964cf7-a92a-47f8-a70b-cbda4a2a8780\">\n",
              "    <div class=\"colab-df-container\">\n",
              "      <div>\n",
              "<style scoped>\n",
              "    .dataframe tbody tr th:only-of-type {\n",
              "        vertical-align: middle;\n",
              "    }\n",
              "\n",
              "    .dataframe tbody tr th {\n",
              "        vertical-align: top;\n",
              "    }\n",
              "\n",
              "    .dataframe thead th {\n",
              "        text-align: right;\n",
              "    }\n",
              "</style>\n",
              "<table border=\"1\" class=\"dataframe\">\n",
              "  <thead>\n",
              "    <tr style=\"text-align: right;\">\n",
              "      <th></th>\n",
              "      <th>Body Color</th>\n",
              "      <th>Body Color Original</th>\n",
              "      <th>Paint Type</th>\n",
              "    </tr>\n",
              "  </thead>\n",
              "  <tbody>\n",
              "    <tr>\n",
              "      <th>6838</th>\n",
              "      <td>[\\n, Grey, \\n]</td>\n",
              "      <td>[\\nQuarz Grau\\n]</td>\n",
              "      <td>[\\nMetallic\\n]</td>\n",
              "    </tr>\n",
              "    <tr>\n",
              "      <th>9273</th>\n",
              "      <td>[\\n, Blue, \\n]</td>\n",
              "      <td>[\\nAzul\\n]</td>\n",
              "      <td>[\\nMetallic\\n]</td>\n",
              "    </tr>\n",
              "    <tr>\n",
              "      <th>1590</th>\n",
              "      <td>[\\n, White, \\n]</td>\n",
              "      <td>[\\nGletscherweiss\\n]</td>\n",
              "      <td>[\\nMetallic\\n]</td>\n",
              "    </tr>\n",
              "    <tr>\n",
              "      <th>15663</th>\n",
              "      <td>NaN</td>\n",
              "      <td>NaN</td>\n",
              "      <td>NaN</td>\n",
              "    </tr>\n",
              "    <tr>\n",
              "      <th>524</th>\n",
              "      <td>[\\n, Black, \\n]</td>\n",
              "      <td>NaN</td>\n",
              "      <td>NaN</td>\n",
              "    </tr>\n",
              "    <tr>\n",
              "      <th>12884</th>\n",
              "      <td>[\\n, Grey, \\n]</td>\n",
              "      <td>[\\nLicht Grau\\n]</td>\n",
              "      <td>NaN</td>\n",
              "    </tr>\n",
              "    <tr>\n",
              "      <th>4484</th>\n",
              "      <td>[\\n, Black, \\n]</td>\n",
              "      <td>[\\nNegro\\n]</td>\n",
              "      <td>[\\nMetallic\\n]</td>\n",
              "    </tr>\n",
              "    <tr>\n",
              "      <th>9907</th>\n",
              "      <td>[\\n, Silver, \\n]</td>\n",
              "      <td>[\\nargon silber/ice silver (m2)\\n]</td>\n",
              "      <td>[\\nMetallic\\n]</td>\n",
              "    </tr>\n",
              "    <tr>\n",
              "      <th>14550</th>\n",
              "      <td>NaN</td>\n",
              "      <td>[\\nMetallic o. Uni (wählbar)\\n]</td>\n",
              "      <td>[\\nMetallic\\n]</td>\n",
              "    </tr>\n",
              "    <tr>\n",
              "      <th>6798</th>\n",
              "      <td>[\\n, Black, \\n]</td>\n",
              "      <td>NaN</td>\n",
              "      <td>[\\nMetallic\\n]</td>\n",
              "    </tr>\n",
              "  </tbody>\n",
              "</table>\n",
              "</div>\n",
              "      <button class=\"colab-df-convert\" onclick=\"convertToInteractive('df-c0964cf7-a92a-47f8-a70b-cbda4a2a8780')\"\n",
              "              title=\"Convert this dataframe to an interactive table.\"\n",
              "              style=\"display:none;\">\n",
              "        \n",
              "  <svg xmlns=\"http://www.w3.org/2000/svg\" height=\"24px\"viewBox=\"0 0 24 24\"\n",
              "       width=\"24px\">\n",
              "    <path d=\"M0 0h24v24H0V0z\" fill=\"none\"/>\n",
              "    <path d=\"M18.56 5.44l.94 2.06.94-2.06 2.06-.94-2.06-.94-.94-2.06-.94 2.06-2.06.94zm-11 1L8.5 8.5l.94-2.06 2.06-.94-2.06-.94L8.5 2.5l-.94 2.06-2.06.94zm10 10l.94 2.06.94-2.06 2.06-.94-2.06-.94-.94-2.06-.94 2.06-2.06.94z\"/><path d=\"M17.41 7.96l-1.37-1.37c-.4-.4-.92-.59-1.43-.59-.52 0-1.04.2-1.43.59L10.3 9.45l-7.72 7.72c-.78.78-.78 2.05 0 2.83L4 21.41c.39.39.9.59 1.41.59.51 0 1.02-.2 1.41-.59l7.78-7.78 2.81-2.81c.8-.78.8-2.07 0-2.86zM5.41 20L4 18.59l7.72-7.72 1.47 1.35L5.41 20z\"/>\n",
              "  </svg>\n",
              "      </button>\n",
              "      \n",
              "  <style>\n",
              "    .colab-df-container {\n",
              "      display:flex;\n",
              "      flex-wrap:wrap;\n",
              "      gap: 12px;\n",
              "    }\n",
              "\n",
              "    .colab-df-convert {\n",
              "      background-color: #E8F0FE;\n",
              "      border: none;\n",
              "      border-radius: 50%;\n",
              "      cursor: pointer;\n",
              "      display: none;\n",
              "      fill: #1967D2;\n",
              "      height: 32px;\n",
              "      padding: 0 0 0 0;\n",
              "      width: 32px;\n",
              "    }\n",
              "\n",
              "    .colab-df-convert:hover {\n",
              "      background-color: #E2EBFA;\n",
              "      box-shadow: 0px 1px 2px rgba(60, 64, 67, 0.3), 0px 1px 3px 1px rgba(60, 64, 67, 0.15);\n",
              "      fill: #174EA6;\n",
              "    }\n",
              "\n",
              "    [theme=dark] .colab-df-convert {\n",
              "      background-color: #3B4455;\n",
              "      fill: #D2E3FC;\n",
              "    }\n",
              "\n",
              "    [theme=dark] .colab-df-convert:hover {\n",
              "      background-color: #434B5C;\n",
              "      box-shadow: 0px 1px 3px 1px rgba(0, 0, 0, 0.15);\n",
              "      filter: drop-shadow(0px 1px 2px rgba(0, 0, 0, 0.3));\n",
              "      fill: #FFFFFF;\n",
              "    }\n",
              "  </style>\n",
              "\n",
              "      <script>\n",
              "        const buttonEl =\n",
              "          document.querySelector('#df-c0964cf7-a92a-47f8-a70b-cbda4a2a8780 button.colab-df-convert');\n",
              "        buttonEl.style.display =\n",
              "          google.colab.kernel.accessAllowed ? 'block' : 'none';\n",
              "\n",
              "        async function convertToInteractive(key) {\n",
              "          const element = document.querySelector('#df-c0964cf7-a92a-47f8-a70b-cbda4a2a8780');\n",
              "          const dataTable =\n",
              "            await google.colab.kernel.invokeFunction('convertToInteractive',\n",
              "                                                     [key], {});\n",
              "          if (!dataTable) return;\n",
              "\n",
              "          const docLinkHtml = 'Like what you see? Visit the ' +\n",
              "            '<a target=\"_blank\" href=https://colab.research.google.com/notebooks/data_table.ipynb>data table notebook</a>'\n",
              "            + ' to learn more about interactive tables.';\n",
              "          element.innerHTML = '';\n",
              "          dataTable['output_type'] = 'display_data';\n",
              "          await google.colab.output.renderOutput(dataTable, element);\n",
              "          const docLink = document.createElement('div');\n",
              "          docLink.innerHTML = docLinkHtml;\n",
              "          element.appendChild(docLink);\n",
              "        }\n",
              "      </script>\n",
              "    </div>\n",
              "  </div>\n",
              "  "
            ],
            "text/plain": [
              "             Body Color                 Body Color Original      Paint Type\n",
              "6838     [\\n, Grey, \\n]                    [\\nQuarz Grau\\n]  [\\nMetallic\\n]\n",
              "9273     [\\n, Blue, \\n]                          [\\nAzul\\n]  [\\nMetallic\\n]\n",
              "1590    [\\n, White, \\n]                [\\nGletscherweiss\\n]  [\\nMetallic\\n]\n",
              "15663               NaN                                 NaN             NaN\n",
              "524     [\\n, Black, \\n]                                 NaN             NaN\n",
              "12884    [\\n, Grey, \\n]                    [\\nLicht Grau\\n]             NaN\n",
              "4484    [\\n, Black, \\n]                         [\\nNegro\\n]  [\\nMetallic\\n]\n",
              "9907   [\\n, Silver, \\n]  [\\nargon silber/ice silver (m2)\\n]  [\\nMetallic\\n]\n",
              "14550               NaN     [\\nMetallic o. Uni (wählbar)\\n]  [\\nMetallic\\n]\n",
              "6798    [\\n, Black, \\n]                                 NaN  [\\nMetallic\\n]"
            ]
          },
          "execution_count": 310,
          "metadata": {},
          "output_type": "execute_result"
        }
      ],
      "source": [
        "df[[\"Body Color\",\"Body Color Original\",\"Paint Type\"]].sample(10)"
      ]
    },
    {
      "cell_type": "code",
      "execution_count": null,
      "metadata": {
        "colab": {
          "base_uri": "https://localhost:8080/"
        },
        "id": "g6pHStNUCe9B",
        "outputId": "eb9fdf03-5275-45f7-f864-19c18b73a150"
      },
      "outputs": [
        {
          "data": {
            "text/plain": [
              "Body Color              597\n",
              "Body Color Original    3759\n",
              "Paint Type             5772\n",
              "dtype: int64"
            ]
          },
          "execution_count": 311,
          "metadata": {},
          "output_type": "execute_result"
        }
      ],
      "source": [
        "df[[\"Body Color\",\"Body Color Original\",\"Paint Type\"]].isnull().sum()"
      ]
    },
    {
      "cell_type": "code",
      "execution_count": null,
      "metadata": {
        "colab": {
          "base_uri": "https://localhost:8080/"
        },
        "id": "e8w_sYwfl787",
        "outputId": "7cef3033-3498-43ce-df80-585638e3363c"
      },
      "outputs": [
        {
          "data": {
            "text/plain": [
              "<bound method Series.unique of 0        [\\nMetallic\\n]\n",
              "1                   NaN\n",
              "2        [\\nMetallic\\n]\n",
              "3        [\\nMetallic\\n]\n",
              "4        [\\nMetallic\\n]\n",
              "              ...      \n",
              "15914    [\\nMetallic\\n]\n",
              "15915    [\\nMetallic\\n]\n",
              "15916               NaN\n",
              "15917               NaN\n",
              "15918    [\\nMetallic\\n]\n",
              "Name: Paint Type, Length: 15919, dtype: object>"
            ]
          },
          "execution_count": 312,
          "metadata": {},
          "output_type": "execute_result"
        }
      ],
      "source": [
        "df[\"Paint Type\"].unique"
      ]
    },
    {
      "cell_type": "code",
      "execution_count": null,
      "metadata": {
        "colab": {
          "base_uri": "https://localhost:8080/"
        },
        "id": "Eu4IBH4rkwmk",
        "outputId": "2f11a165-3488-4fc3-f2a5-8b8b521e8984"
      },
      "outputs": [
        {
          "data": {
            "text/plain": [
              "5772"
            ]
          },
          "execution_count": 313,
          "metadata": {},
          "output_type": "execute_result"
        }
      ],
      "source": [
        "df[\"Paint Type\"].isnull().sum()"
      ]
    },
    {
      "cell_type": "code",
      "execution_count": null,
      "metadata": {
        "id": "EzVYP3JMyKOd"
      },
      "outputs": [],
      "source": [
        "#dfmax=dfc[\"salary_estimate\"].apply(lambda a:float(a.split(\"-\")[1].split()[0].strip(\"$K\"))*1000)"
      ]
    },
    {
      "cell_type": "code",
      "execution_count": null,
      "metadata": {
        "colab": {
          "base_uri": "https://localhost:8080/",
          "height": 307
        },
        "id": "D5WOUN1uRRml",
        "outputId": "43e8f798-2eb9-4bb8-dfb9-7890d976be4b"
      },
      "outputs": [
        {
          "ename": "TypeError",
          "evalue": "ignored",
          "output_type": "error",
          "traceback": [
            "\u001b[0;31m---------------------------------------------------------------------------\u001b[0m",
            "\u001b[0;31mTypeError\u001b[0m                                 Traceback (most recent call last)",
            "\u001b[0;32mpandas/_libs/hashtable_class_helper.pxi\u001b[0m in \u001b[0;36mpandas._libs.hashtable.PyObjectHashTable.map_locations\u001b[0;34m()\u001b[0m\n",
            "\u001b[0;31mTypeError\u001b[0m: unhashable type: 'list'"
          ]
        },
        {
          "name": "stderr",
          "output_type": "stream",
          "text": [
            "Exception ignored in: 'pandas._libs.index.IndexEngine._call_map_locations'\n",
            "Traceback (most recent call last):\n",
            "  File \"pandas/_libs/hashtable_class_helper.pxi\", line 5231, in pandas._libs.hashtable.PyObjectHashTable.map_locations\n",
            "TypeError: unhashable type: 'list'\n"
          ]
        },
        {
          "data": {
            "text/plain": [
              "[\\nMetallic\\n]       9794\n",
              "[\\nUni/basic\\n]       347\n",
              "[\\nPerl effect\\n]       6\n",
              "Name: Paint Type, dtype: int64"
            ]
          },
          "execution_count": 314,
          "metadata": {},
          "output_type": "execute_result"
        }
      ],
      "source": [
        "df[\"Paint Type\"].value_counts()"
      ]
    },
    {
      "cell_type": "code",
      "execution_count": null,
      "metadata": {
        "colab": {
          "base_uri": "https://localhost:8080/",
          "height": 131
        },
        "id": "LTMXH5FLnKIZ",
        "outputId": "83d3f7fb-9206-444a-e9d7-cac6a87b6351"
      },
      "outputs": [
        {
          "ename": "SyntaxError",
          "evalue": "ignored",
          "output_type": "error",
          "traceback": [
            "\u001b[0;36m  File \u001b[0;32m\"<ipython-input-315-d6158c5f4193>\"\u001b[0;36m, line \u001b[0;32m1\u001b[0m\n\u001b[0;31m    Body Color Original\u001b[0m\n\u001b[0m             ^\u001b[0m\n\u001b[0;31mSyntaxError\u001b[0m\u001b[0;31m:\u001b[0m invalid syntax\n"
          ]
        }
      ],
      "source": [
        "Body Color Original   "
      ]
    },
    {
      "cell_type": "code",
      "execution_count": null,
      "metadata": {
        "id": "wcUmUxrdnKFc"
      },
      "outputs": [],
      "source": [
        "df[\"Body Color Original\"].isnull().sum()"
      ]
    },
    {
      "cell_type": "code",
      "execution_count": null,
      "metadata": {
        "id": "RRM5zi3HnKCM"
      },
      "outputs": [],
      "source": [
        "df[\"Body Color Original\"].value_counts()"
      ]
    },
    {
      "cell_type": "code",
      "execution_count": null,
      "metadata": {
        "id": "5B4OWTfJnJ_K"
      },
      "outputs": [],
      "source": [
        "df[\"Upholstery\"].value_counts()"
      ]
    },
    {
      "cell_type": "code",
      "execution_count": null,
      "metadata": {
        "id": "h7DSokSEnJ7-"
      },
      "outputs": [],
      "source": [
        "df[\"Upholstery\"].isnull().sum()"
      ]
    },
    {
      "cell_type": "code",
      "execution_count": null,
      "metadata": {
        "id": "Tpl_M8u5qPaV"
      },
      "outputs": [],
      "source": [
        "Body                                60\n",
        "Nr. of Doors                       212\n",
        "Nr. of Seats                       977\n",
        "Model Code "
      ]
    },
    {
      "cell_type": "code",
      "execution_count": null,
      "metadata": {
        "id": "5p7dHl62qPXM"
      },
      "outputs": [],
      "source": [
        "df[\"Body\"].value_counts()"
      ]
    },
    {
      "cell_type": "code",
      "execution_count": null,
      "metadata": {
        "id": "HgaJAJ_4qPUY"
      },
      "outputs": [],
      "source": [
        "df[\"Body\"].isnull().sum()"
      ]
    },
    {
      "cell_type": "code",
      "execution_count": null,
      "metadata": {
        "id": "wGPBI5sxrIZG"
      },
      "outputs": [],
      "source": [
        "df[\"Nr. of Doors\"].isnull().sum()"
      ]
    },
    {
      "cell_type": "code",
      "execution_count": null,
      "metadata": {
        "id": "oMduRyQSqPRR"
      },
      "outputs": [],
      "source": [
        "df[\"Nr. of Doors\"].value_counts()"
      ]
    },
    {
      "cell_type": "code",
      "execution_count": null,
      "metadata": {
        "id": "aWtWGve9rOwA"
      },
      "outputs": [],
      "source": [
        "df[\"Nr. of Seats\"].isnull().sum()"
      ]
    },
    {
      "cell_type": "code",
      "execution_count": null,
      "metadata": {
        "id": "2Nvm-8bsnJ4v"
      },
      "outputs": [],
      "source": [
        "df[\"Nr. of Seats\"].value_counts()"
      ]
    },
    {
      "cell_type": "code",
      "execution_count": null,
      "metadata": {
        "id": "hB81Qbz5rh2k"
      },
      "outputs": [],
      "source": [
        "Model Code "
      ]
    },
    {
      "cell_type": "code",
      "execution_count": null,
      "metadata": {
        "id": "WfJlMg1erhy_"
      },
      "outputs": [],
      "source": [
        "df[\"Model Code\"].value_counts()"
      ]
    },
    {
      "cell_type": "code",
      "execution_count": null,
      "metadata": {
        "id": "Vq-y7obdrhwB"
      },
      "outputs": [],
      "source": [
        "df[\"Model Code\"].isnull().sum()"
      ]
    },
    {
      "cell_type": "code",
      "execution_count": null,
      "metadata": {
        "id": "vSzuuCZWr9XA"
      },
      "outputs": [],
      "source": [
        "Gearing Type                         0\n",
        "Displacement                       496\n",
        "Cylinders                         5680\n",
        "Weight                            6974\n",
        "Drive chain                       6858\n",
        "Fuel     "
      ]
    },
    {
      "cell_type": "code",
      "execution_count": null,
      "metadata": {
        "id": "q_JAiBvTr9Tl"
      },
      "outputs": [],
      "source": [
        "df[\"Gearing Type\"].isnull().sum()"
      ]
    },
    {
      "cell_type": "code",
      "execution_count": null,
      "metadata": {
        "id": "uAaoFFGfr9Qk"
      },
      "outputs": [],
      "source": [
        "df[\"Gearing Type\"].value_counts()"
      ]
    },
    {
      "cell_type": "code",
      "execution_count": null,
      "metadata": {
        "id": "B_SJLSmWr9N2"
      },
      "outputs": [],
      "source": [
        "df[\"Displacement\"].isnull().sum()"
      ]
    },
    {
      "cell_type": "code",
      "execution_count": null,
      "metadata": {
        "id": "SOCKE0eXr9Kc"
      },
      "outputs": [],
      "source": [
        "df[\"Displacement\"].value_counts()"
      ]
    },
    {
      "cell_type": "code",
      "execution_count": null,
      "metadata": {
        "id": "m65pHi6UtN33"
      },
      "outputs": [],
      "source": [
        "df.isnull().sum()*100/df.shape[0]"
      ]
    },
    {
      "cell_type": "markdown",
      "metadata": {
        "id": "CZj89Uc0hlPU"
      },
      "source": [
        "**Missing Value Fonk**"
      ]
    },
    {
      "cell_type": "code",
      "execution_count": null,
      "metadata": {
        "id": "MneHbCVGtN0j"
      },
      "outputs": [],
      "source": [
        "def missing (df):  \n",
        "    missing_number = df.isnull().sum().sort_values(ascending=False)    \n",
        "    missing_percent = (df.isnull().sum()/df.isnull().count()).sort_values(ascending=False)    \n",
        "    missing_values = pd.concat([missing_number, missing_percent], axis=1, keys=['Missing_Number', 'Missing_Percent'])\n",
        "    return missing_values\n",
        "\n",
        "missing(df)\n"
      ]
    },
    {
      "cell_type": "code",
      "execution_count": null,
      "metadata": {
        "id": "gtuc8nQUrhsj"
      },
      "outputs": [],
      "source": [
        "df[[\"make_model\",\"Make\",\"Model\"]].sample(15)\n",
        "#make model diger ikisini bilgilerini icerdigi icin diger ikisi dusurulmelidir"
      ]
    },
    {
      "cell_type": "code",
      "execution_count": null,
      "metadata": {
        "id": "3Mz9ueKrrhnW"
      },
      "outputs": [],
      "source": [
        "Cylinders                         35.680633\n",
        "Weight                            43.809285\n",
        "Drive chain                       43.080596\n",
        "Fuel                               0.000000\n",
        "Consumption                       11.973114\n",
        "CO2 Emission                      11.357497\n",
        "Emission Class                    18.977323\n",
        "\\nComfort & Convenience\\n          5.779257\n",
        "\\nEntertainment & Media\\n "
      ]
    },
    {
      "cell_type": "code",
      "execution_count": null,
      "metadata": {
        "id": "zxA7ehrml17O"
      },
      "outputs": [],
      "source": [
        "df.sample(15).T"
      ]
    },
    {
      "cell_type": "code",
      "execution_count": null,
      "metadata": {
        "id": "Zh0zAWl2l14X"
      },
      "outputs": [],
      "source": [
        "df[\"Cylinders\"].value_counts()"
      ]
    },
    {
      "cell_type": "code",
      "execution_count": null,
      "metadata": {
        "id": "OMXDLUdHl11e"
      },
      "outputs": [],
      "source": [
        "df[\"Cylinders\"].isnull().sum()"
      ]
    },
    {
      "cell_type": "code",
      "execution_count": null,
      "metadata": {
        "id": "mJrIj4mIl1y8"
      },
      "outputs": [],
      "source": [
        "df[\"Weight\"].value_counts()"
      ]
    },
    {
      "cell_type": "code",
      "execution_count": null,
      "metadata": {
        "id": "LUlBHdvbl1wH"
      },
      "outputs": [],
      "source": [
        "df[\"Weight\"].isnull().sum()"
      ]
    },
    {
      "cell_type": "code",
      "execution_count": null,
      "metadata": {
        "id": "Rbu3ZMwPl1tT"
      },
      "outputs": [],
      "source": [
        "df[\"Drive chain\"].value_counts()"
      ]
    },
    {
      "cell_type": "code",
      "execution_count": null,
      "metadata": {
        "id": "UVs0JpWCHDlO"
      },
      "outputs": [],
      "source": [
        "df[\"Drive chain\"].isnull().sum()"
      ]
    },
    {
      "cell_type": "code",
      "execution_count": null,
      "metadata": {
        "id": "Ds9XFQ9wH7bP"
      },
      "outputs": [],
      "source": [
        "df"
      ]
    },
    {
      "cell_type": "code",
      "execution_count": null,
      "metadata": {
        "id": "lTz3Znp-HDiL"
      },
      "outputs": [],
      "source": [
        "df[\"Fuel\"].value_counts()"
      ]
    },
    {
      "cell_type": "code",
      "execution_count": null,
      "metadata": {
        "id": "bk4Fn96yHDep"
      },
      "outputs": [],
      "source": [
        "df[\"Fuel\"].isnull().sum()"
      ]
    },
    {
      "cell_type": "code",
      "execution_count": null,
      "metadata": {
        "id": "xvEicstVHFMi"
      },
      "outputs": [],
      "source": [
        "df[\"Consumption\"].value_counts()"
      ]
    },
    {
      "cell_type": "code",
      "execution_count": null,
      "metadata": {
        "id": "0xj3idPDHFJ3"
      },
      "outputs": [],
      "source": [
        "df[\"Consumption\"].isnull().sum()"
      ]
    },
    {
      "cell_type": "code",
      "execution_count": null,
      "metadata": {
        "id": "9obVGxF2KU80"
      },
      "outputs": [],
      "source": [
        "df[[\"Full Service\",\"Warranty\",\"Inspection new\", \"CO2 Emission\", \"Emission Class\",\"Emission Label\",\"Consumption\"]].sample(10)#baglantili cikmadi"
      ]
    },
    {
      "cell_type": "code",
      "execution_count": null,
      "metadata": {
        "id": "Gg6q-KXAHFFo"
      },
      "outputs": [],
      "source": [
        "df[[\"Cylinders\",\"Consumption\"]].sample()"
      ]
    },
    {
      "cell_type": "code",
      "execution_count": null,
      "metadata": {
        "id": "cKQZRNLzHFCa"
      },
      "outputs": [],
      "source": [
        "df[\"Co2 emission\"].isnull().sum()"
      ]
    },
    {
      "cell_type": "code",
      "execution_count": null,
      "metadata": {
        "id": "D7NMSRuSHE96"
      },
      "outputs": [],
      "source": [
        "df[\"\\nComfort & Convenience\\n\"].value_counts()"
      ]
    },
    {
      "cell_type": "code",
      "execution_count": null,
      "metadata": {
        "id": "dTT34zAGMdG3"
      },
      "outputs": [],
      "source": [
        "df.T"
      ]
    },
    {
      "cell_type": "code",
      "execution_count": null,
      "metadata": {
        "id": "a4rHzdN1L-c0"
      },
      "outputs": [],
      "source": [
        "df[\"\\nComfort & Convenience\\n\"].isnull().sum()"
      ]
    },
    {
      "cell_type": "code",
      "execution_count": null,
      "metadata": {
        "id": "w0EPQ5eUL-Zy"
      },
      "outputs": [],
      "source": [
        "df[\"\\nComfort & Convenience\\n\"].value_counts()"
      ]
    },
    {
      "cell_type": "code",
      "execution_count": null,
      "metadata": {
        "id": "2QPEvGKQL-W0"
      },
      "outputs": [],
      "source": [
        "df[\"\\nEntertainment & Media\\n\"].isnull().sum()"
      ]
    },
    {
      "cell_type": "code",
      "execution_count": null,
      "metadata": {
        "id": "8rAJpvRKL-Ts"
      },
      "outputs": [],
      "source": [
        "df[\"\\nEntertainment & Media\\n\"].value_counts()"
      ]
    },
    {
      "cell_type": "code",
      "execution_count": null,
      "metadata": {
        "id": "ScoFBDi5L-Q9"
      },
      "outputs": [],
      "source": [
        "df[\"\\nExtras\\n\"].isnull().sum()"
      ]
    },
    {
      "cell_type": "code",
      "execution_count": null,
      "metadata": {
        "id": "Pl4ibVXAL-N8"
      },
      "outputs": [],
      "source": [
        "df[\"\\nExtras\\n\"].value_counts()"
      ]
    },
    {
      "cell_type": "code",
      "execution_count": null,
      "metadata": {
        "id": "ge07HZyUNr96"
      },
      "outputs": [],
      "source": [
        "df[\"\\nSafety & Security\\n\"].isnull().sum()"
      ]
    },
    {
      "cell_type": "code",
      "execution_count": null,
      "metadata": {
        "id": "Z4TtKsd-Nr61"
      },
      "outputs": [],
      "source": [
        "df[\"\\nSafety & Security\\n\"].value_counts()"
      ]
    },
    {
      "cell_type": "code",
      "execution_count": null,
      "metadata": {
        "id": "ftSNfhSXNr4C"
      },
      "outputs": [],
      "source": [
        "df[\"description\"].isnull().sum()"
      ]
    },
    {
      "cell_type": "code",
      "execution_count": null,
      "metadata": {
        "id": "M5ErzxUPNr1b"
      },
      "outputs": [],
      "source": [
        "df[\"description\"].value_counts()"
      ]
    },
    {
      "cell_type": "code",
      "execution_count": null,
      "metadata": {
        "id": "DqRaFLr4PPLS"
      },
      "outputs": [],
      "source": [
        "df[\"Emission Label\"].isnull().sum()"
      ]
    },
    {
      "cell_type": "code",
      "execution_count": null,
      "metadata": {
        "id": "f5RbM1etPPIW"
      },
      "outputs": [],
      "source": [
        "df[\"Emission Label\"].value_counts()"
      ]
    },
    {
      "cell_type": "code",
      "execution_count": null,
      "metadata": {
        "id": "OfNH_gznPPFU"
      },
      "outputs": [],
      "source": [
        "df[\"Gears\"].isnull().sum()"
      ]
    },
    {
      "cell_type": "code",
      "execution_count": null,
      "metadata": {
        "id": "LxvlgZLLPPCg"
      },
      "outputs": [],
      "source": [
        "df[\"Gears\"].value_counts()"
      ]
    },
    {
      "cell_type": "code",
      "execution_count": null,
      "metadata": {
        "id": "TxHZYl8IPO_3"
      },
      "outputs": [],
      "source": [
        "df[\"Country version\"].isnull().sum()"
      ]
    },
    {
      "cell_type": "code",
      "execution_count": null,
      "metadata": {
        "id": "PSlZuiFnPO8-"
      },
      "outputs": [],
      "source": [
        "df[\"Country version\"].value_counts()"
      ]
    },
    {
      "cell_type": "code",
      "execution_count": null,
      "metadata": {
        "id": "t4SRemrZPO6O"
      },
      "outputs": [],
      "source": [
        "df[\"Electricity consumption\"].isnull().sum()"
      ]
    },
    {
      "cell_type": "code",
      "execution_count": null,
      "metadata": {
        "id": "DNGEBzu4Nryl"
      },
      "outputs": [],
      "source": [
        "df[\"Electricity consumption\"].value_counts()"
      ]
    },
    {
      "cell_type": "code",
      "execution_count": null,
      "metadata": {
        "id": "3B5j09YYNrve"
      },
      "outputs": [],
      "source": [
        "df[\"Last Service Date\"].isnull().sum()"
      ]
    },
    {
      "cell_type": "code",
      "execution_count": null,
      "metadata": {
        "id": "lcxgVdr7PSjX"
      },
      "outputs": [],
      "source": [
        "df[\"Last Service Date\"].value_counts()"
      ]
    },
    {
      "cell_type": "code",
      "execution_count": null,
      "metadata": {
        "id": "Z3iOerI0PSf-"
      },
      "outputs": [],
      "source": [
        "df[\"Other Fuel Types\"].isnull().sum()"
      ]
    },
    {
      "cell_type": "code",
      "execution_count": null,
      "metadata": {
        "id": "kPtkD-PEPSdY"
      },
      "outputs": [],
      "source": [
        "df[\"Other Fuel Types\"].value_counts()"
      ]
    },
    {
      "cell_type": "code",
      "execution_count": null,
      "metadata": {
        "id": "kYUoUzz8PSaY"
      },
      "outputs": [],
      "source": [
        "df[\"Availability\"].isnull().sum()"
      ]
    },
    {
      "cell_type": "code",
      "execution_count": null,
      "metadata": {
        "id": "CibTHRTzPUWp"
      },
      "outputs": [],
      "source": [
        "df[\"Availability\"].value_counts()"
      ]
    },
    {
      "cell_type": "code",
      "execution_count": null,
      "metadata": {
        "id": "3xKZqSCwPUTx"
      },
      "outputs": [],
      "source": [
        "df[\"Last Timing Belt Service Date\"].isnull().sum()"
      ]
    },
    {
      "cell_type": "code",
      "execution_count": null,
      "metadata": {
        "id": "fSAtgcfHPURF"
      },
      "outputs": [],
      "source": [
        "df[\"Last Timing Belt Service Date\"].value_counts()"
      ]
    },
    {
      "cell_type": "code",
      "execution_count": null,
      "metadata": {
        "id": "k1xpJdcUPUOQ"
      },
      "outputs": [],
      "source": [
        "df[\"Available from\"].isnull().sum()"
      ]
    },
    {
      "cell_type": "code",
      "execution_count": null,
      "metadata": {
        "id": "lK6gLF8US5gf"
      },
      "outputs": [],
      "source": [
        "df[\"Available from\"].value_counts()"
      ]
    },
    {
      "cell_type": "code",
      "execution_count": 64,
      "metadata": {},
      "outputs": [
        {
          "data": {
            "text/plain": [
              "0        NaN\n",
              "1        NaN\n",
              "2        NaN\n",
              "3        NaN\n",
              "4        NaN\n",
              "        ... \n",
              "15914    NaN\n",
              "15915    NaN\n",
              "15916    NaN\n",
              "15917    NaN\n",
              "15918    NaN\n",
              "Name: Available from, Length: 15919, dtype: object"
            ]
          },
          "execution_count": 64,
          "metadata": {},
          "output_type": "execute_result"
        }
      ],
      "source": [
        "df[\"Available from\"].str.strip(\"\\n\")"
      ]
    },
    {
      "cell_type": "markdown",
      "metadata": {
        "id": "ycOav2Bk0FIQ"
      },
      "source": [
        "## Import Libraries and Data"
      ]
    },
    {
      "cell_type": "code",
      "execution_count": null,
      "metadata": {
        "id": "hsPN-NnY0FIQ"
      },
      "outputs": [],
      "source": [
        "df_dummied.to_csv(\"final_scout_dummy.csv\", index=False)"
      ]
    },
    {
      "cell_type": "code",
      "execution_count": null,
      "metadata": {
        "id": "UXhUmIlz0FIQ"
      },
      "outputs": [],
      "source": [
        "df.to_csv(\"final_scout_not_dummy.csv\", index=False)"
      ]
    }
  ],
  "metadata": {
    "colab": {
      "collapsed_sections": [],
      "name": "DAwPython-Capstone (AutoScout) Project_Studentanalaysispart.ipynb",
      "provenance": []
    },
    "kernelspec": {
      "display_name": "Python 3",
      "language": "python",
      "name": "python3"
    },
    "language_info": {
      "codemirror_mode": {
        "name": "ipython",
        "version": 3
      },
      "file_extension": ".py",
      "mimetype": "text/x-python",
      "name": "python",
      "nbconvert_exporter": "python",
      "pygments_lexer": "ipython3",
      "version": "3.9.12"
    }
  },
  "nbformat": 4,
  "nbformat_minor": 0
}
