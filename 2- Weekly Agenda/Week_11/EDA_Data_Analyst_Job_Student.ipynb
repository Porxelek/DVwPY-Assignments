{
  "cells": [
    {
      "cell_type": "markdown",
      "id": "f9ba75c6",
      "metadata": {
        "id": "f9ba75c6"
      },
      "source": [
        "___\n",
        "\n",
        "<p style='text-align: center;'><img src='https://docs.google.com/uc?id=1lY0Uj5R04yMY3-ZppPWxqCr5pvBLYPnV' class='img-fluid' alt='CLRSWY'></p>\n",
        "\n",
        "___"
      ]
    },
    {
      "cell_type": "markdown",
      "id": "f37d72a1",
      "metadata": {
        "id": "f37d72a1"
      },
      "source": [
        "# <h1 style=\"text-align: center;\" class=\"list-group-item list-group-item-action active\" data-toggle=\"list\" role=\"tab\" aria-controls=\"home\">EDA of DATA ANALYST JOBS</h1>"
      ]
    },
    {
      "cell_type": "markdown",
      "id": "40562146",
      "metadata": {
        "id": "40562146"
      },
      "source": [
        "![image.png](attachment:image.png)"
      ]
    },
    {
      "cell_type": "markdown",
      "id": "ed8943d9",
      "metadata": {
        "id": "ed8943d9"
      },
      "source": [
        "**What The Problem Is?**\n",
        "\n",
        "- This Exploratory Data Analysis (EDA) will focus on overall Data Analyst job title, job description, salary estimate\n",
        "\n",
        "- You'll be analyzing a dataset that contains more than 2000 job listing for data analyst positions, with features such as **Salary Estimate**, **Location**, **Company Rating**, **Job Description** and more. \n",
        "\n",
        "- You are expected to come up with different analyzes such as **finding the best jobs by salary and company rating**, **explore skills required in job descriptions**, **predict salary based on industry, location, company revenue**.\n",
        "\n",
        "**In this EDA, we will focus on:**\n",
        "   - Job Title\n",
        "   - Salary Estimate\n",
        "   - Job Description\n",
        "   - Rating\n",
        "   - Company name\n",
        "   - Industry\n",
        "   - Sector\n",
        "\n",
        "- Review what you need to make an EDA before you start analysing."
      ]
    },
    {
      "cell_type": "markdown",
      "id": "8a25e537",
      "metadata": {
        "id": "8a25e537"
      },
      "source": [
        "___\n",
        "\n",
        "\n",
        "___"
      ]
    },
    {
      "cell_type": "markdown",
      "id": "9f7c0901",
      "metadata": {
        "id": "9f7c0901"
      },
      "source": [
        "## Examining the dataset"
      ]
    },
    {
      "cell_type": "markdown",
      "id": "52a7f71b",
      "metadata": {
        "id": "52a7f71b"
      },
      "source": [
        "**Before beginning your analysis, it's important that you familiarize yourself with the dataset.**"
      ]
    },
    {
      "cell_type": "markdown",
      "id": "74451c9b",
      "metadata": {
        "id": "74451c9b"
      },
      "source": [
        "**INSTRUCTIONS**\n",
        "\n",
        "*   Import related libraries with their alias (Done for you).\n",
        "*   Read the dataset into a DataFrame named ``df``\n",
        "*   Examine the first 5 rows of the ``DataFrame`` (known as the ``'head'``).\n",
        "*   Examine the last 5 rows of the ``DataFrame`` (known as the ``'tail'``).\n",
        "*   Examine randomly chosen rows of the ``DataFrame`` (known as the ``'sample'``).\n",
        "*   Examine the ``DataFrame``'s ``'columns'``.\n",
        "\n",
        "According to your first observations, what did you detect in the dataset?"
      ]
    },
    {
      "cell_type": "code",
      "execution_count": 1,
      "id": "887358c0",
      "metadata": {},
      "outputs": [
        {
          "name": "stdout",
          "output_type": "stream",
          "text": [
            "Requirement already satisfied: plotly in c:\\users\\porxelek\\appdata\\local\\packages\\pythonsoftwarefoundation.python.3.9_qbz5n2kfra8p0\\localcache\\local-packages\\python39\\site-packages (5.7.0)\n",
            "Requirement already satisfied: six in c:\\users\\porxelek\\appdata\\local\\packages\\pythonsoftwarefoundation.python.3.9_qbz5n2kfra8p0\\localcache\\local-packages\\python39\\site-packages (from plotly) (1.16.0)\n",
            "Requirement already satisfied: tenacity>=6.2.0 in c:\\users\\porxelek\\appdata\\local\\packages\\pythonsoftwarefoundation.python.3.9_qbz5n2kfra8p0\\localcache\\local-packages\\python39\\site-packages (from plotly) (8.0.1)\n",
            "Note: you may need to restart the kernel to use updated packages.\n"
          ]
        }
      ],
      "source": [
        "pip install plotly"
      ]
    },
    {
      "cell_type": "code",
      "execution_count": 1,
      "id": "216f3b6c",
      "metadata": {
        "id": "216f3b6c"
      },
      "outputs": [],
      "source": [
        "import numpy as np\n",
        "import pandas as pd\n",
        "import seaborn as sns\n",
        "import matplotlib.pyplot as plt\n",
        "from pandas.plotting import register_matplotlib_converters\n",
        "from pylab import rcParams\n",
        "sns.set_style(\"darkgrid\")\n",
        "\n",
        "import plotly \n",
        "import plotly.express as px\n",
        "import plotly.graph_objs as go\n",
        "import plotly.offline as py\n",
        "from plotly.offline import iplot\n",
        "from plotly.subplots import make_subplots\n",
        "import plotly.figure_factory as ff\n",
        "\n",
        "import warnings\n",
        "warnings.filterwarnings(\"ignore\")"
      ]
    },
    {
      "cell_type": "code",
      "execution_count": null,
      "id": "hlqoz1ivelZ7",
      "metadata": {
        "id": "hlqoz1ivelZ7"
      },
      "outputs": [],
      "source": []
    },
    {
      "cell_type": "code",
      "execution_count": null,
      "id": "c8900842",
      "metadata": {
        "id": "c8900842"
      },
      "outputs": [],
      "source": [
        "# CODE HERE"
      ]
    },
    {
      "cell_type": "code",
      "execution_count": null,
      "id": "El3JVGrKH-mv",
      "metadata": {
        "id": "El3JVGrKH-mv"
      },
      "outputs": [],
      "source": []
    },
    {
      "cell_type": "code",
      "execution_count": 2,
      "id": "e1147799",
      "metadata": {
        "colab": {
          "base_uri": "https://localhost:8080/",
          "height": 1000
        },
        "id": "e1147799",
        "outputId": "18ddd3b1-ab53-475e-f68d-821044671eea"
      },
      "outputs": [
        {
          "data": {
            "text/html": [
              "<div>\n",
              "<style scoped>\n",
              "    .dataframe tbody tr th:only-of-type {\n",
              "        vertical-align: middle;\n",
              "    }\n",
              "\n",
              "    .dataframe tbody tr th {\n",
              "        vertical-align: top;\n",
              "    }\n",
              "\n",
              "    .dataframe thead th {\n",
              "        text-align: right;\n",
              "    }\n",
              "</style>\n",
              "<table border=\"1\" class=\"dataframe\">\n",
              "  <thead>\n",
              "    <tr style=\"text-align: right;\">\n",
              "      <th></th>\n",
              "      <th>Unnamed: 0</th>\n",
              "      <th>Job Title</th>\n",
              "      <th>Salary Estimate</th>\n",
              "      <th>Job Description</th>\n",
              "      <th>Rating</th>\n",
              "      <th>Company Name</th>\n",
              "      <th>Location</th>\n",
              "      <th>Headquarters</th>\n",
              "      <th>Size</th>\n",
              "      <th>Founded</th>\n",
              "      <th>Type of ownership</th>\n",
              "      <th>Industry</th>\n",
              "      <th>Sector</th>\n",
              "      <th>Revenue</th>\n",
              "      <th>Competitors</th>\n",
              "      <th>Easy Apply</th>\n",
              "    </tr>\n",
              "  </thead>\n",
              "  <tbody>\n",
              "    <tr>\n",
              "      <th>935</th>\n",
              "      <td>935</td>\n",
              "      <td>Data Warehouse Analyst</td>\n",
              "      <td>$47K-$76K (Glassdoor est.)</td>\n",
              "      <td>Hi ,Â\\r\\n\\r\\nThis is SmithÂfrom Yochana Soluti...</td>\n",
              "      <td>2.9</td>\n",
              "      <td>Yochana\\r\\n2.9</td>\n",
              "      <td>Houston, TX</td>\n",
              "      <td>Farmington Hills, MI</td>\n",
              "      <td>201 to 500 employees</td>\n",
              "      <td>2009</td>\n",
              "      <td>Company - Private</td>\n",
              "      <td>Staffing &amp; Outsourcing</td>\n",
              "      <td>Business Services</td>\n",
              "      <td>$50 to $100 million (USD)</td>\n",
              "      <td>-1</td>\n",
              "      <td>-1</td>\n",
              "    </tr>\n",
              "  </tbody>\n",
              "</table>\n",
              "</div>"
            ],
            "text/plain": [
              "     Unnamed: 0               Job Title             Salary Estimate  \\\n",
              "935         935  Data Warehouse Analyst  $47K-$76K (Glassdoor est.)   \n",
              "\n",
              "                                       Job Description  Rating  \\\n",
              "935  Hi ,Â\\r\\n\\r\\nThis is SmithÂfrom Yochana Soluti...     2.9   \n",
              "\n",
              "       Company Name     Location          Headquarters                  Size  \\\n",
              "935  Yochana\\r\\n2.9  Houston, TX  Farmington Hills, MI  201 to 500 employees   \n",
              "\n",
              "     Founded  Type of ownership                Industry             Sector  \\\n",
              "935     2009  Company - Private  Staffing & Outsourcing  Business Services   \n",
              "\n",
              "                       Revenue Competitors Easy Apply  \n",
              "935  $50 to $100 million (USD)          -1         -1  "
            ]
          },
          "execution_count": 2,
          "metadata": {},
          "output_type": "execute_result"
        }
      ],
      "source": [
        "df1=pd.read_csv('DataAnalyst.csv')\n",
        "df1.sample()\n"
      ]
    },
    {
      "cell_type": "code",
      "execution_count": null,
      "id": "222c6599",
      "metadata": {
        "id": "222c6599"
      },
      "outputs": [],
      "source": []
    },
    {
      "cell_type": "markdown",
      "id": "feda031c",
      "metadata": {
        "id": "feda031c"
      },
      "source": [
        "The column names have been standardized by making changesby means of below steps. You can continue your work after running these cells."
      ]
    },
    {
      "cell_type": "code",
      "execution_count": 6,
      "id": "0kkXbfsVu5rD",
      "metadata": {
        "colab": {
          "base_uri": "https://localhost:8080/"
        },
        "id": "0kkXbfsVu5rD",
        "outputId": "7270b8f7-90ba-4829-fabc-d03315de1633"
      },
      "outputs": [
        {
          "name": "stdout",
          "output_type": "stream",
          "text": [
            "Collecting skimpy"
          ]
        },
        {
          "name": "stderr",
          "output_type": "stream",
          "text": [
            "  WARNING: The script cmark.exe is installed in 'C:\\Users\\PORXELEK\\AppData\\Local\\Packages\\PythonSoftwareFoundation.Python.3.9_qbz5n2kfra8p0\\LocalCache\\local-packages\\Python39\\Scripts' which is not on PATH.\n",
            "  Consider adding this directory to PATH or, if you prefer to suppress this warning, use --no-warn-script-location.\n",
            "  WARNING: The script skimpy.exe is installed in 'C:\\Users\\PORXELEK\\AppData\\Local\\Packages\\PythonSoftwareFoundation.Python.3.9_qbz5n2kfra8p0\\LocalCache\\local-packages\\Python39\\Scripts' which is not on PATH.\n",
            "  Consider adding this directory to PATH or, if you prefer to suppress this warning, use --no-warn-script-location.\n"
          ]
        },
        {
          "name": "stdout",
          "output_type": "stream",
          "text": [
            "\n",
            "  Downloading skimpy-0.0.5-py3-none-any.whl (15 kB)\n",
            "Requirement already satisfied: pandas<2.0.0,>=1.3.2 in c:\\users\\porxelek\\appdata\\local\\packages\\pythonsoftwarefoundation.python.3.9_qbz5n2kfra8p0\\localcache\\local-packages\\python39\\site-packages (from skimpy) (1.4.0)\n",
            "Requirement already satisfied: Pygments<3.0.0,>=2.10.0 in c:\\users\\porxelek\\appdata\\local\\packages\\pythonsoftwarefoundation.python.3.9_qbz5n2kfra8p0\\localcache\\local-packages\\python39\\site-packages (from skimpy) (2.10.0)\n",
            "Collecting typeguard<3.0.0,>=2.12.1\n",
            "  Downloading typeguard-2.13.3-py3-none-any.whl (17 kB)\n",
            "Collecting click==7.1.2\n",
            "  Downloading click-7.1.2-py2.py3-none-any.whl (82 kB)\n",
            "     -------------------------------------- 82.8/82.8 KB 465.0 kB/s eta 0:00:00\n",
            "Collecting rich<11.0.0,>=10.9.0\n",
            "  Downloading rich-10.16.2-py3-none-any.whl (214 kB)\n",
            "     -------------------------------------- 214.4/214.4 KB 1.3 MB/s eta 0:00:00\n",
            "Requirement already satisfied: python-dateutil>=2.8.1 in c:\\users\\porxelek\\appdata\\local\\packages\\pythonsoftwarefoundation.python.3.9_qbz5n2kfra8p0\\localcache\\local-packages\\python39\\site-packages (from pandas<2.0.0,>=1.3.2->skimpy) (2.8.2)\n",
            "Requirement already satisfied: numpy>=1.18.5 in c:\\users\\porxelek\\appdata\\local\\packages\\pythonsoftwarefoundation.python.3.9_qbz5n2kfra8p0\\localcache\\local-packages\\python39\\site-packages (from pandas<2.0.0,>=1.3.2->skimpy) (1.22.2)\n",
            "Requirement already satisfied: pytz>=2020.1 in c:\\users\\porxelek\\appdata\\local\\packages\\pythonsoftwarefoundation.python.3.9_qbz5n2kfra8p0\\localcache\\local-packages\\python39\\site-packages (from pandas<2.0.0,>=1.3.2->skimpy) (2021.3)\n",
            "Requirement already satisfied: colorama<0.5.0,>=0.4.0 in c:\\users\\porxelek\\appdata\\local\\packages\\pythonsoftwarefoundation.python.3.9_qbz5n2kfra8p0\\localcache\\local-packages\\python39\\site-packages (from rich<11.0.0,>=10.9.0->skimpy) (0.4.4)\n",
            "Collecting commonmark<0.10.0,>=0.9.0\n",
            "  Downloading commonmark-0.9.1-py2.py3-none-any.whl (51 kB)\n",
            "     -------------------------------------- 51.1/51.1 KB 658.5 kB/s eta 0:00:00\n",
            "Requirement already satisfied: six>=1.5 in c:\\users\\porxelek\\appdata\\local\\packages\\pythonsoftwarefoundation.python.3.9_qbz5n2kfra8p0\\localcache\\local-packages\\python39\\site-packages (from python-dateutil>=2.8.1->pandas<2.0.0,>=1.3.2->skimpy) (1.16.0)\n",
            "Installing collected packages: commonmark, typeguard, rich, click, skimpy\n",
            "Successfully installed click-7.1.2 commonmark-0.9.1 rich-10.16.2 skimpy-0.0.5 typeguard-2.13.3\n"
          ]
        }
      ],
      "source": [
        "!pip install skimpy"
      ]
    },
    {
      "cell_type": "code",
      "execution_count": 4,
      "id": "kWILWE_MwCuo",
      "metadata": {
        "colab": {
          "base_uri": "https://localhost:8080/"
        },
        "id": "kWILWE_MwCuo",
        "outputId": "01ccf2cb-4493-47d0-cea9-126b9b099983"
      },
      "outputs": [
        {
          "data": {
            "text/plain": [
              "Index(['Unnamed: 0', 'Job Title', 'Salary Estimate', 'Job Description',\n",
              "       'Rating', 'Company Name', 'Location', 'Headquarters', 'Size', 'Founded',\n",
              "       'Type of ownership', 'Industry', 'Sector', 'Revenue', 'Competitors',\n",
              "       'Easy Apply'],\n",
              "      dtype='object')"
            ]
          },
          "execution_count": 4,
          "metadata": {},
          "output_type": "execute_result"
        }
      ],
      "source": [
        "df1.columns"
      ]
    },
    {
      "cell_type": "code",
      "execution_count": 5,
      "id": "968ae89f",
      "metadata": {
        "colab": {
          "base_uri": "https://localhost:8080/"
        },
        "id": "968ae89f",
        "outputId": "e0dd26f3-4cd6-4198-f55e-4e163b2f317d"
      },
      "outputs": [
        {
          "data": {
            "text/plain": [
              "['unnamed_0',\n",
              " 'job_title',\n",
              " 'salary_estimate',\n",
              " 'job_description',\n",
              " 'rating',\n",
              " 'company_name',\n",
              " 'location',\n",
              " 'headquarters',\n",
              " 'size',\n",
              " 'founded',\n",
              " 'type_of_ownership',\n",
              " 'industry',\n",
              " 'sector',\n",
              " 'revenue',\n",
              " 'competitors',\n",
              " 'easy_apply']"
            ]
          },
          "execution_count": 5,
          "metadata": {},
          "output_type": "execute_result"
        }
      ],
      "source": [
        "# !pip install skimpy\n",
        "from skimpy import clean_columns\n",
        "\n",
        "columns = ['Unnamed: 0', 'Job Title', 'Salary Estimate', 'Job Description',\n",
        "       'Rating', 'Company Name', 'Location', 'Headquarters', 'Size', 'Founded',\n",
        "       'Type of ownership', 'Industry', 'Sector', 'Revenue', 'Competitors',\n",
        "       'Easy Apply']\n",
        "\n",
        "messy_df1 = pd.DataFrame(data = [], columns = columns, index = [0])\n",
        "clean_df1 = clean_columns(messy_df1)\n",
        "clean_df1.columns.tolist()\n",
        "#burasi aciklanmasi lazim eksik kaldi"
      ]
    },
    {
      "cell_type": "code",
      "execution_count": 6,
      "id": "ca1172d0",
      "metadata": {
        "colab": {
          "base_uri": "https://localhost:8080/"
        },
        "id": "ca1172d0",
        "outputId": "00ad5c39-90c8-4ccd-b803-6b095df4c8b0"
      },
      "outputs": [
        {
          "data": {
            "text/plain": [
              "Index(['unnamed_0', 'job_title', 'salary_estimate', 'job_description',\n",
              "       'rating', 'company_name', 'location', 'headquarters', 'size', 'founded',\n",
              "       'type_of_ownership', 'industry', 'sector', 'revenue', 'competitors',\n",
              "       'easy_apply'],\n",
              "      dtype='object')"
            ]
          },
          "execution_count": 6,
          "metadata": {},
          "output_type": "execute_result"
        }
      ],
      "source": [
        "df1.columns = clean_df1.columns.tolist()\n",
        "df1.columns"
      ]
    },
    {
      "cell_type": "code",
      "execution_count": 7,
      "id": "WrjpxljMJmZS",
      "metadata": {
        "colab": {
          "base_uri": "https://localhost:8080/",
          "height": 565
        },
        "id": "WrjpxljMJmZS",
        "outputId": "108dbd00-0a81-4af7-e637-a459806d473e"
      },
      "outputs": [
        {
          "data": {
            "text/html": [
              "<div>\n",
              "<style scoped>\n",
              "    .dataframe tbody tr th:only-of-type {\n",
              "        vertical-align: middle;\n",
              "    }\n",
              "\n",
              "    .dataframe tbody tr th {\n",
              "        vertical-align: top;\n",
              "    }\n",
              "\n",
              "    .dataframe thead th {\n",
              "        text-align: right;\n",
              "    }\n",
              "</style>\n",
              "<table border=\"1\" class=\"dataframe\">\n",
              "  <thead>\n",
              "    <tr style=\"text-align: right;\">\n",
              "      <th></th>\n",
              "      <th>unnamed_0</th>\n",
              "      <th>job_title</th>\n",
              "      <th>salary_estimate</th>\n",
              "      <th>job_description</th>\n",
              "      <th>rating</th>\n",
              "      <th>company_name</th>\n",
              "      <th>location</th>\n",
              "      <th>headquarters</th>\n",
              "      <th>size</th>\n",
              "      <th>founded</th>\n",
              "      <th>type_of_ownership</th>\n",
              "      <th>industry</th>\n",
              "      <th>sector</th>\n",
              "      <th>revenue</th>\n",
              "      <th>competitors</th>\n",
              "      <th>easy_apply</th>\n",
              "    </tr>\n",
              "  </thead>\n",
              "  <tbody>\n",
              "    <tr>\n",
              "      <th>0</th>\n",
              "      <td>0</td>\n",
              "      <td>Data Analyst, Center on Immigration and Justic...</td>\n",
              "      <td>$37K-$66K (Glassdoor est.)</td>\n",
              "      <td>Are you eager to roll up your sleeves and harn...</td>\n",
              "      <td>3.2</td>\n",
              "      <td>Vera Institute of Justice\\r\\n3.2</td>\n",
              "      <td>New York, NY</td>\n",
              "      <td>New York, NY</td>\n",
              "      <td>201 to 500 employees</td>\n",
              "      <td>1961</td>\n",
              "      <td>Nonprofit Organization</td>\n",
              "      <td>Social Assistance</td>\n",
              "      <td>Non-Profit</td>\n",
              "      <td>$100 to $500 million (USD)</td>\n",
              "      <td>-1</td>\n",
              "      <td>True</td>\n",
              "    </tr>\n",
              "    <tr>\n",
              "      <th>1</th>\n",
              "      <td>1</td>\n",
              "      <td>Quality Data Analyst</td>\n",
              "      <td>$37K-$66K (Glassdoor est.)</td>\n",
              "      <td>Overview\\r\\n\\r\\nProvides analytical and techni...</td>\n",
              "      <td>3.8</td>\n",
              "      <td>Visiting Nurse Service of New York\\r\\n3.8</td>\n",
              "      <td>New York, NY</td>\n",
              "      <td>New York, NY</td>\n",
              "      <td>10000+ employees</td>\n",
              "      <td>1893</td>\n",
              "      <td>Nonprofit Organization</td>\n",
              "      <td>Health Care Services &amp; Hospitals</td>\n",
              "      <td>Health Care</td>\n",
              "      <td>$2 to $5 billion (USD)</td>\n",
              "      <td>-1</td>\n",
              "      <td>-1</td>\n",
              "    </tr>\n",
              "    <tr>\n",
              "      <th>2</th>\n",
              "      <td>2</td>\n",
              "      <td>Senior Data Analyst, Insights &amp; Analytics Team...</td>\n",
              "      <td>$37K-$66K (Glassdoor est.)</td>\n",
              "      <td>We’re looking for a Senior Data Analyst who ha...</td>\n",
              "      <td>3.4</td>\n",
              "      <td>Squarespace\\r\\n3.4</td>\n",
              "      <td>New York, NY</td>\n",
              "      <td>New York, NY</td>\n",
              "      <td>1001 to 5000 employees</td>\n",
              "      <td>2003</td>\n",
              "      <td>Company - Private</td>\n",
              "      <td>Internet</td>\n",
              "      <td>Information Technology</td>\n",
              "      <td>Unknown / Non-Applicable</td>\n",
              "      <td>GoDaddy</td>\n",
              "      <td>-1</td>\n",
              "    </tr>\n",
              "    <tr>\n",
              "      <th>3</th>\n",
              "      <td>3</td>\n",
              "      <td>Data Analyst</td>\n",
              "      <td>$37K-$66K (Glassdoor est.)</td>\n",
              "      <td>Requisition NumberRR-0001939\\r\\nRemote:Yes\\r\\n...</td>\n",
              "      <td>4.1</td>\n",
              "      <td>Celerity\\r\\n4.1</td>\n",
              "      <td>New York, NY</td>\n",
              "      <td>McLean, VA</td>\n",
              "      <td>201 to 500 employees</td>\n",
              "      <td>2002</td>\n",
              "      <td>Subsidiary or Business Segment</td>\n",
              "      <td>IT Services</td>\n",
              "      <td>Information Technology</td>\n",
              "      <td>$50 to $100 million (USD)</td>\n",
              "      <td>-1</td>\n",
              "      <td>-1</td>\n",
              "    </tr>\n",
              "    <tr>\n",
              "      <th>4</th>\n",
              "      <td>4</td>\n",
              "      <td>Reporting Data Analyst</td>\n",
              "      <td>$37K-$66K (Glassdoor est.)</td>\n",
              "      <td>ABOUT FANDUEL GROUP\\r\\n\\r\\nFanDuel Group is a ...</td>\n",
              "      <td>3.9</td>\n",
              "      <td>FanDuel\\r\\n3.9</td>\n",
              "      <td>New York, NY</td>\n",
              "      <td>New York, NY</td>\n",
              "      <td>501 to 1000 employees</td>\n",
              "      <td>2009</td>\n",
              "      <td>Company - Private</td>\n",
              "      <td>Sports &amp; Recreation</td>\n",
              "      <td>Arts, Entertainment &amp; Recreation</td>\n",
              "      <td>$100 to $500 million (USD)</td>\n",
              "      <td>DraftKings</td>\n",
              "      <td>True</td>\n",
              "    </tr>\n",
              "  </tbody>\n",
              "</table>\n",
              "</div>"
            ],
            "text/plain": [
              "   unnamed_0                                          job_title  \\\n",
              "0          0  Data Analyst, Center on Immigration and Justic...   \n",
              "1          1                               Quality Data Analyst   \n",
              "2          2  Senior Data Analyst, Insights & Analytics Team...   \n",
              "3          3                                       Data Analyst   \n",
              "4          4                             Reporting Data Analyst   \n",
              "\n",
              "              salary_estimate  \\\n",
              "0  $37K-$66K (Glassdoor est.)   \n",
              "1  $37K-$66K (Glassdoor est.)   \n",
              "2  $37K-$66K (Glassdoor est.)   \n",
              "3  $37K-$66K (Glassdoor est.)   \n",
              "4  $37K-$66K (Glassdoor est.)   \n",
              "\n",
              "                                     job_description  rating  \\\n",
              "0  Are you eager to roll up your sleeves and harn...     3.2   \n",
              "1  Overview\\r\\n\\r\\nProvides analytical and techni...     3.8   \n",
              "2  We’re looking for a Senior Data Analyst who ha...     3.4   \n",
              "3  Requisition NumberRR-0001939\\r\\nRemote:Yes\\r\\n...     4.1   \n",
              "4  ABOUT FANDUEL GROUP\\r\\n\\r\\nFanDuel Group is a ...     3.9   \n",
              "\n",
              "                                company_name      location  headquarters  \\\n",
              "0           Vera Institute of Justice\\r\\n3.2  New York, NY  New York, NY   \n",
              "1  Visiting Nurse Service of New York\\r\\n3.8  New York, NY  New York, NY   \n",
              "2                         Squarespace\\r\\n3.4  New York, NY  New York, NY   \n",
              "3                            Celerity\\r\\n4.1  New York, NY    McLean, VA   \n",
              "4                             FanDuel\\r\\n3.9  New York, NY  New York, NY   \n",
              "\n",
              "                     size  founded               type_of_ownership  \\\n",
              "0    201 to 500 employees     1961          Nonprofit Organization   \n",
              "1        10000+ employees     1893          Nonprofit Organization   \n",
              "2  1001 to 5000 employees     2003               Company - Private   \n",
              "3    201 to 500 employees     2002  Subsidiary or Business Segment   \n",
              "4   501 to 1000 employees     2009               Company - Private   \n",
              "\n",
              "                           industry                            sector  \\\n",
              "0                 Social Assistance                        Non-Profit   \n",
              "1  Health Care Services & Hospitals                       Health Care   \n",
              "2                          Internet            Information Technology   \n",
              "3                       IT Services            Information Technology   \n",
              "4               Sports & Recreation  Arts, Entertainment & Recreation   \n",
              "\n",
              "                      revenue competitors easy_apply  \n",
              "0  $100 to $500 million (USD)          -1       True  \n",
              "1      $2 to $5 billion (USD)          -1         -1  \n",
              "2    Unknown / Non-Applicable     GoDaddy         -1  \n",
              "3   $50 to $100 million (USD)          -1         -1  \n",
              "4  $100 to $500 million (USD)  DraftKings       True  "
            ]
          },
          "execution_count": 7,
          "metadata": {},
          "output_type": "execute_result"
        }
      ],
      "source": [
        "df1.head()"
      ]
    },
    {
      "cell_type": "code",
      "execution_count": 8,
      "id": "2_CHdsmGJ1nr",
      "metadata": {
        "colab": {
          "base_uri": "https://localhost:8080/",
          "height": 547
        },
        "id": "2_CHdsmGJ1nr",
        "outputId": "af870f19-bde6-45ba-ec89-7ca4d7973ead"
      },
      "outputs": [
        {
          "data": {
            "text/html": [
              "<div>\n",
              "<style scoped>\n",
              "    .dataframe tbody tr th:only-of-type {\n",
              "        vertical-align: middle;\n",
              "    }\n",
              "\n",
              "    .dataframe tbody tr th {\n",
              "        vertical-align: top;\n",
              "    }\n",
              "\n",
              "    .dataframe thead th {\n",
              "        text-align: right;\n",
              "    }\n",
              "</style>\n",
              "<table border=\"1\" class=\"dataframe\">\n",
              "  <thead>\n",
              "    <tr style=\"text-align: right;\">\n",
              "      <th></th>\n",
              "      <th>unnamed_0</th>\n",
              "      <th>job_title</th>\n",
              "      <th>salary_estimate</th>\n",
              "      <th>job_description</th>\n",
              "      <th>rating</th>\n",
              "      <th>company_name</th>\n",
              "      <th>location</th>\n",
              "      <th>headquarters</th>\n",
              "      <th>size</th>\n",
              "      <th>founded</th>\n",
              "      <th>type_of_ownership</th>\n",
              "      <th>industry</th>\n",
              "      <th>sector</th>\n",
              "      <th>revenue</th>\n",
              "      <th>competitors</th>\n",
              "      <th>easy_apply</th>\n",
              "    </tr>\n",
              "  </thead>\n",
              "  <tbody>\n",
              "    <tr>\n",
              "      <th>2248</th>\n",
              "      <td>2248</td>\n",
              "      <td>RQS - IHHA - 201900004460 -1q Data Security An...</td>\n",
              "      <td>$78K-$104K (Glassdoor est.)</td>\n",
              "      <td>Maintains systems to protect data from unautho...</td>\n",
              "      <td>2.5</td>\n",
              "      <td>Avacend, Inc.\\r\\n2.5</td>\n",
              "      <td>Denver, CO</td>\n",
              "      <td>Alpharetta, GA</td>\n",
              "      <td>51 to 200 employees</td>\n",
              "      <td>-1</td>\n",
              "      <td>Company - Private</td>\n",
              "      <td>Staffing &amp; Outsourcing</td>\n",
              "      <td>Business Services</td>\n",
              "      <td>Unknown / Non-Applicable</td>\n",
              "      <td>-1</td>\n",
              "      <td>-1</td>\n",
              "    </tr>\n",
              "    <tr>\n",
              "      <th>2249</th>\n",
              "      <td>2249</td>\n",
              "      <td>Senior Data Analyst (Corporate Audit)</td>\n",
              "      <td>$78K-$104K (Glassdoor est.)</td>\n",
              "      <td>Position:\\r\\nSenior Data Analyst (Corporate Au...</td>\n",
              "      <td>2.9</td>\n",
              "      <td>Arrow Electronics\\r\\n2.9</td>\n",
              "      <td>Centennial, CO</td>\n",
              "      <td>Centennial, CO</td>\n",
              "      <td>10000+ employees</td>\n",
              "      <td>1935</td>\n",
              "      <td>Company - Public</td>\n",
              "      <td>Wholesale</td>\n",
              "      <td>Business Services</td>\n",
              "      <td>$10+ billion (USD)</td>\n",
              "      <td>Avnet, Ingram Micro, Tech Data</td>\n",
              "      <td>-1</td>\n",
              "    </tr>\n",
              "    <tr>\n",
              "      <th>2250</th>\n",
              "      <td>2250</td>\n",
              "      <td>Technical Business Analyst (SQL, Data analytic...</td>\n",
              "      <td>$78K-$104K (Glassdoor est.)</td>\n",
              "      <td>Title: Technical Business Analyst (SQL, Data a...</td>\n",
              "      <td>-1.0</td>\n",
              "      <td>Spiceorb</td>\n",
              "      <td>Denver, CO</td>\n",
              "      <td>-1</td>\n",
              "      <td>-1</td>\n",
              "      <td>-1</td>\n",
              "      <td>-1</td>\n",
              "      <td>-1</td>\n",
              "      <td>-1</td>\n",
              "      <td>-1</td>\n",
              "      <td>-1</td>\n",
              "      <td>-1</td>\n",
              "    </tr>\n",
              "    <tr>\n",
              "      <th>2251</th>\n",
              "      <td>2251</td>\n",
              "      <td>Data Analyst 3, Customer Experience</td>\n",
              "      <td>$78K-$104K (Glassdoor est.)</td>\n",
              "      <td>Summary\\r\\n\\r\\nResponsible for working cross-f...</td>\n",
              "      <td>3.1</td>\n",
              "      <td>Contingent Network Services\\r\\n3.1</td>\n",
              "      <td>Centennial, CO</td>\n",
              "      <td>West Chester, OH</td>\n",
              "      <td>201 to 500 employees</td>\n",
              "      <td>1984</td>\n",
              "      <td>Company - Private</td>\n",
              "      <td>Enterprise Software &amp; Network Solutions</td>\n",
              "      <td>Information Technology</td>\n",
              "      <td>$25 to $50 million (USD)</td>\n",
              "      <td>-1</td>\n",
              "      <td>-1</td>\n",
              "    </tr>\n",
              "    <tr>\n",
              "      <th>2252</th>\n",
              "      <td>2252</td>\n",
              "      <td>Senior Quality Data Analyst</td>\n",
              "      <td>$78K-$104K (Glassdoor est.)</td>\n",
              "      <td>You.\\r\\n\\r\\nYou bring your body, mind, heart a...</td>\n",
              "      <td>3.4</td>\n",
              "      <td>SCL Health\\r\\n3.4</td>\n",
              "      <td>Broomfield, CO</td>\n",
              "      <td>Broomfield, CO</td>\n",
              "      <td>10000+ employees</td>\n",
              "      <td>1864</td>\n",
              "      <td>Nonprofit Organization</td>\n",
              "      <td>Health Care Services &amp; Hospitals</td>\n",
              "      <td>Health Care</td>\n",
              "      <td>$2 to $5 billion (USD)</td>\n",
              "      <td>Centura Health, HealthONE, Denver Health and H...</td>\n",
              "      <td>-1</td>\n",
              "    </tr>\n",
              "  </tbody>\n",
              "</table>\n",
              "</div>"
            ],
            "text/plain": [
              "      unnamed_0                                          job_title  \\\n",
              "2248       2248  RQS - IHHA - 201900004460 -1q Data Security An...   \n",
              "2249       2249              Senior Data Analyst (Corporate Audit)   \n",
              "2250       2250  Technical Business Analyst (SQL, Data analytic...   \n",
              "2251       2251                Data Analyst 3, Customer Experience   \n",
              "2252       2252                        Senior Quality Data Analyst   \n",
              "\n",
              "                  salary_estimate  \\\n",
              "2248  $78K-$104K (Glassdoor est.)   \n",
              "2249  $78K-$104K (Glassdoor est.)   \n",
              "2250  $78K-$104K (Glassdoor est.)   \n",
              "2251  $78K-$104K (Glassdoor est.)   \n",
              "2252  $78K-$104K (Glassdoor est.)   \n",
              "\n",
              "                                        job_description  rating  \\\n",
              "2248  Maintains systems to protect data from unautho...     2.5   \n",
              "2249  Position:\\r\\nSenior Data Analyst (Corporate Au...     2.9   \n",
              "2250  Title: Technical Business Analyst (SQL, Data a...    -1.0   \n",
              "2251  Summary\\r\\n\\r\\nResponsible for working cross-f...     3.1   \n",
              "2252  You.\\r\\n\\r\\nYou bring your body, mind, heart a...     3.4   \n",
              "\n",
              "                            company_name        location      headquarters  \\\n",
              "2248                Avacend, Inc.\\r\\n2.5      Denver, CO    Alpharetta, GA   \n",
              "2249            Arrow Electronics\\r\\n2.9  Centennial, CO    Centennial, CO   \n",
              "2250                            Spiceorb      Denver, CO                -1   \n",
              "2251  Contingent Network Services\\r\\n3.1  Centennial, CO  West Chester, OH   \n",
              "2252                   SCL Health\\r\\n3.4  Broomfield, CO    Broomfield, CO   \n",
              "\n",
              "                      size  founded       type_of_ownership  \\\n",
              "2248   51 to 200 employees       -1       Company - Private   \n",
              "2249      10000+ employees     1935        Company - Public   \n",
              "2250                    -1       -1                      -1   \n",
              "2251  201 to 500 employees     1984       Company - Private   \n",
              "2252      10000+ employees     1864  Nonprofit Organization   \n",
              "\n",
              "                                     industry                  sector  \\\n",
              "2248                   Staffing & Outsourcing       Business Services   \n",
              "2249                                Wholesale       Business Services   \n",
              "2250                                       -1                      -1   \n",
              "2251  Enterprise Software & Network Solutions  Information Technology   \n",
              "2252         Health Care Services & Hospitals             Health Care   \n",
              "\n",
              "                       revenue  \\\n",
              "2248  Unknown / Non-Applicable   \n",
              "2249        $10+ billion (USD)   \n",
              "2250                        -1   \n",
              "2251  $25 to $50 million (USD)   \n",
              "2252    $2 to $5 billion (USD)   \n",
              "\n",
              "                                            competitors easy_apply  \n",
              "2248                                                 -1         -1  \n",
              "2249                     Avnet, Ingram Micro, Tech Data         -1  \n",
              "2250                                                 -1         -1  \n",
              "2251                                                 -1         -1  \n",
              "2252  Centura Health, HealthONE, Denver Health and H...         -1  "
            ]
          },
          "execution_count": 8,
          "metadata": {},
          "output_type": "execute_result"
        }
      ],
      "source": [
        "df1.tail()"
      ]
    },
    {
      "cell_type": "code",
      "execution_count": 9,
      "id": "TTPgMuEiK_6z",
      "metadata": {
        "colab": {
          "base_uri": "https://localhost:8080/"
        },
        "id": "TTPgMuEiK_6z",
        "outputId": "1224fe53-146d-4221-82bd-5b28382bfab6"
      },
      "outputs": [
        {
          "data": {
            "text/plain": [
              "(2253, 16)"
            ]
          },
          "execution_count": 9,
          "metadata": {},
          "output_type": "execute_result"
        }
      ],
      "source": [
        "df1.shape"
      ]
    },
    {
      "cell_type": "markdown",
      "id": "595f4c17",
      "metadata": {
        "id": "595f4c17"
      },
      "source": [
        "___\n",
        "\n",
        "\n",
        "___"
      ]
    },
    {
      "cell_type": "markdown",
      "id": "631baa78",
      "metadata": {
        "id": "631baa78"
      },
      "source": [
        "## Understanding The Variables\n",
        "\n",
        "**Once I knew all of the variables in the dataset, let's go on getting basic information from dataframe.**"
      ]
    },
    {
      "cell_type": "markdown",
      "id": "bdf4b082",
      "metadata": {
        "id": "bdf4b082"
      },
      "source": [
        "**INSTRUCTIONS**\n",
        "\n",
        "*   Print shape, len, size and index of the ``DataFrame``\n",
        "*   Find how many unique values each columns have (known as the ``'nunique'``).\n",
        "*   Display all columns and their data types (known as the ``'info'``).\n",
        "*   Get some basic descriptive statistics for all numeric columns (known as the ``'describe'``).\n",
        "*   Get some basic descriptive statistics for all categoric columns (known as the ``'describe'``).\n",
        "*   Check for ``missing values``.\n",
        "*   Check for ``duplicate values``.\n",
        "\n",
        "..."
      ]
    },
    {
      "cell_type": "code",
      "execution_count": null,
      "id": "bfae42c0",
      "metadata": {
        "id": "bfae42c0"
      },
      "outputs": [],
      "source": [
        "# CODE HERE"
      ]
    },
    {
      "cell_type": "code",
      "execution_count": 10,
      "id": "o-7jhHNeOBjA",
      "metadata": {
        "colab": {
          "base_uri": "https://localhost:8080/"
        },
        "id": "o-7jhHNeOBjA",
        "outputId": "d8665312-a5e0-439b-80a1-d0794fbc8f50"
      },
      "outputs": [
        {
          "data": {
            "text/plain": [
              "RangeIndex(start=0, stop=2253, step=1)"
            ]
          },
          "execution_count": 10,
          "metadata": {},
          "output_type": "execute_result"
        }
      ],
      "source": [
        "df1.index"
      ]
    },
    {
      "cell_type": "code",
      "execution_count": 14,
      "id": "mLsLYy4bN6ec",
      "metadata": {
        "colab": {
          "base_uri": "https://localhost:8080/"
        },
        "id": "mLsLYy4bN6ec",
        "outputId": "45300081-26f7-4399-ffe0-bfa354060fc1"
      },
      "outputs": [
        {
          "data": {
            "text/plain": [
              "36048"
            ]
          },
          "execution_count": 14,
          "metadata": {},
          "output_type": "execute_result"
        }
      ],
      "source": [
        "df1.size"
      ]
    },
    {
      "cell_type": "code",
      "execution_count": 15,
      "id": "305d8e5c",
      "metadata": {
        "colab": {
          "base_uri": "https://localhost:8080/"
        },
        "id": "305d8e5c",
        "outputId": "a437de2a-1cdb-40aa-a559-56eedac49bc7"
      },
      "outputs": [
        {
          "data": {
            "text/plain": [
              "2253"
            ]
          },
          "execution_count": 15,
          "metadata": {},
          "output_type": "execute_result"
        }
      ],
      "source": [
        "len(df1)"
      ]
    },
    {
      "cell_type": "code",
      "execution_count": 16,
      "id": "34304b03",
      "metadata": {
        "colab": {
          "base_uri": "https://localhost:8080/"
        },
        "id": "34304b03",
        "outputId": "82eaa6f5-f40f-4a20-fbef-76d1e5a7f79b"
      },
      "outputs": [
        {
          "name": "stdout",
          "output_type": "stream",
          "text": [
            "<class 'pandas.core.frame.DataFrame'>\n",
            "RangeIndex: 2253 entries, 0 to 2252\n",
            "Data columns (total 16 columns):\n",
            " #   Column             Non-Null Count  Dtype  \n",
            "---  ------             --------------  -----  \n",
            " 0   unnamed_0          2253 non-null   int64  \n",
            " 1   job_title          2253 non-null   object \n",
            " 2   salary_estimate    2253 non-null   object \n",
            " 3   job_description    2253 non-null   object \n",
            " 4   rating             2253 non-null   float64\n",
            " 5   company_name       2252 non-null   object \n",
            " 6   location           2253 non-null   object \n",
            " 7   headquarters       2253 non-null   object \n",
            " 8   size               2253 non-null   object \n",
            " 9   founded            2253 non-null   int64  \n",
            " 10  type_of_ownership  2253 non-null   object \n",
            " 11  industry           2253 non-null   object \n",
            " 12  sector             2253 non-null   object \n",
            " 13  revenue            2253 non-null   object \n",
            " 14  competitors        2253 non-null   object \n",
            " 15  easy_apply         2253 non-null   object \n",
            "dtypes: float64(1), int64(2), object(13)\n",
            "memory usage: 281.8+ KB\n"
          ]
        }
      ],
      "source": [
        "df1.info()#hic bir bos valuem yok "
      ]
    },
    {
      "cell_type": "code",
      "execution_count": null,
      "id": "peLSdM_3YUDK",
      "metadata": {
        "id": "peLSdM_3YUDK"
      },
      "outputs": [],
      "source": [
        " #unnamed_0  2253 non-null   int64  burda describe neden almadi ?"
      ]
    },
    {
      "cell_type": "code",
      "execution_count": 11,
      "id": "rLRHiZPKMqQd",
      "metadata": {
        "colab": {
          "base_uri": "https://localhost:8080/"
        },
        "id": "rLRHiZPKMqQd",
        "outputId": "9933d4fb-e090-4aa3-bd95-d6b7f9f20d57"
      },
      "outputs": [
        {
          "data": {
            "text/plain": [
              "easy_apply              2\n",
              "size                    9\n",
              "revenue                14\n",
              "type_of_ownership      15\n",
              "sector                 25\n",
              "rating                 37\n",
              "industry               89\n",
              "salary_estimate        90\n",
              "founded               161\n",
              "location              253\n",
              "competitors           291\n",
              "headquarters          483\n",
              "job_title            1272\n",
              "company_name         1513\n",
              "unnamed_0            2253\n",
              "job_description      2253\n",
              "dtype: int64"
            ]
          },
          "execution_count": 11,
          "metadata": {},
          "output_type": "execute_result"
        }
      ],
      "source": [
        "df1.nunique().sort_values()\n"
      ]
    },
    {
      "cell_type": "code",
      "execution_count": 12,
      "id": "ULOf9vPdMqNK",
      "metadata": {
        "colab": {
          "base_uri": "https://localhost:8080/",
          "height": 300
        },
        "id": "ULOf9vPdMqNK",
        "outputId": "d5c6afac-d951-4047-eb93-8074c375a344"
      },
      "outputs": [
        {
          "data": {
            "text/html": [
              "<div>\n",
              "<style scoped>\n",
              "    .dataframe tbody tr th:only-of-type {\n",
              "        vertical-align: middle;\n",
              "    }\n",
              "\n",
              "    .dataframe tbody tr th {\n",
              "        vertical-align: top;\n",
              "    }\n",
              "\n",
              "    .dataframe thead th {\n",
              "        text-align: right;\n",
              "    }\n",
              "</style>\n",
              "<table border=\"1\" class=\"dataframe\">\n",
              "  <thead>\n",
              "    <tr style=\"text-align: right;\">\n",
              "      <th></th>\n",
              "      <th>unnamed_0</th>\n",
              "      <th>rating</th>\n",
              "      <th>founded</th>\n",
              "    </tr>\n",
              "  </thead>\n",
              "  <tbody>\n",
              "    <tr>\n",
              "      <th>count</th>\n",
              "      <td>2253.0000</td>\n",
              "      <td>2253.000000</td>\n",
              "      <td>2253.000000</td>\n",
              "    </tr>\n",
              "    <tr>\n",
              "      <th>mean</th>\n",
              "      <td>1126.0000</td>\n",
              "      <td>3.160630</td>\n",
              "      <td>1398.522858</td>\n",
              "    </tr>\n",
              "    <tr>\n",
              "      <th>std</th>\n",
              "      <td>650.5294</td>\n",
              "      <td>1.665228</td>\n",
              "      <td>901.929251</td>\n",
              "    </tr>\n",
              "    <tr>\n",
              "      <th>min</th>\n",
              "      <td>0.0000</td>\n",
              "      <td>-1.000000</td>\n",
              "      <td>-1.000000</td>\n",
              "    </tr>\n",
              "    <tr>\n",
              "      <th>25%</th>\n",
              "      <td>563.0000</td>\n",
              "      <td>3.100000</td>\n",
              "      <td>-1.000000</td>\n",
              "    </tr>\n",
              "    <tr>\n",
              "      <th>50%</th>\n",
              "      <td>1126.0000</td>\n",
              "      <td>3.600000</td>\n",
              "      <td>1979.000000</td>\n",
              "    </tr>\n",
              "    <tr>\n",
              "      <th>75%</th>\n",
              "      <td>1689.0000</td>\n",
              "      <td>4.000000</td>\n",
              "      <td>2002.000000</td>\n",
              "    </tr>\n",
              "    <tr>\n",
              "      <th>max</th>\n",
              "      <td>2252.0000</td>\n",
              "      <td>5.000000</td>\n",
              "      <td>2019.000000</td>\n",
              "    </tr>\n",
              "  </tbody>\n",
              "</table>\n",
              "</div>"
            ],
            "text/plain": [
              "       unnamed_0       rating      founded\n",
              "count  2253.0000  2253.000000  2253.000000\n",
              "mean   1126.0000     3.160630  1398.522858\n",
              "std     650.5294     1.665228   901.929251\n",
              "min       0.0000    -1.000000    -1.000000\n",
              "25%     563.0000     3.100000    -1.000000\n",
              "50%    1126.0000     3.600000  1979.000000\n",
              "75%    1689.0000     4.000000  2002.000000\n",
              "max    2252.0000     5.000000  2019.000000"
            ]
          },
          "execution_count": 12,
          "metadata": {},
          "output_type": "execute_result"
        }
      ],
      "source": [
        "df1.describe()"
      ]
    },
    {
      "cell_type": "code",
      "execution_count": 13,
      "id": "Q1hdP-0RXbfP",
      "metadata": {
        "colab": {
          "base_uri": "https://localhost:8080/",
          "height": 291
        },
        "id": "Q1hdP-0RXbfP",
        "outputId": "acf7be66-fd6d-4218-99d7-2a677079ffd9"
      },
      "outputs": [
        {
          "data": {
            "text/html": [
              "<div>\n",
              "<style scoped>\n",
              "    .dataframe tbody tr th:only-of-type {\n",
              "        vertical-align: middle;\n",
              "    }\n",
              "\n",
              "    .dataframe tbody tr th {\n",
              "        vertical-align: top;\n",
              "    }\n",
              "\n",
              "    .dataframe thead th {\n",
              "        text-align: right;\n",
              "    }\n",
              "</style>\n",
              "<table border=\"1\" class=\"dataframe\">\n",
              "  <thead>\n",
              "    <tr style=\"text-align: right;\">\n",
              "      <th></th>\n",
              "      <th>job_title</th>\n",
              "      <th>salary_estimate</th>\n",
              "      <th>job_description</th>\n",
              "      <th>company_name</th>\n",
              "      <th>location</th>\n",
              "      <th>headquarters</th>\n",
              "      <th>size</th>\n",
              "      <th>type_of_ownership</th>\n",
              "      <th>industry</th>\n",
              "      <th>sector</th>\n",
              "      <th>revenue</th>\n",
              "      <th>competitors</th>\n",
              "      <th>easy_apply</th>\n",
              "    </tr>\n",
              "  </thead>\n",
              "  <tbody>\n",
              "    <tr>\n",
              "      <th>count</th>\n",
              "      <td>2253</td>\n",
              "      <td>2253</td>\n",
              "      <td>2253</td>\n",
              "      <td>2252</td>\n",
              "      <td>2253</td>\n",
              "      <td>2253</td>\n",
              "      <td>2253</td>\n",
              "      <td>2253</td>\n",
              "      <td>2253</td>\n",
              "      <td>2253</td>\n",
              "      <td>2253</td>\n",
              "      <td>2253</td>\n",
              "      <td>2253</td>\n",
              "    </tr>\n",
              "    <tr>\n",
              "      <th>unique</th>\n",
              "      <td>1272</td>\n",
              "      <td>90</td>\n",
              "      <td>2253</td>\n",
              "      <td>1513</td>\n",
              "      <td>253</td>\n",
              "      <td>483</td>\n",
              "      <td>9</td>\n",
              "      <td>15</td>\n",
              "      <td>89</td>\n",
              "      <td>25</td>\n",
              "      <td>14</td>\n",
              "      <td>291</td>\n",
              "      <td>2</td>\n",
              "    </tr>\n",
              "    <tr>\n",
              "      <th>top</th>\n",
              "      <td>Data Analyst</td>\n",
              "      <td>$42K-$76K (Glassdoor est.)</td>\n",
              "      <td>Are you eager to roll up your sleeves and harn...</td>\n",
              "      <td>Staffigo Technical Services, LLC\\r\\n5.0</td>\n",
              "      <td>New York, NY</td>\n",
              "      <td>New York, NY</td>\n",
              "      <td>51 to 200 employees</td>\n",
              "      <td>Company - Private</td>\n",
              "      <td>-1</td>\n",
              "      <td>Information Technology</td>\n",
              "      <td>Unknown / Non-Applicable</td>\n",
              "      <td>-1</td>\n",
              "      <td>-1</td>\n",
              "    </tr>\n",
              "    <tr>\n",
              "      <th>freq</th>\n",
              "      <td>405</td>\n",
              "      <td>57</td>\n",
              "      <td>1</td>\n",
              "      <td>58</td>\n",
              "      <td>310</td>\n",
              "      <td>206</td>\n",
              "      <td>421</td>\n",
              "      <td>1273</td>\n",
              "      <td>353</td>\n",
              "      <td>570</td>\n",
              "      <td>615</td>\n",
              "      <td>1732</td>\n",
              "      <td>2173</td>\n",
              "    </tr>\n",
              "  </tbody>\n",
              "</table>\n",
              "</div>"
            ],
            "text/plain": [
              "           job_title             salary_estimate  \\\n",
              "count           2253                        2253   \n",
              "unique          1272                          90   \n",
              "top     Data Analyst  $42K-$76K (Glassdoor est.)   \n",
              "freq             405                          57   \n",
              "\n",
              "                                          job_description  \\\n",
              "count                                                2253   \n",
              "unique                                               2253   \n",
              "top     Are you eager to roll up your sleeves and harn...   \n",
              "freq                                                    1   \n",
              "\n",
              "                                   company_name      location  headquarters  \\\n",
              "count                                      2252          2253          2253   \n",
              "unique                                     1513           253           483   \n",
              "top     Staffigo Technical Services, LLC\\r\\n5.0  New York, NY  New York, NY   \n",
              "freq                                         58           310           206   \n",
              "\n",
              "                       size  type_of_ownership industry  \\\n",
              "count                  2253               2253     2253   \n",
              "unique                    9                 15       89   \n",
              "top     51 to 200 employees  Company - Private       -1   \n",
              "freq                    421               1273      353   \n",
              "\n",
              "                        sector                   revenue competitors  \\\n",
              "count                     2253                      2253        2253   \n",
              "unique                      25                        14         291   \n",
              "top     Information Technology  Unknown / Non-Applicable          -1   \n",
              "freq                       570                       615        1732   \n",
              "\n",
              "       easy_apply  \n",
              "count        2253  \n",
              "unique          2  \n",
              "top            -1  \n",
              "freq         2173  "
            ]
          },
          "execution_count": 13,
          "metadata": {},
          "output_type": "execute_result"
        }
      ],
      "source": [
        "df1.describe(include=\"O\")"
      ]
    },
    {
      "cell_type": "code",
      "execution_count": 14,
      "id": "7A2AOSMbXvd3",
      "metadata": {
        "colab": {
          "base_uri": "https://localhost:8080/",
          "height": 456
        },
        "id": "7A2AOSMbXvd3",
        "outputId": "d1e904af-25d8-496f-ea10-a597e9b7d82c"
      },
      "outputs": [
        {
          "data": {
            "text/html": [
              "<div>\n",
              "<style scoped>\n",
              "    .dataframe tbody tr th:only-of-type {\n",
              "        vertical-align: middle;\n",
              "    }\n",
              "\n",
              "    .dataframe tbody tr th {\n",
              "        vertical-align: top;\n",
              "    }\n",
              "\n",
              "    .dataframe thead th {\n",
              "        text-align: right;\n",
              "    }\n",
              "</style>\n",
              "<table border=\"1\" class=\"dataframe\">\n",
              "  <thead>\n",
              "    <tr style=\"text-align: right;\">\n",
              "      <th></th>\n",
              "      <th>count</th>\n",
              "      <th>unique</th>\n",
              "      <th>top</th>\n",
              "      <th>freq</th>\n",
              "    </tr>\n",
              "  </thead>\n",
              "  <tbody>\n",
              "    <tr>\n",
              "      <th>job_title</th>\n",
              "      <td>2253</td>\n",
              "      <td>1272</td>\n",
              "      <td>Data Analyst</td>\n",
              "      <td>405</td>\n",
              "    </tr>\n",
              "    <tr>\n",
              "      <th>salary_estimate</th>\n",
              "      <td>2253</td>\n",
              "      <td>90</td>\n",
              "      <td>$42K-$76K (Glassdoor est.)</td>\n",
              "      <td>57</td>\n",
              "    </tr>\n",
              "    <tr>\n",
              "      <th>job_description</th>\n",
              "      <td>2253</td>\n",
              "      <td>2253</td>\n",
              "      <td>Are you eager to roll up your sleeves and harn...</td>\n",
              "      <td>1</td>\n",
              "    </tr>\n",
              "    <tr>\n",
              "      <th>company_name</th>\n",
              "      <td>2252</td>\n",
              "      <td>1513</td>\n",
              "      <td>Staffigo Technical Services, LLC\\r\\n5.0</td>\n",
              "      <td>58</td>\n",
              "    </tr>\n",
              "    <tr>\n",
              "      <th>location</th>\n",
              "      <td>2253</td>\n",
              "      <td>253</td>\n",
              "      <td>New York, NY</td>\n",
              "      <td>310</td>\n",
              "    </tr>\n",
              "    <tr>\n",
              "      <th>headquarters</th>\n",
              "      <td>2253</td>\n",
              "      <td>483</td>\n",
              "      <td>New York, NY</td>\n",
              "      <td>206</td>\n",
              "    </tr>\n",
              "    <tr>\n",
              "      <th>size</th>\n",
              "      <td>2253</td>\n",
              "      <td>9</td>\n",
              "      <td>51 to 200 employees</td>\n",
              "      <td>421</td>\n",
              "    </tr>\n",
              "    <tr>\n",
              "      <th>type_of_ownership</th>\n",
              "      <td>2253</td>\n",
              "      <td>15</td>\n",
              "      <td>Company - Private</td>\n",
              "      <td>1273</td>\n",
              "    </tr>\n",
              "    <tr>\n",
              "      <th>industry</th>\n",
              "      <td>2253</td>\n",
              "      <td>89</td>\n",
              "      <td>-1</td>\n",
              "      <td>353</td>\n",
              "    </tr>\n",
              "    <tr>\n",
              "      <th>sector</th>\n",
              "      <td>2253</td>\n",
              "      <td>25</td>\n",
              "      <td>Information Technology</td>\n",
              "      <td>570</td>\n",
              "    </tr>\n",
              "    <tr>\n",
              "      <th>revenue</th>\n",
              "      <td>2253</td>\n",
              "      <td>14</td>\n",
              "      <td>Unknown / Non-Applicable</td>\n",
              "      <td>615</td>\n",
              "    </tr>\n",
              "    <tr>\n",
              "      <th>competitors</th>\n",
              "      <td>2253</td>\n",
              "      <td>291</td>\n",
              "      <td>-1</td>\n",
              "      <td>1732</td>\n",
              "    </tr>\n",
              "    <tr>\n",
              "      <th>easy_apply</th>\n",
              "      <td>2253</td>\n",
              "      <td>2</td>\n",
              "      <td>-1</td>\n",
              "      <td>2173</td>\n",
              "    </tr>\n",
              "  </tbody>\n",
              "</table>\n",
              "</div>"
            ],
            "text/plain": [
              "                  count unique  \\\n",
              "job_title          2253   1272   \n",
              "salary_estimate    2253     90   \n",
              "job_description    2253   2253   \n",
              "company_name       2252   1513   \n",
              "location           2253    253   \n",
              "headquarters       2253    483   \n",
              "size               2253      9   \n",
              "type_of_ownership  2253     15   \n",
              "industry           2253     89   \n",
              "sector             2253     25   \n",
              "revenue            2253     14   \n",
              "competitors        2253    291   \n",
              "easy_apply         2253      2   \n",
              "\n",
              "                                                                 top  freq  \n",
              "job_title                                               Data Analyst   405  \n",
              "salary_estimate                           $42K-$76K (Glassdoor est.)    57  \n",
              "job_description    Are you eager to roll up your sleeves and harn...     1  \n",
              "company_name                 Staffigo Technical Services, LLC\\r\\n5.0    58  \n",
              "location                                                New York, NY   310  \n",
              "headquarters                                            New York, NY   206  \n",
              "size                                             51 to 200 employees   421  \n",
              "type_of_ownership                                  Company - Private  1273  \n",
              "industry                                                          -1   353  \n",
              "sector                                        Information Technology   570  \n",
              "revenue                                     Unknown / Non-Applicable   615  \n",
              "competitors                                                       -1  1732  \n",
              "easy_apply                                                        -1  2173  "
            ]
          },
          "execution_count": 14,
          "metadata": {},
          "output_type": "execute_result"
        }
      ],
      "source": [
        "df1.describe(include=\"O\").T"
      ]
    },
    {
      "cell_type": "code",
      "execution_count": 15,
      "id": "_QkoAtiuPKq-",
      "metadata": {
        "colab": {
          "base_uri": "https://localhost:8080/",
          "height": 510
        },
        "id": "_QkoAtiuPKq-",
        "outputId": "472e3542-3416-4e0b-e886-31687f61671a"
      },
      "outputs": [
        {
          "data": {
            "text/html": [
              "<div>\n",
              "<style scoped>\n",
              "    .dataframe tbody tr th:only-of-type {\n",
              "        vertical-align: middle;\n",
              "    }\n",
              "\n",
              "    .dataframe tbody tr th {\n",
              "        vertical-align: top;\n",
              "    }\n",
              "\n",
              "    .dataframe thead th {\n",
              "        text-align: right;\n",
              "    }\n",
              "</style>\n",
              "<table border=\"1\" class=\"dataframe\">\n",
              "  <thead>\n",
              "    <tr style=\"text-align: right;\">\n",
              "      <th></th>\n",
              "      <th>unnamed_0</th>\n",
              "      <th>job_title</th>\n",
              "      <th>salary_estimate</th>\n",
              "      <th>job_description</th>\n",
              "      <th>rating</th>\n",
              "      <th>company_name</th>\n",
              "      <th>location</th>\n",
              "      <th>headquarters</th>\n",
              "      <th>size</th>\n",
              "      <th>founded</th>\n",
              "      <th>type_of_ownership</th>\n",
              "      <th>industry</th>\n",
              "      <th>sector</th>\n",
              "      <th>revenue</th>\n",
              "      <th>competitors</th>\n",
              "      <th>easy_apply</th>\n",
              "    </tr>\n",
              "  </thead>\n",
              "  <tbody>\n",
              "    <tr>\n",
              "      <th>count</th>\n",
              "      <td>2253.0000</td>\n",
              "      <td>2253</td>\n",
              "      <td>2253</td>\n",
              "      <td>2253</td>\n",
              "      <td>2253.000000</td>\n",
              "      <td>2252</td>\n",
              "      <td>2253</td>\n",
              "      <td>2253</td>\n",
              "      <td>2253</td>\n",
              "      <td>2253.000000</td>\n",
              "      <td>2253</td>\n",
              "      <td>2253</td>\n",
              "      <td>2253</td>\n",
              "      <td>2253</td>\n",
              "      <td>2253</td>\n",
              "      <td>2253</td>\n",
              "    </tr>\n",
              "    <tr>\n",
              "      <th>unique</th>\n",
              "      <td>NaN</td>\n",
              "      <td>1272</td>\n",
              "      <td>90</td>\n",
              "      <td>2253</td>\n",
              "      <td>NaN</td>\n",
              "      <td>1513</td>\n",
              "      <td>253</td>\n",
              "      <td>483</td>\n",
              "      <td>9</td>\n",
              "      <td>NaN</td>\n",
              "      <td>15</td>\n",
              "      <td>89</td>\n",
              "      <td>25</td>\n",
              "      <td>14</td>\n",
              "      <td>291</td>\n",
              "      <td>2</td>\n",
              "    </tr>\n",
              "    <tr>\n",
              "      <th>top</th>\n",
              "      <td>NaN</td>\n",
              "      <td>Data Analyst</td>\n",
              "      <td>$42K-$76K (Glassdoor est.)</td>\n",
              "      <td>Are you eager to roll up your sleeves and harn...</td>\n",
              "      <td>NaN</td>\n",
              "      <td>Staffigo Technical Services, LLC\\r\\n5.0</td>\n",
              "      <td>New York, NY</td>\n",
              "      <td>New York, NY</td>\n",
              "      <td>51 to 200 employees</td>\n",
              "      <td>NaN</td>\n",
              "      <td>Company - Private</td>\n",
              "      <td>-1</td>\n",
              "      <td>Information Technology</td>\n",
              "      <td>Unknown / Non-Applicable</td>\n",
              "      <td>-1</td>\n",
              "      <td>-1</td>\n",
              "    </tr>\n",
              "    <tr>\n",
              "      <th>freq</th>\n",
              "      <td>NaN</td>\n",
              "      <td>405</td>\n",
              "      <td>57</td>\n",
              "      <td>1</td>\n",
              "      <td>NaN</td>\n",
              "      <td>58</td>\n",
              "      <td>310</td>\n",
              "      <td>206</td>\n",
              "      <td>421</td>\n",
              "      <td>NaN</td>\n",
              "      <td>1273</td>\n",
              "      <td>353</td>\n",
              "      <td>570</td>\n",
              "      <td>615</td>\n",
              "      <td>1732</td>\n",
              "      <td>2173</td>\n",
              "    </tr>\n",
              "    <tr>\n",
              "      <th>mean</th>\n",
              "      <td>1126.0000</td>\n",
              "      <td>NaN</td>\n",
              "      <td>NaN</td>\n",
              "      <td>NaN</td>\n",
              "      <td>3.160630</td>\n",
              "      <td>NaN</td>\n",
              "      <td>NaN</td>\n",
              "      <td>NaN</td>\n",
              "      <td>NaN</td>\n",
              "      <td>1398.522858</td>\n",
              "      <td>NaN</td>\n",
              "      <td>NaN</td>\n",
              "      <td>NaN</td>\n",
              "      <td>NaN</td>\n",
              "      <td>NaN</td>\n",
              "      <td>NaN</td>\n",
              "    </tr>\n",
              "    <tr>\n",
              "      <th>std</th>\n",
              "      <td>650.5294</td>\n",
              "      <td>NaN</td>\n",
              "      <td>NaN</td>\n",
              "      <td>NaN</td>\n",
              "      <td>1.665228</td>\n",
              "      <td>NaN</td>\n",
              "      <td>NaN</td>\n",
              "      <td>NaN</td>\n",
              "      <td>NaN</td>\n",
              "      <td>901.929251</td>\n",
              "      <td>NaN</td>\n",
              "      <td>NaN</td>\n",
              "      <td>NaN</td>\n",
              "      <td>NaN</td>\n",
              "      <td>NaN</td>\n",
              "      <td>NaN</td>\n",
              "    </tr>\n",
              "    <tr>\n",
              "      <th>min</th>\n",
              "      <td>0.0000</td>\n",
              "      <td>NaN</td>\n",
              "      <td>NaN</td>\n",
              "      <td>NaN</td>\n",
              "      <td>-1.000000</td>\n",
              "      <td>NaN</td>\n",
              "      <td>NaN</td>\n",
              "      <td>NaN</td>\n",
              "      <td>NaN</td>\n",
              "      <td>-1.000000</td>\n",
              "      <td>NaN</td>\n",
              "      <td>NaN</td>\n",
              "      <td>NaN</td>\n",
              "      <td>NaN</td>\n",
              "      <td>NaN</td>\n",
              "      <td>NaN</td>\n",
              "    </tr>\n",
              "    <tr>\n",
              "      <th>25%</th>\n",
              "      <td>563.0000</td>\n",
              "      <td>NaN</td>\n",
              "      <td>NaN</td>\n",
              "      <td>NaN</td>\n",
              "      <td>3.100000</td>\n",
              "      <td>NaN</td>\n",
              "      <td>NaN</td>\n",
              "      <td>NaN</td>\n",
              "      <td>NaN</td>\n",
              "      <td>-1.000000</td>\n",
              "      <td>NaN</td>\n",
              "      <td>NaN</td>\n",
              "      <td>NaN</td>\n",
              "      <td>NaN</td>\n",
              "      <td>NaN</td>\n",
              "      <td>NaN</td>\n",
              "    </tr>\n",
              "    <tr>\n",
              "      <th>50%</th>\n",
              "      <td>1126.0000</td>\n",
              "      <td>NaN</td>\n",
              "      <td>NaN</td>\n",
              "      <td>NaN</td>\n",
              "      <td>3.600000</td>\n",
              "      <td>NaN</td>\n",
              "      <td>NaN</td>\n",
              "      <td>NaN</td>\n",
              "      <td>NaN</td>\n",
              "      <td>1979.000000</td>\n",
              "      <td>NaN</td>\n",
              "      <td>NaN</td>\n",
              "      <td>NaN</td>\n",
              "      <td>NaN</td>\n",
              "      <td>NaN</td>\n",
              "      <td>NaN</td>\n",
              "    </tr>\n",
              "    <tr>\n",
              "      <th>75%</th>\n",
              "      <td>1689.0000</td>\n",
              "      <td>NaN</td>\n",
              "      <td>NaN</td>\n",
              "      <td>NaN</td>\n",
              "      <td>4.000000</td>\n",
              "      <td>NaN</td>\n",
              "      <td>NaN</td>\n",
              "      <td>NaN</td>\n",
              "      <td>NaN</td>\n",
              "      <td>2002.000000</td>\n",
              "      <td>NaN</td>\n",
              "      <td>NaN</td>\n",
              "      <td>NaN</td>\n",
              "      <td>NaN</td>\n",
              "      <td>NaN</td>\n",
              "      <td>NaN</td>\n",
              "    </tr>\n",
              "    <tr>\n",
              "      <th>max</th>\n",
              "      <td>2252.0000</td>\n",
              "      <td>NaN</td>\n",
              "      <td>NaN</td>\n",
              "      <td>NaN</td>\n",
              "      <td>5.000000</td>\n",
              "      <td>NaN</td>\n",
              "      <td>NaN</td>\n",
              "      <td>NaN</td>\n",
              "      <td>NaN</td>\n",
              "      <td>2019.000000</td>\n",
              "      <td>NaN</td>\n",
              "      <td>NaN</td>\n",
              "      <td>NaN</td>\n",
              "      <td>NaN</td>\n",
              "      <td>NaN</td>\n",
              "      <td>NaN</td>\n",
              "    </tr>\n",
              "  </tbody>\n",
              "</table>\n",
              "</div>"
            ],
            "text/plain": [
              "        unnamed_0     job_title             salary_estimate  \\\n",
              "count   2253.0000          2253                        2253   \n",
              "unique        NaN          1272                          90   \n",
              "top           NaN  Data Analyst  $42K-$76K (Glassdoor est.)   \n",
              "freq          NaN           405                          57   \n",
              "mean    1126.0000           NaN                         NaN   \n",
              "std      650.5294           NaN                         NaN   \n",
              "min        0.0000           NaN                         NaN   \n",
              "25%      563.0000           NaN                         NaN   \n",
              "50%     1126.0000           NaN                         NaN   \n",
              "75%     1689.0000           NaN                         NaN   \n",
              "max     2252.0000           NaN                         NaN   \n",
              "\n",
              "                                          job_description       rating  \\\n",
              "count                                                2253  2253.000000   \n",
              "unique                                               2253          NaN   \n",
              "top     Are you eager to roll up your sleeves and harn...          NaN   \n",
              "freq                                                    1          NaN   \n",
              "mean                                                  NaN     3.160630   \n",
              "std                                                   NaN     1.665228   \n",
              "min                                                   NaN    -1.000000   \n",
              "25%                                                   NaN     3.100000   \n",
              "50%                                                   NaN     3.600000   \n",
              "75%                                                   NaN     4.000000   \n",
              "max                                                   NaN     5.000000   \n",
              "\n",
              "                                   company_name      location  headquarters  \\\n",
              "count                                      2252          2253          2253   \n",
              "unique                                     1513           253           483   \n",
              "top     Staffigo Technical Services, LLC\\r\\n5.0  New York, NY  New York, NY   \n",
              "freq                                         58           310           206   \n",
              "mean                                        NaN           NaN           NaN   \n",
              "std                                         NaN           NaN           NaN   \n",
              "min                                         NaN           NaN           NaN   \n",
              "25%                                         NaN           NaN           NaN   \n",
              "50%                                         NaN           NaN           NaN   \n",
              "75%                                         NaN           NaN           NaN   \n",
              "max                                         NaN           NaN           NaN   \n",
              "\n",
              "                       size      founded  type_of_ownership industry  \\\n",
              "count                  2253  2253.000000               2253     2253   \n",
              "unique                    9          NaN                 15       89   \n",
              "top     51 to 200 employees          NaN  Company - Private       -1   \n",
              "freq                    421          NaN               1273      353   \n",
              "mean                    NaN  1398.522858                NaN      NaN   \n",
              "std                     NaN   901.929251                NaN      NaN   \n",
              "min                     NaN    -1.000000                NaN      NaN   \n",
              "25%                     NaN    -1.000000                NaN      NaN   \n",
              "50%                     NaN  1979.000000                NaN      NaN   \n",
              "75%                     NaN  2002.000000                NaN      NaN   \n",
              "max                     NaN  2019.000000                NaN      NaN   \n",
              "\n",
              "                        sector                   revenue competitors  \\\n",
              "count                     2253                      2253        2253   \n",
              "unique                      25                        14         291   \n",
              "top     Information Technology  Unknown / Non-Applicable          -1   \n",
              "freq                       570                       615        1732   \n",
              "mean                       NaN                       NaN         NaN   \n",
              "std                        NaN                       NaN         NaN   \n",
              "min                        NaN                       NaN         NaN   \n",
              "25%                        NaN                       NaN         NaN   \n",
              "50%                        NaN                       NaN         NaN   \n",
              "75%                        NaN                       NaN         NaN   \n",
              "max                        NaN                       NaN         NaN   \n",
              "\n",
              "       easy_apply  \n",
              "count        2253  \n",
              "unique          2  \n",
              "top            -1  \n",
              "freq         2173  \n",
              "mean          NaN  \n",
              "std           NaN  \n",
              "min           NaN  \n",
              "25%           NaN  \n",
              "50%           NaN  \n",
              "75%           NaN  \n",
              "max           NaN  "
            ]
          },
          "execution_count": 15,
          "metadata": {},
          "output_type": "execute_result"
        }
      ],
      "source": [
        "from pandas.core.dtypes.dtypes import CategoricalDtype\n",
        "df1.describe(percentiles=None, include=None, exclude='category')\n",
        "\n",
        "#categorical veri anlaizi icin tekrar bakilsin"
      ]
    },
    {
      "cell_type": "code",
      "execution_count": 16,
      "id": "geizLsTWMqII",
      "metadata": {
        "colab": {
          "base_uri": "https://localhost:8080/"
        },
        "id": "geizLsTWMqII",
        "outputId": "0ab2632c-fd83-41dc-ca56-5db6bbff104c"
      },
      "outputs": [
        {
          "data": {
            "text/plain": [
              "0       False\n",
              "1       False\n",
              "2       False\n",
              "3       False\n",
              "4       False\n",
              "        ...  \n",
              "2248    False\n",
              "2249    False\n",
              "2250    False\n",
              "2251    False\n",
              "2252    False\n",
              "Length: 2253, dtype: bool"
            ]
          },
          "execution_count": 16,
          "metadata": {},
          "output_type": "execute_result"
        }
      ],
      "source": [
        "df1.duplicated()"
      ]
    },
    {
      "cell_type": "code",
      "execution_count": 17,
      "id": "ltTE619uOkxA",
      "metadata": {
        "colab": {
          "base_uri": "https://localhost:8080/"
        },
        "id": "ltTE619uOkxA",
        "outputId": "1aab43d9-4116-491c-c222-44e941c530cb"
      },
      "outputs": [
        {
          "data": {
            "text/plain": [
              "0"
            ]
          },
          "execution_count": 17,
          "metadata": {},
          "output_type": "execute_result"
        }
      ],
      "source": [
        "df1.duplicated().sum()"
      ]
    },
    {
      "cell_type": "code",
      "execution_count": 18,
      "id": "smfYFAxDOqp9",
      "metadata": {
        "colab": {
          "base_uri": "https://localhost:8080/",
          "height": 487
        },
        "id": "smfYFAxDOqp9",
        "outputId": "4966281c-f721-41ca-9999-97824f75db70"
      },
      "outputs": [
        {
          "data": {
            "text/html": [
              "<div>\n",
              "<style scoped>\n",
              "    .dataframe tbody tr th:only-of-type {\n",
              "        vertical-align: middle;\n",
              "    }\n",
              "\n",
              "    .dataframe tbody tr th {\n",
              "        vertical-align: top;\n",
              "    }\n",
              "\n",
              "    .dataframe thead th {\n",
              "        text-align: right;\n",
              "    }\n",
              "</style>\n",
              "<table border=\"1\" class=\"dataframe\">\n",
              "  <thead>\n",
              "    <tr style=\"text-align: right;\">\n",
              "      <th></th>\n",
              "      <th>unnamed_0</th>\n",
              "      <th>job_title</th>\n",
              "      <th>salary_estimate</th>\n",
              "      <th>job_description</th>\n",
              "      <th>rating</th>\n",
              "      <th>company_name</th>\n",
              "      <th>location</th>\n",
              "      <th>headquarters</th>\n",
              "      <th>size</th>\n",
              "      <th>founded</th>\n",
              "      <th>type_of_ownership</th>\n",
              "      <th>industry</th>\n",
              "      <th>sector</th>\n",
              "      <th>revenue</th>\n",
              "      <th>competitors</th>\n",
              "      <th>easy_apply</th>\n",
              "    </tr>\n",
              "  </thead>\n",
              "  <tbody>\n",
              "    <tr>\n",
              "      <th>0</th>\n",
              "      <td>False</td>\n",
              "      <td>False</td>\n",
              "      <td>False</td>\n",
              "      <td>False</td>\n",
              "      <td>False</td>\n",
              "      <td>False</td>\n",
              "      <td>False</td>\n",
              "      <td>False</td>\n",
              "      <td>False</td>\n",
              "      <td>False</td>\n",
              "      <td>False</td>\n",
              "      <td>False</td>\n",
              "      <td>False</td>\n",
              "      <td>False</td>\n",
              "      <td>False</td>\n",
              "      <td>False</td>\n",
              "    </tr>\n",
              "    <tr>\n",
              "      <th>1</th>\n",
              "      <td>False</td>\n",
              "      <td>False</td>\n",
              "      <td>False</td>\n",
              "      <td>False</td>\n",
              "      <td>False</td>\n",
              "      <td>False</td>\n",
              "      <td>False</td>\n",
              "      <td>False</td>\n",
              "      <td>False</td>\n",
              "      <td>False</td>\n",
              "      <td>False</td>\n",
              "      <td>False</td>\n",
              "      <td>False</td>\n",
              "      <td>False</td>\n",
              "      <td>False</td>\n",
              "      <td>False</td>\n",
              "    </tr>\n",
              "    <tr>\n",
              "      <th>2</th>\n",
              "      <td>False</td>\n",
              "      <td>False</td>\n",
              "      <td>False</td>\n",
              "      <td>False</td>\n",
              "      <td>False</td>\n",
              "      <td>False</td>\n",
              "      <td>False</td>\n",
              "      <td>False</td>\n",
              "      <td>False</td>\n",
              "      <td>False</td>\n",
              "      <td>False</td>\n",
              "      <td>False</td>\n",
              "      <td>False</td>\n",
              "      <td>False</td>\n",
              "      <td>False</td>\n",
              "      <td>False</td>\n",
              "    </tr>\n",
              "    <tr>\n",
              "      <th>3</th>\n",
              "      <td>False</td>\n",
              "      <td>False</td>\n",
              "      <td>False</td>\n",
              "      <td>False</td>\n",
              "      <td>False</td>\n",
              "      <td>False</td>\n",
              "      <td>False</td>\n",
              "      <td>False</td>\n",
              "      <td>False</td>\n",
              "      <td>False</td>\n",
              "      <td>False</td>\n",
              "      <td>False</td>\n",
              "      <td>False</td>\n",
              "      <td>False</td>\n",
              "      <td>False</td>\n",
              "      <td>False</td>\n",
              "    </tr>\n",
              "    <tr>\n",
              "      <th>4</th>\n",
              "      <td>False</td>\n",
              "      <td>False</td>\n",
              "      <td>False</td>\n",
              "      <td>False</td>\n",
              "      <td>False</td>\n",
              "      <td>False</td>\n",
              "      <td>False</td>\n",
              "      <td>False</td>\n",
              "      <td>False</td>\n",
              "      <td>False</td>\n",
              "      <td>False</td>\n",
              "      <td>False</td>\n",
              "      <td>False</td>\n",
              "      <td>False</td>\n",
              "      <td>False</td>\n",
              "      <td>False</td>\n",
              "    </tr>\n",
              "    <tr>\n",
              "      <th>...</th>\n",
              "      <td>...</td>\n",
              "      <td>...</td>\n",
              "      <td>...</td>\n",
              "      <td>...</td>\n",
              "      <td>...</td>\n",
              "      <td>...</td>\n",
              "      <td>...</td>\n",
              "      <td>...</td>\n",
              "      <td>...</td>\n",
              "      <td>...</td>\n",
              "      <td>...</td>\n",
              "      <td>...</td>\n",
              "      <td>...</td>\n",
              "      <td>...</td>\n",
              "      <td>...</td>\n",
              "      <td>...</td>\n",
              "    </tr>\n",
              "    <tr>\n",
              "      <th>2248</th>\n",
              "      <td>False</td>\n",
              "      <td>False</td>\n",
              "      <td>False</td>\n",
              "      <td>False</td>\n",
              "      <td>False</td>\n",
              "      <td>False</td>\n",
              "      <td>False</td>\n",
              "      <td>False</td>\n",
              "      <td>False</td>\n",
              "      <td>False</td>\n",
              "      <td>False</td>\n",
              "      <td>False</td>\n",
              "      <td>False</td>\n",
              "      <td>False</td>\n",
              "      <td>False</td>\n",
              "      <td>False</td>\n",
              "    </tr>\n",
              "    <tr>\n",
              "      <th>2249</th>\n",
              "      <td>False</td>\n",
              "      <td>False</td>\n",
              "      <td>False</td>\n",
              "      <td>False</td>\n",
              "      <td>False</td>\n",
              "      <td>False</td>\n",
              "      <td>False</td>\n",
              "      <td>False</td>\n",
              "      <td>False</td>\n",
              "      <td>False</td>\n",
              "      <td>False</td>\n",
              "      <td>False</td>\n",
              "      <td>False</td>\n",
              "      <td>False</td>\n",
              "      <td>False</td>\n",
              "      <td>False</td>\n",
              "    </tr>\n",
              "    <tr>\n",
              "      <th>2250</th>\n",
              "      <td>False</td>\n",
              "      <td>False</td>\n",
              "      <td>False</td>\n",
              "      <td>False</td>\n",
              "      <td>False</td>\n",
              "      <td>False</td>\n",
              "      <td>False</td>\n",
              "      <td>False</td>\n",
              "      <td>False</td>\n",
              "      <td>False</td>\n",
              "      <td>False</td>\n",
              "      <td>False</td>\n",
              "      <td>False</td>\n",
              "      <td>False</td>\n",
              "      <td>False</td>\n",
              "      <td>False</td>\n",
              "    </tr>\n",
              "    <tr>\n",
              "      <th>2251</th>\n",
              "      <td>False</td>\n",
              "      <td>False</td>\n",
              "      <td>False</td>\n",
              "      <td>False</td>\n",
              "      <td>False</td>\n",
              "      <td>False</td>\n",
              "      <td>False</td>\n",
              "      <td>False</td>\n",
              "      <td>False</td>\n",
              "      <td>False</td>\n",
              "      <td>False</td>\n",
              "      <td>False</td>\n",
              "      <td>False</td>\n",
              "      <td>False</td>\n",
              "      <td>False</td>\n",
              "      <td>False</td>\n",
              "    </tr>\n",
              "    <tr>\n",
              "      <th>2252</th>\n",
              "      <td>False</td>\n",
              "      <td>False</td>\n",
              "      <td>False</td>\n",
              "      <td>False</td>\n",
              "      <td>False</td>\n",
              "      <td>False</td>\n",
              "      <td>False</td>\n",
              "      <td>False</td>\n",
              "      <td>False</td>\n",
              "      <td>False</td>\n",
              "      <td>False</td>\n",
              "      <td>False</td>\n",
              "      <td>False</td>\n",
              "      <td>False</td>\n",
              "      <td>False</td>\n",
              "      <td>False</td>\n",
              "    </tr>\n",
              "  </tbody>\n",
              "</table>\n",
              "<p>2253 rows × 16 columns</p>\n",
              "</div>"
            ],
            "text/plain": [
              "      unnamed_0  job_title  salary_estimate  job_description  rating  \\\n",
              "0         False      False            False            False   False   \n",
              "1         False      False            False            False   False   \n",
              "2         False      False            False            False   False   \n",
              "3         False      False            False            False   False   \n",
              "4         False      False            False            False   False   \n",
              "...         ...        ...              ...              ...     ...   \n",
              "2248      False      False            False            False   False   \n",
              "2249      False      False            False            False   False   \n",
              "2250      False      False            False            False   False   \n",
              "2251      False      False            False            False   False   \n",
              "2252      False      False            False            False   False   \n",
              "\n",
              "      company_name  location  headquarters   size  founded  type_of_ownership  \\\n",
              "0            False     False         False  False    False              False   \n",
              "1            False     False         False  False    False              False   \n",
              "2            False     False         False  False    False              False   \n",
              "3            False     False         False  False    False              False   \n",
              "4            False     False         False  False    False              False   \n",
              "...            ...       ...           ...    ...      ...                ...   \n",
              "2248         False     False         False  False    False              False   \n",
              "2249         False     False         False  False    False              False   \n",
              "2250         False     False         False  False    False              False   \n",
              "2251         False     False         False  False    False              False   \n",
              "2252         False     False         False  False    False              False   \n",
              "\n",
              "      industry  sector  revenue  competitors  easy_apply  \n",
              "0        False   False    False        False       False  \n",
              "1        False   False    False        False       False  \n",
              "2        False   False    False        False       False  \n",
              "3        False   False    False        False       False  \n",
              "4        False   False    False        False       False  \n",
              "...        ...     ...      ...          ...         ...  \n",
              "2248     False   False    False        False       False  \n",
              "2249     False   False    False        False       False  \n",
              "2250     False   False    False        False       False  \n",
              "2251     False   False    False        False       False  \n",
              "2252     False   False    False        False       False  \n",
              "\n",
              "[2253 rows x 16 columns]"
            ]
          },
          "execution_count": 18,
          "metadata": {},
          "output_type": "execute_result"
        }
      ],
      "source": [
        "df1.isna()"
      ]
    },
    {
      "cell_type": "code",
      "execution_count": 24,
      "id": "aEb0oXv3Oxxw",
      "metadata": {
        "colab": {
          "base_uri": "https://localhost:8080/"
        },
        "id": "aEb0oXv3Oxxw",
        "outputId": "8e2fae0a-a713-4295-b2b7-36d26111b081"
      },
      "outputs": [
        {
          "data": {
            "text/plain": [
              "unnamed_0            0\n",
              "job_title            0\n",
              "salary_estimate      0\n",
              "job_description      0\n",
              "rating               0\n",
              "company_name         1\n",
              "location             0\n",
              "headquarters         0\n",
              "size                 0\n",
              "founded              0\n",
              "type_of_ownership    0\n",
              "industry             0\n",
              "sector               0\n",
              "revenue              0\n",
              "competitors          0\n",
              "easy_apply           0\n",
              "dtype: int64"
            ]
          },
          "execution_count": 24,
          "metadata": {},
          "output_type": "execute_result"
        }
      ],
      "source": [
        "df1.isna().sum()"
      ]
    },
    {
      "cell_type": "code",
      "execution_count": 25,
      "id": "zyTCoTn0VpMH",
      "metadata": {
        "colab": {
          "base_uri": "https://localhost:8080/"
        },
        "id": "zyTCoTn0VpMH",
        "outputId": "f692c834-c638-493c-84be-1c2088eacf31"
      },
      "outputs": [
        {
          "data": {
            "text/html": [
              "<div>\n",
              "<style scoped>\n",
              "    .dataframe tbody tr th:only-of-type {\n",
              "        vertical-align: middle;\n",
              "    }\n",
              "\n",
              "    .dataframe tbody tr th {\n",
              "        vertical-align: top;\n",
              "    }\n",
              "\n",
              "    .dataframe thead th {\n",
              "        text-align: right;\n",
              "    }\n",
              "</style>\n",
              "<table border=\"1\" class=\"dataframe\">\n",
              "  <thead>\n",
              "    <tr style=\"text-align: right;\">\n",
              "      <th></th>\n",
              "      <th>unnamed_0</th>\n",
              "      <th>job_title</th>\n",
              "      <th>salary_estimate</th>\n",
              "      <th>job_description</th>\n",
              "      <th>rating</th>\n",
              "      <th>company_name</th>\n",
              "      <th>location</th>\n",
              "      <th>headquarters</th>\n",
              "      <th>size</th>\n",
              "      <th>founded</th>\n",
              "      <th>type_of_ownership</th>\n",
              "      <th>industry</th>\n",
              "      <th>sector</th>\n",
              "      <th>revenue</th>\n",
              "      <th>competitors</th>\n",
              "      <th>easy_apply</th>\n",
              "    </tr>\n",
              "  </thead>\n",
              "  <tbody>\n",
              "    <tr>\n",
              "      <th>count</th>\n",
              "      <td>2253</td>\n",
              "      <td>2253</td>\n",
              "      <td>2253</td>\n",
              "      <td>2253</td>\n",
              "      <td>2253.0</td>\n",
              "      <td>2252</td>\n",
              "      <td>2253</td>\n",
              "      <td>2253</td>\n",
              "      <td>2253</td>\n",
              "      <td>2253</td>\n",
              "      <td>2253</td>\n",
              "      <td>2253</td>\n",
              "      <td>2253</td>\n",
              "      <td>2253</td>\n",
              "      <td>2253</td>\n",
              "      <td>2253</td>\n",
              "    </tr>\n",
              "    <tr>\n",
              "      <th>unique</th>\n",
              "      <td>2253</td>\n",
              "      <td>1272</td>\n",
              "      <td>90</td>\n",
              "      <td>2253</td>\n",
              "      <td>37.0</td>\n",
              "      <td>1513</td>\n",
              "      <td>253</td>\n",
              "      <td>483</td>\n",
              "      <td>9</td>\n",
              "      <td>161</td>\n",
              "      <td>15</td>\n",
              "      <td>89</td>\n",
              "      <td>25</td>\n",
              "      <td>14</td>\n",
              "      <td>291</td>\n",
              "      <td>2</td>\n",
              "    </tr>\n",
              "    <tr>\n",
              "      <th>top</th>\n",
              "      <td>0</td>\n",
              "      <td>Data Analyst</td>\n",
              "      <td>$42K-$76K (Glassdoor est.)</td>\n",
              "      <td>Are you eager to roll up your sleeves and harn...</td>\n",
              "      <td>-1.0</td>\n",
              "      <td>Staffigo Technical Services, LLC\\r\\n5.0</td>\n",
              "      <td>New York, NY</td>\n",
              "      <td>New York, NY</td>\n",
              "      <td>51 to 200 employees</td>\n",
              "      <td>-1</td>\n",
              "      <td>Company - Private</td>\n",
              "      <td>-1</td>\n",
              "      <td>Information Technology</td>\n",
              "      <td>Unknown / Non-Applicable</td>\n",
              "      <td>-1</td>\n",
              "      <td>-1</td>\n",
              "    </tr>\n",
              "    <tr>\n",
              "      <th>freq</th>\n",
              "      <td>1</td>\n",
              "      <td>405</td>\n",
              "      <td>57</td>\n",
              "      <td>1</td>\n",
              "      <td>272.0</td>\n",
              "      <td>58</td>\n",
              "      <td>310</td>\n",
              "      <td>206</td>\n",
              "      <td>421</td>\n",
              "      <td>660</td>\n",
              "      <td>1273</td>\n",
              "      <td>353</td>\n",
              "      <td>570</td>\n",
              "      <td>615</td>\n",
              "      <td>1732</td>\n",
              "      <td>2173</td>\n",
              "    </tr>\n",
              "  </tbody>\n",
              "</table>\n",
              "</div>"
            ],
            "text/plain": [
              "        unnamed_0     job_title             salary_estimate  \\\n",
              "count        2253          2253                        2253   \n",
              "unique       2253          1272                          90   \n",
              "top             0  Data Analyst  $42K-$76K (Glassdoor est.)   \n",
              "freq            1           405                          57   \n",
              "\n",
              "                                          job_description  rating  \\\n",
              "count                                                2253  2253.0   \n",
              "unique                                               2253    37.0   \n",
              "top     Are you eager to roll up your sleeves and harn...    -1.0   \n",
              "freq                                                    1   272.0   \n",
              "\n",
              "                                   company_name      location  headquarters  \\\n",
              "count                                      2252          2253          2253   \n",
              "unique                                     1513           253           483   \n",
              "top     Staffigo Technical Services, LLC\\r\\n5.0  New York, NY  New York, NY   \n",
              "freq                                         58           310           206   \n",
              "\n",
              "                       size  founded  type_of_ownership industry  \\\n",
              "count                  2253     2253               2253     2253   \n",
              "unique                    9      161                 15       89   \n",
              "top     51 to 200 employees       -1  Company - Private       -1   \n",
              "freq                    421      660               1273      353   \n",
              "\n",
              "                        sector                   revenue competitors  \\\n",
              "count                     2253                      2253        2253   \n",
              "unique                      25                        14         291   \n",
              "top     Information Technology  Unknown / Non-Applicable          -1   \n",
              "freq                       570                       615        1732   \n",
              "\n",
              "       easy_apply  \n",
              "count        2253  \n",
              "unique          2  \n",
              "top            -1  \n",
              "freq         2173  "
            ]
          },
          "execution_count": 25,
          "metadata": {},
          "output_type": "execute_result"
        }
      ],
      "source": [
        "df1.astype('object').describe()\n",
        "#"
      ]
    },
    {
      "cell_type": "code",
      "execution_count": null,
      "id": "Ur2WDJJJs_BJ",
      "metadata": {
        "id": "Ur2WDJJJs_BJ"
      },
      "outputs": [],
      "source": []
    },
    {
      "cell_type": "code",
      "execution_count": 26,
      "id": "GTjQuIH6XZr6",
      "metadata": {
        "colab": {
          "base_uri": "https://localhost:8080/",
          "height": 456
        },
        "id": "GTjQuIH6XZr6",
        "outputId": "97c5913c-3a69-41a2-928f-661ce83c2a6d"
      },
      "outputs": [
        {
          "data": {
            "text/html": [
              "<div>\n",
              "<style scoped>\n",
              "    .dataframe tbody tr th:only-of-type {\n",
              "        vertical-align: middle;\n",
              "    }\n",
              "\n",
              "    .dataframe tbody tr th {\n",
              "        vertical-align: top;\n",
              "    }\n",
              "\n",
              "    .dataframe thead th {\n",
              "        text-align: right;\n",
              "    }\n",
              "</style>\n",
              "<table border=\"1\" class=\"dataframe\">\n",
              "  <thead>\n",
              "    <tr style=\"text-align: right;\">\n",
              "      <th></th>\n",
              "      <th>count</th>\n",
              "      <th>unique</th>\n",
              "      <th>top</th>\n",
              "      <th>freq</th>\n",
              "    </tr>\n",
              "  </thead>\n",
              "  <tbody>\n",
              "    <tr>\n",
              "      <th>job_title</th>\n",
              "      <td>2253</td>\n",
              "      <td>1272</td>\n",
              "      <td>Data Analyst</td>\n",
              "      <td>405</td>\n",
              "    </tr>\n",
              "    <tr>\n",
              "      <th>salary_estimate</th>\n",
              "      <td>2253</td>\n",
              "      <td>90</td>\n",
              "      <td>$42K-$76K (Glassdoor est.)</td>\n",
              "      <td>57</td>\n",
              "    </tr>\n",
              "    <tr>\n",
              "      <th>job_description</th>\n",
              "      <td>2253</td>\n",
              "      <td>2253</td>\n",
              "      <td>Are you eager to roll up your sleeves and harn...</td>\n",
              "      <td>1</td>\n",
              "    </tr>\n",
              "    <tr>\n",
              "      <th>company_name</th>\n",
              "      <td>2252</td>\n",
              "      <td>1513</td>\n",
              "      <td>Staffigo Technical Services, LLC\\r\\n5.0</td>\n",
              "      <td>58</td>\n",
              "    </tr>\n",
              "    <tr>\n",
              "      <th>location</th>\n",
              "      <td>2253</td>\n",
              "      <td>253</td>\n",
              "      <td>New York, NY</td>\n",
              "      <td>310</td>\n",
              "    </tr>\n",
              "    <tr>\n",
              "      <th>headquarters</th>\n",
              "      <td>2253</td>\n",
              "      <td>483</td>\n",
              "      <td>New York, NY</td>\n",
              "      <td>206</td>\n",
              "    </tr>\n",
              "    <tr>\n",
              "      <th>size</th>\n",
              "      <td>2253</td>\n",
              "      <td>9</td>\n",
              "      <td>51 to 200 employees</td>\n",
              "      <td>421</td>\n",
              "    </tr>\n",
              "    <tr>\n",
              "      <th>type_of_ownership</th>\n",
              "      <td>2253</td>\n",
              "      <td>15</td>\n",
              "      <td>Company - Private</td>\n",
              "      <td>1273</td>\n",
              "    </tr>\n",
              "    <tr>\n",
              "      <th>industry</th>\n",
              "      <td>2253</td>\n",
              "      <td>89</td>\n",
              "      <td>-1</td>\n",
              "      <td>353</td>\n",
              "    </tr>\n",
              "    <tr>\n",
              "      <th>sector</th>\n",
              "      <td>2253</td>\n",
              "      <td>25</td>\n",
              "      <td>Information Technology</td>\n",
              "      <td>570</td>\n",
              "    </tr>\n",
              "    <tr>\n",
              "      <th>revenue</th>\n",
              "      <td>2253</td>\n",
              "      <td>14</td>\n",
              "      <td>Unknown / Non-Applicable</td>\n",
              "      <td>615</td>\n",
              "    </tr>\n",
              "    <tr>\n",
              "      <th>competitors</th>\n",
              "      <td>2253</td>\n",
              "      <td>291</td>\n",
              "      <td>-1</td>\n",
              "      <td>1732</td>\n",
              "    </tr>\n",
              "    <tr>\n",
              "      <th>easy_apply</th>\n",
              "      <td>2253</td>\n",
              "      <td>2</td>\n",
              "      <td>-1</td>\n",
              "      <td>2173</td>\n",
              "    </tr>\n",
              "  </tbody>\n",
              "</table>\n",
              "</div>"
            ],
            "text/plain": [
              "                  count unique  \\\n",
              "job_title          2253   1272   \n",
              "salary_estimate    2253     90   \n",
              "job_description    2253   2253   \n",
              "company_name       2252   1513   \n",
              "location           2253    253   \n",
              "headquarters       2253    483   \n",
              "size               2253      9   \n",
              "type_of_ownership  2253     15   \n",
              "industry           2253     89   \n",
              "sector             2253     25   \n",
              "revenue            2253     14   \n",
              "competitors        2253    291   \n",
              "easy_apply         2253      2   \n",
              "\n",
              "                                                                 top  freq  \n",
              "job_title                                               Data Analyst   405  \n",
              "salary_estimate                           $42K-$76K (Glassdoor est.)    57  \n",
              "job_description    Are you eager to roll up your sleeves and harn...     1  \n",
              "company_name                 Staffigo Technical Services, LLC\\r\\n5.0    58  \n",
              "location                                                New York, NY   310  \n",
              "headquarters                                            New York, NY   206  \n",
              "size                                             51 to 200 employees   421  \n",
              "type_of_ownership                                  Company - Private  1273  \n",
              "industry                                                          -1   353  \n",
              "sector                                        Information Technology   570  \n",
              "revenue                                     Unknown / Non-Applicable   615  \n",
              "competitors                                                       -1  1732  \n",
              "easy_apply                                                        -1  2173  "
            ]
          },
          "execution_count": 26,
          "metadata": {},
          "output_type": "execute_result"
        }
      ],
      "source": [
        "#df1.astype('object').describe().T\n",
        "df1.describe(include=\"O\").T"
      ]
    },
    {
      "cell_type": "markdown",
      "id": "860eac84",
      "metadata": {
        "id": "860eac84"
      },
      "source": [
        "___\n",
        "\n",
        "\n",
        "___"
      ]
    },
    {
      "cell_type": "markdown",
      "id": "8a123e7a",
      "metadata": {
        "id": "8a123e7a"
      },
      "source": [
        "## Necessary Adjustments Before Analysis\n",
        "\n",
        "**Till now, we have got an overview to dataset to fix any issues before moving on to a more sophisticated analysis.**"
      ]
    },
    {
      "cell_type": "markdown",
      "id": "c47f7f9f",
      "metadata": {
        "id": "c47f7f9f"
      },
      "source": [
        "**INSTRUCTIONS**\n",
        "\n",
        "*   Drop the ``Unnamed: 0`` column as it will not contribute to the EDA study and check the ``shape`` again.\n",
        "\n",
        "*   Replace ``(-1, -1.0, '-1')`` values with ``(np.nan)`` in the columns.\n",
        "\n",
        "*   Check for ``missing`` and ``duplicate`` values again.\n",
        "\n",
        "..."
      ]
    },
    {
      "cell_type": "code",
      "execution_count": 27,
      "id": "6E0ok2bE2PEU",
      "metadata": {
        "colab": {
          "base_uri": "https://localhost:8080/"
        },
        "id": "6E0ok2bE2PEU",
        "outputId": "1ce477f4-08d6-4177-e48e-4d0273737669"
      },
      "outputs": [
        {
          "data": {
            "text/plain": [
              "Index(['unnamed_0', 'job_title', 'salary_estimate', 'job_description',\n",
              "       'rating', 'company_name', 'location', 'headquarters', 'size', 'founded',\n",
              "       'type_of_ownership', 'industry', 'sector', 'revenue', 'competitors',\n",
              "       'easy_apply'],\n",
              "      dtype='object')"
            ]
          },
          "execution_count": 27,
          "metadata": {},
          "output_type": "execute_result"
        }
      ],
      "source": [
        "df1.columns"
      ]
    },
    {
      "cell_type": "code",
      "execution_count": null,
      "id": "df4ebd35",
      "metadata": {
        "id": "df4ebd35"
      },
      "outputs": [],
      "source": [
        "# CODE HERE"
      ]
    },
    {
      "cell_type": "code",
      "execution_count": 28,
      "id": "4402b5be",
      "metadata": {
        "id": "4402b5be"
      },
      "outputs": [],
      "source": [
        "df1.drop([\"unnamed_0\"],axis=1, inplace=True)"
      ]
    },
    {
      "cell_type": "code",
      "execution_count": 29,
      "id": "2aea4967",
      "metadata": {
        "colab": {
          "base_uri": "https://localhost:8080/"
        },
        "id": "2aea4967",
        "outputId": "3494501d-d66d-4ea3-dace-640391d341ba"
      },
      "outputs": [
        {
          "data": {
            "text/plain": [
              "(2253, 15)"
            ]
          },
          "execution_count": 29,
          "metadata": {},
          "output_type": "execute_result"
        }
      ],
      "source": [
        "df1.shape"
      ]
    },
    {
      "cell_type": "code",
      "execution_count": null,
      "id": "WLq_e7GKZpRU",
      "metadata": {
        "id": "WLq_e7GKZpRU"
      },
      "outputs": [],
      "source": [
        "#df1.replace([1],[np.nan],inplace=True)"
      ]
    },
    {
      "cell_type": "code",
      "execution_count": null,
      "id": "W_GmCQSHaB-z",
      "metadata": {
        "id": "W_GmCQSHaB-z"
      },
      "outputs": [],
      "source": [
        "#df1.replace([\"-1\"],[np.nan],inplace=True)"
      ]
    },
    {
      "cell_type": "code",
      "execution_count": null,
      "id": "A-DLPAsEaKEc",
      "metadata": {
        "id": "A-DLPAsEaKEc"
      },
      "outputs": [],
      "source": [
        "#df1.replace(to_replace =-1, value =np.nan)"
      ]
    },
    {
      "cell_type": "code",
      "execution_count": 30,
      "id": "DRGCM7As6bkn",
      "metadata": {
        "id": "DRGCM7As6bkn"
      },
      "outputs": [],
      "source": [
        "df1.replace(to_replace =[-1, -1.0, '-1'], value =np.nan, inplace=True)# tek sefeerde hepsni yaptik, edwin hoca yolladi"
      ]
    },
    {
      "cell_type": "code",
      "execution_count": 31,
      "id": "T0opRLy1aYCj",
      "metadata": {
        "colab": {
          "base_uri": "https://localhost:8080/"
        },
        "id": "T0opRLy1aYCj",
        "outputId": "d8a3fa2c-368f-4ce8-8911-30e96cdfe3d4"
      },
      "outputs": [
        {
          "data": {
            "text/plain": [
              "nan"
            ]
          },
          "execution_count": 31,
          "metadata": {},
          "output_type": "execute_result"
        }
      ],
      "source": [
        "df1.competitors[1] #deneme silindimi diye"
      ]
    },
    {
      "cell_type": "code",
      "execution_count": 32,
      "id": "2NemOCTNZ7xo",
      "metadata": {
        "colab": {
          "base_uri": "https://localhost:8080/",
          "height": 232
        },
        "id": "2NemOCTNZ7xo",
        "outputId": "0350da38-c723-480a-e41a-c65fd8f8e339"
      },
      "outputs": [
        {
          "data": {
            "text/html": [
              "<div>\n",
              "<style scoped>\n",
              "    .dataframe tbody tr th:only-of-type {\n",
              "        vertical-align: middle;\n",
              "    }\n",
              "\n",
              "    .dataframe tbody tr th {\n",
              "        vertical-align: top;\n",
              "    }\n",
              "\n",
              "    .dataframe thead th {\n",
              "        text-align: right;\n",
              "    }\n",
              "</style>\n",
              "<table border=\"1\" class=\"dataframe\">\n",
              "  <thead>\n",
              "    <tr style=\"text-align: right;\">\n",
              "      <th></th>\n",
              "      <th>job_title</th>\n",
              "      <th>salary_estimate</th>\n",
              "      <th>job_description</th>\n",
              "      <th>rating</th>\n",
              "      <th>company_name</th>\n",
              "      <th>location</th>\n",
              "      <th>headquarters</th>\n",
              "      <th>size</th>\n",
              "      <th>founded</th>\n",
              "      <th>type_of_ownership</th>\n",
              "      <th>industry</th>\n",
              "      <th>sector</th>\n",
              "      <th>revenue</th>\n",
              "      <th>competitors</th>\n",
              "      <th>easy_apply</th>\n",
              "    </tr>\n",
              "  </thead>\n",
              "  <tbody>\n",
              "    <tr>\n",
              "      <th>1353</th>\n",
              "      <td>Healthcare Data Analyst</td>\n",
              "      <td>$30K-$53K (Glassdoor est.)</td>\n",
              "      <td>Position Overview\\r\\n\\r\\nThe Healthcare Data A...</td>\n",
              "      <td>3.8</td>\n",
              "      <td>VITALWARE LLC\\r\\n3.8</td>\n",
              "      <td>Dallas, TX</td>\n",
              "      <td>Yakima, WA</td>\n",
              "      <td>51 to 200 employees</td>\n",
              "      <td>2010.0</td>\n",
              "      <td>Company - Private</td>\n",
              "      <td>Health Care Services &amp; Hospitals</td>\n",
              "      <td>Health Care</td>\n",
              "      <td>$10 to $25 million (USD)</td>\n",
              "      <td>NaN</td>\n",
              "      <td>NaN</td>\n",
              "    </tr>\n",
              "  </tbody>\n",
              "</table>\n",
              "</div>"
            ],
            "text/plain": [
              "                    job_title             salary_estimate  \\\n",
              "1353  Healthcare Data Analyst  $30K-$53K (Glassdoor est.)   \n",
              "\n",
              "                                        job_description  rating  \\\n",
              "1353  Position Overview\\r\\n\\r\\nThe Healthcare Data A...     3.8   \n",
              "\n",
              "              company_name    location headquarters                 size  \\\n",
              "1353  VITALWARE LLC\\r\\n3.8  Dallas, TX   Yakima, WA  51 to 200 employees   \n",
              "\n",
              "      founded  type_of_ownership                          industry  \\\n",
              "1353   2010.0  Company - Private  Health Care Services & Hospitals   \n",
              "\n",
              "           sector                   revenue competitors easy_apply  \n",
              "1353  Health Care  $10 to $25 million (USD)         NaN        NaN  "
            ]
          },
          "execution_count": 32,
          "metadata": {},
          "output_type": "execute_result"
        }
      ],
      "source": [
        "df1.sample()"
      ]
    },
    {
      "cell_type": "code",
      "execution_count": 33,
      "id": "6WeYftRorMP6",
      "metadata": {
        "colab": {
          "base_uri": "https://localhost:8080/"
        },
        "id": "6WeYftRorMP6",
        "outputId": "9d01a03d-948c-4242-c5d2-fff905573308"
      },
      "outputs": [
        {
          "data": {
            "text/plain": [
              "2"
            ]
          },
          "execution_count": 33,
          "metadata": {},
          "output_type": "execute_result"
        }
      ],
      "source": [
        "df1.ndim\n",
        "#eksen sayisi"
      ]
    },
    {
      "cell_type": "code",
      "execution_count": 34,
      "id": "Sji5QT2DbdbE",
      "metadata": {
        "colab": {
          "base_uri": "https://localhost:8080/"
        },
        "id": "Sji5QT2DbdbE",
        "outputId": "b1219a21-2b5f-4104-e38f-7c2c0458d7a3"
      },
      "outputs": [
        {
          "data": {
            "text/plain": [
              "1732"
            ]
          },
          "execution_count": 34,
          "metadata": {},
          "output_type": "execute_result"
        }
      ],
      "source": [
        "df1.competitors.isna().sum()"
      ]
    },
    {
      "cell_type": "code",
      "execution_count": 35,
      "id": "gf36jD6Lbxdk",
      "metadata": {
        "colab": {
          "base_uri": "https://localhost:8080/"
        },
        "id": "gf36jD6Lbxdk",
        "outputId": "3d52ff3d-0725-43cb-dd0a-c35070e9189d"
      },
      "outputs": [
        {
          "data": {
            "text/plain": [
              "0"
            ]
          },
          "execution_count": 35,
          "metadata": {},
          "output_type": "execute_result"
        }
      ],
      "source": [
        "df1.duplicated().sum()"
      ]
    },
    {
      "cell_type": "code",
      "execution_count": 36,
      "id": "TZQUTKalzByL",
      "metadata": {
        "colab": {
          "base_uri": "https://localhost:8080/"
        },
        "id": "TZQUTKalzByL",
        "outputId": "828bff69-4fa6-4ade-be0a-7192f9661de4"
      },
      "outputs": [
        {
          "data": {
            "text/plain": [
              "(2253, 15)"
            ]
          },
          "execution_count": 36,
          "metadata": {},
          "output_type": "execute_result"
        }
      ],
      "source": [
        "df1.shape"
      ]
    },
    {
      "cell_type": "code",
      "execution_count": 37,
      "id": "dwtdRkHib6bE",
      "metadata": {
        "colab": {
          "base_uri": "https://localhost:8080/"
        },
        "id": "dwtdRkHib6bE",
        "outputId": "22e6e89f-3c2d-4085-bc68-1dd3634a7e0e"
      },
      "outputs": [
        {
          "data": {
            "text/plain": [
              "job_title               0\n",
              "salary_estimate         1\n",
              "job_description         0\n",
              "rating                272\n",
              "company_name            1\n",
              "location                0\n",
              "headquarters          172\n",
              "size                  163\n",
              "founded               660\n",
              "type_of_ownership     163\n",
              "industry              353\n",
              "sector                353\n",
              "revenue               163\n",
              "competitors          1732\n",
              "easy_apply           2173\n",
              "dtype: int64"
            ]
          },
          "execution_count": 37,
          "metadata": {},
          "output_type": "execute_result"
        }
      ],
      "source": [
        "df1.isnull().sum()"
      ]
    },
    {
      "cell_type": "code",
      "execution_count": 38,
      "id": "psZ74yiBr7jD",
      "metadata": {
        "colab": {
          "base_uri": "https://localhost:8080/",
          "height": 991
        },
        "id": "psZ74yiBr7jD",
        "outputId": "531fadc0-3c07-4869-9558-3d4eaaff2386"
      },
      "outputs": [
        {
          "data": {
            "text/html": [
              "<div>\n",
              "<style scoped>\n",
              "    .dataframe tbody tr th:only-of-type {\n",
              "        vertical-align: middle;\n",
              "    }\n",
              "\n",
              "    .dataframe tbody tr th {\n",
              "        vertical-align: top;\n",
              "    }\n",
              "\n",
              "    .dataframe thead th {\n",
              "        text-align: right;\n",
              "    }\n",
              "</style>\n",
              "<table border=\"1\" class=\"dataframe\">\n",
              "  <thead>\n",
              "    <tr style=\"text-align: right;\">\n",
              "      <th></th>\n",
              "      <th>job_title</th>\n",
              "      <th>salary_estimate</th>\n",
              "      <th>job_description</th>\n",
              "      <th>rating</th>\n",
              "      <th>company_name</th>\n",
              "      <th>location</th>\n",
              "      <th>headquarters</th>\n",
              "      <th>size</th>\n",
              "      <th>founded</th>\n",
              "      <th>type_of_ownership</th>\n",
              "      <th>industry</th>\n",
              "      <th>sector</th>\n",
              "      <th>revenue</th>\n",
              "    </tr>\n",
              "  </thead>\n",
              "  <tbody>\n",
              "    <tr>\n",
              "      <th>0</th>\n",
              "      <td>Data Analyst, Center on Immigration and Justic...</td>\n",
              "      <td>$37K-$66K (Glassdoor est.)</td>\n",
              "      <td>Are you eager to roll up your sleeves and harn...</td>\n",
              "      <td>3.2</td>\n",
              "      <td>Vera Institute of Justice\\r\\n3.2</td>\n",
              "      <td>New York, NY</td>\n",
              "      <td>New York, NY</td>\n",
              "      <td>201 to 500 employees</td>\n",
              "      <td>1961.0</td>\n",
              "      <td>Nonprofit Organization</td>\n",
              "      <td>Social Assistance</td>\n",
              "      <td>Non-Profit</td>\n",
              "      <td>$100 to $500 million (USD)</td>\n",
              "    </tr>\n",
              "    <tr>\n",
              "      <th>1</th>\n",
              "      <td>Quality Data Analyst</td>\n",
              "      <td>$37K-$66K (Glassdoor est.)</td>\n",
              "      <td>Overview\\r\\n\\r\\nProvides analytical and techni...</td>\n",
              "      <td>3.8</td>\n",
              "      <td>Visiting Nurse Service of New York\\r\\n3.8</td>\n",
              "      <td>New York, NY</td>\n",
              "      <td>New York, NY</td>\n",
              "      <td>10000+ employees</td>\n",
              "      <td>1893.0</td>\n",
              "      <td>Nonprofit Organization</td>\n",
              "      <td>Health Care Services &amp; Hospitals</td>\n",
              "      <td>Health Care</td>\n",
              "      <td>$2 to $5 billion (USD)</td>\n",
              "    </tr>\n",
              "    <tr>\n",
              "      <th>2</th>\n",
              "      <td>Senior Data Analyst, Insights &amp; Analytics Team...</td>\n",
              "      <td>$37K-$66K (Glassdoor est.)</td>\n",
              "      <td>We’re looking for a Senior Data Analyst who ha...</td>\n",
              "      <td>3.4</td>\n",
              "      <td>Squarespace\\r\\n3.4</td>\n",
              "      <td>New York, NY</td>\n",
              "      <td>New York, NY</td>\n",
              "      <td>1001 to 5000 employees</td>\n",
              "      <td>2003.0</td>\n",
              "      <td>Company - Private</td>\n",
              "      <td>Internet</td>\n",
              "      <td>Information Technology</td>\n",
              "      <td>Unknown / Non-Applicable</td>\n",
              "    </tr>\n",
              "    <tr>\n",
              "      <th>3</th>\n",
              "      <td>Data Analyst</td>\n",
              "      <td>$37K-$66K (Glassdoor est.)</td>\n",
              "      <td>Requisition NumberRR-0001939\\r\\nRemote:Yes\\r\\n...</td>\n",
              "      <td>4.1</td>\n",
              "      <td>Celerity\\r\\n4.1</td>\n",
              "      <td>New York, NY</td>\n",
              "      <td>McLean, VA</td>\n",
              "      <td>201 to 500 employees</td>\n",
              "      <td>2002.0</td>\n",
              "      <td>Subsidiary or Business Segment</td>\n",
              "      <td>IT Services</td>\n",
              "      <td>Information Technology</td>\n",
              "      <td>$50 to $100 million (USD)</td>\n",
              "    </tr>\n",
              "    <tr>\n",
              "      <th>4</th>\n",
              "      <td>Reporting Data Analyst</td>\n",
              "      <td>$37K-$66K (Glassdoor est.)</td>\n",
              "      <td>ABOUT FANDUEL GROUP\\r\\n\\r\\nFanDuel Group is a ...</td>\n",
              "      <td>3.9</td>\n",
              "      <td>FanDuel\\r\\n3.9</td>\n",
              "      <td>New York, NY</td>\n",
              "      <td>New York, NY</td>\n",
              "      <td>501 to 1000 employees</td>\n",
              "      <td>2009.0</td>\n",
              "      <td>Company - Private</td>\n",
              "      <td>Sports &amp; Recreation</td>\n",
              "      <td>Arts, Entertainment &amp; Recreation</td>\n",
              "      <td>$100 to $500 million (USD)</td>\n",
              "    </tr>\n",
              "    <tr>\n",
              "      <th>...</th>\n",
              "      <td>...</td>\n",
              "      <td>...</td>\n",
              "      <td>...</td>\n",
              "      <td>...</td>\n",
              "      <td>...</td>\n",
              "      <td>...</td>\n",
              "      <td>...</td>\n",
              "      <td>...</td>\n",
              "      <td>...</td>\n",
              "      <td>...</td>\n",
              "      <td>...</td>\n",
              "      <td>...</td>\n",
              "      <td>...</td>\n",
              "    </tr>\n",
              "    <tr>\n",
              "      <th>2248</th>\n",
              "      <td>RQS - IHHA - 201900004460 -1q Data Security An...</td>\n",
              "      <td>$78K-$104K (Glassdoor est.)</td>\n",
              "      <td>Maintains systems to protect data from unautho...</td>\n",
              "      <td>2.5</td>\n",
              "      <td>Avacend, Inc.\\r\\n2.5</td>\n",
              "      <td>Denver, CO</td>\n",
              "      <td>Alpharetta, GA</td>\n",
              "      <td>51 to 200 employees</td>\n",
              "      <td>NaN</td>\n",
              "      <td>Company - Private</td>\n",
              "      <td>Staffing &amp; Outsourcing</td>\n",
              "      <td>Business Services</td>\n",
              "      <td>Unknown / Non-Applicable</td>\n",
              "    </tr>\n",
              "    <tr>\n",
              "      <th>2249</th>\n",
              "      <td>Senior Data Analyst (Corporate Audit)</td>\n",
              "      <td>$78K-$104K (Glassdoor est.)</td>\n",
              "      <td>Position:\\r\\nSenior Data Analyst (Corporate Au...</td>\n",
              "      <td>2.9</td>\n",
              "      <td>Arrow Electronics\\r\\n2.9</td>\n",
              "      <td>Centennial, CO</td>\n",
              "      <td>Centennial, CO</td>\n",
              "      <td>10000+ employees</td>\n",
              "      <td>1935.0</td>\n",
              "      <td>Company - Public</td>\n",
              "      <td>Wholesale</td>\n",
              "      <td>Business Services</td>\n",
              "      <td>$10+ billion (USD)</td>\n",
              "    </tr>\n",
              "    <tr>\n",
              "      <th>2250</th>\n",
              "      <td>Technical Business Analyst (SQL, Data analytic...</td>\n",
              "      <td>$78K-$104K (Glassdoor est.)</td>\n",
              "      <td>Title: Technical Business Analyst (SQL, Data a...</td>\n",
              "      <td>NaN</td>\n",
              "      <td>Spiceorb</td>\n",
              "      <td>Denver, CO</td>\n",
              "      <td>NaN</td>\n",
              "      <td>NaN</td>\n",
              "      <td>NaN</td>\n",
              "      <td>NaN</td>\n",
              "      <td>NaN</td>\n",
              "      <td>NaN</td>\n",
              "      <td>NaN</td>\n",
              "    </tr>\n",
              "    <tr>\n",
              "      <th>2251</th>\n",
              "      <td>Data Analyst 3, Customer Experience</td>\n",
              "      <td>$78K-$104K (Glassdoor est.)</td>\n",
              "      <td>Summary\\r\\n\\r\\nResponsible for working cross-f...</td>\n",
              "      <td>3.1</td>\n",
              "      <td>Contingent Network Services\\r\\n3.1</td>\n",
              "      <td>Centennial, CO</td>\n",
              "      <td>West Chester, OH</td>\n",
              "      <td>201 to 500 employees</td>\n",
              "      <td>1984.0</td>\n",
              "      <td>Company - Private</td>\n",
              "      <td>Enterprise Software &amp; Network Solutions</td>\n",
              "      <td>Information Technology</td>\n",
              "      <td>$25 to $50 million (USD)</td>\n",
              "    </tr>\n",
              "    <tr>\n",
              "      <th>2252</th>\n",
              "      <td>Senior Quality Data Analyst</td>\n",
              "      <td>$78K-$104K (Glassdoor est.)</td>\n",
              "      <td>You.\\r\\n\\r\\nYou bring your body, mind, heart a...</td>\n",
              "      <td>3.4</td>\n",
              "      <td>SCL Health\\r\\n3.4</td>\n",
              "      <td>Broomfield, CO</td>\n",
              "      <td>Broomfield, CO</td>\n",
              "      <td>10000+ employees</td>\n",
              "      <td>1864.0</td>\n",
              "      <td>Nonprofit Organization</td>\n",
              "      <td>Health Care Services &amp; Hospitals</td>\n",
              "      <td>Health Care</td>\n",
              "      <td>$2 to $5 billion (USD)</td>\n",
              "    </tr>\n",
              "  </tbody>\n",
              "</table>\n",
              "<p>2253 rows × 13 columns</p>\n",
              "</div>"
            ],
            "text/plain": [
              "                                              job_title  \\\n",
              "0     Data Analyst, Center on Immigration and Justic...   \n",
              "1                                  Quality Data Analyst   \n",
              "2     Senior Data Analyst, Insights & Analytics Team...   \n",
              "3                                          Data Analyst   \n",
              "4                                Reporting Data Analyst   \n",
              "...                                                 ...   \n",
              "2248  RQS - IHHA - 201900004460 -1q Data Security An...   \n",
              "2249              Senior Data Analyst (Corporate Audit)   \n",
              "2250  Technical Business Analyst (SQL, Data analytic...   \n",
              "2251                Data Analyst 3, Customer Experience   \n",
              "2252                        Senior Quality Data Analyst   \n",
              "\n",
              "                  salary_estimate  \\\n",
              "0      $37K-$66K (Glassdoor est.)   \n",
              "1      $37K-$66K (Glassdoor est.)   \n",
              "2      $37K-$66K (Glassdoor est.)   \n",
              "3      $37K-$66K (Glassdoor est.)   \n",
              "4      $37K-$66K (Glassdoor est.)   \n",
              "...                           ...   \n",
              "2248  $78K-$104K (Glassdoor est.)   \n",
              "2249  $78K-$104K (Glassdoor est.)   \n",
              "2250  $78K-$104K (Glassdoor est.)   \n",
              "2251  $78K-$104K (Glassdoor est.)   \n",
              "2252  $78K-$104K (Glassdoor est.)   \n",
              "\n",
              "                                        job_description  rating  \\\n",
              "0     Are you eager to roll up your sleeves and harn...     3.2   \n",
              "1     Overview\\r\\n\\r\\nProvides analytical and techni...     3.8   \n",
              "2     We’re looking for a Senior Data Analyst who ha...     3.4   \n",
              "3     Requisition NumberRR-0001939\\r\\nRemote:Yes\\r\\n...     4.1   \n",
              "4     ABOUT FANDUEL GROUP\\r\\n\\r\\nFanDuel Group is a ...     3.9   \n",
              "...                                                 ...     ...   \n",
              "2248  Maintains systems to protect data from unautho...     2.5   \n",
              "2249  Position:\\r\\nSenior Data Analyst (Corporate Au...     2.9   \n",
              "2250  Title: Technical Business Analyst (SQL, Data a...     NaN   \n",
              "2251  Summary\\r\\n\\r\\nResponsible for working cross-f...     3.1   \n",
              "2252  You.\\r\\n\\r\\nYou bring your body, mind, heart a...     3.4   \n",
              "\n",
              "                                   company_name        location  \\\n",
              "0              Vera Institute of Justice\\r\\n3.2    New York, NY   \n",
              "1     Visiting Nurse Service of New York\\r\\n3.8    New York, NY   \n",
              "2                            Squarespace\\r\\n3.4    New York, NY   \n",
              "3                               Celerity\\r\\n4.1    New York, NY   \n",
              "4                                FanDuel\\r\\n3.9    New York, NY   \n",
              "...                                         ...             ...   \n",
              "2248                       Avacend, Inc.\\r\\n2.5      Denver, CO   \n",
              "2249                   Arrow Electronics\\r\\n2.9  Centennial, CO   \n",
              "2250                                   Spiceorb      Denver, CO   \n",
              "2251         Contingent Network Services\\r\\n3.1  Centennial, CO   \n",
              "2252                          SCL Health\\r\\n3.4  Broomfield, CO   \n",
              "\n",
              "          headquarters                    size  founded  \\\n",
              "0         New York, NY    201 to 500 employees   1961.0   \n",
              "1         New York, NY        10000+ employees   1893.0   \n",
              "2         New York, NY  1001 to 5000 employees   2003.0   \n",
              "3           McLean, VA    201 to 500 employees   2002.0   \n",
              "4         New York, NY   501 to 1000 employees   2009.0   \n",
              "...                ...                     ...      ...   \n",
              "2248    Alpharetta, GA     51 to 200 employees      NaN   \n",
              "2249    Centennial, CO        10000+ employees   1935.0   \n",
              "2250               NaN                     NaN      NaN   \n",
              "2251  West Chester, OH    201 to 500 employees   1984.0   \n",
              "2252    Broomfield, CO        10000+ employees   1864.0   \n",
              "\n",
              "                   type_of_ownership                                 industry  \\\n",
              "0             Nonprofit Organization                        Social Assistance   \n",
              "1             Nonprofit Organization         Health Care Services & Hospitals   \n",
              "2                  Company - Private                                 Internet   \n",
              "3     Subsidiary or Business Segment                              IT Services   \n",
              "4                  Company - Private                      Sports & Recreation   \n",
              "...                              ...                                      ...   \n",
              "2248               Company - Private                   Staffing & Outsourcing   \n",
              "2249                Company - Public                                Wholesale   \n",
              "2250                             NaN                                      NaN   \n",
              "2251               Company - Private  Enterprise Software & Network Solutions   \n",
              "2252          Nonprofit Organization         Health Care Services & Hospitals   \n",
              "\n",
              "                                sector                     revenue  \n",
              "0                           Non-Profit  $100 to $500 million (USD)  \n",
              "1                          Health Care      $2 to $5 billion (USD)  \n",
              "2               Information Technology    Unknown / Non-Applicable  \n",
              "3               Information Technology   $50 to $100 million (USD)  \n",
              "4     Arts, Entertainment & Recreation  $100 to $500 million (USD)  \n",
              "...                                ...                         ...  \n",
              "2248                 Business Services    Unknown / Non-Applicable  \n",
              "2249                 Business Services          $10+ billion (USD)  \n",
              "2250                               NaN                         NaN  \n",
              "2251            Information Technology    $25 to $50 million (USD)  \n",
              "2252                       Health Care      $2 to $5 billion (USD)  \n",
              "\n",
              "[2253 rows x 13 columns]"
            ]
          },
          "execution_count": 38,
          "metadata": {},
          "output_type": "execute_result"
        }
      ],
      "source": [
        "df1.drop([\"easy_apply\",\"competitors\"],axis=1,inplace=True)\n",
        "df1"
      ]
    },
    {
      "cell_type": "code",
      "execution_count": null,
      "id": "D6KtqoaFr7a7",
      "metadata": {
        "id": "D6KtqoaFr7a7"
      },
      "outputs": [],
      "source": []
    },
    {
      "cell_type": "markdown",
      "id": "360e0c6d",
      "metadata": {
        "id": "360e0c6d"
      },
      "source": [
        "___\n",
        "\n",
        "\n",
        "___"
      ]
    },
    {
      "cell_type": "markdown",
      "id": "25681d21",
      "metadata": {
        "id": "25681d21"
      },
      "source": [
        "## Preparing Dataset-1"
      ]
    },
    {
      "cell_type": "markdown",
      "id": "c03f5cd6",
      "metadata": {
        "id": "c03f5cd6"
      },
      "source": [
        "#### To view summary information about the columns, you may use a user defined function given below."
      ]
    },
    {
      "cell_type": "code",
      "execution_count": 40,
      "id": "c1a86a3d",
      "metadata": {
        "id": "c1a86a3d"
      },
      "outputs": [],
      "source": [
        "def first_look(col):\n",
        "    print('column name : ', col)\n",
        "    print('--------------------------------')\n",
        "    print('Per_of_Nulls   : ', '%', round(df1[col].isnull().sum() / df1.shape[0]*100, 2))\n",
        "    print('Num_of_Nulls   : ', df1[col].isnull().sum())\n",
        "    print('Num_of_Uniques : ', df1[col].nunique())\n",
        "    print('Duplicates     : ', df1.duplicated(subset = None, keep = 'first').sum())\n",
        "    print(df1[col].value_counts(dropna = False).sort_index())"
      ]
    },
    {
      "cell_type": "markdown",
      "id": "d25223e7",
      "metadata": {
        "id": "d25223e7"
      },
      "source": [
        "**INSTRUCTIONS**\n",
        "\n",
        "*   Divide the data frame into ``numeric`` and ``categoric`` and examine columns one by one under these headings (Optional).\n",
        "\n",
        "*   In my opinion, this method provides convenience in examining large datasets. However, we will continue our analysis on a column-by-column basis for this data set.\n",
        "\n",
        "*   In this analysis, we will concentrate on the following areas: \n",
        "    - Job Title\n",
        "    - Salary Estimate\n",
        "    - Job Description\n",
        "    - Rating\n",
        "    - Company name\n",
        "    - Industry\n",
        "    - Sector\n",
        "\n",
        "..."
      ]
    },
    {
      "cell_type": "code",
      "execution_count": 41,
      "id": "_YUp3pvr9hXt",
      "metadata": {
        "colab": {
          "base_uri": "https://localhost:8080/"
        },
        "id": "_YUp3pvr9hXt",
        "outputId": "f78c727f-1eed-4626-e334-63541d72c5e7"
      },
      "outputs": [
        {
          "name": "stdout",
          "output_type": "stream",
          "text": [
            "---------------------\n",
            "Numerical Columns:  Index(['rating', 'founded'], dtype='object')\n",
            "---------------------\n",
            "Categorical Columns: Index(['job_title', 'salary_estimate', 'job_description', 'company_name',\n",
            "       'location', 'headquarters', 'size', 'type_of_ownership', 'industry',\n",
            "       'sector', 'revenue'],\n",
            "      dtype='object')\n",
            "---------------------\n"
          ]
        }
      ],
      "source": [
        "numerical= df1.select_dtypes('number').columns\n",
        "\n",
        "categorical = df1.select_dtypes('object').columns\n",
        "\n",
        "print('---------------------')\n",
        "print(f'Numerical Columns:  {df1[numerical].columns}')\n",
        "print('---------------------')\n",
        "print(f'Categorical Columns: {df1[categorical].columns}')\n",
        "print('---------------------')"
      ]
    },
    {
      "cell_type": "code",
      "execution_count": 279,
      "id": "2ff419ef",
      "metadata": {
        "id": "2ff419ef"
      },
      "outputs": [],
      "source": [
        "# CODE HERE"
      ]
    },
    {
      "cell_type": "code",
      "execution_count": 42,
      "id": "eeSluUVnuKVP",
      "metadata": {
        "colab": {
          "base_uri": "https://localhost:8080/"
        },
        "id": "eeSluUVnuKVP",
        "outputId": "256e55c6-d502-404f-97b3-af17d734cebe"
      },
      "outputs": [
        {
          "data": {
            "text/plain": [
              "Index(['job_title', 'salary_estimate', 'job_description', 'rating',\n",
              "       'company_name', 'location', 'headquarters', 'size', 'founded',\n",
              "       'type_of_ownership', 'industry', 'sector', 'revenue'],\n",
              "      dtype='object')"
            ]
          },
          "execution_count": 42,
          "metadata": {},
          "output_type": "execute_result"
        }
      ],
      "source": [
        "df1.columns"
      ]
    },
    {
      "cell_type": "code",
      "execution_count": 43,
      "id": "ff837de5",
      "metadata": {
        "colab": {
          "base_uri": "https://localhost:8080/",
          "height": 658
        },
        "id": "ff837de5",
        "outputId": "b951e5b2-ff19-44a5-d4b1-c13aad92966b"
      },
      "outputs": [
        {
          "data": {
            "text/html": [
              "<div>\n",
              "<style scoped>\n",
              "    .dataframe tbody tr th:only-of-type {\n",
              "        vertical-align: middle;\n",
              "    }\n",
              "\n",
              "    .dataframe tbody tr th {\n",
              "        vertical-align: top;\n",
              "    }\n",
              "\n",
              "    .dataframe thead th {\n",
              "        text-align: right;\n",
              "    }\n",
              "</style>\n",
              "<table border=\"1\" class=\"dataframe\">\n",
              "  <thead>\n",
              "    <tr style=\"text-align: right;\">\n",
              "      <th></th>\n",
              "      <th>job_title</th>\n",
              "      <th>job_description</th>\n",
              "      <th>company_name</th>\n",
              "      <th>industry</th>\n",
              "      <th>sector</th>\n",
              "      <th>salary_estimate</th>\n",
              "    </tr>\n",
              "  </thead>\n",
              "  <tbody>\n",
              "    <tr>\n",
              "      <th>0</th>\n",
              "      <td>Data Analyst, Center on Immigration and Justic...</td>\n",
              "      <td>Are you eager to roll up your sleeves and harn...</td>\n",
              "      <td>Vera Institute of Justice\\r\\n3.2</td>\n",
              "      <td>Social Assistance</td>\n",
              "      <td>Non-Profit</td>\n",
              "      <td>$37K-$66K (Glassdoor est.)</td>\n",
              "    </tr>\n",
              "    <tr>\n",
              "      <th>1</th>\n",
              "      <td>Quality Data Analyst</td>\n",
              "      <td>Overview\\r\\n\\r\\nProvides analytical and techni...</td>\n",
              "      <td>Visiting Nurse Service of New York\\r\\n3.8</td>\n",
              "      <td>Health Care Services &amp; Hospitals</td>\n",
              "      <td>Health Care</td>\n",
              "      <td>$37K-$66K (Glassdoor est.)</td>\n",
              "    </tr>\n",
              "    <tr>\n",
              "      <th>2</th>\n",
              "      <td>Senior Data Analyst, Insights &amp; Analytics Team...</td>\n",
              "      <td>We’re looking for a Senior Data Analyst who ha...</td>\n",
              "      <td>Squarespace\\r\\n3.4</td>\n",
              "      <td>Internet</td>\n",
              "      <td>Information Technology</td>\n",
              "      <td>$37K-$66K (Glassdoor est.)</td>\n",
              "    </tr>\n",
              "    <tr>\n",
              "      <th>3</th>\n",
              "      <td>Data Analyst</td>\n",
              "      <td>Requisition NumberRR-0001939\\r\\nRemote:Yes\\r\\n...</td>\n",
              "      <td>Celerity\\r\\n4.1</td>\n",
              "      <td>IT Services</td>\n",
              "      <td>Information Technology</td>\n",
              "      <td>$37K-$66K (Glassdoor est.)</td>\n",
              "    </tr>\n",
              "    <tr>\n",
              "      <th>4</th>\n",
              "      <td>Reporting Data Analyst</td>\n",
              "      <td>ABOUT FANDUEL GROUP\\r\\n\\r\\nFanDuel Group is a ...</td>\n",
              "      <td>FanDuel\\r\\n3.9</td>\n",
              "      <td>Sports &amp; Recreation</td>\n",
              "      <td>Arts, Entertainment &amp; Recreation</td>\n",
              "      <td>$37K-$66K (Glassdoor est.)</td>\n",
              "    </tr>\n",
              "    <tr>\n",
              "      <th>...</th>\n",
              "      <td>...</td>\n",
              "      <td>...</td>\n",
              "      <td>...</td>\n",
              "      <td>...</td>\n",
              "      <td>...</td>\n",
              "      <td>...</td>\n",
              "    </tr>\n",
              "    <tr>\n",
              "      <th>2248</th>\n",
              "      <td>RQS - IHHA - 201900004460 -1q Data Security An...</td>\n",
              "      <td>Maintains systems to protect data from unautho...</td>\n",
              "      <td>Avacend, Inc.\\r\\n2.5</td>\n",
              "      <td>Staffing &amp; Outsourcing</td>\n",
              "      <td>Business Services</td>\n",
              "      <td>$78K-$104K (Glassdoor est.)</td>\n",
              "    </tr>\n",
              "    <tr>\n",
              "      <th>2249</th>\n",
              "      <td>Senior Data Analyst (Corporate Audit)</td>\n",
              "      <td>Position:\\r\\nSenior Data Analyst (Corporate Au...</td>\n",
              "      <td>Arrow Electronics\\r\\n2.9</td>\n",
              "      <td>Wholesale</td>\n",
              "      <td>Business Services</td>\n",
              "      <td>$78K-$104K (Glassdoor est.)</td>\n",
              "    </tr>\n",
              "    <tr>\n",
              "      <th>2250</th>\n",
              "      <td>Technical Business Analyst (SQL, Data analytic...</td>\n",
              "      <td>Title: Technical Business Analyst (SQL, Data a...</td>\n",
              "      <td>Spiceorb</td>\n",
              "      <td>NaN</td>\n",
              "      <td>NaN</td>\n",
              "      <td>$78K-$104K (Glassdoor est.)</td>\n",
              "    </tr>\n",
              "    <tr>\n",
              "      <th>2251</th>\n",
              "      <td>Data Analyst 3, Customer Experience</td>\n",
              "      <td>Summary\\r\\n\\r\\nResponsible for working cross-f...</td>\n",
              "      <td>Contingent Network Services\\r\\n3.1</td>\n",
              "      <td>Enterprise Software &amp; Network Solutions</td>\n",
              "      <td>Information Technology</td>\n",
              "      <td>$78K-$104K (Glassdoor est.)</td>\n",
              "    </tr>\n",
              "    <tr>\n",
              "      <th>2252</th>\n",
              "      <td>Senior Quality Data Analyst</td>\n",
              "      <td>You.\\r\\n\\r\\nYou bring your body, mind, heart a...</td>\n",
              "      <td>SCL Health\\r\\n3.4</td>\n",
              "      <td>Health Care Services &amp; Hospitals</td>\n",
              "      <td>Health Care</td>\n",
              "      <td>$78K-$104K (Glassdoor est.)</td>\n",
              "    </tr>\n",
              "  </tbody>\n",
              "</table>\n",
              "<p>2253 rows × 6 columns</p>\n",
              "</div>"
            ],
            "text/plain": [
              "                                              job_title  \\\n",
              "0     Data Analyst, Center on Immigration and Justic...   \n",
              "1                                  Quality Data Analyst   \n",
              "2     Senior Data Analyst, Insights & Analytics Team...   \n",
              "3                                          Data Analyst   \n",
              "4                                Reporting Data Analyst   \n",
              "...                                                 ...   \n",
              "2248  RQS - IHHA - 201900004460 -1q Data Security An...   \n",
              "2249              Senior Data Analyst (Corporate Audit)   \n",
              "2250  Technical Business Analyst (SQL, Data analytic...   \n",
              "2251                Data Analyst 3, Customer Experience   \n",
              "2252                        Senior Quality Data Analyst   \n",
              "\n",
              "                                        job_description  \\\n",
              "0     Are you eager to roll up your sleeves and harn...   \n",
              "1     Overview\\r\\n\\r\\nProvides analytical and techni...   \n",
              "2     We’re looking for a Senior Data Analyst who ha...   \n",
              "3     Requisition NumberRR-0001939\\r\\nRemote:Yes\\r\\n...   \n",
              "4     ABOUT FANDUEL GROUP\\r\\n\\r\\nFanDuel Group is a ...   \n",
              "...                                                 ...   \n",
              "2248  Maintains systems to protect data from unautho...   \n",
              "2249  Position:\\r\\nSenior Data Analyst (Corporate Au...   \n",
              "2250  Title: Technical Business Analyst (SQL, Data a...   \n",
              "2251  Summary\\r\\n\\r\\nResponsible for working cross-f...   \n",
              "2252  You.\\r\\n\\r\\nYou bring your body, mind, heart a...   \n",
              "\n",
              "                                   company_name  \\\n",
              "0              Vera Institute of Justice\\r\\n3.2   \n",
              "1     Visiting Nurse Service of New York\\r\\n3.8   \n",
              "2                            Squarespace\\r\\n3.4   \n",
              "3                               Celerity\\r\\n4.1   \n",
              "4                                FanDuel\\r\\n3.9   \n",
              "...                                         ...   \n",
              "2248                       Avacend, Inc.\\r\\n2.5   \n",
              "2249                   Arrow Electronics\\r\\n2.9   \n",
              "2250                                   Spiceorb   \n",
              "2251         Contingent Network Services\\r\\n3.1   \n",
              "2252                          SCL Health\\r\\n3.4   \n",
              "\n",
              "                                     industry  \\\n",
              "0                           Social Assistance   \n",
              "1            Health Care Services & Hospitals   \n",
              "2                                    Internet   \n",
              "3                                 IT Services   \n",
              "4                         Sports & Recreation   \n",
              "...                                       ...   \n",
              "2248                   Staffing & Outsourcing   \n",
              "2249                                Wholesale   \n",
              "2250                                      NaN   \n",
              "2251  Enterprise Software & Network Solutions   \n",
              "2252         Health Care Services & Hospitals   \n",
              "\n",
              "                                sector              salary_estimate  \n",
              "0                           Non-Profit   $37K-$66K (Glassdoor est.)  \n",
              "1                          Health Care   $37K-$66K (Glassdoor est.)  \n",
              "2               Information Technology   $37K-$66K (Glassdoor est.)  \n",
              "3               Information Technology   $37K-$66K (Glassdoor est.)  \n",
              "4     Arts, Entertainment & Recreation   $37K-$66K (Glassdoor est.)  \n",
              "...                                ...                          ...  \n",
              "2248                 Business Services  $78K-$104K (Glassdoor est.)  \n",
              "2249                 Business Services  $78K-$104K (Glassdoor est.)  \n",
              "2250                               NaN  $78K-$104K (Glassdoor est.)  \n",
              "2251            Information Technology  $78K-$104K (Glassdoor est.)  \n",
              "2252                       Health Care  $78K-$104K (Glassdoor est.)  \n",
              "\n",
              "[2253 rows x 6 columns]"
            ]
          },
          "execution_count": 43,
          "metadata": {},
          "output_type": "execute_result"
        }
      ],
      "source": [
        "dfc =df1[[\"job_title\",\"job_description\",\"company_name\",\"industry\",\"sector\",'salary_estimate']]#soruda bunlar uzerinden analiz yapilacak yazmis\n",
        "dfc"
      ]
    },
    {
      "cell_type": "code",
      "execution_count": 44,
      "id": "I0gsv-Knfflr",
      "metadata": {
        "colab": {
          "base_uri": "https://localhost:8080/"
        },
        "id": "I0gsv-Knfflr",
        "outputId": "e7ff009e-4f6c-4a03-a264-ebc17a6ce2a5"
      },
      "outputs": [
        {
          "data": {
            "text/plain": [
              "pandas.core.frame.DataFrame"
            ]
          },
          "execution_count": 44,
          "metadata": {},
          "output_type": "execute_result"
        }
      ],
      "source": [
        "type(dfc)"
      ]
    },
    {
      "cell_type": "code",
      "execution_count": 45,
      "id": "SpdPP-3DeIb-",
      "metadata": {
        "colab": {
          "base_uri": "https://localhost:8080/"
        },
        "id": "SpdPP-3DeIb-",
        "outputId": "2d96d49d-ba38-4bc4-edcc-195393e13cb1"
      },
      "outputs": [
        {
          "data": {
            "text/plain": [
              "Index(['job_title', 'job_description', 'company_name', 'industry', 'sector',\n",
              "       'salary_estimate'],\n",
              "      dtype='object')"
            ]
          },
          "execution_count": 45,
          "metadata": {},
          "output_type": "execute_result"
        }
      ],
      "source": [
        "dfc.columns"
      ]
    },
    {
      "cell_type": "code",
      "execution_count": 46,
      "id": "uJuDqdP9-Q_F",
      "metadata": {
        "colab": {
          "base_uri": "https://localhost:8080/",
          "height": 565
        },
        "id": "uJuDqdP9-Q_F",
        "outputId": "90ba27cc-6e51-44fb-9535-0f7589fff80d"
      },
      "outputs": [
        {
          "data": {
            "text/html": [
              "<div>\n",
              "<style scoped>\n",
              "    .dataframe tbody tr th:only-of-type {\n",
              "        vertical-align: middle;\n",
              "    }\n",
              "\n",
              "    .dataframe tbody tr th {\n",
              "        vertical-align: top;\n",
              "    }\n",
              "\n",
              "    .dataframe thead th {\n",
              "        text-align: right;\n",
              "    }\n",
              "</style>\n",
              "<table border=\"1\" class=\"dataframe\">\n",
              "  <thead>\n",
              "    <tr style=\"text-align: right;\">\n",
              "      <th></th>\n",
              "      <th>job_title</th>\n",
              "      <th>salary_estimate</th>\n",
              "      <th>job_description</th>\n",
              "      <th>rating</th>\n",
              "      <th>company_name</th>\n",
              "      <th>location</th>\n",
              "      <th>headquarters</th>\n",
              "      <th>size</th>\n",
              "      <th>founded</th>\n",
              "      <th>type_of_ownership</th>\n",
              "      <th>industry</th>\n",
              "      <th>sector</th>\n",
              "      <th>revenue</th>\n",
              "    </tr>\n",
              "  </thead>\n",
              "  <tbody>\n",
              "    <tr>\n",
              "      <th>0</th>\n",
              "      <td>Data Analyst, Center on Immigration and Justic...</td>\n",
              "      <td>$37K-$66K (Glassdoor est.)</td>\n",
              "      <td>Are you eager to roll up your sleeves and harn...</td>\n",
              "      <td>3.2</td>\n",
              "      <td>Vera Institute of Justice\\r\\n3.2</td>\n",
              "      <td>New York, NY</td>\n",
              "      <td>New York, NY</td>\n",
              "      <td>201 to 500 employees</td>\n",
              "      <td>1961.0</td>\n",
              "      <td>Nonprofit Organization</td>\n",
              "      <td>Social Assistance</td>\n",
              "      <td>Non-Profit</td>\n",
              "      <td>$100 to $500 million (USD)</td>\n",
              "    </tr>\n",
              "    <tr>\n",
              "      <th>1</th>\n",
              "      <td>Quality Data Analyst</td>\n",
              "      <td>$37K-$66K (Glassdoor est.)</td>\n",
              "      <td>Overview\\r\\n\\r\\nProvides analytical and techni...</td>\n",
              "      <td>3.8</td>\n",
              "      <td>Visiting Nurse Service of New York\\r\\n3.8</td>\n",
              "      <td>New York, NY</td>\n",
              "      <td>New York, NY</td>\n",
              "      <td>10000+ employees</td>\n",
              "      <td>1893.0</td>\n",
              "      <td>Nonprofit Organization</td>\n",
              "      <td>Health Care Services &amp; Hospitals</td>\n",
              "      <td>Health Care</td>\n",
              "      <td>$2 to $5 billion (USD)</td>\n",
              "    </tr>\n",
              "    <tr>\n",
              "      <th>2</th>\n",
              "      <td>Senior Data Analyst, Insights &amp; Analytics Team...</td>\n",
              "      <td>$37K-$66K (Glassdoor est.)</td>\n",
              "      <td>We’re looking for a Senior Data Analyst who ha...</td>\n",
              "      <td>3.4</td>\n",
              "      <td>Squarespace\\r\\n3.4</td>\n",
              "      <td>New York, NY</td>\n",
              "      <td>New York, NY</td>\n",
              "      <td>1001 to 5000 employees</td>\n",
              "      <td>2003.0</td>\n",
              "      <td>Company - Private</td>\n",
              "      <td>Internet</td>\n",
              "      <td>Information Technology</td>\n",
              "      <td>Unknown / Non-Applicable</td>\n",
              "    </tr>\n",
              "    <tr>\n",
              "      <th>3</th>\n",
              "      <td>Data Analyst</td>\n",
              "      <td>$37K-$66K (Glassdoor est.)</td>\n",
              "      <td>Requisition NumberRR-0001939\\r\\nRemote:Yes\\r\\n...</td>\n",
              "      <td>4.1</td>\n",
              "      <td>Celerity\\r\\n4.1</td>\n",
              "      <td>New York, NY</td>\n",
              "      <td>McLean, VA</td>\n",
              "      <td>201 to 500 employees</td>\n",
              "      <td>2002.0</td>\n",
              "      <td>Subsidiary or Business Segment</td>\n",
              "      <td>IT Services</td>\n",
              "      <td>Information Technology</td>\n",
              "      <td>$50 to $100 million (USD)</td>\n",
              "    </tr>\n",
              "    <tr>\n",
              "      <th>4</th>\n",
              "      <td>Reporting Data Analyst</td>\n",
              "      <td>$37K-$66K (Glassdoor est.)</td>\n",
              "      <td>ABOUT FANDUEL GROUP\\r\\n\\r\\nFanDuel Group is a ...</td>\n",
              "      <td>3.9</td>\n",
              "      <td>FanDuel\\r\\n3.9</td>\n",
              "      <td>New York, NY</td>\n",
              "      <td>New York, NY</td>\n",
              "      <td>501 to 1000 employees</td>\n",
              "      <td>2009.0</td>\n",
              "      <td>Company - Private</td>\n",
              "      <td>Sports &amp; Recreation</td>\n",
              "      <td>Arts, Entertainment &amp; Recreation</td>\n",
              "      <td>$100 to $500 million (USD)</td>\n",
              "    </tr>\n",
              "  </tbody>\n",
              "</table>\n",
              "</div>"
            ],
            "text/plain": [
              "                                           job_title  \\\n",
              "0  Data Analyst, Center on Immigration and Justic...   \n",
              "1                               Quality Data Analyst   \n",
              "2  Senior Data Analyst, Insights & Analytics Team...   \n",
              "3                                       Data Analyst   \n",
              "4                             Reporting Data Analyst   \n",
              "\n",
              "              salary_estimate  \\\n",
              "0  $37K-$66K (Glassdoor est.)   \n",
              "1  $37K-$66K (Glassdoor est.)   \n",
              "2  $37K-$66K (Glassdoor est.)   \n",
              "3  $37K-$66K (Glassdoor est.)   \n",
              "4  $37K-$66K (Glassdoor est.)   \n",
              "\n",
              "                                     job_description  rating  \\\n",
              "0  Are you eager to roll up your sleeves and harn...     3.2   \n",
              "1  Overview\\r\\n\\r\\nProvides analytical and techni...     3.8   \n",
              "2  We’re looking for a Senior Data Analyst who ha...     3.4   \n",
              "3  Requisition NumberRR-0001939\\r\\nRemote:Yes\\r\\n...     4.1   \n",
              "4  ABOUT FANDUEL GROUP\\r\\n\\r\\nFanDuel Group is a ...     3.9   \n",
              "\n",
              "                                company_name      location  headquarters  \\\n",
              "0           Vera Institute of Justice\\r\\n3.2  New York, NY  New York, NY   \n",
              "1  Visiting Nurse Service of New York\\r\\n3.8  New York, NY  New York, NY   \n",
              "2                         Squarespace\\r\\n3.4  New York, NY  New York, NY   \n",
              "3                            Celerity\\r\\n4.1  New York, NY    McLean, VA   \n",
              "4                             FanDuel\\r\\n3.9  New York, NY  New York, NY   \n",
              "\n",
              "                     size  founded               type_of_ownership  \\\n",
              "0    201 to 500 employees   1961.0          Nonprofit Organization   \n",
              "1        10000+ employees   1893.0          Nonprofit Organization   \n",
              "2  1001 to 5000 employees   2003.0               Company - Private   \n",
              "3    201 to 500 employees   2002.0  Subsidiary or Business Segment   \n",
              "4   501 to 1000 employees   2009.0               Company - Private   \n",
              "\n",
              "                           industry                            sector  \\\n",
              "0                 Social Assistance                        Non-Profit   \n",
              "1  Health Care Services & Hospitals                       Health Care   \n",
              "2                          Internet            Information Technology   \n",
              "3                       IT Services            Information Technology   \n",
              "4               Sports & Recreation  Arts, Entertainment & Recreation   \n",
              "\n",
              "                      revenue  \n",
              "0  $100 to $500 million (USD)  \n",
              "1      $2 to $5 billion (USD)  \n",
              "2    Unknown / Non-Applicable  \n",
              "3   $50 to $100 million (USD)  \n",
              "4  $100 to $500 million (USD)  "
            ]
          },
          "execution_count": 46,
          "metadata": {},
          "output_type": "execute_result"
        }
      ],
      "source": [
        "df1.head()"
      ]
    },
    {
      "cell_type": "code",
      "execution_count": 47,
      "id": "e7bdec0c",
      "metadata": {
        "colab": {
          "base_uri": "https://localhost:8080/",
          "height": 424
        },
        "id": "e7bdec0c",
        "outputId": "31d5486b-7526-4e7d-b7e0-5af524f95eaf"
      },
      "outputs": [
        {
          "data": {
            "text/html": [
              "<div>\n",
              "<style scoped>\n",
              "    .dataframe tbody tr th:only-of-type {\n",
              "        vertical-align: middle;\n",
              "    }\n",
              "\n",
              "    .dataframe tbody tr th {\n",
              "        vertical-align: top;\n",
              "    }\n",
              "\n",
              "    .dataframe thead th {\n",
              "        text-align: right;\n",
              "    }\n",
              "</style>\n",
              "<table border=\"1\" class=\"dataframe\">\n",
              "  <thead>\n",
              "    <tr style=\"text-align: right;\">\n",
              "      <th></th>\n",
              "      <th>rating</th>\n",
              "    </tr>\n",
              "  </thead>\n",
              "  <tbody>\n",
              "    <tr>\n",
              "      <th>0</th>\n",
              "      <td>3.2</td>\n",
              "    </tr>\n",
              "    <tr>\n",
              "      <th>1</th>\n",
              "      <td>3.8</td>\n",
              "    </tr>\n",
              "    <tr>\n",
              "      <th>2</th>\n",
              "      <td>3.4</td>\n",
              "    </tr>\n",
              "    <tr>\n",
              "      <th>3</th>\n",
              "      <td>4.1</td>\n",
              "    </tr>\n",
              "    <tr>\n",
              "      <th>4</th>\n",
              "      <td>3.9</td>\n",
              "    </tr>\n",
              "    <tr>\n",
              "      <th>...</th>\n",
              "      <td>...</td>\n",
              "    </tr>\n",
              "    <tr>\n",
              "      <th>2248</th>\n",
              "      <td>2.5</td>\n",
              "    </tr>\n",
              "    <tr>\n",
              "      <th>2249</th>\n",
              "      <td>2.9</td>\n",
              "    </tr>\n",
              "    <tr>\n",
              "      <th>2250</th>\n",
              "      <td>NaN</td>\n",
              "    </tr>\n",
              "    <tr>\n",
              "      <th>2251</th>\n",
              "      <td>3.1</td>\n",
              "    </tr>\n",
              "    <tr>\n",
              "      <th>2252</th>\n",
              "      <td>3.4</td>\n",
              "    </tr>\n",
              "  </tbody>\n",
              "</table>\n",
              "<p>2253 rows × 1 columns</p>\n",
              "</div>"
            ],
            "text/plain": [
              "      rating\n",
              "0        3.2\n",
              "1        3.8\n",
              "2        3.4\n",
              "3        4.1\n",
              "4        3.9\n",
              "...      ...\n",
              "2248     2.5\n",
              "2249     2.9\n",
              "2250     NaN\n",
              "2251     3.1\n",
              "2252     3.4\n",
              "\n",
              "[2253 rows x 1 columns]"
            ]
          },
          "execution_count": 47,
          "metadata": {},
          "output_type": "execute_result"
        }
      ],
      "source": [
        "dfn=df1[[\"rating\"]]#normalde bizim founded denen numerical columuz var ama soruda odaklanilmasi soylenmemis \n",
        "dfn"
      ]
    },
    {
      "cell_type": "markdown",
      "id": "d5767207",
      "metadata": {
        "id": "d5767207"
      },
      "source": [
        "___\n",
        "\n",
        "\n",
        "___"
      ]
    },
    {
      "cell_type": "markdown",
      "id": "710659f6",
      "metadata": {
        "id": "710659f6"
      },
      "source": [
        "## Preparing Dataset-2"
      ]
    },
    {
      "cell_type": "markdown",
      "id": "1db1ada8",
      "metadata": {
        "id": "1db1ada8"
      },
      "source": [
        "Let's look at the each variable in detail and make required adjustment."
      ]
    },
    {
      "cell_type": "markdown",
      "id": "6dfeae65",
      "metadata": {
        "id": "6dfeae65"
      },
      "source": [
        "#### 'job_title' column"
      ]
    },
    {
      "cell_type": "code",
      "execution_count": null,
      "id": "d60iN8kl5Hl9",
      "metadata": {
        "id": "d60iN8kl5Hl9"
      },
      "outputs": [],
      "source": []
    },
    {
      "cell_type": "markdown",
      "id": "447fa1c6",
      "metadata": {
        "id": "447fa1c6"
      },
      "source": [
        "**INSTRUCTIONS**\n",
        "\n",
        "*   Examine the ``'job_title'`` column to get an ``overview`` of the column. You may use above given ``user defined function``.\n",
        "\n",
        "*   Count the job titles by using ``value_counts()``.\n",
        "\n",
        "*   Try to find the  ``anomalies`` in the ``job_title`` column like ``Sr. Data Analyst``, ``Sr Data Analyst``, ``Data Analyst Senior``.\n",
        "    \n",
        "*   Fix any ``anomalies`` you find. You may standardize the job titles with ``str.replace``.\n",
        "\n",
        "*   Check what you fixed by counting job titles again.\n",
        "\n",
        "..."
      ]
    },
    {
      "cell_type": "code",
      "execution_count": null,
      "id": "fb1daada",
      "metadata": {
        "id": "fb1daada"
      },
      "outputs": [],
      "source": [
        "# CODE HERE"
      ]
    },
    {
      "cell_type": "code",
      "execution_count": 48,
      "id": "87dbfca0",
      "metadata": {
        "colab": {
          "base_uri": "https://localhost:8080/"
        },
        "id": "87dbfca0",
        "outputId": "eb4967d4-1eb2-4816-d3a6-09de8628be0a"
      },
      "outputs": [
        {
          "data": {
            "text/plain": [
              "0       Data Analyst, Center on Immigration and Justic...\n",
              "1                                    Quality Data Analyst\n",
              "2       Senior Data Analyst, Insights & Analytics Team...\n",
              "3                                            Data Analyst\n",
              "4                                  Reporting Data Analyst\n",
              "                              ...                        \n",
              "2248    RQS - IHHA - 201900004460 -1q Data Security An...\n",
              "2249                Senior Data Analyst (Corporate Audit)\n",
              "2250    Technical Business Analyst (SQL, Data analytic...\n",
              "2251                  Data Analyst 3, Customer Experience\n",
              "2252                          Senior Quality Data Analyst\n",
              "Name: job_title, Length: 2253, dtype: object"
            ]
          },
          "execution_count": 48,
          "metadata": {},
          "output_type": "execute_result"
        }
      ],
      "source": [
        "dfc['job_title']# burda datayi df1 dan da cekebilirm ama daha kucuk bir dataframe ile calsmak dahaz hizlidir"
      ]
    },
    {
      "cell_type": "code",
      "execution_count": 49,
      "id": "00570874",
      "metadata": {
        "colab": {
          "base_uri": "https://localhost:8080/"
        },
        "id": "00570874",
        "outputId": "2729e227-b112-4be6-e390-a5d3cd7ba99c"
      },
      "outputs": [
        {
          "data": {
            "text/plain": [
              "2253"
            ]
          },
          "execution_count": 49,
          "metadata": {},
          "output_type": "execute_result"
        }
      ],
      "source": [
        "dfc['job_title'].count()"
      ]
    },
    {
      "cell_type": "code",
      "execution_count": 50,
      "id": "4w_mARuSv6yx",
      "metadata": {
        "colab": {
          "base_uri": "https://localhost:8080/"
        },
        "id": "4w_mARuSv6yx",
        "outputId": "93ef2423-3f09-4412-cb31-15acc69aea77"
      },
      "outputs": [
        {
          "data": {
            "text/plain": [
              "count             2253\n",
              "unique            1272\n",
              "top       Data Analyst\n",
              "freq               405\n",
              "Name: job_title, dtype: object"
            ]
          },
          "execution_count": 50,
          "metadata": {},
          "output_type": "execute_result"
        }
      ],
      "source": [
        "dfc['job_title'].describe()"
      ]
    },
    {
      "cell_type": "code",
      "execution_count": 51,
      "id": "IbnpoZkRv6mq",
      "metadata": {
        "colab": {
          "base_uri": "https://localhost:8080/"
        },
        "id": "IbnpoZkRv6mq",
        "outputId": "be07ef18-1c78-46a7-c596-f7ce3c695954"
      },
      "outputs": [
        {
          "data": {
            "text/plain": [
              "Data Analyst                        405\n",
              "Senior Data Analyst                  90\n",
              "Junior Data Analyst                  30\n",
              "Business Data Analyst                28\n",
              "Sr. Data Analyst                     21\n",
              "                                   ... \n",
              "Data Analyst – Level II               1\n",
              "Data Analyst/Programmer               1\n",
              "Data Services Business Analyst 2      1\n",
              "Call Center Data Analyst              1\n",
              "Senior Quality Data Analyst           1\n",
              "Name: job_title, Length: 1272, dtype: int64"
            ]
          },
          "execution_count": 51,
          "metadata": {},
          "output_type": "execute_result"
        }
      ],
      "source": [
        "dfc['job_title'].value_counts()"
      ]
    },
    {
      "cell_type": "code",
      "execution_count": 52,
      "id": "pmtXVbC_v6jb",
      "metadata": {
        "colab": {
          "base_uri": "https://localhost:8080/",
          "height": 676
        },
        "id": "pmtXVbC_v6jb",
        "outputId": "fe794124-2191-4e84-c047-08611b9bfaa7"
      },
      "outputs": [
        {
          "data": {
            "text/html": [
              "<div>\n",
              "<style scoped>\n",
              "    .dataframe tbody tr th:only-of-type {\n",
              "        vertical-align: middle;\n",
              "    }\n",
              "\n",
              "    .dataframe tbody tr th {\n",
              "        vertical-align: top;\n",
              "    }\n",
              "\n",
              "    .dataframe thead th {\n",
              "        text-align: right;\n",
              "    }\n",
              "</style>\n",
              "<table border=\"1\" class=\"dataframe\">\n",
              "  <thead>\n",
              "    <tr style=\"text-align: right;\">\n",
              "      <th></th>\n",
              "      <th>job_title</th>\n",
              "    </tr>\n",
              "  </thead>\n",
              "  <tbody>\n",
              "    <tr>\n",
              "      <th>117</th>\n",
              "      <td>Data Analyst</td>\n",
              "    </tr>\n",
              "    <tr>\n",
              "      <th>1998</th>\n",
              "      <td>Fleet Optimization Data Analyst (Solar + Storage)</td>\n",
              "    </tr>\n",
              "    <tr>\n",
              "      <th>319</th>\n",
              "      <td>Senior Data Analyst</td>\n",
              "    </tr>\n",
              "    <tr>\n",
              "      <th>1654</th>\n",
              "      <td>Data Analyst</td>\n",
              "    </tr>\n",
              "    <tr>\n",
              "      <th>1300</th>\n",
              "      <td>Information Security and Data Privacy Analyst</td>\n",
              "    </tr>\n",
              "    <tr>\n",
              "      <th>1345</th>\n",
              "      <td>Data Quality Analyst</td>\n",
              "    </tr>\n",
              "    <tr>\n",
              "      <th>171</th>\n",
              "      <td>Healthcare Data/Reporting Analyst</td>\n",
              "    </tr>\n",
              "    <tr>\n",
              "      <th>45</th>\n",
              "      <td>Data Analyst</td>\n",
              "    </tr>\n",
              "    <tr>\n",
              "      <th>2046</th>\n",
              "      <td>Senior Business and Data Analyst</td>\n",
              "    </tr>\n",
              "    <tr>\n",
              "      <th>838</th>\n",
              "      <td>Data Analyst (Supply Chain) - May Reside Anywh...</td>\n",
              "    </tr>\n",
              "    <tr>\n",
              "      <th>1407</th>\n",
              "      <td>Data Analyst - Marketing</td>\n",
              "    </tr>\n",
              "    <tr>\n",
              "      <th>1872</th>\n",
              "      <td>QA Analyst Big Data/ETL - Charlotte, NC (W2 ONLY)</td>\n",
              "    </tr>\n",
              "    <tr>\n",
              "      <th>2140</th>\n",
              "      <td>Product Marketing &amp; Business/Data Analyst</td>\n",
              "    </tr>\n",
              "    <tr>\n",
              "      <th>197</th>\n",
              "      <td>Data Collection Analyst</td>\n",
              "    </tr>\n",
              "    <tr>\n",
              "      <th>1006</th>\n",
              "      <td>Senior Data Analyst</td>\n",
              "    </tr>\n",
              "    <tr>\n",
              "      <th>1550</th>\n",
              "      <td>Master Data Analyst</td>\n",
              "    </tr>\n",
              "    <tr>\n",
              "      <th>1695</th>\n",
              "      <td>System/Data Analyst</td>\n",
              "    </tr>\n",
              "    <tr>\n",
              "      <th>1653</th>\n",
              "      <td>Data Reporting Analyst, BI</td>\n",
              "    </tr>\n",
              "    <tr>\n",
              "      <th>1553</th>\n",
              "      <td>Senior BI and Data Analyst</td>\n",
              "    </tr>\n",
              "    <tr>\n",
              "      <th>1951</th>\n",
              "      <td>Loan Data Analyst</td>\n",
              "    </tr>\n",
              "  </tbody>\n",
              "</table>\n",
              "</div>"
            ],
            "text/plain": [
              "                                              job_title\n",
              "117                                        Data Analyst\n",
              "1998  Fleet Optimization Data Analyst (Solar + Storage)\n",
              "319                                 Senior Data Analyst\n",
              "1654                                       Data Analyst\n",
              "1300      Information Security and Data Privacy Analyst\n",
              "1345                               Data Quality Analyst\n",
              "171                   Healthcare Data/Reporting Analyst\n",
              "45                                         Data Analyst\n",
              "2046                   Senior Business and Data Analyst\n",
              "838   Data Analyst (Supply Chain) - May Reside Anywh...\n",
              "1407                           Data Analyst - Marketing\n",
              "1872  QA Analyst Big Data/ETL - Charlotte, NC (W2 ONLY)\n",
              "2140          Product Marketing & Business/Data Analyst\n",
              "197                             Data Collection Analyst\n",
              "1006                                Senior Data Analyst\n",
              "1550                                Master Data Analyst\n",
              "1695                                System/Data Analyst\n",
              "1653                         Data Reporting Analyst, BI\n",
              "1553                         Senior BI and Data Analyst\n",
              "1951                                  Loan Data Analyst"
            ]
          },
          "execution_count": 52,
          "metadata": {},
          "output_type": "execute_result"
        }
      ],
      "source": [
        "dfc[['job_title']].sample(20)"
      ]
    },
    {
      "cell_type": "code",
      "execution_count": 329,
      "id": "cFF3vxBT0VE4",
      "metadata": {
        "id": "cFF3vxBT0VE4"
      },
      "outputs": [],
      "source": []
    },
    {
      "cell_type": "code",
      "execution_count": null,
      "id": "lkRl20DDyuaz",
      "metadata": {
        "id": "lkRl20DDyuaz"
      },
      "outputs": [],
      "source": [
        "#dfc[['job_title']].replace({\"Sr. Data Analyst\":\"Data Analyst Senior\",\"Sr Data Analyst\":\"Data Analyst Senior\"},inplace=True)\n",
        "#bu kod calisti ama replace serieslerde calistigi icin degerleri degistirmdi"
      ]
    },
    {
      "cell_type": "code",
      "execution_count": 53,
      "id": "khICsJ5d1DIi",
      "metadata": {
        "colab": {
          "base_uri": "https://localhost:8080/"
        },
        "id": "khICsJ5d1DIi",
        "outputId": "3e233e1c-ecfc-4cf6-f187-19e071633467"
      },
      "outputs": [
        {
          "data": {
            "text/plain": [
              "job_title\n",
              "False        2232\n",
              "True           21\n",
              "dtype: int64"
            ]
          },
          "execution_count": 53,
          "metadata": {},
          "output_type": "execute_result"
        }
      ],
      "source": [
        "(dfc[['job_title']]==[\"Sr. Data Analyst\"]).value_counts()"
      ]
    },
    {
      "cell_type": "code",
      "execution_count": 54,
      "id": "_lKssKUGgfWC",
      "metadata": {
        "colab": {
          "base_uri": "https://localhost:8080/"
        },
        "id": "_lKssKUGgfWC",
        "outputId": "8c35c3d1-d155-45f1-e187-613090590b0b"
      },
      "outputs": [
        {
          "data": {
            "text/plain": [
              "job_title\n",
              "False        2244\n",
              "True            9\n",
              "dtype: int64"
            ]
          },
          "execution_count": 54,
          "metadata": {},
          "output_type": "execute_result"
        }
      ],
      "source": [
        "(dfc[['job_title']]==[\"Sr Data Analyst\"]).value_counts()"
      ]
    },
    {
      "cell_type": "code",
      "execution_count": null,
      "id": "IIHsuxuiiAg5",
      "metadata": {
        "id": "IIHsuxuiiAg5"
      },
      "outputs": [],
      "source": [
        "#dfc[['job_title']].replace(\"Sr Data Analyst\",\"Data Analyst Senior\",inplace=True)\n",
        "#replace komutu pandas serieslerde calsir dataframede calismiyor "
      ]
    },
    {
      "cell_type": "code",
      "execution_count": 55,
      "id": "xIJtGMp7hxgT",
      "metadata": {
        "id": "xIJtGMp7hxgT"
      },
      "outputs": [],
      "source": [
        "dfc['job_title'].replace(\"Sr Data Analyst\",\"Data Analyst Senior\",inplace=True)\n"
      ]
    },
    {
      "cell_type": "code",
      "execution_count": 56,
      "id": "OCTUsjIjgkIw",
      "metadata": {
        "colab": {
          "base_uri": "https://localhost:8080/"
        },
        "id": "OCTUsjIjgkIw",
        "outputId": "b3b8857f-2424-412a-c785-664799b47c67"
      },
      "outputs": [
        {
          "data": {
            "text/plain": [
              "job_title\n",
              "False        2243\n",
              "True           10\n",
              "dtype: int64"
            ]
          },
          "execution_count": 56,
          "metadata": {},
          "output_type": "execute_result"
        }
      ],
      "source": [
        "(dfc[['job_title']]==[\"Data Analyst Senior\"]).value_counts()"
      ]
    },
    {
      "cell_type": "code",
      "execution_count": 57,
      "id": "r0jYmj2Q05hS",
      "metadata": {
        "id": "r0jYmj2Q05hS"
      },
      "outputs": [],
      "source": [
        "dfc['job_title'].replace(\"Sr. Data Analyst\",\"Data Analyst Senior\",inplace=True)\n"
      ]
    },
    {
      "cell_type": "code",
      "execution_count": 58,
      "id": "0ZIEemP-qogI",
      "metadata": {
        "colab": {
          "base_uri": "https://localhost:8080/"
        },
        "id": "0ZIEemP-qogI",
        "outputId": "389d90c3-069e-454d-b68c-94d04a219cb3"
      },
      "outputs": [
        {
          "data": {
            "text/plain": [
              "job_title\n",
              "False        2222\n",
              "True           31\n",
              "dtype: int64"
            ]
          },
          "execution_count": 58,
          "metadata": {},
          "output_type": "execute_result"
        }
      ],
      "source": [
        "(dfc[['job_title']]==[\"Data Analyst Senior\"]).value_counts()"
      ]
    },
    {
      "cell_type": "markdown",
      "id": "07903ca9",
      "metadata": {
        "id": "07903ca9"
      },
      "source": [
        "####  'salary_estimate' column"
      ]
    },
    {
      "cell_type": "markdown",
      "id": "8f059c99",
      "metadata": {
        "id": "8f059c99"
      },
      "source": [
        "**INSTRUCTIONS**\n",
        "\n",
        "*   Examine the ``salary_estimate`` column to get an overview of the column.\n",
        "\n",
        "*   There is a ``missing`` value. Since the column is important for analyze, decide how to deal with this ``missing`` value.\n",
        "\n",
        "*   Type of the  ``salary_estimate`` column is ``object``. In its current form, it is not possible to perform mathematical operations that make use of the numerical values in the column values. Therefore, ``create`` columns ``'salary_maximum'``, ``'salary_minimum'`` and ``'salary_average'`` with ``float`` type using column ``values (ex $53K-$104K)`` from column ``'salary_estimate'`` (``Feature Engineering``).\n",
        "\n",
        "*   Hint: ($53K-$104K) --> for ``'salary_minimum'`` take the ``first`` number, for ``'salary_maximum'`` take the ``second`` number,  for ``'salary_average'`` get the ``sum`` of ``first`` and ``second`` numbers and ``divide by 2``.\n",
        "\n",
        "*   Check what you have done by getting samples or displaying first 5 rows.\n",
        "\n",
        "..."
      ]
    },
    {
      "cell_type": "code",
      "execution_count": 59,
      "id": "qJ8tS4VAAFc-",
      "metadata": {
        "colab": {
          "base_uri": "https://localhost:8080/"
        },
        "id": "qJ8tS4VAAFc-",
        "outputId": "b38f8cff-f07e-470f-b271-c84299532d70"
      },
      "outputs": [
        {
          "data": {
            "text/plain": [
              "Index(['job_title', 'salary_estimate', 'job_description', 'rating',\n",
              "       'company_name', 'location', 'headquarters', 'size', 'founded',\n",
              "       'type_of_ownership', 'industry', 'sector', 'revenue'],\n",
              "      dtype='object')"
            ]
          },
          "execution_count": 59,
          "metadata": {},
          "output_type": "execute_result"
        }
      ],
      "source": [
        "df1.columns"
      ]
    },
    {
      "cell_type": "code",
      "execution_count": 60,
      "id": "LfwyNzew-Kjs",
      "metadata": {
        "colab": {
          "base_uri": "https://localhost:8080/"
        },
        "id": "LfwyNzew-Kjs",
        "outputId": "129d0529-b974-44e0-c19f-642a76f41784"
      },
      "outputs": [
        {
          "data": {
            "text/plain": [
              "$42K-$76K (Glassdoor est.)    57\n",
              "$41K-$78K (Glassdoor est.)    57\n",
              "$50K-$86K (Glassdoor est.)    41\n",
              "$35K-$67K (Glassdoor est.)    33\n",
              "$43K-$76K (Glassdoor est.)    31\n",
              "                              ..\n",
              "$42K-$63K (Glassdoor est.)     4\n",
              "$47K-$81K (Glassdoor est.)     3\n",
              "$43K-$77K (Glassdoor est.)     3\n",
              "$36K-$67K (Glassdoor est.)     3\n",
              "$57K-$70K (Glassdoor est.)     2\n",
              "Name: salary_estimate, Length: 89, dtype: int64"
            ]
          },
          "execution_count": 60,
          "metadata": {},
          "output_type": "execute_result"
        }
      ],
      "source": [
        "dfc[\"salary_estimate\"].value_counts()"
      ]
    },
    {
      "cell_type": "code",
      "execution_count": 61,
      "id": "7767904e",
      "metadata": {
        "colab": {
          "base_uri": "https://localhost:8080/"
        },
        "id": "7767904e",
        "outputId": "b676c033-1623-4f20-9576-2d54707e706a"
      },
      "outputs": [
        {
          "data": {
            "text/plain": [
              "1"
            ]
          },
          "execution_count": 61,
          "metadata": {},
          "output_type": "execute_result"
        }
      ],
      "source": [
        "dfc[\"salary_estimate\"].isnull().sum()"
      ]
    },
    {
      "cell_type": "code",
      "execution_count": 62,
      "id": "kqF_gmJS219q",
      "metadata": {
        "colab": {
          "base_uri": "https://localhost:8080/"
        },
        "id": "kqF_gmJS219q",
        "outputId": "bd2e2369-89db-417d-ecde-d870e3ad7538"
      },
      "outputs": [
        {
          "data": {
            "text/plain": [
              "dtype('O')"
            ]
          },
          "execution_count": 62,
          "metadata": {},
          "output_type": "execute_result"
        }
      ],
      "source": [
        "dfc[\"salary_estimate\"].dtypes"
      ]
    },
    {
      "cell_type": "code",
      "execution_count": 339,
      "id": "foF1j_nz3R6I",
      "metadata": {
        "colab": {
          "base_uri": "https://localhost:8080/"
        },
        "id": "foF1j_nz3R6I",
        "outputId": "d5eeb13b-49d9-4168-a2a0-e47ac8614914"
      },
      "outputs": [
        {
          "data": {
            "text/plain": [
              "count                           2252\n",
              "unique                            89\n",
              "top       $42K-$76K (Glassdoor est.)\n",
              "freq                              57\n",
              "Name: salary_estimate, dtype: object"
            ]
          },
          "execution_count": 339,
          "metadata": {},
          "output_type": "execute_result"
        }
      ],
      "source": [
        "dfc[\"salary_estimate\"].describe()"
      ]
    },
    {
      "cell_type": "code",
      "execution_count": 63,
      "id": "TVr6nzUb7yyT",
      "metadata": {
        "id": "TVr6nzUb7yyT"
      },
      "outputs": [],
      "source": [
        "dfc[\"salary_estimate\"].fillna(value=\"$42K-$76K (Glassdoor est.)\",inplace=True)\n",
        "#1 tane null degerimizi en cok tekrarlanan deger ile doldurduk"
      ]
    },
    {
      "cell_type": "code",
      "execution_count": 64,
      "id": "jOvr4Cc8tnYf",
      "metadata": {
        "colab": {
          "base_uri": "https://localhost:8080/"
        },
        "id": "jOvr4Cc8tnYf",
        "outputId": "48148a17-a249-4c64-d0e1-c39158e832a6"
      },
      "outputs": [
        {
          "data": {
            "text/plain": [
              "0"
            ]
          },
          "execution_count": 64,
          "metadata": {},
          "output_type": "execute_result"
        }
      ],
      "source": [
        "dfc[\"salary_estimate\"].isnull().sum()"
      ]
    },
    {
      "cell_type": "code",
      "execution_count": 65,
      "id": "IK9edVhZGiuy",
      "metadata": {
        "id": "IK9edVhZGiuy"
      },
      "outputs": [],
      "source": [
        "a=\"$42K-$76K (Glassdoor est.)\"\n"
      ]
    },
    {
      "cell_type": "code",
      "execution_count": 66,
      "id": "hYllaEq4vFq6",
      "metadata": {
        "colab": {
          "base_uri": "https://localhost:8080/"
        },
        "id": "hYllaEq4vFq6",
        "outputId": "2ded99b6-892c-48a1-c39c-b3ca5b9cf6b4"
      },
      "outputs": [
        {
          "data": {
            "text/plain": [
              "['$42K', '$76K (Glassdoor est.)']"
            ]
          },
          "execution_count": 66,
          "metadata": {},
          "output_type": "execute_result"
        }
      ],
      "source": [
        "a.split(\"-\")"
      ]
    },
    {
      "cell_type": "code",
      "execution_count": 67,
      "id": "4-hpEKulG94W",
      "metadata": {
        "colab": {
          "base_uri": "https://localhost:8080/",
          "height": 35
        },
        "id": "4-hpEKulG94W",
        "outputId": "23fe2f2a-1b59-41ab-8d50-c910a03ac785"
      },
      "outputs": [
        {
          "data": {
            "text/plain": [
              "'42'"
            ]
          },
          "execution_count": 67,
          "metadata": {},
          "output_type": "execute_result"
        }
      ],
      "source": [
        "a.split(\"-\")[0].strip(\"$K\")#strip ile $k yi attik strlerden kurtardik ve min  icin listenin 0 ninci indexse ship elemanini cektik\n",
        "#aciklamalarda ilk degerin min diger degerin max oldugu yazilmisti"
      ]
    },
    {
      "cell_type": "code",
      "execution_count": 68,
      "id": "lSxAqqoJJizB",
      "metadata": {
        "id": "lSxAqqoJJizB"
      },
      "outputs": [],
      "source": [
        "dfmin=dfc[\"salary_estimate\"].apply(lambda a:float(a.split(\"-\")[0].strip(\"$K\"))*1000)\n"
      ]
    },
    {
      "cell_type": "code",
      "execution_count": 69,
      "id": "ubdhQ6EpJiuO",
      "metadata": {
        "colab": {
          "base_uri": "https://localhost:8080/"
        },
        "id": "ubdhQ6EpJiuO",
        "outputId": "74257371-cd5d-4081-f764-3033d2041137"
      },
      "outputs": [
        {
          "data": {
            "text/plain": [
              "0       37000.0\n",
              "1       37000.0\n",
              "2       37000.0\n",
              "3       37000.0\n",
              "4       37000.0\n",
              "         ...   \n",
              "2248    78000.0\n",
              "2249    78000.0\n",
              "2250    78000.0\n",
              "2251    78000.0\n",
              "2252    78000.0\n",
              "Name: salary_estimate, Length: 2253, dtype: float64"
            ]
          },
          "execution_count": 69,
          "metadata": {},
          "output_type": "execute_result"
        }
      ],
      "source": [
        "dfmin \n"
      ]
    },
    {
      "cell_type": "code",
      "execution_count": null,
      "id": "wP4VxD1EJind",
      "metadata": {
        "id": "wP4VxD1EJind"
      },
      "outputs": [],
      "source": [
        "#a=\"$42K-$76K (Glassdoor est.)\""
      ]
    },
    {
      "cell_type": "code",
      "execution_count": 70,
      "id": "quz-urauIOD8",
      "metadata": {
        "colab": {
          "base_uri": "https://localhost:8080/",
          "height": 35
        },
        "id": "quz-urauIOD8",
        "outputId": "8cccf687-984d-4978-beab-1cbb4c5fcbf2"
      },
      "outputs": [
        {
          "data": {
            "text/plain": [
              "'$76K'"
            ]
          },
          "execution_count": 70,
          "metadata": {},
          "output_type": "execute_result"
        }
      ],
      "source": [
        "a.split(\"-\")[1].split()[0]# ilk spliti treye gore 2.sini default bosluga gore yapti ilkinde 1.index 2.sinde 0 nci index aldi"
      ]
    },
    {
      "cell_type": "code",
      "execution_count": 71,
      "id": "HSzS-Y_HIN8o",
      "metadata": {
        "colab": {
          "base_uri": "https://localhost:8080/"
        },
        "id": "HSzS-Y_HIN8o",
        "outputId": "7d418e2c-1b8d-4a67-9598-0e2a4ea7ea17"
      },
      "outputs": [
        {
          "data": {
            "text/plain": [
              "76000.0"
            ]
          },
          "execution_count": 71,
          "metadata": {},
          "output_type": "execute_result"
        }
      ],
      "source": [
        "float(a.split(\"-\")[1].split()[0].strip(\"$K\"))*1000"
      ]
    },
    {
      "cell_type": "code",
      "execution_count": 72,
      "id": "c7Nlk6wCL1-Q",
      "metadata": {
        "id": "c7Nlk6wCL1-Q"
      },
      "outputs": [],
      "source": [
        "dfmax=dfc[\"salary_estimate\"].apply(lambda a:float(a.split(\"-\")[1].split()[0].strip(\"$K\"))*1000)"
      ]
    },
    {
      "cell_type": "code",
      "execution_count": 73,
      "id": "KbhqSNmeA8oq",
      "metadata": {
        "colab": {
          "base_uri": "https://localhost:8080/"
        },
        "id": "KbhqSNmeA8oq",
        "outputId": "2b9776a1-d72a-41aa-f28b-e00ba3f8ba3d"
      },
      "outputs": [
        {
          "data": {
            "text/plain": [
              "0        66000.0\n",
              "1        66000.0\n",
              "2        66000.0\n",
              "3        66000.0\n",
              "4        66000.0\n",
              "          ...   \n",
              "2248    104000.0\n",
              "2249    104000.0\n",
              "2250    104000.0\n",
              "2251    104000.0\n",
              "2252    104000.0\n",
              "Name: salary_estimate, Length: 2253, dtype: float64"
            ]
          },
          "execution_count": 73,
          "metadata": {},
          "output_type": "execute_result"
        }
      ],
      "source": [
        "dfmax"
      ]
    },
    {
      "cell_type": "code",
      "execution_count": 74,
      "id": "KnAHPLevBCai",
      "metadata": {
        "id": "KnAHPLevBCai"
      },
      "outputs": [],
      "source": [
        "dfc[\"salary_max\"]=dfmax"
      ]
    },
    {
      "cell_type": "code",
      "execution_count": 75,
      "id": "k0ZZBZypL15R",
      "metadata": {
        "id": "k0ZZBZypL15R"
      },
      "outputs": [],
      "source": [
        "dfc[\"salary_min\"]=dfmin"
      ]
    },
    {
      "cell_type": "code",
      "execution_count": null,
      "id": "XwxK1DEWG9yO",
      "metadata": {
        "id": "XwxK1DEWG9yO"
      },
      "outputs": [],
      "source": []
    },
    {
      "cell_type": "code",
      "execution_count": null,
      "id": "7f0a2d9a",
      "metadata": {
        "id": "7f0a2d9a"
      },
      "outputs": [],
      "source": [
        "# CODE HERE"
      ]
    },
    {
      "cell_type": "code",
      "execution_count": 76,
      "id": "092b3dc8",
      "metadata": {
        "colab": {
          "base_uri": "https://localhost:8080/"
        },
        "id": "092b3dc8",
        "outputId": "24567e93-2a43-4760-e332-da1c3942a59d"
      },
      "outputs": [
        {
          "data": {
            "text/plain": [
              "2253"
            ]
          },
          "execution_count": 76,
          "metadata": {},
          "output_type": "execute_result"
        }
      ],
      "source": [
        "dfc[\"salary_estimate\"].count()"
      ]
    },
    {
      "cell_type": "code",
      "execution_count": 77,
      "id": "xVKb8ahPEw06",
      "metadata": {
        "colab": {
          "base_uri": "https://localhost:8080/"
        },
        "id": "xVKb8ahPEw06",
        "outputId": "bd25d031-0a5b-46b8-dac1-2f64cf39e0c2"
      },
      "outputs": [
        {
          "data": {
            "text/plain": [
              "0"
            ]
          },
          "execution_count": 77,
          "metadata": {},
          "output_type": "execute_result"
        }
      ],
      "source": [
        "dfc[\"salary_estimate\"].isnull().sum()"
      ]
    },
    {
      "cell_type": "code",
      "execution_count": 78,
      "id": "szM5PHnP2kvt",
      "metadata": {
        "colab": {
          "base_uri": "https://localhost:8080/"
        },
        "id": "szM5PHnP2kvt",
        "outputId": "cf769d5e-5af2-4962-fc34-5a40688bde1f"
      },
      "outputs": [
        {
          "data": {
            "text/plain": [
              "$42K-$76K (Glassdoor est.)    58\n",
              "$41K-$78K (Glassdoor est.)    57\n",
              "$50K-$86K (Glassdoor est.)    41\n",
              "$35K-$67K (Glassdoor est.)    33\n",
              "$43K-$76K (Glassdoor est.)    31\n",
              "                              ..\n",
              "$42K-$63K (Glassdoor est.)     4\n",
              "$47K-$81K (Glassdoor est.)     3\n",
              "$43K-$77K (Glassdoor est.)     3\n",
              "$36K-$67K (Glassdoor est.)     3\n",
              "$57K-$70K (Glassdoor est.)     2\n",
              "Name: salary_estimate, Length: 89, dtype: int64"
            ]
          },
          "execution_count": 78,
          "metadata": {},
          "output_type": "execute_result"
        }
      ],
      "source": [
        "dfc[\"salary_estimate\"].value_counts()"
      ]
    },
    {
      "cell_type": "code",
      "execution_count": 79,
      "id": "hiu3TxCz9WFH",
      "metadata": {
        "id": "hiu3TxCz9WFH"
      },
      "outputs": [],
      "source": [
        "dfmean=(dfmin+dfmax)/2"
      ]
    },
    {
      "cell_type": "code",
      "execution_count": 80,
      "id": "RKM5ubRP9Vxq",
      "metadata": {
        "id": "RKM5ubRP9Vxq"
      },
      "outputs": [],
      "source": [
        "dfc[\"salary_mean\"]=dfmean"
      ]
    },
    {
      "cell_type": "code",
      "execution_count": 81,
      "id": "3ll5LrX_Cu9W",
      "metadata": {
        "colab": {
          "base_uri": "https://localhost:8080/"
        },
        "id": "3ll5LrX_Cu9W",
        "outputId": "c7749855-9a8b-46f3-db8b-d369c3c59a79"
      },
      "outputs": [
        {
          "data": {
            "text/plain": [
              "0       51500.0\n",
              "1       51500.0\n",
              "2       51500.0\n",
              "3       51500.0\n",
              "4       51500.0\n",
              "         ...   \n",
              "2248    91000.0\n",
              "2249    91000.0\n",
              "2250    91000.0\n",
              "2251    91000.0\n",
              "2252    91000.0\n",
              "Name: salary_estimate, Length: 2253, dtype: float64"
            ]
          },
          "execution_count": 81,
          "metadata": {},
          "output_type": "execute_result"
        }
      ],
      "source": [
        "dfmean"
      ]
    },
    {
      "cell_type": "code",
      "execution_count": 82,
      "id": "x6-tg3bTDO6p",
      "metadata": {
        "colab": {
          "base_uri": "https://localhost:8080/",
          "height": 176
        },
        "id": "x6-tg3bTDO6p",
        "outputId": "2b04b756-e012-4b5d-e9e1-b7da78fd3977"
      },
      "outputs": [
        {
          "data": {
            "text/html": [
              "<div>\n",
              "<style scoped>\n",
              "    .dataframe tbody tr th:only-of-type {\n",
              "        vertical-align: middle;\n",
              "    }\n",
              "\n",
              "    .dataframe tbody tr th {\n",
              "        vertical-align: top;\n",
              "    }\n",
              "\n",
              "    .dataframe thead th {\n",
              "        text-align: right;\n",
              "    }\n",
              "</style>\n",
              "<table border=\"1\" class=\"dataframe\">\n",
              "  <thead>\n",
              "    <tr style=\"text-align: right;\">\n",
              "      <th></th>\n",
              "      <th>job_title</th>\n",
              "      <th>job_description</th>\n",
              "      <th>company_name</th>\n",
              "      <th>industry</th>\n",
              "      <th>sector</th>\n",
              "      <th>salary_estimate</th>\n",
              "      <th>salary_max</th>\n",
              "      <th>salary_min</th>\n",
              "      <th>salary_mean</th>\n",
              "    </tr>\n",
              "  </thead>\n",
              "  <tbody>\n",
              "    <tr>\n",
              "      <th>784</th>\n",
              "      <td>Data Analyst</td>\n",
              "      <td>Show expertise in data quality assurance\\r\\n\\r...</td>\n",
              "      <td>Green Key Resources\\r\\n4.5</td>\n",
              "      <td>Staffing &amp; Outsourcing</td>\n",
              "      <td>Business Services</td>\n",
              "      <td>$67K-$92K (Glassdoor est.)</td>\n",
              "      <td>92000.0</td>\n",
              "      <td>67000.0</td>\n",
              "      <td>79500.0</td>\n",
              "    </tr>\n",
              "  </tbody>\n",
              "</table>\n",
              "</div>"
            ],
            "text/plain": [
              "        job_title                                    job_description  \\\n",
              "784  Data Analyst  Show expertise in data quality assurance\\r\\n\\r...   \n",
              "\n",
              "                   company_name                industry             sector  \\\n",
              "784  Green Key Resources\\r\\n4.5  Staffing & Outsourcing  Business Services   \n",
              "\n",
              "                salary_estimate  salary_max  salary_min  salary_mean  \n",
              "784  $67K-$92K (Glassdoor est.)     92000.0     67000.0      79500.0  "
            ]
          },
          "execution_count": 82,
          "metadata": {},
          "output_type": "execute_result"
        }
      ],
      "source": [
        "dfc.sample()"
      ]
    },
    {
      "cell_type": "markdown",
      "id": "0384253b",
      "metadata": {
        "id": "0384253b"
      },
      "source": [
        "#### 'job_description' column"
      ]
    },
    {
      "cell_type": "markdown",
      "id": "4f97c2e5",
      "metadata": {
        "id": "4f97c2e5"
      },
      "source": [
        "**INSTRUCTIONS**\n",
        "\n",
        "*   Examine the ``job_description`` column to get an overview of the column.\n",
        "\n",
        "*   Get the first ``job_description`` by ``indexing``to see what it looks like.\n",
        "\n",
        "*   Find the required skills for a Data Analyst that are ``Python``, ``SQL``, ``Excell`` and ``Tableau`` in ``'job_description'`` column and create ``'python'``, ``'SQL'``, ``excell'`` and ``tableau'`` columns according to these values. ``str.contains()`` may help you while creating new columns.\n",
        "\n",
        "* Display the ``value counts`` and ``proportions`` of each newly created column with ``value_counts``.\n",
        "\n",
        "..."
      ]
    },
    {
      "cell_type": "code",
      "execution_count": null,
      "id": "c9a87ebc",
      "metadata": {
        "id": "c9a87ebc"
      },
      "outputs": [],
      "source": [
        "# CODE HERE"
      ]
    },
    {
      "cell_type": "code",
      "execution_count": 83,
      "id": "6509337e",
      "metadata": {
        "colab": {
          "base_uri": "https://localhost:8080/"
        },
        "id": "6509337e",
        "outputId": "6fb20db0-6868-433b-e700-6d7c43a3b543"
      },
      "outputs": [
        {
          "data": {
            "text/plain": [
              "Index(['job_title', 'job_description', 'company_name', 'industry', 'sector',\n",
              "       'salary_estimate', 'salary_max', 'salary_min', 'salary_mean'],\n",
              "      dtype='object')"
            ]
          },
          "execution_count": 83,
          "metadata": {},
          "output_type": "execute_result"
        }
      ],
      "source": [
        "dfc.columns"
      ]
    },
    {
      "cell_type": "code",
      "execution_count": 84,
      "id": "dLnqCuX0DmeU",
      "metadata": {
        "colab": {
          "base_uri": "https://localhost:8080/",
          "height": 424
        },
        "id": "dLnqCuX0DmeU",
        "outputId": "a5fdf991-4a74-4559-e4e4-7d3d5cde33fd"
      },
      "outputs": [
        {
          "data": {
            "text/html": [
              "<div>\n",
              "<style scoped>\n",
              "    .dataframe tbody tr th:only-of-type {\n",
              "        vertical-align: middle;\n",
              "    }\n",
              "\n",
              "    .dataframe tbody tr th {\n",
              "        vertical-align: top;\n",
              "    }\n",
              "\n",
              "    .dataframe thead th {\n",
              "        text-align: right;\n",
              "    }\n",
              "</style>\n",
              "<table border=\"1\" class=\"dataframe\">\n",
              "  <thead>\n",
              "    <tr style=\"text-align: right;\">\n",
              "      <th></th>\n",
              "      <th>job_description</th>\n",
              "    </tr>\n",
              "  </thead>\n",
              "  <tbody>\n",
              "    <tr>\n",
              "      <th>0</th>\n",
              "      <td>Are you eager to roll up your sleeves and harn...</td>\n",
              "    </tr>\n",
              "    <tr>\n",
              "      <th>1</th>\n",
              "      <td>Overview\\r\\n\\r\\nProvides analytical and techni...</td>\n",
              "    </tr>\n",
              "    <tr>\n",
              "      <th>2</th>\n",
              "      <td>We’re looking for a Senior Data Analyst who ha...</td>\n",
              "    </tr>\n",
              "    <tr>\n",
              "      <th>3</th>\n",
              "      <td>Requisition NumberRR-0001939\\r\\nRemote:Yes\\r\\n...</td>\n",
              "    </tr>\n",
              "    <tr>\n",
              "      <th>4</th>\n",
              "      <td>ABOUT FANDUEL GROUP\\r\\n\\r\\nFanDuel Group is a ...</td>\n",
              "    </tr>\n",
              "    <tr>\n",
              "      <th>...</th>\n",
              "      <td>...</td>\n",
              "    </tr>\n",
              "    <tr>\n",
              "      <th>2248</th>\n",
              "      <td>Maintains systems to protect data from unautho...</td>\n",
              "    </tr>\n",
              "    <tr>\n",
              "      <th>2249</th>\n",
              "      <td>Position:\\r\\nSenior Data Analyst (Corporate Au...</td>\n",
              "    </tr>\n",
              "    <tr>\n",
              "      <th>2250</th>\n",
              "      <td>Title: Technical Business Analyst (SQL, Data a...</td>\n",
              "    </tr>\n",
              "    <tr>\n",
              "      <th>2251</th>\n",
              "      <td>Summary\\r\\n\\r\\nResponsible for working cross-f...</td>\n",
              "    </tr>\n",
              "    <tr>\n",
              "      <th>2252</th>\n",
              "      <td>You.\\r\\n\\r\\nYou bring your body, mind, heart a...</td>\n",
              "    </tr>\n",
              "  </tbody>\n",
              "</table>\n",
              "<p>2253 rows × 1 columns</p>\n",
              "</div>"
            ],
            "text/plain": [
              "                                        job_description\n",
              "0     Are you eager to roll up your sleeves and harn...\n",
              "1     Overview\\r\\n\\r\\nProvides analytical and techni...\n",
              "2     We’re looking for a Senior Data Analyst who ha...\n",
              "3     Requisition NumberRR-0001939\\r\\nRemote:Yes\\r\\n...\n",
              "4     ABOUT FANDUEL GROUP\\r\\n\\r\\nFanDuel Group is a ...\n",
              "...                                                 ...\n",
              "2248  Maintains systems to protect data from unautho...\n",
              "2249  Position:\\r\\nSenior Data Analyst (Corporate Au...\n",
              "2250  Title: Technical Business Analyst (SQL, Data a...\n",
              "2251  Summary\\r\\n\\r\\nResponsible for working cross-f...\n",
              "2252  You.\\r\\n\\r\\nYou bring your body, mind, heart a...\n",
              "\n",
              "[2253 rows x 1 columns]"
            ]
          },
          "execution_count": 84,
          "metadata": {},
          "output_type": "execute_result"
        }
      ],
      "source": [
        "dfc[[\"job_description\"]]"
      ]
    },
    {
      "cell_type": "code",
      "execution_count": 85,
      "id": "e3ea45f8",
      "metadata": {
        "colab": {
          "base_uri": "https://localhost:8080/",
          "height": 157
        },
        "id": "e3ea45f8",
        "outputId": "2d15423f-9ce3-4ddb-ec7f-b098e92ce171"
      },
      "outputs": [
        {
          "data": {
            "text/plain": [
              "\"Are you eager to roll up your sleeves and harness data to drive policy change? Do you enjoy sifting through complex datasets to illuminate trends and insights? Do you see yourself working for a values-driven organization with a vision to tackle the most pressing injustices of our day?\\r\\n\\r\\nWe are looking to hire a bright, hard-working, and creative individual with strong data management skills and a demonstrated commitment to immigrant's rights. The Data Analyst will assist with analysis and reporting needs for Veras Center on Immigration and Justice (CIJ), working across its current projects and future Vera initiatives.\\r\\n\\r\\nWho we are:\\r\\n\\r\\nFounded in 1961, The Vera Institute is an independent, non-partisan, nonprofit organization that combines expertise in research, technical assistance, and demonstration projects to assist leaders in government and civil society examine justice policy and practice, and improve the systems people rely on for justice and safety.\\r\\nWe study problems that impede human dignity and justice.\\r\\nWe pilot solutions that are at once transformative and achievable.\\r\\nWe engage diverse communities in informed debate.\\r\\nAnd we harness the power of evidence to drive effective policy and practice\\r\\nWhat were doing:\\r\\n\\r\\nWe are helping to build a movementamong government leaders, advocates, and the immigration legal services communitytowards universal legal representation for immigrants facing deportation. In the face of stepped-up immigration enforcement, millions of non-citizens are at risk of extended detention and permanent separation from their families and communities. Veras Center on Immigration and Justice (CIJ) partners with government, non-profit partners, and communities to improve government systems that affect immigrants and their families. CIJ administers several nationwide legal services programs for immigrants facing deportation, develops and implements pilot programs, provides technical assistance, and conducts independent research and evaluation.\\r\\n\\r\\nThats where you come in:\\r\\nThe Data Analyst will support the Centers programmatic efforts through regular monitoring and reporting of federal government and subcontractor data. CIJ manages several proprietary databases that run on AWS and Caspio and uses SQL, R, and Python to manage data. This is an opportunity to help shape an innovative national research and policy agenda as part of a dedicated team of experts working to improve access to justice for non-citizens.\\r\\n\\r\\nVera seeks to hire a Data Analyst to work on various data management projects with its Center on Immigration and Justice (CIJ). In collaboration with other Data Analysts, this position will involve work across several projects, such as the Unaccompanied Childrens Program (UCP), a program to increase legal representation for immigrant children facing deportation without a parent or legal guardian. The position may cover additional duties for the Legal Orientation Program for Custodians (LOPC), which educates the custodians of unaccompanied children about their rights and the immigration court process.\\r\\n\\r\\nAbout the role:\\r\\n\\r\\nAs a Data Analyst, you will report to a member of the research team and work in close collaboration with other Vera staff on ongoing database management, monitoring, reporting, and analysis projects. Youll support the team by taking ownership of ongoing monitoring and reporting tasks involving large data sets. Other principal responsibilities will include:\\r\\nSupporting research staff by preparing large datasets for analysis, including merging, cleaning, and recoding data;\\r\\nProviding insights into program performance through summary statistics and performance indicators;\\r\\nProducing timely reports on Vera projects for team members and stakeholders;\\r\\nImproving recurring reporting processes by optimizing code and producing subsequent documentation;\\r\\nCoordinating database management tasks such as participating in new database design, modifying existing databases, and communicating with outside engineers and subcontractors;\\r\\nDeveloping codebooks and delivering user trainings through webinars and database guides;\\r\\nBuilding and maintaining interactive dashboards;\\r\\nDocumenting and correcting data quality issues;\\r\\nWorking with supervisors to prioritize program needs;\\r\\nAssisting on other projects and tasks as assigned.\\r\\nAbout you:\\r\\n\\r\\nYoure committed to improving issues affecting immigrants in the United States. Applicants with personal experiences with the immigration system are especially encouraged to apply.\\r\\n\\r\\nYoure just getting started in your career and have 1 2 years of professional or internship experience working with large datasets and preparing data for analysis.\\r\\n\\r\\nYou have a real enthusiasm for working with data.\\r\\n\\r\\nYou are comfortable writing queries in SQL, R, and/or Python, or have a solid foundation coding in other programming languages used to manipulate data. Experience working collaboratively using tools like Git/GitHub is a plus.\\r\\n\\r\\nYou have exceptional attention to detail, strong problem-solving ability and logical reasoning skills, and the ability to detect anomalies in data.\\r\\n\\r\\nYoure able to work on multiple projects effectively and efficiently, both independently and collaboratively with a team.\\r\\n\\r\\nThis position involves working with secure data that may require government security clearance. That clearance is restricted to U.S. citizens and citizens of countries that are party to collective defense agreements with the U.S. The list of those countries is detailed on this webpage. An additional requirement of that clearance is residence in the United States for at least three of the last five years.\\r\\n\\r\\nHow to apply:\\r\\n\\r\\nPlease submit cover letter and resume. Applications will be considered on a rolling basis until position is filled. Online submission in PDF format is preferred. Applications with no cover letter attached will not be considered. The cover letter should address your interest in CIJ and this position.\\r\\n\\r\\nHowever, if necessary, materials may be mailed or faxed to\\r\\n\\r\\nATTN: Human Resources / CIJ Data Analyst Recruitment\\r\\n\\r\\nVera Institute of Justice\\r\\n\\r\\n34 35th St, Suite 4-2A\\r\\n\\r\\nBrooklyn, NY 11232\\r\\n\\r\\nFax: (212) 941-9407\\r\\n\\r\\nPlease use only one method (online, mail or fax) of submission.\\r\\n\\r\\nNo phone calls, please. Only applicants selected for interviews will be contacted.\\r\\n\\r\\nVera is an equal opportunity/affirmative action employer. All qualified applicants will be considered for employment without unlawful discrimination based on race, color, creed, national origin, sex, age, disability, marital status, sexual orientation, military status, prior record of arrest or conviction, citizenship status, current employment status, or caregiver status.\\r\\n\\r\\nVera works to advance justice, particularly racial justice, in an increasingly multicultural country and globally connected world. We value diverse experiences, including with regard to educational background and justice system contact, and depend on a diverse staff to carry out our mission.\\r\\n\\r\\nFor more information about Vera and CIJs work, please visit www.vera.org.\\r\\n\\r\\nPowered by JazzHR\""
            ]
          },
          "execution_count": 85,
          "metadata": {},
          "output_type": "execute_result"
        }
      ],
      "source": [
        "dfc[\"job_description\"][0]"
      ]
    },
    {
      "cell_type": "code",
      "execution_count": 86,
      "id": "8MbKolIe1lg4",
      "metadata": {
        "colab": {
          "base_uri": "https://localhost:8080/",
          "height": 424
        },
        "id": "8MbKolIe1lg4",
        "outputId": "ad24a3b2-2043-40fd-fa18-2ff7991d3254"
      },
      "outputs": [
        {
          "data": {
            "text/html": [
              "<div>\n",
              "<style scoped>\n",
              "    .dataframe tbody tr th:only-of-type {\n",
              "        vertical-align: middle;\n",
              "    }\n",
              "\n",
              "    .dataframe tbody tr th {\n",
              "        vertical-align: top;\n",
              "    }\n",
              "\n",
              "    .dataframe thead th {\n",
              "        text-align: right;\n",
              "    }\n",
              "</style>\n",
              "<table border=\"1\" class=\"dataframe\">\n",
              "  <thead>\n",
              "    <tr style=\"text-align: right;\">\n",
              "      <th></th>\n",
              "      <th>job_description</th>\n",
              "    </tr>\n",
              "  </thead>\n",
              "  <tbody>\n",
              "    <tr>\n",
              "      <th>0</th>\n",
              "      <td>False</td>\n",
              "    </tr>\n",
              "    <tr>\n",
              "      <th>1</th>\n",
              "      <td>False</td>\n",
              "    </tr>\n",
              "    <tr>\n",
              "      <th>2</th>\n",
              "      <td>False</td>\n",
              "    </tr>\n",
              "    <tr>\n",
              "      <th>3</th>\n",
              "      <td>False</td>\n",
              "    </tr>\n",
              "    <tr>\n",
              "      <th>4</th>\n",
              "      <td>False</td>\n",
              "    </tr>\n",
              "    <tr>\n",
              "      <th>...</th>\n",
              "      <td>...</td>\n",
              "    </tr>\n",
              "    <tr>\n",
              "      <th>2248</th>\n",
              "      <td>False</td>\n",
              "    </tr>\n",
              "    <tr>\n",
              "      <th>2249</th>\n",
              "      <td>False</td>\n",
              "    </tr>\n",
              "    <tr>\n",
              "      <th>2250</th>\n",
              "      <td>False</td>\n",
              "    </tr>\n",
              "    <tr>\n",
              "      <th>2251</th>\n",
              "      <td>False</td>\n",
              "    </tr>\n",
              "    <tr>\n",
              "      <th>2252</th>\n",
              "      <td>False</td>\n",
              "    </tr>\n",
              "  </tbody>\n",
              "</table>\n",
              "<p>2253 rows × 1 columns</p>\n",
              "</div>"
            ],
            "text/plain": [
              "      job_description\n",
              "0               False\n",
              "1               False\n",
              "2               False\n",
              "3               False\n",
              "4               False\n",
              "...               ...\n",
              "2248            False\n",
              "2249            False\n",
              "2250            False\n",
              "2251            False\n",
              "2252            False\n",
              "\n",
              "[2253 rows x 1 columns]"
            ]
          },
          "execution_count": 86,
          "metadata": {},
          "output_type": "execute_result"
        }
      ],
      "source": [
        "df1[[\"job_description\"]]==[\"SQL\"]#bunu nasil saydirabilrim"
      ]
    },
    {
      "cell_type": "code",
      "execution_count": 87,
      "id": "qnenyVibEQrI",
      "metadata": {
        "colab": {
          "base_uri": "https://localhost:8080/"
        },
        "id": "qnenyVibEQrI",
        "outputId": "22e3ec71-d21c-48ae-bc1a-e4d880bb8276"
      },
      "outputs": [
        {
          "data": {
            "text/plain": [
              "1379"
            ]
          },
          "execution_count": 87,
          "metadata": {},
          "output_type": "execute_result"
        }
      ],
      "source": [
        "dfc[\"job_description\"].str.contains(pat=\"SQL\").sum()"
      ]
    },
    {
      "cell_type": "code",
      "execution_count": 88,
      "id": "_QYIUdOBEQn4",
      "metadata": {
        "colab": {
          "base_uri": "https://localhost:8080/"
        },
        "id": "_QYIUdOBEQn4",
        "outputId": "4ddee55e-1f17-4548-e2ef-53e49fee96a6"
      },
      "outputs": [
        {
          "data": {
            "text/plain": [
              "True     1379\n",
              "False     874\n",
              "Name: job_description, dtype: int64"
            ]
          },
          "execution_count": 88,
          "metadata": {},
          "output_type": "execute_result"
        }
      ],
      "source": [
        "dfc[\"job_description\"].str.contains(pat=\"SQL\").value_counts()"
      ]
    },
    {
      "cell_type": "code",
      "execution_count": 89,
      "id": "AFpkkiCcEQkk",
      "metadata": {
        "colab": {
          "base_uri": "https://localhost:8080/"
        },
        "id": "AFpkkiCcEQkk",
        "outputId": "93ca802c-5381-4f5e-dfb2-531d8e1b1270"
      },
      "outputs": [
        {
          "data": {
            "text/plain": [
              "False    2253\n",
              "Name: job_description, dtype: int64"
            ]
          },
          "execution_count": 89,
          "metadata": {},
          "output_type": "execute_result"
        }
      ],
      "source": [
        "dfc[\"job_description\"].str.contains(pat='python SQL excell tableau').value_counts()"
      ]
    },
    {
      "cell_type": "code",
      "execution_count": 90,
      "id": "Oe7LroHFH0x3",
      "metadata": {
        "id": "Oe7LroHFH0x3"
      },
      "outputs": [],
      "source": [
        "dfc[\"SQL\"]=dfc[\"job_description\"].str.contains(pat=\"SQL\")"
      ]
    },
    {
      "cell_type": "code",
      "execution_count": 91,
      "id": "KjV7rqTbH0uU",
      "metadata": {
        "id": "KjV7rqTbH0uU"
      },
      "outputs": [],
      "source": [
        "dfc[\"python\"]=dfc[\"job_description\"].str.contains(pat=\"python\")"
      ]
    },
    {
      "cell_type": "code",
      "execution_count": null,
      "id": "ENt2eIXWH0ox",
      "metadata": {
        "id": "ENt2eIXWH0ox"
      },
      "outputs": [],
      "source": []
    },
    {
      "cell_type": "code",
      "execution_count": 92,
      "id": "8UPqjC7sH0rl",
      "metadata": {
        "id": "8UPqjC7sH0rl"
      },
      "outputs": [],
      "source": [
        "dfc[\"excell\"]=dfc[\"job_description\"].str.contains(pat=\"excell\")"
      ]
    },
    {
      "cell_type": "code",
      "execution_count": 93,
      "id": "kbQ34m4IHQm-",
      "metadata": {
        "id": "kbQ34m4IHQm-"
      },
      "outputs": [],
      "source": [
        "dfc[\"tableu\"]=dfc[\"job_description\"].str.contains(pat=\"tableau\")"
      ]
    },
    {
      "cell_type": "code",
      "execution_count": 94,
      "id": "nmYFr6QiIs1l",
      "metadata": {
        "colab": {
          "base_uri": "https://localhost:8080/",
          "height": 214
        },
        "id": "nmYFr6QiIs1l",
        "outputId": "74aadc9a-6dc8-411b-ab14-79229ca90bbd"
      },
      "outputs": [
        {
          "data": {
            "text/html": [
              "<div>\n",
              "<style scoped>\n",
              "    .dataframe tbody tr th:only-of-type {\n",
              "        vertical-align: middle;\n",
              "    }\n",
              "\n",
              "    .dataframe tbody tr th {\n",
              "        vertical-align: top;\n",
              "    }\n",
              "\n",
              "    .dataframe thead th {\n",
              "        text-align: right;\n",
              "    }\n",
              "</style>\n",
              "<table border=\"1\" class=\"dataframe\">\n",
              "  <thead>\n",
              "    <tr style=\"text-align: right;\">\n",
              "      <th></th>\n",
              "      <th>job_title</th>\n",
              "      <th>job_description</th>\n",
              "      <th>company_name</th>\n",
              "      <th>industry</th>\n",
              "      <th>sector</th>\n",
              "      <th>salary_estimate</th>\n",
              "      <th>salary_max</th>\n",
              "      <th>salary_min</th>\n",
              "      <th>salary_mean</th>\n",
              "      <th>SQL</th>\n",
              "      <th>python</th>\n",
              "      <th>excell</th>\n",
              "      <th>tableu</th>\n",
              "    </tr>\n",
              "  </thead>\n",
              "  <tbody>\n",
              "    <tr>\n",
              "      <th>1511</th>\n",
              "      <td>Data Analyst</td>\n",
              "      <td>Job Summary:\\r\\nCompany: Artech Information Sy...</td>\n",
              "      <td>Artech LLC\\r\\n3.9</td>\n",
              "      <td>Staffing &amp; Outsourcing</td>\n",
              "      <td>Business Services</td>\n",
              "      <td>$89K-$151K (Glassdoor est.)</td>\n",
              "      <td>151000.0</td>\n",
              "      <td>89000.0</td>\n",
              "      <td>120000.0</td>\n",
              "      <td>True</td>\n",
              "      <td>False</td>\n",
              "      <td>False</td>\n",
              "      <td>False</td>\n",
              "    </tr>\n",
              "  </tbody>\n",
              "</table>\n",
              "</div>"
            ],
            "text/plain": [
              "         job_title                                    job_description  \\\n",
              "1511  Data Analyst  Job Summary:\\r\\nCompany: Artech Information Sy...   \n",
              "\n",
              "           company_name                industry             sector  \\\n",
              "1511  Artech LLC\\r\\n3.9  Staffing & Outsourcing  Business Services   \n",
              "\n",
              "                  salary_estimate  salary_max  salary_min  salary_mean   SQL  \\\n",
              "1511  $89K-$151K (Glassdoor est.)    151000.0     89000.0     120000.0  True   \n",
              "\n",
              "      python  excell  tableu  \n",
              "1511   False   False   False  "
            ]
          },
          "execution_count": 94,
          "metadata": {},
          "output_type": "execute_result"
        }
      ],
      "source": [
        "dfc.sample()"
      ]
    },
    {
      "cell_type": "code",
      "execution_count": 95,
      "id": "38C_9lPnJfJP",
      "metadata": {
        "colab": {
          "base_uri": "https://localhost:8080/"
        },
        "id": "38C_9lPnJfJP",
        "outputId": "c624e476-073b-40a1-fe00-438d789a0d59"
      },
      "outputs": [
        {
          "data": {
            "text/plain": [
              "True     1379\n",
              "False     874\n",
              "Name: SQL, dtype: int64"
            ]
          },
          "execution_count": 95,
          "metadata": {},
          "output_type": "execute_result"
        }
      ],
      "source": [
        "dfc.SQL.value_counts()"
      ]
    },
    {
      "cell_type": "code",
      "execution_count": 96,
      "id": "mxoDnyxwJfF_",
      "metadata": {
        "colab": {
          "base_uri": "https://localhost:8080/"
        },
        "id": "mxoDnyxwJfF_",
        "outputId": "b550ffb4-f359-4c79-b73a-1603dcd903b3"
      },
      "outputs": [
        {
          "data": {
            "text/plain": [
              "False    2229\n",
              "True       24\n",
              "Name: python, dtype: int64"
            ]
          },
          "execution_count": 96,
          "metadata": {},
          "output_type": "execute_result"
        }
      ],
      "source": [
        "dfc.python.value_counts()"
      ]
    },
    {
      "cell_type": "code",
      "execution_count": 97,
      "id": "uevKjnWaJfCp",
      "metadata": {
        "colab": {
          "base_uri": "https://localhost:8080/"
        },
        "id": "uevKjnWaJfCp",
        "outputId": "ca5355d9-6dec-4f7f-d4cd-cf8e868737c4"
      },
      "outputs": [
        {
          "data": {
            "text/plain": [
              "False    1944\n",
              "True      309\n",
              "Name: excell, dtype: int64"
            ]
          },
          "execution_count": 97,
          "metadata": {},
          "output_type": "execute_result"
        }
      ],
      "source": [
        "dfc.excell.value_counts()"
      ]
    },
    {
      "cell_type": "code",
      "execution_count": 98,
      "id": "R2c5FUdYJqXz",
      "metadata": {
        "colab": {
          "base_uri": "https://localhost:8080/"
        },
        "id": "R2c5FUdYJqXz",
        "outputId": "5e37df68-b095-440f-a399-d89483d2144a"
      },
      "outputs": [
        {
          "data": {
            "text/plain": [
              "False    2244\n",
              "True        9\n",
              "Name: tableu, dtype: int64"
            ]
          },
          "execution_count": 98,
          "metadata": {},
          "output_type": "execute_result"
        }
      ],
      "source": [
        "dfc.tableu.value_counts()"
      ]
    },
    {
      "cell_type": "code",
      "execution_count": null,
      "id": "gk1h-ly-KAr_",
      "metadata": {
        "id": "gk1h-ly-KAr_"
      },
      "outputs": [],
      "source": [
        "#proportions ne yapilabilir value count da boolenlar belli"
      ]
    },
    {
      "cell_type": "markdown",
      "id": "f164d828",
      "metadata": {
        "id": "f164d828"
      },
      "source": [
        "#### 'rating' column"
      ]
    },
    {
      "cell_type": "markdown",
      "id": "2f8f4678",
      "metadata": {
        "id": "2f8f4678"
      },
      "source": [
        "**INSTRUCTIONS**\n",
        "\n",
        "*   Examine the ``rating`` column to get an overview of the column.\n",
        "\n",
        "*   There ara ``missing`` values. Decide what to do with them.\n",
        "\n",
        "*   If you decide to keep them to use salary and job title info on that rows, how can you fill missing values?\n",
        "\n",
        "..."
      ]
    },
    {
      "cell_type": "code",
      "execution_count": null,
      "id": "21fef5e6",
      "metadata": {
        "id": "21fef5e6"
      },
      "outputs": [],
      "source": [
        "# CODE HERE"
      ]
    },
    {
      "cell_type": "code",
      "execution_count": 99,
      "id": "2bd8eb08",
      "metadata": {
        "colab": {
          "base_uri": "https://localhost:8080/"
        },
        "id": "2bd8eb08",
        "outputId": "3dfa96a4-6fe8-4a22-d9d8-62bb17b433b0"
      },
      "outputs": [
        {
          "data": {
            "text/plain": [
              "0       3.2\n",
              "1       3.8\n",
              "2       3.4\n",
              "3       4.1\n",
              "4       3.9\n",
              "       ... \n",
              "2248    2.5\n",
              "2249    2.9\n",
              "2250    NaN\n",
              "2251    3.1\n",
              "2252    3.4\n",
              "Name: rating, Length: 2253, dtype: float64"
            ]
          },
          "execution_count": 99,
          "metadata": {},
          "output_type": "execute_result"
        }
      ],
      "source": [
        "dfn.rating"
      ]
    },
    {
      "cell_type": "code",
      "execution_count": 100,
      "id": "e6c945b5",
      "metadata": {
        "colab": {
          "base_uri": "https://localhost:8080/"
        },
        "id": "e6c945b5",
        "outputId": "328cec0a-73ca-43ff-ea0b-09fecf92e20d"
      },
      "outputs": [
        {
          "data": {
            "text/plain": [
              "272"
            ]
          },
          "execution_count": 100,
          "metadata": {},
          "output_type": "execute_result"
        }
      ],
      "source": [
        "dfn.rating.isnull().sum()"
      ]
    },
    {
      "cell_type": "code",
      "execution_count": 101,
      "id": "Bqo1l27MLHAg",
      "metadata": {
        "colab": {
          "base_uri": "https://localhost:8080/"
        },
        "id": "Bqo1l27MLHAg",
        "outputId": "4909d82d-1f71-4bb4-fb52-62161e8637f9"
      },
      "outputs": [
        {
          "data": {
            "text/plain": [
              "3.9    140\n",
              "3.6    135\n",
              "3.7    132\n",
              "5.0    131\n",
              "3.8    130\n",
              "4.0    129\n",
              "3.5    125\n",
              "4.1    119\n",
              "3.3    109\n",
              "3.4    101\n",
              "3.2     91\n",
              "3.1     68\n",
              "3.0     57\n",
              "4.3     55\n",
              "4.5     47\n",
              "4.2     47\n",
              "4.6     46\n",
              "4.4     46\n",
              "2.8     43\n",
              "2.9     40\n",
              "2.5     32\n",
              "4.8     29\n",
              "2.7     25\n",
              "4.7     23\n",
              "4.9     17\n",
              "2.6     14\n",
              "2.4     10\n",
              "1.0     10\n",
              "2.3      9\n",
              "2.0      6\n",
              "2.1      4\n",
              "2.2      3\n",
              "1.7      2\n",
              "1.8      2\n",
              "1.6      2\n",
              "1.9      2\n",
              "Name: rating, dtype: int64"
            ]
          },
          "execution_count": 101,
          "metadata": {},
          "output_type": "execute_result"
        }
      ],
      "source": [
        "dfn.rating.value_counts()"
      ]
    },
    {
      "cell_type": "code",
      "execution_count": 102,
      "id": "go6b-PHd4TfO",
      "metadata": {
        "colab": {
          "base_uri": "https://localhost:8080/"
        },
        "id": "go6b-PHd4TfO",
        "outputId": "6441a14f-edf3-4a46-9073-68249f4605e1"
      },
      "outputs": [
        {
          "data": {
            "text/plain": [
              "Index(['job_title', 'salary_estimate', 'job_description', 'rating',\n",
              "       'company_name', 'location', 'headquarters', 'size', 'founded',\n",
              "       'type_of_ownership', 'industry', 'sector', 'revenue'],\n",
              "      dtype='object')"
            ]
          },
          "execution_count": 102,
          "metadata": {},
          "output_type": "execute_result"
        }
      ],
      "source": [
        "df1.columns"
      ]
    },
    {
      "cell_type": "code",
      "execution_count": 103,
      "id": "MTSGqzIeLG9Z",
      "metadata": {
        "colab": {
          "base_uri": "https://localhost:8080/",
          "height": 424
        },
        "id": "MTSGqzIeLG9Z",
        "outputId": "b9c70ec8-059d-4e2b-a0d6-9d0115878c10"
      },
      "outputs": [
        {
          "data": {
            "text/html": [
              "<div>\n",
              "<style scoped>\n",
              "    .dataframe tbody tr th:only-of-type {\n",
              "        vertical-align: middle;\n",
              "    }\n",
              "\n",
              "    .dataframe tbody tr th {\n",
              "        vertical-align: top;\n",
              "    }\n",
              "\n",
              "    .dataframe thead th {\n",
              "        text-align: right;\n",
              "    }\n",
              "</style>\n",
              "<table border=\"1\" class=\"dataframe\">\n",
              "  <thead>\n",
              "    <tr style=\"text-align: right;\">\n",
              "      <th></th>\n",
              "      <th>salary_estimate</th>\n",
              "      <th>job_title</th>\n",
              "      <th>rating</th>\n",
              "    </tr>\n",
              "  </thead>\n",
              "  <tbody>\n",
              "    <tr>\n",
              "      <th>0</th>\n",
              "      <td>$37K-$66K (Glassdoor est.)</td>\n",
              "      <td>Data Analyst, Center on Immigration and Justic...</td>\n",
              "      <td>3.2</td>\n",
              "    </tr>\n",
              "    <tr>\n",
              "      <th>1</th>\n",
              "      <td>$37K-$66K (Glassdoor est.)</td>\n",
              "      <td>Quality Data Analyst</td>\n",
              "      <td>3.8</td>\n",
              "    </tr>\n",
              "    <tr>\n",
              "      <th>2</th>\n",
              "      <td>$37K-$66K (Glassdoor est.)</td>\n",
              "      <td>Senior Data Analyst, Insights &amp; Analytics Team...</td>\n",
              "      <td>3.4</td>\n",
              "    </tr>\n",
              "    <tr>\n",
              "      <th>3</th>\n",
              "      <td>$37K-$66K (Glassdoor est.)</td>\n",
              "      <td>Data Analyst</td>\n",
              "      <td>4.1</td>\n",
              "    </tr>\n",
              "    <tr>\n",
              "      <th>4</th>\n",
              "      <td>$37K-$66K (Glassdoor est.)</td>\n",
              "      <td>Reporting Data Analyst</td>\n",
              "      <td>3.9</td>\n",
              "    </tr>\n",
              "    <tr>\n",
              "      <th>...</th>\n",
              "      <td>...</td>\n",
              "      <td>...</td>\n",
              "      <td>...</td>\n",
              "    </tr>\n",
              "    <tr>\n",
              "      <th>2248</th>\n",
              "      <td>$78K-$104K (Glassdoor est.)</td>\n",
              "      <td>RQS - IHHA - 201900004460 -1q Data Security An...</td>\n",
              "      <td>2.5</td>\n",
              "    </tr>\n",
              "    <tr>\n",
              "      <th>2249</th>\n",
              "      <td>$78K-$104K (Glassdoor est.)</td>\n",
              "      <td>Senior Data Analyst (Corporate Audit)</td>\n",
              "      <td>2.9</td>\n",
              "    </tr>\n",
              "    <tr>\n",
              "      <th>2250</th>\n",
              "      <td>$78K-$104K (Glassdoor est.)</td>\n",
              "      <td>Technical Business Analyst (SQL, Data analytic...</td>\n",
              "      <td>NaN</td>\n",
              "    </tr>\n",
              "    <tr>\n",
              "      <th>2251</th>\n",
              "      <td>$78K-$104K (Glassdoor est.)</td>\n",
              "      <td>Data Analyst 3, Customer Experience</td>\n",
              "      <td>3.1</td>\n",
              "    </tr>\n",
              "    <tr>\n",
              "      <th>2252</th>\n",
              "      <td>$78K-$104K (Glassdoor est.)</td>\n",
              "      <td>Senior Quality Data Analyst</td>\n",
              "      <td>3.4</td>\n",
              "    </tr>\n",
              "  </tbody>\n",
              "</table>\n",
              "<p>2253 rows × 3 columns</p>\n",
              "</div>"
            ],
            "text/plain": [
              "                  salary_estimate  \\\n",
              "0      $37K-$66K (Glassdoor est.)   \n",
              "1      $37K-$66K (Glassdoor est.)   \n",
              "2      $37K-$66K (Glassdoor est.)   \n",
              "3      $37K-$66K (Glassdoor est.)   \n",
              "4      $37K-$66K (Glassdoor est.)   \n",
              "...                           ...   \n",
              "2248  $78K-$104K (Glassdoor est.)   \n",
              "2249  $78K-$104K (Glassdoor est.)   \n",
              "2250  $78K-$104K (Glassdoor est.)   \n",
              "2251  $78K-$104K (Glassdoor est.)   \n",
              "2252  $78K-$104K (Glassdoor est.)   \n",
              "\n",
              "                                              job_title  rating  \n",
              "0     Data Analyst, Center on Immigration and Justic...     3.2  \n",
              "1                                  Quality Data Analyst     3.8  \n",
              "2     Senior Data Analyst, Insights & Analytics Team...     3.4  \n",
              "3                                          Data Analyst     4.1  \n",
              "4                                Reporting Data Analyst     3.9  \n",
              "...                                                 ...     ...  \n",
              "2248  RQS - IHHA - 201900004460 -1q Data Security An...     2.5  \n",
              "2249              Senior Data Analyst (Corporate Audit)     2.9  \n",
              "2250  Technical Business Analyst (SQL, Data analytic...     NaN  \n",
              "2251                Data Analyst 3, Customer Experience     3.1  \n",
              "2252                        Senior Quality Data Analyst     3.4  \n",
              "\n",
              "[2253 rows x 3 columns]"
            ]
          },
          "execution_count": 103,
          "metadata": {},
          "output_type": "execute_result"
        }
      ],
      "source": [
        "df1[[\"salary_estimate\",\"job_title\",\"rating\"]]"
      ]
    },
    {
      "cell_type": "code",
      "execution_count": 104,
      "id": "Evm_kHMqLG5-",
      "metadata": {
        "colab": {
          "base_uri": "https://localhost:8080/",
          "height": 394
        },
        "id": "Evm_kHMqLG5-",
        "outputId": "4cb78472-2909-4beb-ff87-e91e8aca4480"
      },
      "outputs": [
        {
          "data": {
            "text/html": [
              "<div>\n",
              "<style scoped>\n",
              "    .dataframe tbody tr th:only-of-type {\n",
              "        vertical-align: middle;\n",
              "    }\n",
              "\n",
              "    .dataframe tbody tr th {\n",
              "        vertical-align: top;\n",
              "    }\n",
              "\n",
              "    .dataframe thead th {\n",
              "        text-align: right;\n",
              "    }\n",
              "</style>\n",
              "<table border=\"1\" class=\"dataframe\">\n",
              "  <thead>\n",
              "    <tr style=\"text-align: right;\">\n",
              "      <th></th>\n",
              "      <th>salary_estimate</th>\n",
              "      <th>job_title</th>\n",
              "      <th>rating</th>\n",
              "    </tr>\n",
              "  </thead>\n",
              "  <tbody>\n",
              "    <tr>\n",
              "      <th>count</th>\n",
              "      <td>2252</td>\n",
              "      <td>2253</td>\n",
              "      <td>1981.000000</td>\n",
              "    </tr>\n",
              "    <tr>\n",
              "      <th>unique</th>\n",
              "      <td>89</td>\n",
              "      <td>1272</td>\n",
              "      <td>NaN</td>\n",
              "    </tr>\n",
              "    <tr>\n",
              "      <th>top</th>\n",
              "      <td>$42K-$76K (Glassdoor est.)</td>\n",
              "      <td>Data Analyst</td>\n",
              "      <td>NaN</td>\n",
              "    </tr>\n",
              "    <tr>\n",
              "      <th>freq</th>\n",
              "      <td>57</td>\n",
              "      <td>405</td>\n",
              "      <td>NaN</td>\n",
              "    </tr>\n",
              "    <tr>\n",
              "      <th>mean</th>\n",
              "      <td>NaN</td>\n",
              "      <td>NaN</td>\n",
              "      <td>3.731903</td>\n",
              "    </tr>\n",
              "    <tr>\n",
              "      <th>std</th>\n",
              "      <td>NaN</td>\n",
              "      <td>NaN</td>\n",
              "      <td>0.670332</td>\n",
              "    </tr>\n",
              "    <tr>\n",
              "      <th>min</th>\n",
              "      <td>NaN</td>\n",
              "      <td>NaN</td>\n",
              "      <td>1.000000</td>\n",
              "    </tr>\n",
              "    <tr>\n",
              "      <th>25%</th>\n",
              "      <td>NaN</td>\n",
              "      <td>NaN</td>\n",
              "      <td>3.300000</td>\n",
              "    </tr>\n",
              "    <tr>\n",
              "      <th>50%</th>\n",
              "      <td>NaN</td>\n",
              "      <td>NaN</td>\n",
              "      <td>3.700000</td>\n",
              "    </tr>\n",
              "    <tr>\n",
              "      <th>75%</th>\n",
              "      <td>NaN</td>\n",
              "      <td>NaN</td>\n",
              "      <td>4.100000</td>\n",
              "    </tr>\n",
              "    <tr>\n",
              "      <th>max</th>\n",
              "      <td>NaN</td>\n",
              "      <td>NaN</td>\n",
              "      <td>5.000000</td>\n",
              "    </tr>\n",
              "  </tbody>\n",
              "</table>\n",
              "</div>"
            ],
            "text/plain": [
              "                   salary_estimate     job_title       rating\n",
              "count                         2252          2253  1981.000000\n",
              "unique                          89          1272          NaN\n",
              "top     $42K-$76K (Glassdoor est.)  Data Analyst          NaN\n",
              "freq                            57           405          NaN\n",
              "mean                           NaN           NaN     3.731903\n",
              "std                            NaN           NaN     0.670332\n",
              "min                            NaN           NaN     1.000000\n",
              "25%                            NaN           NaN     3.300000\n",
              "50%                            NaN           NaN     3.700000\n",
              "75%                            NaN           NaN     4.100000\n",
              "max                            NaN           NaN     5.000000"
            ]
          },
          "execution_count": 104,
          "metadata": {},
          "output_type": "execute_result"
        }
      ],
      "source": [
        "df1[[\"salary_estimate\",\"job_title\",\"rating\"]].describe(include=\"all\")"
      ]
    },
    {
      "cell_type": "code",
      "execution_count": null,
      "id": "QVsMrdy455P-",
      "metadata": {
        "id": "QVsMrdy455P-"
      },
      "outputs": [],
      "source": [
        "#burda soruda jobtitle ve salary duzenleme yapilmmasi isteniyor eksik dikkat buraya"
      ]
    },
    {
      "cell_type": "markdown",
      "id": "c79c6af8",
      "metadata": {
        "id": "c79c6af8"
      },
      "source": [
        "#### 'company_name' column"
      ]
    },
    {
      "cell_type": "markdown",
      "id": "8ad6dae5",
      "metadata": {
        "id": "8ad6dae5"
      },
      "source": [
        "**INSTRUCTIONS**\n",
        "\n",
        "*   Examine the ``company_name`` column to get an overview of the column.\n",
        "\n",
        "*   There are some ``numbers`` attached to the company names. Get rid of them.\n",
        "\n",
        "*   There is a ``missing value``. Check whether it can be filled via other columns or not. If not keep it.\n",
        "\n",
        "..."
      ]
    },
    {
      "cell_type": "code",
      "execution_count": 105,
      "id": "8dzSuY3pp0CO",
      "metadata": {
        "colab": {
          "base_uri": "https://localhost:8080/"
        },
        "id": "8dzSuY3pp0CO",
        "outputId": "61cf6acb-3d1d-4755-c441-d0dbbe28d081"
      },
      "outputs": [
        {
          "data": {
            "text/plain": [
              "Index(['job_title', 'salary_estimate', 'job_description', 'rating',\n",
              "       'company_name', 'location', 'headquarters', 'size', 'founded',\n",
              "       'type_of_ownership', 'industry', 'sector', 'revenue'],\n",
              "      dtype='object')"
            ]
          },
          "execution_count": 105,
          "metadata": {},
          "output_type": "execute_result"
        }
      ],
      "source": [
        "df1.columns"
      ]
    },
    {
      "cell_type": "code",
      "execution_count": null,
      "id": "bf6d161b",
      "metadata": {
        "id": "bf6d161b"
      },
      "outputs": [],
      "source": [
        "# CODE HERE"
      ]
    },
    {
      "cell_type": "code",
      "execution_count": 106,
      "id": "21269969",
      "metadata": {
        "colab": {
          "base_uri": "https://localhost:8080/"
        },
        "id": "21269969",
        "outputId": "9e96399e-7df7-41ae-ba4c-0985372616d0"
      },
      "outputs": [
        {
          "data": {
            "text/plain": [
              "0                Vera Institute of Justice\\r\\n3.2\n",
              "1       Visiting Nurse Service of New York\\r\\n3.8\n",
              "2                              Squarespace\\r\\n3.4\n",
              "3                                 Celerity\\r\\n4.1\n",
              "4                                  FanDuel\\r\\n3.9\n",
              "                          ...                    \n",
              "2248                         Avacend, Inc.\\r\\n2.5\n",
              "2249                     Arrow Electronics\\r\\n2.9\n",
              "2250                                     Spiceorb\n",
              "2251           Contingent Network Services\\r\\n3.1\n",
              "2252                            SCL Health\\r\\n3.4\n",
              "Name: company_name, Length: 2253, dtype: object"
            ]
          },
          "execution_count": 106,
          "metadata": {},
          "output_type": "execute_result"
        }
      ],
      "source": [
        "dfc[\"company_name\"]"
      ]
    },
    {
      "cell_type": "code",
      "execution_count": 383,
      "id": "K2rf4NnaMli7",
      "metadata": {
        "id": "K2rf4NnaMli7"
      },
      "outputs": [],
      "source": [
        "k=\"Vera Institute of Justice 3.2\""
      ]
    },
    {
      "cell_type": "code",
      "execution_count": 384,
      "id": "8-QjL8ezMlgL",
      "metadata": {
        "colab": {
          "base_uri": "https://localhost:8080/"
        },
        "id": "8-QjL8ezMlgL",
        "outputId": "f681edca-3dda-4f90-f9e4-93f5809ab22b"
      },
      "outputs": [
        {
          "data": {
            "text/plain": [
              "['Vera', 'Institute', 'of', 'Justice', '3.2']"
            ]
          },
          "execution_count": 384,
          "metadata": {},
          "output_type": "execute_result"
        }
      ],
      "source": [
        "k.split()"
      ]
    },
    {
      "cell_type": "code",
      "execution_count": 385,
      "id": "ujODSTn2NUAs",
      "metadata": {
        "id": "ujODSTn2NUAs"
      },
      "outputs": [],
      "source": [
        "y=k.split()\n"
      ]
    },
    {
      "cell_type": "code",
      "execution_count": 386,
      "id": "T3BqSVtS6eO0",
      "metadata": {
        "colab": {
          "base_uri": "https://localhost:8080/",
          "height": 35
        },
        "id": "T3BqSVtS6eO0",
        "outputId": "da124100-4e99-43dd-9a9b-36b5b386a3d0"
      },
      "outputs": [
        {
          "data": {
            "application/vnd.google.colaboratory.intrinsic+json": {
              "type": "string"
            },
            "text/plain": [
              "'3.2'"
            ]
          },
          "execution_count": 386,
          "metadata": {},
          "output_type": "execute_result"
        }
      ],
      "source": [
        "y.pop()#lsitenin son elemanni atti"
      ]
    },
    {
      "cell_type": "code",
      "execution_count": 387,
      "id": "tKPnKW5F6j6-",
      "metadata": {
        "colab": {
          "base_uri": "https://localhost:8080/"
        },
        "id": "tKPnKW5F6j6-",
        "outputId": "8c0d12d0-0432-41cd-ccab-dec06c478c10"
      },
      "outputs": [
        {
          "data": {
            "text/plain": [
              "['Vera', 'Institute', 'of', 'Justice']"
            ]
          },
          "execution_count": 387,
          "metadata": {},
          "output_type": "execute_result"
        }
      ],
      "source": [
        "y"
      ]
    },
    {
      "cell_type": "code",
      "execution_count": null,
      "id": "rtUFLLLH1bmQ",
      "metadata": {
        "id": "rtUFLLLH1bmQ"
      },
      "outputs": [],
      "source": [
        "#yukardaki pop ve split li kodu for dongusu ile yazilacak arastir"
      ]
    },
    {
      "cell_type": "code",
      "execution_count": null,
      "id": "sox9UvCQg-nH",
      "metadata": {
        "id": "sox9UvCQg-nH"
      },
      "outputs": [],
      "source": [
        "#dfc[\"company_name\"] = dfc.company_name.astype(str).str.extract('(\\d{1,4})').astype('float') # str.extract('(\\d+)')"
      ]
    },
    {
      "cell_type": "code",
      "execution_count": null,
      "id": "zJS9Y5vowmaw",
      "metadata": {
        "id": "zJS9Y5vowmaw"
      },
      "outputs": [],
      "source": [
        "#dfc[\"company_name\"]"
      ]
    },
    {
      "cell_type": "code",
      "execution_count": null,
      "id": "_TFvMPFWnJFT",
      "metadata": {
        "id": "_TFvMPFWnJFT"
      },
      "outputs": [],
      "source": [
        "#a_string = \"!1a2;b3c?\"\n",
        "#alpha_filter = filter(str.isalpha, a_string)\n",
        "#alpha_string = \"\".join(alpha_filter)\n",
        "#alpha_string "
      ]
    },
    {
      "cell_type": "code",
      "execution_count": null,
      "id": "IqUsNJeUndmb",
      "metadata": {
        "id": "IqUsNJeUndmb"
      },
      "outputs": [],
      "source": [
        "#a_string = \"Vera Institute of Justice 3.2\"\n",
        "#alpha_filter = filter(str.isalpha, a_string)\n",
        "#alpha_string = \"\".join(alpha_filter)\n",
        "#alpha_string"
      ]
    },
    {
      "cell_type": "code",
      "execution_count": 107,
      "id": "F_eOfBH2tzQO",
      "metadata": {
        "colab": {
          "base_uri": "https://localhost:8080/"
        },
        "id": "F_eOfBH2tzQO",
        "outputId": "29ee1496-9467-4552-df55-ed266392737d"
      },
      "outputs": [
        {
          "data": {
            "text/plain": [
              "0                Vera Institute of Justice\\r\\n3.2\n",
              "1       Visiting Nurse Service of New York\\r\\n3.8\n",
              "2                              Squarespace\\r\\n3.4\n",
              "3                                 Celerity\\r\\n4.1\n",
              "4                                  FanDuel\\r\\n3.9\n",
              "                          ...                    \n",
              "2248                         Avacend, Inc.\\r\\n2.5\n",
              "2249                     Arrow Electronics\\r\\n2.9\n",
              "2250                                     Spiceorb\n",
              "2251           Contingent Network Services\\r\\n3.1\n",
              "2252                            SCL Health\\r\\n3.4\n",
              "Name: company_name, Length: 2253, dtype: object"
            ]
          },
          "execution_count": 107,
          "metadata": {},
          "output_type": "execute_result"
        }
      ],
      "source": [
        "dfc.company_name"
      ]
    },
    {
      "cell_type": "markdown",
      "id": "e3UtzNo-uitw",
      "metadata": {
        "id": "e3UtzNo-uitw"
      },
      "source": [
        "# *Soruda aslinda sadece sayilarin temizlenmesi istenmesine ragmen visulation  kismi incelendiginde hocalrin aslinda rli kismida attigi gorulmus ve analize oyle devam edilismistir*"
      ]
    },
    {
      "cell_type": "code",
      "execution_count": 108,
      "id": "K9Jx3sKswklm",
      "metadata": {
        "colab": {
          "base_uri": "https://localhost:8080/"
        },
        "id": "K9Jx3sKswklm",
        "outputId": "f17ea8be-53ca-43a2-9a4a-d1a0fbd84d32"
      },
      "outputs": [
        {
          "data": {
            "text/plain": [
              "dtype('O')"
            ]
          },
          "execution_count": 108,
          "metadata": {},
          "output_type": "execute_result"
        }
      ],
      "source": [
        "dfc[\"company_name\"].dtype"
      ]
    },
    {
      "cell_type": "code",
      "execution_count": null,
      "id": "4ISlJ5aBu81W",
      "metadata": {
        "id": "4ISlJ5aBu81W"
      },
      "outputs": [],
      "source": [
        "#slliti ham olarak pandasda calistiramkiyoruz cunku python fonksiyonu bunu pandas da str fonklarini calistirmak istersek basina str koymaliyz;"
      ]
    },
    {
      "cell_type": "code",
      "execution_count": 392,
      "id": "OcP94df3BarR",
      "metadata": {
        "id": "OcP94df3BarR"
      },
      "outputs": [],
      "source": [
        "#df1[\"company_name\"]company_name.transform(lambda x: x.str.split(\"\\r\"))"
      ]
    },
    {
      "cell_type": "code",
      "execution_count": 109,
      "id": "4c1FkqVCBrkj",
      "metadata": {
        "colab": {
          "base_uri": "https://localhost:8080/"
        },
        "id": "4c1FkqVCBrkj",
        "outputId": "bbaa4b93-2bd8-4e95-9b91-cbde5ce9917d"
      },
      "outputs": [
        {
          "data": {
            "text/plain": [
              "0                [Vera Institute of Justice, \\n3.2]\n",
              "1       [Visiting Nurse Service of New York, \\n3.8]\n",
              "2                              [Squarespace, \\n3.4]\n",
              "3                                 [Celerity, \\n4.1]\n",
              "4                                  [FanDuel, \\n3.9]\n",
              "                           ...                     \n",
              "2248                         [Avacend, Inc., \\n2.5]\n",
              "2249                     [Arrow Electronics, \\n2.9]\n",
              "2250                                     [Spiceorb]\n",
              "2251           [Contingent Network Services, \\n3.1]\n",
              "2252                            [SCL Health, \\n3.4]\n",
              "Name: company_name, Length: 2253, dtype: object"
            ]
          },
          "execution_count": 109,
          "metadata": {},
          "output_type": "execute_result"
        }
      ],
      "source": [
        "df1.company_name.transform(lambda x: x.str.split(\"\\r\"))"
      ]
    },
    {
      "cell_type": "code",
      "execution_count": 110,
      "id": "tLi-mjMJB2ye",
      "metadata": {
        "colab": {
          "base_uri": "https://localhost:8080/"
        },
        "id": "tLi-mjMJB2ye",
        "outputId": "d077bff1-3276-4a89-97d5-26cfabfc5ac4"
      },
      "outputs": [
        {
          "data": {
            "text/plain": [
              "0                Vera Institute of Justice\n",
              "1       Visiting Nurse Service of New York\n",
              "2                              Squarespace\n",
              "3                                 Celerity\n",
              "4                                  FanDuel\n",
              "                       ...                \n",
              "2248                         Avacend, Inc.\n",
              "2249                     Arrow Electronics\n",
              "2250                              Spiceorb\n",
              "2251           Contingent Network Services\n",
              "2252                            SCL Health\n",
              "Name: company_name, Length: 2253, dtype: object"
            ]
          },
          "execution_count": 110,
          "metadata": {},
          "output_type": "execute_result"
        }
      ],
      "source": [
        "df1.company_name.transform(lambda x: x.str.split(\"\\r\")).str[0]"
      ]
    },
    {
      "cell_type": "code",
      "execution_count": 394,
      "id": "BjEdebRQ_zeC",
      "metadata": {
        "colab": {
          "base_uri": "https://localhost:8080/",
          "height": 70
        },
        "id": "BjEdebRQ_zeC",
        "outputId": "5e07d3f0-dc05-4665-fa8a-e17fe83bb828"
      },
      "outputs": [
        {
          "data": {
            "application/vnd.google.colaboratory.intrinsic+json": {
              "type": "string"
            },
            "text/plain": [
              "'BulbHeadPintoTapRmCompuForceAttentiveKinshipWintellisysVestracareSoluStaffSoftincKharonTopTalentFetchKesarWebLeapTalentDashTalentDashTalentDashTalentDashEnteraAllRediLiveMindzFredBeansLiveMindzConcertAIenexusglobalPETADATAAllakosSpiceorbSkiltrekSNIPEBRIDGEVIAHARTsoftsnippetssmlogicsLiveMindzdataBridgenandataBridgedataBridgeApplicantzcyitechsearchTransReachKinshipPrivateSpiceorbSpiceorb'"
            ]
          },
          "execution_count": 394,
          "metadata": {},
          "output_type": "execute_result"
        }
      ],
      "source": [
        "alpha_filter = filter(str.isalpha, dfc[\"company_name\"].astype(\"str\"))\n",
        "alpha_string = \"\".join(alpha_filter)\n",
        "alpha_string "
      ]
    },
    {
      "cell_type": "code",
      "execution_count": null,
      "id": "5b4T7LwBB046",
      "metadata": {
        "id": "5b4T7LwBB046"
      },
      "outputs": [],
      "source": []
    },
    {
      "cell_type": "code",
      "execution_count": null,
      "id": "nJ_F2y1RvViP",
      "metadata": {
        "id": "nJ_F2y1RvViP"
      },
      "outputs": [],
      "source": [
        "dfc.company_name.transform(lambda x: x.str.split(\"\\r\"))"
      ]
    },
    {
      "cell_type": "code",
      "execution_count": null,
      "id": "ksbKL_OovdWI",
      "metadata": {
        "id": "ksbKL_OovdWI"
      },
      "outputs": [],
      "source": [
        "#simdi str[0] bziizm yukardaki liste olurtsurdugumuz her satrin ilk elamanini yazni string kismini getirdi \n",
        "#str[0] disarda calismadiysa icne alabilirsin\n",
        "#sadece index [0] calismadi, ama columun tamamiicin str [0 kullanildi]"
      ]
    },
    {
      "cell_type": "code",
      "execution_count": 111,
      "id": "DA2RtoyJnqkU",
      "metadata": {
        "colab": {
          "base_uri": "https://localhost:8080/"
        },
        "id": "DA2RtoyJnqkU",
        "outputId": "df60f1fc-91a7-415c-e3a4-41b535b6644d"
      },
      "outputs": [
        {
          "data": {
            "text/plain": [
              "0                Vera Institute of Justice\n",
              "1       Visiting Nurse Service of New York\n",
              "2                              Squarespace\n",
              "3                                 Celerity\n",
              "4                                  FanDuel\n",
              "                       ...                \n",
              "2248                         Avacend, Inc.\n",
              "2249                     Arrow Electronics\n",
              "2250                              Spiceorb\n",
              "2251           Contingent Network Services\n",
              "2252                            SCL Health\n",
              "Name: company_name, Length: 2253, dtype: object"
            ]
          },
          "execution_count": 111,
          "metadata": {},
          "output_type": "execute_result"
        }
      ],
      "source": [
        "dfc.company_name.transform(lambda x: x.str.split(\"\\r\")).str[0]\n",
        "#matheww hocanin perfect kodu sondaki onun sihirli argumani imisi\n",
        "#transform apply in ozdesi \n",
        "#apply 3 turlusu var =map, apply, aply map \n",
        "#bunlar arasindan map series ile calisir\n",
        "#aply map dataframe de\n",
        "#apply da ikisinde calisir\n",
        "#apply da grop by yaparsaniz nan deger gelebilir manuel kontrol edilmeli\n",
        "#ya degerler guncellenmeli ya da transform kullanilmali yukardaki durumda\n",
        "#burda apply calismadi calismayinca transform denedik\n",
        "#transform ne olursa ol gel modunda calisir\n",
        "#"
      ]
    },
    {
      "cell_type": "code",
      "execution_count": 112,
      "id": "sJiANz3gyoV7",
      "metadata": {
        "id": "sJiANz3gyoV7"
      },
      "outputs": [],
      "source": [
        "dfc[\"company_name\"]=dfc.company_name.transform(lambda x: x.str.split(\"\\r\")).str[0]"
      ]
    },
    {
      "cell_type": "code",
      "execution_count": 113,
      "id": "jrgjjgSxhHrs",
      "metadata": {
        "colab": {
          "base_uri": "https://localhost:8080/"
        },
        "id": "jrgjjgSxhHrs",
        "outputId": "4e0aad93-e51b-4533-efb7-d0ed25d10a6b"
      },
      "outputs": [
        {
          "data": {
            "text/plain": [
              "0                Vera Institute of Justice\n",
              "1       Visiting Nurse Service of New York\n",
              "2                              Squarespace\n",
              "3                                 Celerity\n",
              "4                                  FanDuel\n",
              "                       ...                \n",
              "2248                         Avacend, Inc.\n",
              "2249                     Arrow Electronics\n",
              "2250                              Spiceorb\n",
              "2251           Contingent Network Services\n",
              "2252                            SCL Health\n",
              "Name: company_name, Length: 2253, dtype: object"
            ]
          },
          "execution_count": 113,
          "metadata": {},
          "output_type": "execute_result"
        }
      ],
      "source": [
        "dfc[\"company_name\"]"
      ]
    },
    {
      "cell_type": "code",
      "execution_count": null,
      "id": "uACWjR3J0edt",
      "metadata": {
        "id": "uACWjR3J0edt"
      },
      "outputs": [],
      "source": []
    },
    {
      "cell_type": "code",
      "execution_count": null,
      "id": "pF9z-Sf3ppNd",
      "metadata": {
        "id": "pF9z-Sf3ppNd"
      },
      "outputs": [],
      "source": [
        "#df1[\"Company Name\"].map(lambda x : x.strip(),na_action = 'ignore')"
      ]
    },
    {
      "cell_type": "code",
      "execution_count": null,
      "id": "UTwIT9z_wl5b",
      "metadata": {
        "id": "UTwIT9z_wl5b"
      },
      "outputs": [],
      "source": [
        "#df1[\"Company Name\"].astype(str).apply(lambda a: list(a))#edwin hocam yolladi :)"
      ]
    },
    {
      "cell_type": "code",
      "execution_count": null,
      "id": "d35fYcuTw-q0",
      "metadata": {
        "id": "d35fYcuTw-q0"
      },
      "outputs": [],
      "source": []
    },
    {
      "cell_type": "code",
      "execution_count": 114,
      "id": "d0kpaPRjyRov",
      "metadata": {
        "colab": {
          "base_uri": "https://localhost:8080/",
          "height": 196
        },
        "id": "d0kpaPRjyRov",
        "outputId": "aa732bff-3e08-4236-d33b-239f22751eef"
      },
      "outputs": [
        {
          "data": {
            "text/html": [
              "<div>\n",
              "<style scoped>\n",
              "    .dataframe tbody tr th:only-of-type {\n",
              "        vertical-align: middle;\n",
              "    }\n",
              "\n",
              "    .dataframe tbody tr th {\n",
              "        vertical-align: top;\n",
              "    }\n",
              "\n",
              "    .dataframe thead th {\n",
              "        text-align: right;\n",
              "    }\n",
              "</style>\n",
              "<table border=\"1\" class=\"dataframe\">\n",
              "  <thead>\n",
              "    <tr style=\"text-align: right;\">\n",
              "      <th></th>\n",
              "      <th>job_title</th>\n",
              "      <th>job_description</th>\n",
              "      <th>company_name</th>\n",
              "      <th>industry</th>\n",
              "      <th>sector</th>\n",
              "      <th>salary_estimate</th>\n",
              "      <th>salary_max</th>\n",
              "      <th>salary_min</th>\n",
              "      <th>salary_mean</th>\n",
              "      <th>SQL</th>\n",
              "      <th>python</th>\n",
              "      <th>excell</th>\n",
              "      <th>tableu</th>\n",
              "    </tr>\n",
              "  </thead>\n",
              "  <tbody>\n",
              "    <tr>\n",
              "      <th>734</th>\n",
              "      <td>Data Analyst (Junior)</td>\n",
              "      <td>Job Description\\r\\nTitle: Data Analyst I\\r\\n\\r...</td>\n",
              "      <td>Swoon</td>\n",
              "      <td>Staffing &amp; Outsourcing</td>\n",
              "      <td>Business Services</td>\n",
              "      <td>$60K-$66K (Glassdoor est.)</td>\n",
              "      <td>66000.0</td>\n",
              "      <td>60000.0</td>\n",
              "      <td>63000.0</td>\n",
              "      <td>True</td>\n",
              "      <td>False</td>\n",
              "      <td>False</td>\n",
              "      <td>False</td>\n",
              "    </tr>\n",
              "  </tbody>\n",
              "</table>\n",
              "</div>"
            ],
            "text/plain": [
              "                 job_title                                    job_description  \\\n",
              "734  Data Analyst (Junior)  Job Description\\r\\nTitle: Data Analyst I\\r\\n\\r...   \n",
              "\n",
              "    company_name                industry             sector  \\\n",
              "734        Swoon  Staffing & Outsourcing  Business Services   \n",
              "\n",
              "                salary_estimate  salary_max  salary_min  salary_mean   SQL  \\\n",
              "734  $60K-$66K (Glassdoor est.)     66000.0     60000.0      63000.0  True   \n",
              "\n",
              "     python  excell  tableu  \n",
              "734   False   False   False  "
            ]
          },
          "execution_count": 114,
          "metadata": {},
          "output_type": "execute_result"
        }
      ],
      "source": [
        "dfc.sample()"
      ]
    },
    {
      "cell_type": "code",
      "execution_count": null,
      "id": "HY7gJaGZsDBO",
      "metadata": {
        "id": "HY7gJaGZsDBO"
      },
      "outputs": [],
      "source": [
        "#df1[\"Company Name\"].str.extract(\"([0-9]+)\") # edvin hocam yolladi "
      ]
    },
    {
      "cell_type": "code",
      "execution_count": null,
      "id": "v1e8C9Hn68zp",
      "metadata": {
        "id": "v1e8C9Hn68zp"
      },
      "outputs": [],
      "source": [
        "#remove suffix aratirilacak\n",
        "#k.removesuffix(\"3.2\")"
      ]
    },
    {
      "cell_type": "code",
      "execution_count": 115,
      "id": "2c6bb175",
      "metadata": {
        "colab": {
          "base_uri": "https://localhost:8080/"
        },
        "id": "2c6bb175",
        "outputId": "8049390a-9375-4484-cd93-5391f899b865"
      },
      "outputs": [
        {
          "data": {
            "text/plain": [
              "1"
            ]
          },
          "execution_count": 115,
          "metadata": {},
          "output_type": "execute_result"
        }
      ],
      "source": [
        "dfc[\"company_name\"].isnull().sum()"
      ]
    },
    {
      "cell_type": "code",
      "execution_count": 116,
      "id": "KFG6tJLN7L_O",
      "metadata": {
        "colab": {
          "base_uri": "https://localhost:8080/"
        },
        "id": "KFG6tJLN7L_O",
        "outputId": "41d388a0-b01d-4441-eb79-1bef0975bd69"
      },
      "outputs": [
        {
          "data": {
            "text/plain": [
              "count                                 2252\n",
              "unique                                1501\n",
              "top       Staffigo Technical Services, LLC\n",
              "freq                                    58\n",
              "Name: company_name, dtype: object"
            ]
          },
          "execution_count": 116,
          "metadata": {},
          "output_type": "execute_result"
        }
      ],
      "source": [
        "dfc[\"company_name\"].describe()"
      ]
    },
    {
      "cell_type": "code",
      "execution_count": null,
      "id": "xHXOMyz-7rF1",
      "metadata": {
        "id": "xHXOMyz-7rF1"
      },
      "outputs": [],
      "source": [
        "#dfmax=dfc[\"salary_estimate\"].apply(lambda a:float(a.split(\"-\")[1].split()[0].strip(\"$K\"))*1000)"
      ]
    },
    {
      "cell_type": "markdown",
      "id": "33776177",
      "metadata": {
        "id": "33776177"
      },
      "source": [
        "#### 'industry' column"
      ]
    },
    {
      "cell_type": "markdown",
      "id": "4e50b3a8",
      "metadata": {
        "id": "4e50b3a8"
      },
      "source": [
        "**INSTRUCTIONS**\n",
        "\n",
        "*   Examine the ``industry`` column to get an overview of the column.\n",
        "\n",
        "*   Everything seems ok. But there are missing values. Keep them for the sake of further analysis.\n",
        "\n",
        "..."
      ]
    },
    {
      "cell_type": "code",
      "execution_count": null,
      "id": "3a8754dd",
      "metadata": {
        "id": "3a8754dd"
      },
      "outputs": [],
      "source": [
        "# CODE HERE"
      ]
    },
    {
      "cell_type": "code",
      "execution_count": 117,
      "id": "aQR9TO_k8Wad",
      "metadata": {
        "colab": {
          "base_uri": "https://localhost:8080/"
        },
        "id": "aQR9TO_k8Wad",
        "outputId": "d3f98f9b-b915-482e-dba4-1d22b8b45da9"
      },
      "outputs": [
        {
          "data": {
            "text/plain": [
              "Index(['job_title', 'job_description', 'company_name', 'industry', 'sector',\n",
              "       'salary_estimate', 'salary_max', 'salary_min', 'salary_mean', 'SQL',\n",
              "       'python', 'excell', 'tableu'],\n",
              "      dtype='object')"
            ]
          },
          "execution_count": 117,
          "metadata": {},
          "output_type": "execute_result"
        }
      ],
      "source": [
        "dfc.columns\n"
      ]
    },
    {
      "cell_type": "code",
      "execution_count": 118,
      "id": "7c97972c",
      "metadata": {
        "colab": {
          "base_uri": "https://localhost:8080/",
          "height": 424
        },
        "id": "7c97972c",
        "outputId": "37004ad7-5549-490c-f8ec-7778e4a69c71"
      },
      "outputs": [
        {
          "data": {
            "text/html": [
              "<div>\n",
              "<style scoped>\n",
              "    .dataframe tbody tr th:only-of-type {\n",
              "        vertical-align: middle;\n",
              "    }\n",
              "\n",
              "    .dataframe tbody tr th {\n",
              "        vertical-align: top;\n",
              "    }\n",
              "\n",
              "    .dataframe thead th {\n",
              "        text-align: right;\n",
              "    }\n",
              "</style>\n",
              "<table border=\"1\" class=\"dataframe\">\n",
              "  <thead>\n",
              "    <tr style=\"text-align: right;\">\n",
              "      <th></th>\n",
              "      <th>industry</th>\n",
              "    </tr>\n",
              "  </thead>\n",
              "  <tbody>\n",
              "    <tr>\n",
              "      <th>0</th>\n",
              "      <td>Social Assistance</td>\n",
              "    </tr>\n",
              "    <tr>\n",
              "      <th>1</th>\n",
              "      <td>Health Care Services &amp; Hospitals</td>\n",
              "    </tr>\n",
              "    <tr>\n",
              "      <th>2</th>\n",
              "      <td>Internet</td>\n",
              "    </tr>\n",
              "    <tr>\n",
              "      <th>3</th>\n",
              "      <td>IT Services</td>\n",
              "    </tr>\n",
              "    <tr>\n",
              "      <th>4</th>\n",
              "      <td>Sports &amp; Recreation</td>\n",
              "    </tr>\n",
              "    <tr>\n",
              "      <th>...</th>\n",
              "      <td>...</td>\n",
              "    </tr>\n",
              "    <tr>\n",
              "      <th>2248</th>\n",
              "      <td>Staffing &amp; Outsourcing</td>\n",
              "    </tr>\n",
              "    <tr>\n",
              "      <th>2249</th>\n",
              "      <td>Wholesale</td>\n",
              "    </tr>\n",
              "    <tr>\n",
              "      <th>2250</th>\n",
              "      <td>NaN</td>\n",
              "    </tr>\n",
              "    <tr>\n",
              "      <th>2251</th>\n",
              "      <td>Enterprise Software &amp; Network Solutions</td>\n",
              "    </tr>\n",
              "    <tr>\n",
              "      <th>2252</th>\n",
              "      <td>Health Care Services &amp; Hospitals</td>\n",
              "    </tr>\n",
              "  </tbody>\n",
              "</table>\n",
              "<p>2253 rows × 1 columns</p>\n",
              "</div>"
            ],
            "text/plain": [
              "                                     industry\n",
              "0                           Social Assistance\n",
              "1            Health Care Services & Hospitals\n",
              "2                                    Internet\n",
              "3                                 IT Services\n",
              "4                         Sports & Recreation\n",
              "...                                       ...\n",
              "2248                   Staffing & Outsourcing\n",
              "2249                                Wholesale\n",
              "2250                                      NaN\n",
              "2251  Enterprise Software & Network Solutions\n",
              "2252         Health Care Services & Hospitals\n",
              "\n",
              "[2253 rows x 1 columns]"
            ]
          },
          "execution_count": 118,
          "metadata": {},
          "output_type": "execute_result"
        }
      ],
      "source": [
        "dfc[[\"industry\"]]"
      ]
    },
    {
      "cell_type": "code",
      "execution_count": 119,
      "id": "d2742cd1",
      "metadata": {
        "colab": {
          "base_uri": "https://localhost:8080/"
        },
        "id": "d2742cd1",
        "outputId": "2a1a82d8-ff1a-43ba-8152-dba092f90680"
      },
      "outputs": [
        {
          "data": {
            "text/plain": [
              "industry    353\n",
              "dtype: int64"
            ]
          },
          "execution_count": 119,
          "metadata": {},
          "output_type": "execute_result"
        }
      ],
      "source": [
        "dfc[[\"industry\"]].isnull().sum()# But there are missing values. Keep them for the sake of further analysis.\n",
        "\n",
        "#burda missing valuelar analiz icin. tutulsun deniyor"
      ]
    },
    {
      "cell_type": "code",
      "execution_count": 120,
      "id": "-qZj-jcA9UpP",
      "metadata": {
        "colab": {
          "base_uri": "https://localhost:8080/",
          "height": 175
        },
        "id": "-qZj-jcA9UpP",
        "outputId": "a399e373-d6fc-43e4-dc76-1855217cdf90"
      },
      "outputs": [
        {
          "data": {
            "text/html": [
              "<div>\n",
              "<style scoped>\n",
              "    .dataframe tbody tr th:only-of-type {\n",
              "        vertical-align: middle;\n",
              "    }\n",
              "\n",
              "    .dataframe tbody tr th {\n",
              "        vertical-align: top;\n",
              "    }\n",
              "\n",
              "    .dataframe thead th {\n",
              "        text-align: right;\n",
              "    }\n",
              "</style>\n",
              "<table border=\"1\" class=\"dataframe\">\n",
              "  <thead>\n",
              "    <tr style=\"text-align: right;\">\n",
              "      <th></th>\n",
              "      <th>industry</th>\n",
              "    </tr>\n",
              "  </thead>\n",
              "  <tbody>\n",
              "    <tr>\n",
              "      <th>count</th>\n",
              "      <td>1900</td>\n",
              "    </tr>\n",
              "    <tr>\n",
              "      <th>unique</th>\n",
              "      <td>88</td>\n",
              "    </tr>\n",
              "    <tr>\n",
              "      <th>top</th>\n",
              "      <td>IT Services</td>\n",
              "    </tr>\n",
              "    <tr>\n",
              "      <th>freq</th>\n",
              "      <td>325</td>\n",
              "    </tr>\n",
              "  </tbody>\n",
              "</table>\n",
              "</div>"
            ],
            "text/plain": [
              "           industry\n",
              "count          1900\n",
              "unique           88\n",
              "top     IT Services\n",
              "freq            325"
            ]
          },
          "execution_count": 120,
          "metadata": {},
          "output_type": "execute_result"
        }
      ],
      "source": [
        "dfc[[\"industry\"]].describe()"
      ]
    },
    {
      "cell_type": "code",
      "execution_count": null,
      "id": "cV641sxH9l-E",
      "metadata": {
        "id": "cV641sxH9l-E"
      },
      "outputs": [],
      "source": [
        "#categorical veriler icin missing value icin yapilabilecek islemler nelerdir ?"
      ]
    },
    {
      "cell_type": "markdown",
      "id": "9fd9e295",
      "metadata": {
        "id": "9fd9e295"
      },
      "source": [
        "#### 'sector' column"
      ]
    },
    {
      "cell_type": "markdown",
      "id": "9d4ae34f",
      "metadata": {
        "id": "9d4ae34f"
      },
      "source": [
        "**INSTRUCTIONS**\n",
        "\n",
        "*   Examine the ``industry`` column to get an overview of the column.\n",
        "\n",
        "*   Everything seems ok. But there are missing values. Keep them for the sake of further analysis.\n",
        "\n",
        "..."
      ]
    },
    {
      "cell_type": "code",
      "execution_count": null,
      "id": "4a895c8e",
      "metadata": {
        "id": "4a895c8e"
      },
      "outputs": [],
      "source": [
        "# CODE HERE"
      ]
    },
    {
      "cell_type": "code",
      "execution_count": null,
      "id": "DcVee1BZABEB",
      "metadata": {
        "id": "DcVee1BZABEB"
      },
      "outputs": [],
      "source": [
        "#yukardaki problem ile ayni katagorik verilerin nullarini nasil bir islem yapabilirz?"
      ]
    },
    {
      "cell_type": "code",
      "execution_count": null,
      "id": "7xeNWPvW-0b1",
      "metadata": {
        "id": "7xeNWPvW-0b1"
      },
      "outputs": [],
      "source": [
        "#sector ile indsutry nin isnalari ayni satirda mi ?"
      ]
    },
    {
      "cell_type": "code",
      "execution_count": 121,
      "id": "1_Rwl67d_B35",
      "metadata": {
        "colab": {
          "base_uri": "https://localhost:8080/",
          "height": 424
        },
        "id": "1_Rwl67d_B35",
        "outputId": "362d35ff-a68f-46b8-ea05-53a9569940ed"
      },
      "outputs": [
        {
          "data": {
            "text/html": [
              "<div>\n",
              "<style scoped>\n",
              "    .dataframe tbody tr th:only-of-type {\n",
              "        vertical-align: middle;\n",
              "    }\n",
              "\n",
              "    .dataframe tbody tr th {\n",
              "        vertical-align: top;\n",
              "    }\n",
              "\n",
              "    .dataframe thead th {\n",
              "        text-align: right;\n",
              "    }\n",
              "</style>\n",
              "<table border=\"1\" class=\"dataframe\">\n",
              "  <thead>\n",
              "    <tr style=\"text-align: right;\">\n",
              "      <th></th>\n",
              "      <th>sector</th>\n",
              "      <th>industry</th>\n",
              "    </tr>\n",
              "  </thead>\n",
              "  <tbody>\n",
              "    <tr>\n",
              "      <th>0</th>\n",
              "      <td>Non-Profit</td>\n",
              "      <td>Social Assistance</td>\n",
              "    </tr>\n",
              "    <tr>\n",
              "      <th>1</th>\n",
              "      <td>Health Care</td>\n",
              "      <td>Health Care Services &amp; Hospitals</td>\n",
              "    </tr>\n",
              "    <tr>\n",
              "      <th>2</th>\n",
              "      <td>Information Technology</td>\n",
              "      <td>Internet</td>\n",
              "    </tr>\n",
              "    <tr>\n",
              "      <th>3</th>\n",
              "      <td>Information Technology</td>\n",
              "      <td>IT Services</td>\n",
              "    </tr>\n",
              "    <tr>\n",
              "      <th>4</th>\n",
              "      <td>Arts, Entertainment &amp; Recreation</td>\n",
              "      <td>Sports &amp; Recreation</td>\n",
              "    </tr>\n",
              "    <tr>\n",
              "      <th>...</th>\n",
              "      <td>...</td>\n",
              "      <td>...</td>\n",
              "    </tr>\n",
              "    <tr>\n",
              "      <th>2248</th>\n",
              "      <td>Business Services</td>\n",
              "      <td>Staffing &amp; Outsourcing</td>\n",
              "    </tr>\n",
              "    <tr>\n",
              "      <th>2249</th>\n",
              "      <td>Business Services</td>\n",
              "      <td>Wholesale</td>\n",
              "    </tr>\n",
              "    <tr>\n",
              "      <th>2250</th>\n",
              "      <td>NaN</td>\n",
              "      <td>NaN</td>\n",
              "    </tr>\n",
              "    <tr>\n",
              "      <th>2251</th>\n",
              "      <td>Information Technology</td>\n",
              "      <td>Enterprise Software &amp; Network Solutions</td>\n",
              "    </tr>\n",
              "    <tr>\n",
              "      <th>2252</th>\n",
              "      <td>Health Care</td>\n",
              "      <td>Health Care Services &amp; Hospitals</td>\n",
              "    </tr>\n",
              "  </tbody>\n",
              "</table>\n",
              "<p>2253 rows × 2 columns</p>\n",
              "</div>"
            ],
            "text/plain": [
              "                                sector  \\\n",
              "0                           Non-Profit   \n",
              "1                          Health Care   \n",
              "2               Information Technology   \n",
              "3               Information Technology   \n",
              "4     Arts, Entertainment & Recreation   \n",
              "...                                ...   \n",
              "2248                 Business Services   \n",
              "2249                 Business Services   \n",
              "2250                               NaN   \n",
              "2251            Information Technology   \n",
              "2252                       Health Care   \n",
              "\n",
              "                                     industry  \n",
              "0                           Social Assistance  \n",
              "1            Health Care Services & Hospitals  \n",
              "2                                    Internet  \n",
              "3                                 IT Services  \n",
              "4                         Sports & Recreation  \n",
              "...                                       ...  \n",
              "2248                   Staffing & Outsourcing  \n",
              "2249                                Wholesale  \n",
              "2250                                      NaN  \n",
              "2251  Enterprise Software & Network Solutions  \n",
              "2252         Health Care Services & Hospitals  \n",
              "\n",
              "[2253 rows x 2 columns]"
            ]
          },
          "execution_count": 121,
          "metadata": {},
          "output_type": "execute_result"
        }
      ],
      "source": [
        "dfc[[\"sector\",\"industry\"]]"
      ]
    },
    {
      "cell_type": "code",
      "execution_count": 122,
      "id": "e4c85b01",
      "metadata": {
        "colab": {
          "base_uri": "https://localhost:8080/",
          "height": 175
        },
        "id": "e4c85b01",
        "outputId": "429da765-1eff-4502-c28d-e94818b12afc"
      },
      "outputs": [
        {
          "data": {
            "text/html": [
              "<div>\n",
              "<style scoped>\n",
              "    .dataframe tbody tr th:only-of-type {\n",
              "        vertical-align: middle;\n",
              "    }\n",
              "\n",
              "    .dataframe tbody tr th {\n",
              "        vertical-align: top;\n",
              "    }\n",
              "\n",
              "    .dataframe thead th {\n",
              "        text-align: right;\n",
              "    }\n",
              "</style>\n",
              "<table border=\"1\" class=\"dataframe\">\n",
              "  <thead>\n",
              "    <tr style=\"text-align: right;\">\n",
              "      <th></th>\n",
              "      <th>sector</th>\n",
              "    </tr>\n",
              "  </thead>\n",
              "  <tbody>\n",
              "    <tr>\n",
              "      <th>count</th>\n",
              "      <td>1900</td>\n",
              "    </tr>\n",
              "    <tr>\n",
              "      <th>unique</th>\n",
              "      <td>24</td>\n",
              "    </tr>\n",
              "    <tr>\n",
              "      <th>top</th>\n",
              "      <td>Information Technology</td>\n",
              "    </tr>\n",
              "    <tr>\n",
              "      <th>freq</th>\n",
              "      <td>570</td>\n",
              "    </tr>\n",
              "  </tbody>\n",
              "</table>\n",
              "</div>"
            ],
            "text/plain": [
              "                        sector\n",
              "count                     1900\n",
              "unique                      24\n",
              "top     Information Technology\n",
              "freq                       570"
            ]
          },
          "execution_count": 122,
          "metadata": {},
          "output_type": "execute_result"
        }
      ],
      "source": [
        "dfc[[\"sector\"]].describe()"
      ]
    },
    {
      "cell_type": "code",
      "execution_count": 123,
      "id": "f476c37d",
      "metadata": {
        "colab": {
          "base_uri": "https://localhost:8080/"
        },
        "id": "f476c37d",
        "outputId": "69639472-882a-40c2-9fe4-01cb6d84996a"
      },
      "outputs": [
        {
          "data": {
            "text/plain": [
              "sector    353\n",
              "dtype: int64"
            ]
          },
          "execution_count": 123,
          "metadata": {},
          "output_type": "execute_result"
        }
      ],
      "source": [
        "dfc[[\"sector\"]].isna().sum()"
      ]
    },
    {
      "cell_type": "markdown",
      "id": "656baff9",
      "metadata": {
        "id": "656baff9"
      },
      "source": [
        "___\n",
        "\n",
        "\n",
        "___"
      ]
    },
    {
      "cell_type": "markdown",
      "id": "d80aab95",
      "metadata": {
        "id": "d80aab95"
      },
      "source": [
        "## Analyzing Dataset"
      ]
    },
    {
      "cell_type": "markdown",
      "id": "c116b2c4",
      "metadata": {
        "id": "c116b2c4"
      },
      "source": [
        "We've done the general cleaning of the data so far. From now on, we will create a different datafame with the necessary columns for further analysis."
      ]
    },
    {
      "cell_type": "markdown",
      "id": "6e481eb5",
      "metadata": {
        "id": "6e481eb5"
      },
      "source": [
        "**INSTRUCTIONS**\n",
        "\n",
        "*   Display the ``DataFrame``'s ``columns``.\n",
        "*   Create a new dataframe by copying the ``'job_title', 'rating', 'company_name', 'industry', 'sector', 'salary_maximum', 'salary_minimum', 'salary_average', 'python', 'SQL', 'excell', 'tableau'`` columns from existing dataframe and named it ``df_analyst``.\n",
        "*   Examine the first 5 rows of the DataFrame (known as the ``'head'``).\n",
        "*   Display all columns and their data types (known as the ``'info'``).\n",
        "*   Check for ``missing values``.\n",
        "*   Get some basic descriptive statistics for all numeric columns (known as the ``'describe'``). Comment on the descriptive statistics of numeric features.\n",
        "*   Get some basic descriptive statistics for all categoric columns (known as the ``'describe'``)."
      ]
    },
    {
      "cell_type": "markdown",
      "id": "ee8848a8",
      "metadata": {
        "id": "ee8848a8"
      },
      "source": [
        "**Creating a new dataframe from the existing dataframe with related features to analyze**"
      ]
    },
    {
      "cell_type": "code",
      "execution_count": null,
      "id": "ad656d3a",
      "metadata": {
        "id": "ad656d3a"
      },
      "outputs": [],
      "source": [
        "# CODE HERE"
      ]
    },
    {
      "cell_type": "code",
      "execution_count": 124,
      "id": "918a2daf",
      "metadata": {
        "colab": {
          "base_uri": "https://localhost:8080/"
        },
        "id": "918a2daf",
        "outputId": "3a2111fc-3c13-4ed4-8484-17917c0437a4"
      },
      "outputs": [
        {
          "data": {
            "text/plain": [
              "Index(['job_title', 'job_description', 'company_name', 'industry', 'sector',\n",
              "       'salary_estimate', 'salary_max', 'salary_min', 'salary_mean', 'SQL',\n",
              "       'python', 'excell', 'tableu'],\n",
              "      dtype='object')"
            ]
          },
          "execution_count": 124,
          "metadata": {},
          "output_type": "execute_result"
        }
      ],
      "source": [
        "dfc.columns"
      ]
    },
    {
      "cell_type": "code",
      "execution_count": 125,
      "id": "7761c937",
      "metadata": {
        "colab": {
          "base_uri": "https://localhost:8080/"
        },
        "id": "7761c937",
        "outputId": "478fb32a-df41-4269-92ae-dbc57f3b221d"
      },
      "outputs": [
        {
          "data": {
            "text/plain": [
              "Index(['job_title', 'job_description', 'company_name', 'industry', 'sector',\n",
              "       'salary_estimate', 'salary_max', 'salary_min', 'salary_mean', 'SQL',\n",
              "       'python', 'excell', 'tableu'],\n",
              "      dtype='object')"
            ]
          },
          "execution_count": 125,
          "metadata": {},
          "output_type": "execute_result"
        }
      ],
      "source": [
        "dfc.columns#salary average i salary mean olarka degistirdik"
      ]
    },
    {
      "cell_type": "code",
      "execution_count": 126,
      "id": "EHZdmQYVCPe9",
      "metadata": {
        "colab": {
          "base_uri": "https://localhost:8080/",
          "height": 797
        },
        "id": "EHZdmQYVCPe9",
        "outputId": "2ac5001e-3a41-464d-fbad-c635f4fff2b7"
      },
      "outputs": [
        {
          "data": {
            "text/html": [
              "<div>\n",
              "<style scoped>\n",
              "    .dataframe tbody tr th:only-of-type {\n",
              "        vertical-align: middle;\n",
              "    }\n",
              "\n",
              "    .dataframe tbody tr th {\n",
              "        vertical-align: top;\n",
              "    }\n",
              "\n",
              "    .dataframe thead th {\n",
              "        text-align: right;\n",
              "    }\n",
              "</style>\n",
              "<table border=\"1\" class=\"dataframe\">\n",
              "  <thead>\n",
              "    <tr style=\"text-align: right;\">\n",
              "      <th></th>\n",
              "      <th>job_title</th>\n",
              "      <th>company_name</th>\n",
              "      <th>industry</th>\n",
              "      <th>sector</th>\n",
              "      <th>salary_max</th>\n",
              "      <th>salary_min</th>\n",
              "      <th>salary_mean</th>\n",
              "      <th>python</th>\n",
              "      <th>SQL</th>\n",
              "      <th>excell</th>\n",
              "      <th>tableu</th>\n",
              "    </tr>\n",
              "  </thead>\n",
              "  <tbody>\n",
              "    <tr>\n",
              "      <th>0</th>\n",
              "      <td>Data Analyst, Center on Immigration and Justic...</td>\n",
              "      <td>Vera Institute of Justice</td>\n",
              "      <td>Social Assistance</td>\n",
              "      <td>Non-Profit</td>\n",
              "      <td>66000.0</td>\n",
              "      <td>37000.0</td>\n",
              "      <td>51500.0</td>\n",
              "      <td>False</td>\n",
              "      <td>True</td>\n",
              "      <td>False</td>\n",
              "      <td>False</td>\n",
              "    </tr>\n",
              "    <tr>\n",
              "      <th>1</th>\n",
              "      <td>Quality Data Analyst</td>\n",
              "      <td>Visiting Nurse Service of New York</td>\n",
              "      <td>Health Care Services &amp; Hospitals</td>\n",
              "      <td>Health Care</td>\n",
              "      <td>66000.0</td>\n",
              "      <td>37000.0</td>\n",
              "      <td>51500.0</td>\n",
              "      <td>False</td>\n",
              "      <td>True</td>\n",
              "      <td>False</td>\n",
              "      <td>False</td>\n",
              "    </tr>\n",
              "    <tr>\n",
              "      <th>2</th>\n",
              "      <td>Senior Data Analyst, Insights &amp; Analytics Team...</td>\n",
              "      <td>Squarespace</td>\n",
              "      <td>Internet</td>\n",
              "      <td>Information Technology</td>\n",
              "      <td>66000.0</td>\n",
              "      <td>37000.0</td>\n",
              "      <td>51500.0</td>\n",
              "      <td>False</td>\n",
              "      <td>True</td>\n",
              "      <td>False</td>\n",
              "      <td>False</td>\n",
              "    </tr>\n",
              "    <tr>\n",
              "      <th>3</th>\n",
              "      <td>Data Analyst</td>\n",
              "      <td>Celerity</td>\n",
              "      <td>IT Services</td>\n",
              "      <td>Information Technology</td>\n",
              "      <td>66000.0</td>\n",
              "      <td>37000.0</td>\n",
              "      <td>51500.0</td>\n",
              "      <td>False</td>\n",
              "      <td>True</td>\n",
              "      <td>False</td>\n",
              "      <td>False</td>\n",
              "    </tr>\n",
              "    <tr>\n",
              "      <th>4</th>\n",
              "      <td>Reporting Data Analyst</td>\n",
              "      <td>FanDuel</td>\n",
              "      <td>Sports &amp; Recreation</td>\n",
              "      <td>Arts, Entertainment &amp; Recreation</td>\n",
              "      <td>66000.0</td>\n",
              "      <td>37000.0</td>\n",
              "      <td>51500.0</td>\n",
              "      <td>False</td>\n",
              "      <td>True</td>\n",
              "      <td>False</td>\n",
              "      <td>False</td>\n",
              "    </tr>\n",
              "    <tr>\n",
              "      <th>...</th>\n",
              "      <td>...</td>\n",
              "      <td>...</td>\n",
              "      <td>...</td>\n",
              "      <td>...</td>\n",
              "      <td>...</td>\n",
              "      <td>...</td>\n",
              "      <td>...</td>\n",
              "      <td>...</td>\n",
              "      <td>...</td>\n",
              "      <td>...</td>\n",
              "      <td>...</td>\n",
              "    </tr>\n",
              "    <tr>\n",
              "      <th>2248</th>\n",
              "      <td>RQS - IHHA - 201900004460 -1q Data Security An...</td>\n",
              "      <td>Avacend, Inc.</td>\n",
              "      <td>Staffing &amp; Outsourcing</td>\n",
              "      <td>Business Services</td>\n",
              "      <td>104000.0</td>\n",
              "      <td>78000.0</td>\n",
              "      <td>91000.0</td>\n",
              "      <td>False</td>\n",
              "      <td>False</td>\n",
              "      <td>False</td>\n",
              "      <td>False</td>\n",
              "    </tr>\n",
              "    <tr>\n",
              "      <th>2249</th>\n",
              "      <td>Senior Data Analyst (Corporate Audit)</td>\n",
              "      <td>Arrow Electronics</td>\n",
              "      <td>Wholesale</td>\n",
              "      <td>Business Services</td>\n",
              "      <td>104000.0</td>\n",
              "      <td>78000.0</td>\n",
              "      <td>91000.0</td>\n",
              "      <td>False</td>\n",
              "      <td>True</td>\n",
              "      <td>False</td>\n",
              "      <td>False</td>\n",
              "    </tr>\n",
              "    <tr>\n",
              "      <th>2250</th>\n",
              "      <td>Technical Business Analyst (SQL, Data analytic...</td>\n",
              "      <td>Spiceorb</td>\n",
              "      <td>NaN</td>\n",
              "      <td>NaN</td>\n",
              "      <td>104000.0</td>\n",
              "      <td>78000.0</td>\n",
              "      <td>91000.0</td>\n",
              "      <td>False</td>\n",
              "      <td>True</td>\n",
              "      <td>True</td>\n",
              "      <td>False</td>\n",
              "    </tr>\n",
              "    <tr>\n",
              "      <th>2251</th>\n",
              "      <td>Data Analyst 3, Customer Experience</td>\n",
              "      <td>Contingent Network Services</td>\n",
              "      <td>Enterprise Software &amp; Network Solutions</td>\n",
              "      <td>Information Technology</td>\n",
              "      <td>104000.0</td>\n",
              "      <td>78000.0</td>\n",
              "      <td>91000.0</td>\n",
              "      <td>False</td>\n",
              "      <td>True</td>\n",
              "      <td>False</td>\n",
              "      <td>False</td>\n",
              "    </tr>\n",
              "    <tr>\n",
              "      <th>2252</th>\n",
              "      <td>Senior Quality Data Analyst</td>\n",
              "      <td>SCL Health</td>\n",
              "      <td>Health Care Services &amp; Hospitals</td>\n",
              "      <td>Health Care</td>\n",
              "      <td>104000.0</td>\n",
              "      <td>78000.0</td>\n",
              "      <td>91000.0</td>\n",
              "      <td>False</td>\n",
              "      <td>False</td>\n",
              "      <td>True</td>\n",
              "      <td>False</td>\n",
              "    </tr>\n",
              "  </tbody>\n",
              "</table>\n",
              "<p>2253 rows × 11 columns</p>\n",
              "</div>"
            ],
            "text/plain": [
              "                                              job_title  \\\n",
              "0     Data Analyst, Center on Immigration and Justic...   \n",
              "1                                  Quality Data Analyst   \n",
              "2     Senior Data Analyst, Insights & Analytics Team...   \n",
              "3                                          Data Analyst   \n",
              "4                                Reporting Data Analyst   \n",
              "...                                                 ...   \n",
              "2248  RQS - IHHA - 201900004460 -1q Data Security An...   \n",
              "2249              Senior Data Analyst (Corporate Audit)   \n",
              "2250  Technical Business Analyst (SQL, Data analytic...   \n",
              "2251                Data Analyst 3, Customer Experience   \n",
              "2252                        Senior Quality Data Analyst   \n",
              "\n",
              "                            company_name  \\\n",
              "0              Vera Institute of Justice   \n",
              "1     Visiting Nurse Service of New York   \n",
              "2                            Squarespace   \n",
              "3                               Celerity   \n",
              "4                                FanDuel   \n",
              "...                                  ...   \n",
              "2248                       Avacend, Inc.   \n",
              "2249                   Arrow Electronics   \n",
              "2250                            Spiceorb   \n",
              "2251         Contingent Network Services   \n",
              "2252                          SCL Health   \n",
              "\n",
              "                                     industry  \\\n",
              "0                           Social Assistance   \n",
              "1            Health Care Services & Hospitals   \n",
              "2                                    Internet   \n",
              "3                                 IT Services   \n",
              "4                         Sports & Recreation   \n",
              "...                                       ...   \n",
              "2248                   Staffing & Outsourcing   \n",
              "2249                                Wholesale   \n",
              "2250                                      NaN   \n",
              "2251  Enterprise Software & Network Solutions   \n",
              "2252         Health Care Services & Hospitals   \n",
              "\n",
              "                                sector  salary_max  salary_min  salary_mean  \\\n",
              "0                           Non-Profit     66000.0     37000.0      51500.0   \n",
              "1                          Health Care     66000.0     37000.0      51500.0   \n",
              "2               Information Technology     66000.0     37000.0      51500.0   \n",
              "3               Information Technology     66000.0     37000.0      51500.0   \n",
              "4     Arts, Entertainment & Recreation     66000.0     37000.0      51500.0   \n",
              "...                                ...         ...         ...          ...   \n",
              "2248                 Business Services    104000.0     78000.0      91000.0   \n",
              "2249                 Business Services    104000.0     78000.0      91000.0   \n",
              "2250                               NaN    104000.0     78000.0      91000.0   \n",
              "2251            Information Technology    104000.0     78000.0      91000.0   \n",
              "2252                       Health Care    104000.0     78000.0      91000.0   \n",
              "\n",
              "      python    SQL  excell  tableu  \n",
              "0      False   True   False   False  \n",
              "1      False   True   False   False  \n",
              "2      False   True   False   False  \n",
              "3      False   True   False   False  \n",
              "4      False   True   False   False  \n",
              "...      ...    ...     ...     ...  \n",
              "2248   False  False   False   False  \n",
              "2249   False   True   False   False  \n",
              "2250   False   True    True   False  \n",
              "2251   False   True   False   False  \n",
              "2252   False  False    True   False  \n",
              "\n",
              "[2253 rows x 11 columns]"
            ]
          },
          "execution_count": 126,
          "metadata": {},
          "output_type": "execute_result"
        }
      ],
      "source": [
        "dfnew=dfc[['job_title', 'company_name', 'industry', 'sector', 'salary_max', 'salary_min', 'salary_mean', 'python', 'SQL', 'excell', 'tableu' ]]\n",
        "dfnew"
      ]
    },
    {
      "cell_type": "code",
      "execution_count": 127,
      "id": "XAMMBPGLDOig",
      "metadata": {
        "colab": {
          "base_uri": "https://localhost:8080/",
          "height": 142
        },
        "id": "XAMMBPGLDOig",
        "outputId": "ae06ce06-1d5d-445f-a209-7c70093c5962"
      },
      "outputs": [
        {
          "data": {
            "text/html": [
              "<div>\n",
              "<style scoped>\n",
              "    .dataframe tbody tr th:only-of-type {\n",
              "        vertical-align: middle;\n",
              "    }\n",
              "\n",
              "    .dataframe tbody tr th {\n",
              "        vertical-align: top;\n",
              "    }\n",
              "\n",
              "    .dataframe thead th {\n",
              "        text-align: right;\n",
              "    }\n",
              "</style>\n",
              "<table border=\"1\" class=\"dataframe\">\n",
              "  <thead>\n",
              "    <tr style=\"text-align: right;\">\n",
              "      <th></th>\n",
              "      <th>job_title</th>\n",
              "      <th>company_name</th>\n",
              "      <th>industry</th>\n",
              "      <th>sector</th>\n",
              "      <th>salary_max</th>\n",
              "      <th>salary_min</th>\n",
              "      <th>salary_mean</th>\n",
              "      <th>python</th>\n",
              "      <th>SQL</th>\n",
              "      <th>excell</th>\n",
              "      <th>tableu</th>\n",
              "      <th>rating</th>\n",
              "    </tr>\n",
              "  </thead>\n",
              "  <tbody>\n",
              "    <tr>\n",
              "      <th>1576</th>\n",
              "      <td>Senior Data Analyst</td>\n",
              "      <td>Armada Group, Inc.</td>\n",
              "      <td>IT Services</td>\n",
              "      <td>Information Technology</td>\n",
              "      <td>93000.0</td>\n",
              "      <td>51000.0</td>\n",
              "      <td>72000.0</td>\n",
              "      <td>False</td>\n",
              "      <td>True</td>\n",
              "      <td>False</td>\n",
              "      <td>False</td>\n",
              "      <td>4.4</td>\n",
              "    </tr>\n",
              "  </tbody>\n",
              "</table>\n",
              "</div>"
            ],
            "text/plain": [
              "                job_title        company_name     industry  \\\n",
              "1576  Senior Data Analyst  Armada Group, Inc.  IT Services   \n",
              "\n",
              "                      sector  salary_max  salary_min  salary_mean  python  \\\n",
              "1576  Information Technology     93000.0     51000.0      72000.0   False   \n",
              "\n",
              "       SQL  excell  tableu  rating  \n",
              "1576  True   False   False     4.4  "
            ]
          },
          "execution_count": 127,
          "metadata": {},
          "output_type": "execute_result"
        }
      ],
      "source": [
        "dfnew[\"rating\"]=dfn[['rating' ]]\n",
        "dfnew.sample()"
      ]
    },
    {
      "cell_type": "code",
      "execution_count": null,
      "id": "YPfM7EWXDVY7",
      "metadata": {
        "id": "YPfM7EWXDVY7"
      },
      "outputs": [],
      "source": []
    },
    {
      "cell_type": "markdown",
      "id": "428474e6",
      "metadata": {
        "id": "428474e6"
      },
      "source": [
        "**Frequencies Visualizations of the categorical columns**"
      ]
    },
    {
      "cell_type": "markdown",
      "id": "1f9ad6ab",
      "metadata": {
        "id": "1f9ad6ab"
      },
      "source": [
        "**INSTRUCTIONS**\n",
        "\n",
        "*   Display first ``20`` row of the ``value counts`` of ``'job_title'`` column and ``visualize`` it with ``sns.countplot``.\n",
        "*   Display first ``20`` row of the ``value counts`` of ``'company_name'`` column and ``visualize`` it with ``sns.countplot``.\n",
        "*   Display first ``20`` row of the ``value counts`` of ``'industry'`` column and ``visualize`` it with ``sns.countplot``.\n",
        "*   Display first ``20`` row of the ``value counts`` of ``'sector'`` column and ``visualize`` it with ``sns.countplot``.\n",
        "*   Display the ``value counts`` of ``'python', 'SQL', 'excell', 'tableau'`` column and ``plot`` it with ``matplotlib pie`` as ``subplot (2*2)``."
      ]
    },
    {
      "cell_type": "code",
      "execution_count": 128,
      "id": "riYDd5xz-0Rk",
      "metadata": {
        "colab": {
          "base_uri": "https://localhost:8080/",
          "height": 678
        },
        "id": "riYDd5xz-0Rk",
        "outputId": "699a3c04-f447-4f21-a988-76decde3e178"
      },
      "outputs": [
        {
          "data": {
            "image/png": "[encoded data removed]",
            "text/plain": [
              "<Figure size 1080x576 with 1 Axes>"
            ]
          },
          "metadata": {},
          "output_type": "display_data"
        }
      ],
      "source": [
        "plt.figure(figsize=(15, 8))\n",
        "ax = sns.countplot(x= 'job_title', data= dfc, order=pd.value_counts(dfc['job_title']).iloc[:20].index)\n",
        "plt.xticks(rotation=90)\n",
        "plt.suptitle('Job Titles')\n",
        "for p in ax.patches:\n",
        "   ax.annotate(np.round(p.get_height(),decimals=2),\n",
        "   (p.get_x()+p.get_width()/2., p.get_height()), ha='center');"
      ]
    },
    {
      "cell_type": "code",
      "execution_count": 129,
      "id": "RyhK96i1_5B2",
      "metadata": {
        "colab": {
          "base_uri": "https://localhost:8080/",
          "height": 708
        },
        "id": "RyhK96i1_5B2",
        "outputId": "3d4d95e2-2232-4e55-a753-fb5d8ec13ca4"
      },
      "outputs": [
        {
          "data": {
            "image/png": "[encoded data removed]",
            "text/plain": [
              "<Figure size 1080x576 with 1 Axes>"
            ]
          },
          "metadata": {},
          "output_type": "display_data"
        }
      ],
      "source": [
        "plt.figure(figsize=(15, 8))\n",
        "ax = sns.countplot(x= 'company_name', data= df1, order=pd.value_counts(df1['company_name']).iloc[:20].index)\n",
        "plt.xticks(rotation=90)\n",
        "plt.suptitle('company_name')\n",
        "for p in ax.patches:\n",
        "   ax.annotate(np.round(p.get_height(),decimals=2),\n",
        "   (p.get_x()+p.get_width()/2., p.get_height()), ha='center');"
      ]
    },
    {
      "cell_type": "code",
      "execution_count": 130,
      "id": "OrW0zUHF4XCO",
      "metadata": {
        "colab": {
          "base_uri": "https://localhost:8080/",
          "height": 755
        },
        "id": "OrW0zUHF4XCO",
        "outputId": "4db9a378-cde4-4844-b954-d909ce14b607"
      },
      "outputs": [
        {
          "data": {
            "image/png": "[encoded data removed]",
            "text/plain": [
              "<Figure size 1080x576 with 1 Axes>"
            ]
          },
          "metadata": {},
          "output_type": "display_data"
        }
      ],
      "source": [
        "plt.figure(figsize=(15, 8))\n",
        "ax = sns.countplot(x= 'industry', data= df1, order=pd.value_counts(df1['industry']).iloc[:20].index)\n",
        "plt.xticks(rotation=90)\n",
        "plt.suptitle('Industry')\n",
        "for p in ax.patches:\n",
        "   ax.annotate(np.round(p.get_height(),decimals=2),\n",
        "   (p.get_x()+p.get_width()/2., p.get_height()), ha='center');"
      ]
    },
    {
      "cell_type": "code",
      "execution_count": 131,
      "id": "d9AB60W34rV4",
      "metadata": {
        "colab": {
          "base_uri": "https://localhost:8080/",
          "height": 725
        },
        "id": "d9AB60W34rV4",
        "outputId": "98b136b1-6863-4024-e856-01cc95673f5d"
      },
      "outputs": [
        {
          "data": {
            "image/png": "[encoded data removed]",
            "text/plain": [
              "<Figure size 1080x576 with 1 Axes>"
            ]
          },
          "metadata": {},
          "output_type": "display_data"
        }
      ],
      "source": [
        "plt.figure(figsize=(15, 8))\n",
        "ax = sns.countplot(x= 'sector', data= df1, order=pd.value_counts(df1['sector']).iloc[:20].index)\n",
        "plt.xticks(rotation=90)\n",
        "plt.suptitle('Sector')\n",
        "for p in ax.patches:\n",
        "   ax.annotate(np.round(p.get_height(),decimals=2),\n",
        "   (p.get_x()+p.get_width()/2., p.get_height()), ha='center');"
      ]
    },
    {
      "cell_type": "markdown",
      "id": "9e6d01f2",
      "metadata": {
        "id": "9e6d01f2"
      },
      "source": [
        "**Frequency Visualization of the boolean type columns**"
      ]
    },
    {
      "cell_type": "code",
      "execution_count": 132,
      "id": "7C6b-gWvEqZK",
      "metadata": {
        "colab": {
          "base_uri": "https://localhost:8080/"
        },
        "id": "7C6b-gWvEqZK",
        "outputId": "bd0110c1-3d34-4d78-9765-1c109c947f40"
      },
      "outputs": [
        {
          "name": "stdout",
          "output_type": "stream",
          "text": [
            "Value Counts of the Job Requirements - python\n",
            "False    2229\n",
            "True       24\n",
            "Name: python, dtype: int64\n",
            "Value Counts of the Job Requirements - SQL\n",
            "True     1379\n",
            "False     874\n",
            "Name: SQL, dtype: int64\n",
            "Value Counts of the Job Requirements - excell\n",
            "False    2229\n",
            "True       24\n",
            "Name: python, dtype: int64\n",
            "Value Counts of the Job Requirements -tableu\n",
            "True     1379\n",
            "False     874\n",
            "Name: SQL, dtype: int64\n"
          ]
        }
      ],
      "source": [
        "print(\"Value Counts of the Job Requirements - python\")\n",
        "print(dfnew.python.value_counts())\n",
        "print(\"Value Counts of the Job Requirements - SQL\")\n",
        "print(dfnew.SQL.value_counts())\n",
        "print(\"Value Counts of the Job Requirements - excell\")\n",
        "print(dfnew.python.value_counts())\n",
        "print(\"Value Counts of the Job Requirements -tableu\")\n",
        "print(dfnew.SQL.value_counts())"
      ]
    },
    {
      "cell_type": "code",
      "execution_count": null,
      "id": "3b87bc65",
      "metadata": {
        "id": "3b87bc65"
      },
      "outputs": [],
      "source": [
        "# CODE HERE"
      ]
    },
    {
      "cell_type": "code",
      "execution_count": null,
      "id": "B2VyQQqc5ppQ",
      "metadata": {
        "colab": {
          "base_uri": "https://localhost:8080/",
          "height": 705
        },
        "id": "B2VyQQqc5ppQ",
        "outputId": "fd5b657a-089c-410d-a517-cf81db39a954"
      },
      "outputs": [],
      "source": [
        "fig, ax = plt.subplots(2, 2, figsize=(15, 8))\n",
        "\n",
        "ax[0, 0].dfnew.plot.pie(y='python', figsize=(5, 5))\n",
        "ax[0, 0].set_title('Python')\n",
        "\n",
        "ax[0, 1].dfnew.plot.pie(y='SQL', figsize=(5, 5))\n",
        "ax[0, 1].set_title('SQL')\n",
        "\n",
        "ax[1, 0].dfnew.plot.pie(y='excell', figsize=(5, 5))\n",
        "ax[1, 0].set_title('excell')\n",
        "\n",
        "ax[1, 1].dnew.plot.pie(y='tableu', figsize=(5, 5))\n",
        "ax[1, 1].set_title('tableu')\n",
        "\n",
        "fig.suptitle(\"Job Requirements\", fontsize=26)\n",
        "plt.tight_layout()\n",
        "\n",
        "plt.show()"
      ]
    },
    {
      "cell_type": "code",
      "execution_count": 138,
      "id": "9bd1caa0",
      "metadata": {},
      "outputs": [
        {
          "data": {
            "text/html": [
              "<div>\n",
              "<style scoped>\n",
              "    .dataframe tbody tr th:only-of-type {\n",
              "        vertical-align: middle;\n",
              "    }\n",
              "\n",
              "    .dataframe tbody tr th {\n",
              "        vertical-align: top;\n",
              "    }\n",
              "\n",
              "    .dataframe thead th {\n",
              "        text-align: right;\n",
              "    }\n",
              "</style>\n",
              "<table border=\"1\" class=\"dataframe\">\n",
              "  <thead>\n",
              "    <tr style=\"text-align: right;\">\n",
              "      <th></th>\n",
              "      <th>python</th>\n",
              "      <th>SQL</th>\n",
              "      <th>excell</th>\n",
              "      <th>tableu</th>\n",
              "    </tr>\n",
              "  </thead>\n",
              "  <tbody>\n",
              "    <tr>\n",
              "      <th>0</th>\n",
              "      <td>False</td>\n",
              "      <td>True</td>\n",
              "      <td>False</td>\n",
              "      <td>False</td>\n",
              "    </tr>\n",
              "    <tr>\n",
              "      <th>1</th>\n",
              "      <td>False</td>\n",
              "      <td>True</td>\n",
              "      <td>False</td>\n",
              "      <td>False</td>\n",
              "    </tr>\n",
              "    <tr>\n",
              "      <th>2</th>\n",
              "      <td>False</td>\n",
              "      <td>True</td>\n",
              "      <td>False</td>\n",
              "      <td>False</td>\n",
              "    </tr>\n",
              "    <tr>\n",
              "      <th>3</th>\n",
              "      <td>False</td>\n",
              "      <td>True</td>\n",
              "      <td>False</td>\n",
              "      <td>False</td>\n",
              "    </tr>\n",
              "    <tr>\n",
              "      <th>4</th>\n",
              "      <td>False</td>\n",
              "      <td>True</td>\n",
              "      <td>False</td>\n",
              "      <td>False</td>\n",
              "    </tr>\n",
              "    <tr>\n",
              "      <th>...</th>\n",
              "      <td>...</td>\n",
              "      <td>...</td>\n",
              "      <td>...</td>\n",
              "      <td>...</td>\n",
              "    </tr>\n",
              "    <tr>\n",
              "      <th>2248</th>\n",
              "      <td>False</td>\n",
              "      <td>False</td>\n",
              "      <td>False</td>\n",
              "      <td>False</td>\n",
              "    </tr>\n",
              "    <tr>\n",
              "      <th>2249</th>\n",
              "      <td>False</td>\n",
              "      <td>True</td>\n",
              "      <td>False</td>\n",
              "      <td>False</td>\n",
              "    </tr>\n",
              "    <tr>\n",
              "      <th>2250</th>\n",
              "      <td>False</td>\n",
              "      <td>True</td>\n",
              "      <td>True</td>\n",
              "      <td>False</td>\n",
              "    </tr>\n",
              "    <tr>\n",
              "      <th>2251</th>\n",
              "      <td>False</td>\n",
              "      <td>True</td>\n",
              "      <td>False</td>\n",
              "      <td>False</td>\n",
              "    </tr>\n",
              "    <tr>\n",
              "      <th>2252</th>\n",
              "      <td>False</td>\n",
              "      <td>False</td>\n",
              "      <td>True</td>\n",
              "      <td>False</td>\n",
              "    </tr>\n",
              "  </tbody>\n",
              "</table>\n",
              "<p>2253 rows × 4 columns</p>\n",
              "</div>"
            ],
            "text/plain": [
              "      python    SQL  excell  tableu\n",
              "0      False   True   False   False\n",
              "1      False   True   False   False\n",
              "2      False   True   False   False\n",
              "3      False   True   False   False\n",
              "4      False   True   False   False\n",
              "...      ...    ...     ...     ...\n",
              "2248   False  False   False   False\n",
              "2249   False   True   False   False\n",
              "2250   False   True    True   False\n",
              "2251   False   True   False   False\n",
              "2252   False  False    True   False\n",
              "\n",
              "[2253 rows x 4 columns]"
            ]
          },
          "execution_count": 138,
          "metadata": {},
          "output_type": "execute_result"
        }
      ],
      "source": [
        "dfpie= dfnew[['python','SQL', 'excell', 'tableu']]\n",
        "dfpie"
      ]
    },
    {
      "cell_type": "code",
      "execution_count": 141,
      "id": "12df097c",
      "metadata": {},
      "outputs": [
        {
          "data": {
            "image/png": "[encoded data removed]",
            "text/plain": [
              "<Figure size 1080x576 with 4 Axes>"
            ]
          },
          "metadata": {},
          "output_type": "display_data"
        }
      ],
      "source": [
        "fig, ax = plt.subplots(2, 2, figsize=(15, 8))\n",
        "\n",
        "ax[0, 0].pie(dfpie['python'])\n",
        "ax[0, 0].set_title('Python')\n",
        "\n",
        "ax[0, 1].pie(dfpie['SQL'])\n",
        "ax[0, 1].set_title('SQL')\n",
        "\n",
        "ax[1, 0].pie(dfpie['excell'])\n",
        "ax[1, 0].set_title('excell')\n",
        "\n",
        "ax[1, 1].pie(dfpie['tableu'])\n",
        "ax[1, 1].set_title('tableu')\n",
        "\n",
        "fig.suptitle(\"Job Requirements\", fontsize=26)\n",
        "plt.tight_layout()\n",
        "\n",
        "plt.show()"
      ]
    },
    {
      "cell_type": "code",
      "execution_count": 147,
      "id": "77C2HtoLu3c2",
      "metadata": {
        "colab": {
          "base_uri": "https://localhost:8080/",
          "height": 381
        },
        "id": "77C2HtoLu3c2",
        "outputId": "7b34240a-4da3-4f62-ee7e-53901d778ef5"
      },
      "outputs": [
        {
          "name": "stdout",
          "output_type": "stream",
          "text": [
            "False    2229\n",
            "True       24\n",
            "Name: python, dtype: int64\n",
            "True     1379\n",
            "False     874\n",
            "Name: SQL, dtype: int64\n",
            "False    1944\n",
            "True      309\n",
            "Name: excell, dtype: int64\n",
            "False    2244\n",
            "True        9\n",
            "Name: tableu, dtype: int64\n"
          ]
        }
      ],
      "source": [
        "a = dfnew.python.value_counts()\n",
        "print(a)\n",
        "b = dfnew.SQL.value_counts()\n",
        "print(b)\n",
        "c = dfnew.excell.value_counts()\n",
        "print(c)\n",
        "d = dfnew.tableu.value_counts()\n",
        "print(d)"
      ]
    },
    {
      "cell_type": "code",
      "execution_count": null,
      "id": "7c18f129",
      "metadata": {},
      "outputs": [],
      "source": [
        "fig, ax = plt.subplots(figsize=(5, 5))\n",
        "\n",
        "explode=(0, 0.1)\n",
        "\n",
        "ax.pie(x=df.is_weekend.value_counts().values, \n",
        "       labels=['weekday', 'weekend'], \n",
        "       autopct='%.1f%%'\n",
        "       explode=explode\n",
        "       )\n",
        "\n"
      ]
    },
    {
      "cell_type": "code",
      "execution_count": 170,
      "id": "umDdJqKMu3lj",
      "metadata": {
        "colab": {
          "base_uri": "https://localhost:8080/",
          "height": 503
        },
        "id": "umDdJqKMu3lj",
        "outputId": "f988ace3-578c-4f47-9a06-6275f96f488b"
      },
      "outputs": [
        {
          "name": "stderr",
          "output_type": "stream",
          "text": [
            "No artists with labels found to put in legend.  Note that artists whose label start with an underscore are ignored when legend() is called with no argument.\n"
          ]
        },
        {
          "data": {
            "image/png": "[encoded data removed]",
            "text/plain": [
              "<Figure size 1080x576 with 4 Axes>"
            ]
          },
          "metadata": {},
          "output_type": "display_data"
        }
      ],
      "source": [
        "\n",
        "fig, ax = plt.subplots(2, 2, figsize=(15, 8))\n",
        "\n",
        "a = dfnew.python.value_counts()\n",
        "b = dfnew.SQL.value_counts()\n",
        "c = dfnew.excell.value_counts()\n",
        "d = dfnew.tableu.value_counts()\n",
        "ax[0, 0].pie(a)\n",
        "ax[0, 0].set_title('Python')\n",
        "\n",
        "ax[0, 1].pie(b)\n",
        "ax[0, 1].set_title('SQL')\n",
        "\n",
        "ax[1, 0].pie(c)\n",
        "ax[1, 0].set_title('Excell')\n",
        "\n",
        "ax[1, 1].pie(d)\n",
        "ax[1, 1].set_title('tableu')\n",
        "plt.legend(loc= 'best')\n",
        "fig.suptitle(\"Job Requirements\", fontsize=26)\n",
        "plt.tight_layout()\n",
        "\n",
        "\n",
        "plt.show()"
      ]
    },
    {
      "cell_type": "code",
      "execution_count": 154,
      "id": "66bc6495",
      "metadata": {},
      "outputs": [
        {
          "data": {
            "text/plain": [
              "count    1981.000000\n",
              "mean        3.731903\n",
              "std         0.670332\n",
              "min         1.000000\n",
              "25%         3.300000\n",
              "50%         3.700000\n",
              "75%         4.100000\n",
              "max         5.000000\n",
              "Name: rating, dtype: float64"
            ]
          },
          "execution_count": 154,
          "metadata": {},
          "output_type": "execute_result"
        }
      ],
      "source": [
        "dfnew.rating.describe()"
      ]
    },
    {
      "cell_type": "code",
      "execution_count": 172,
      "id": "PjQ0GjoBu3Y8",
      "metadata": {
        "id": "PjQ0GjoBu3Y8"
      },
      "outputs": [
        {
          "data": {
            "image/png": "[encoded data removed]",
            "text/plain": [
              "<Figure size 432x288 with 2 Axes>"
            ]
          },
          "metadata": {},
          "output_type": "display_data"
        }
      ],
      "source": [
        "plt.subplot(2,1,1) # 2 satır 1 sütun 1. indeks. 2 satırlı 1 sütunlu bir plotun 1.si \n",
        "sns.distplot(dfnew['rating'], bins= 50)\n",
        "\n",
        "\n",
        "plt.subplot(2,1,2) # 2 satır 1 sütun 2. indeks. 2 satırlı 1 sütunlu bir plotun 2.si \n",
        "sns.boxplot(dfnew['rating'])\n",
        "\n",
        "\n",
        "plt.tight_layout()\n",
        "plt.show()"
      ]
    },
    {
      "cell_type": "code",
      "execution_count": null,
      "id": "b716da4b",
      "metadata": {},
      "outputs": [],
      "source": [
        "x = np.arange(1,10)\n",
        "fig, ax = plt.subplots(nrows=1,ncols=2, figsize=(10,4))\n",
        "ax[0].plot(x,x**2, x,x**3, x,x**4)\n",
        "ax[1].plot(x,x**2, x,x**3, x,x**4)\n",
        "ax[1].set_xlim([2,4])\n",
        "ax[1].set_ylim([5,100])\n",
        "ax[0].axvline(x=3,ls=\"--\")\n",
        "ax[0].axhline(y=50,ls=\"--\")\n",
        "ax[1].axvline(x=3,ls=\"--\")\n",
        "ax[1].axhline(y=50,ls=\"--\")\n"
      ]
    },
    {
      "cell_type": "code",
      "execution_count": 168,
      "id": "4e1217f0",
      "metadata": {},
      "outputs": [
        {
          "data": {
            "image/png": "[encoded data removed]",
            "text/plain": [
              "<Figure size 1080x576 with 2 Axes>"
            ]
          },
          "metadata": {},
          "output_type": "display_data"
        }
      ],
      "source": [
        "from scipy.stats import norm\n",
        "fig, ax = plt.subplots(2, 1, figsize=(15, 8))\n",
        "ax[0] = sns.distplot(dfnew['rating'])\n"
      ]
    },
    {
      "cell_type": "code",
      "execution_count": null,
      "id": "ff64a107",
      "metadata": {
        "id": "ff64a107"
      },
      "outputs": [],
      "source": [
        "# CODE HERE"
      ]
    },
    {
      "cell_type": "markdown",
      "id": "73cfc99c",
      "metadata": {
        "id": "73cfc99c"
      },
      "source": [
        "**Visualization of the numeric columns**"
      ]
    },
    {
      "cell_type": "markdown",
      "id": "8cc55364",
      "metadata": {
        "id": "8cc55364"
      },
      "source": [
        "**INSTRUCTIONS**\n",
        "\n",
        "Work on the new dataframe ``df_analyst``.\n",
        "\n",
        "*   Display the ``descriptive statistics`` of the ``numeric columns``.\n",
        "*   Display ``minimum, maximum, mean, median and mode`` value of the numeric columns.\n",
        "*   Plot the ``distributions`` of the numeric columns with ``histogram``.\n",
        "*   Visualize the ``boxplots`` of numeric columns.\n",
        "*   Display the ``density`` of the numeric columns."
      ]
    },
    {
      "cell_type": "markdown",
      "id": "5dc21db1",
      "metadata": {
        "id": "5dc21db1"
      },
      "source": [
        "**Ratings of Data Analyst Jobs**"
      ]
    },
    {
      "cell_type": "code",
      "execution_count": null,
      "id": "Z99lwxMx3AGH",
      "metadata": {
        "id": "Z99lwxMx3AGH"
      },
      "outputs": [],
      "source": []
    },
    {
      "cell_type": "code",
      "execution_count": null,
      "id": "vZgS0UIn2Ubz",
      "metadata": {
        "id": "vZgS0UIn2Ubz"
      },
      "outputs": [],
      "source": [
        "df_analist=dfnew.describe()\n",
        "df_analist"
      ]
    },
    {
      "cell_type": "code",
      "execution_count": null,
      "id": "nsjaIibH44I3",
      "metadata": {
        "id": "nsjaIibH44I3"
      },
      "outputs": [],
      "source": [
        "dfnew[\"rating\"].describe()"
      ]
    },
    {
      "cell_type": "code",
      "execution_count": null,
      "id": "c3a90f07",
      "metadata": {
        "id": "c3a90f07"
      },
      "outputs": [],
      "source": [
        "# CODE HERE"
      ]
    },
    {
      "cell_type": "code",
      "execution_count": null,
      "id": "3P9MPC8y73bU",
      "metadata": {
        "id": "3P9MPC8y73bU"
      },
      "outputs": [],
      "source": [
        "\n",
        "sns.boxplot(data=dfnew.rating, orient ='h',saturation=78, width=0.5)"
      ]
    },
    {
      "cell_type": "code",
      "execution_count": null,
      "id": "72532c86",
      "metadata": {
        "id": "72532c86"
      },
      "outputs": [],
      "source": [
        "# CODE HERE"
      ]
    },
    {
      "cell_type": "markdown",
      "id": "d65ad281",
      "metadata": {
        "id": "d65ad281"
      },
      "source": [
        "**Minimum Salary of Data Analyst Jobs**"
      ]
    },
    {
      "cell_type": "code",
      "execution_count": null,
      "id": "feb5ee93",
      "metadata": {
        "id": "feb5ee93"
      },
      "outputs": [],
      "source": [
        "# CODE HERE"
      ]
    },
    {
      "cell_type": "code",
      "execution_count": null,
      "id": "174ab289",
      "metadata": {
        "id": "174ab289"
      },
      "outputs": [],
      "source": [
        "# CODE HERE"
      ]
    },
    {
      "cell_type": "markdown",
      "id": "07b174d6",
      "metadata": {
        "id": "07b174d6"
      },
      "source": [
        "**Average Salary of Data Analyst Jobs**"
      ]
    },
    {
      "cell_type": "code",
      "execution_count": null,
      "id": "e101b15c",
      "metadata": {
        "id": "e101b15c"
      },
      "outputs": [],
      "source": [
        "# CODE HERE"
      ]
    },
    {
      "cell_type": "code",
      "execution_count": null,
      "id": "331719d9",
      "metadata": {
        "id": "331719d9"
      },
      "outputs": [],
      "source": [
        "# CODE HERE"
      ]
    },
    {
      "cell_type": "markdown",
      "id": "ed66b97c",
      "metadata": {
        "id": "ed66b97c"
      },
      "source": [
        "**Maximum Salary of Data Analyst Jobs**"
      ]
    },
    {
      "cell_type": "code",
      "execution_count": null,
      "id": "0fcbfeea",
      "metadata": {
        "id": "0fcbfeea"
      },
      "outputs": [],
      "source": [
        "# CODE HERE"
      ]
    },
    {
      "cell_type": "code",
      "execution_count": null,
      "id": "3de588fb",
      "metadata": {
        "id": "3de588fb"
      },
      "outputs": [],
      "source": [
        "# CODE HERE"
      ]
    },
    {
      "cell_type": "markdown",
      "id": "9bf4d570",
      "metadata": {
        "id": "9bf4d570"
      },
      "source": [
        "___\n",
        "\n",
        "\n",
        "___"
      ]
    },
    {
      "cell_type": "markdown",
      "id": "ea53ae86",
      "metadata": {
        "id": "ea53ae86"
      },
      "source": [
        "OK, we have overall info about the salary of the all data analyst job advertisements.\n",
        "Next we will specifically see 'Data Analyst' job advertisement and it's salary scale"
      ]
    },
    {
      "cell_type": "markdown",
      "id": "2d1724c5",
      "metadata": {
        "id": "2d1724c5"
      },
      "source": [
        "**Data Analyst**"
      ]
    },
    {
      "cell_type": "markdown",
      "id": "33b6aa2c",
      "metadata": {
        "id": "33b6aa2c"
      },
      "source": [
        "**INSTRUCTIONS**\n",
        "\n",
        "Work on the new dataframe ``df_analyst``.\n",
        "\n",
        "*   ``Filter`` the ``job title`` for ``'Data Analyst'`` and get the ``descriptive statistics``.\n",
        "*   Display ``minimum, maximum, mean, median and mode`` value.\n",
        "*   Plot the ``distributions`` with ``histogram``.\n",
        "*   Visualize the ``boxplots``.\n",
        "*   Display the ``density``."
      ]
    },
    {
      "cell_type": "code",
      "execution_count": null,
      "id": "58917bc0",
      "metadata": {
        "id": "58917bc0"
      },
      "outputs": [],
      "source": [
        "# CODE HERE"
      ]
    },
    {
      "cell_type": "markdown",
      "id": "2afb2c38",
      "metadata": {
        "id": "2afb2c38"
      },
      "source": [
        "**Minimum Salary of a Data Analyst**"
      ]
    },
    {
      "cell_type": "code",
      "execution_count": null,
      "id": "985dca35",
      "metadata": {
        "id": "985dca35"
      },
      "outputs": [],
      "source": [
        "# CODE HERE"
      ]
    },
    {
      "cell_type": "code",
      "execution_count": null,
      "id": "363f1b12",
      "metadata": {
        "id": "363f1b12"
      },
      "outputs": [],
      "source": [
        "# CODE HERE"
      ]
    },
    {
      "cell_type": "markdown",
      "id": "3d85725e",
      "metadata": {
        "id": "3d85725e"
      },
      "source": [
        "**Average Salary of a Data Analyst**"
      ]
    },
    {
      "cell_type": "code",
      "execution_count": null,
      "id": "df9113ea",
      "metadata": {
        "id": "df9113ea"
      },
      "outputs": [],
      "source": [
        "# CODE HERE"
      ]
    },
    {
      "cell_type": "code",
      "execution_count": null,
      "id": "14ad9cee",
      "metadata": {
        "id": "14ad9cee"
      },
      "outputs": [],
      "source": [
        "# CODE HERE"
      ]
    },
    {
      "cell_type": "markdown",
      "id": "03d1ab37",
      "metadata": {
        "id": "03d1ab37"
      },
      "source": [
        "**Maximum Salary of a Data Analyst**"
      ]
    },
    {
      "cell_type": "code",
      "execution_count": null,
      "id": "7d7acb25",
      "metadata": {
        "id": "7d7acb25"
      },
      "outputs": [],
      "source": [
        "# CODE HERE"
      ]
    },
    {
      "cell_type": "code",
      "execution_count": null,
      "id": "85ad3b77",
      "metadata": {
        "id": "85ad3b77"
      },
      "outputs": [],
      "source": [
        "# CODE HERE"
      ]
    },
    {
      "cell_type": "markdown",
      "id": "2d48fb94",
      "metadata": {
        "id": "2d48fb94"
      },
      "source": [
        "___\n",
        "\n",
        "\n",
        "___"
      ]
    },
    {
      "cell_type": "markdown",
      "id": "818e89ee",
      "metadata": {
        "id": "818e89ee"
      },
      "source": [
        "**Job Openings by Job Title**"
      ]
    },
    {
      "cell_type": "markdown",
      "id": "facbeb41",
      "metadata": {
        "id": "facbeb41"
      },
      "source": [
        "**INSTRUCTIONS**\n",
        "\n",
        "*   Display ``top 20 value_counts`` of ``job_title`` column.\n",
        "*   ``Visualize`` it as shown below."
      ]
    },
    {
      "cell_type": "code",
      "execution_count": null,
      "id": "9c9acf5b",
      "metadata": {
        "id": "9c9acf5b"
      },
      "outputs": [],
      "source": [
        "# CODE HERE"
      ]
    },
    {
      "cell_type": "code",
      "execution_count": null,
      "id": "c0b357d3",
      "metadata": {
        "id": "c0b357d3"
      },
      "outputs": [],
      "source": [
        "# CODE HERE"
      ]
    },
    {
      "cell_type": "markdown",
      "id": "12f576fd",
      "metadata": {
        "id": "12f576fd"
      },
      "source": [
        "**Job Openings by Industry**"
      ]
    },
    {
      "cell_type": "markdown",
      "id": "a683b158",
      "metadata": {
        "id": "a683b158"
      },
      "source": [
        "**INSTRUCTIONS**\n",
        "\n",
        "*   Display ``top 20 value_counts`` of ``industry`` column.\n",
        "*   ``Visualize`` it as shown below."
      ]
    },
    {
      "cell_type": "code",
      "execution_count": null,
      "id": "3f400047",
      "metadata": {
        "id": "3f400047"
      },
      "outputs": [],
      "source": [
        "# CODE HERE"
      ]
    },
    {
      "cell_type": "code",
      "execution_count": null,
      "id": "b5e25a41",
      "metadata": {
        "id": "b5e25a41"
      },
      "outputs": [],
      "source": [
        "# CODE HERE"
      ]
    },
    {
      "cell_type": "markdown",
      "id": "bef19c71",
      "metadata": {
        "id": "bef19c71"
      },
      "source": [
        "**Job Openings by Sector**"
      ]
    },
    {
      "cell_type": "markdown",
      "id": "690c45f4",
      "metadata": {
        "id": "690c45f4"
      },
      "source": [
        "**INSTRUCTIONS**\n",
        "\n",
        "*   Display ``top 20 value_counts`` of ``sector`` column.\n",
        "*   ``Visualize`` it as shown below."
      ]
    },
    {
      "cell_type": "code",
      "execution_count": null,
      "id": "a642b114",
      "metadata": {
        "id": "a642b114"
      },
      "outputs": [],
      "source": [
        "# CODE HERE"
      ]
    },
    {
      "cell_type": "code",
      "execution_count": null,
      "id": "fa31dbf7",
      "metadata": {
        "id": "fa31dbf7"
      },
      "outputs": [],
      "source": [
        "# CODE HERE"
      ]
    },
    {
      "cell_type": "markdown",
      "id": "5b94623d",
      "metadata": {
        "id": "5b94623d"
      },
      "source": [
        "___\n",
        "\n",
        "\n",
        "___"
      ]
    },
    {
      "cell_type": "markdown",
      "id": "2208f0d2",
      "metadata": {
        "id": "2208f0d2"
      },
      "source": [
        "**Required Programming Languages & Program Skills by Job Title**"
      ]
    },
    {
      "cell_type": "markdown",
      "id": "c9d07e62",
      "metadata": {
        "id": "c9d07e62"
      },
      "source": [
        "**INSTRUCTIONS**\n",
        "\n",
        "*   Display ``sum`` of ``python, excell, SQL, tableau`` column values grouped by ``job_title`` assign it to a dataframe named ``lang_skills``.\n",
        "*   Visualize ``lang_skills`` with bar plot.\n",
        "*   Visualize ``lang_skills`` with bar plot (stacked=True)."
      ]
    },
    {
      "cell_type": "code",
      "execution_count": null,
      "id": "2010a765",
      "metadata": {
        "id": "2010a765"
      },
      "outputs": [],
      "source": [
        "# CODE HERE"
      ]
    },
    {
      "cell_type": "code",
      "execution_count": null,
      "id": "6bcc312e",
      "metadata": {
        "id": "6bcc312e"
      },
      "outputs": [],
      "source": [
        "# CODE HERE"
      ]
    },
    {
      "cell_type": "code",
      "execution_count": null,
      "id": "75eb8f5e",
      "metadata": {
        "id": "75eb8f5e"
      },
      "outputs": [],
      "source": [
        "# CODE HERE"
      ]
    },
    {
      "cell_type": "markdown",
      "id": "8a456413",
      "metadata": {
        "id": "8a456413"
      },
      "source": [
        "___\n",
        "\n",
        "\n",
        "___"
      ]
    },
    {
      "cell_type": "markdown",
      "id": "7b9d97bf",
      "metadata": {
        "id": "7b9d97bf"
      },
      "source": [
        "**Data Analyst Jobs Salary Range based on Company Name with Rating Scores**"
      ]
    },
    {
      "cell_type": "markdown",
      "id": "da44984e",
      "metadata": {
        "id": "da44984e"
      },
      "source": [
        "**INSTRUCTIONS**\n",
        "\n",
        "*   Display ``value_counts`` of ``company names`` with ``salary_minimum`` and ``rating`` values and assign it to a dataframe named ``company_sal_min``.\n",
        "*   Visualize ``company_sal_min`` with scatter plot in plotly.\n",
        "*   Display ``value_counts`` of ``company names`` with ``salary_average`` and ``rating`` values and assign it to a dataframe named ``company_sal_ave``.\n",
        "*   Visualize ``company_sal_ave`` with scatter plot in plotly.\n",
        "*   Display ``value_counts`` of ``company names`` with ``salary_maximum`` and ``rating`` values and assign it to a dataframe named ``company_sal_max``.\n",
        "*   Visualize ``company_sal_max`` with scatter plot in plotly."
      ]
    },
    {
      "cell_type": "code",
      "execution_count": null,
      "id": "f69f1939",
      "metadata": {
        "id": "f69f1939"
      },
      "outputs": [],
      "source": [
        "# CODE HERE"
      ]
    },
    {
      "cell_type": "code",
      "execution_count": null,
      "id": "38d559c7",
      "metadata": {
        "id": "38d559c7"
      },
      "outputs": [],
      "source": [
        "# CODE HERE"
      ]
    },
    {
      "cell_type": "markdown",
      "id": "a3c12839",
      "metadata": {
        "id": "a3c12839"
      },
      "source": [
        "![image.png](attachment:image.png)"
      ]
    },
    {
      "cell_type": "code",
      "execution_count": null,
      "id": "71492d51",
      "metadata": {
        "id": "71492d51"
      },
      "outputs": [],
      "source": [
        "# CODE HERE"
      ]
    },
    {
      "cell_type": "code",
      "execution_count": null,
      "id": "a73f4041",
      "metadata": {
        "id": "a73f4041"
      },
      "outputs": [],
      "source": [
        "# CODE HERE"
      ]
    },
    {
      "cell_type": "markdown",
      "id": "bdd277a5",
      "metadata": {
        "id": "bdd277a5"
      },
      "source": [
        "![image.png](attachment:image.png)"
      ]
    },
    {
      "cell_type": "code",
      "execution_count": null,
      "id": "2840a762",
      "metadata": {
        "id": "2840a762"
      },
      "outputs": [],
      "source": [
        "# CODE HERE"
      ]
    },
    {
      "cell_type": "code",
      "execution_count": null,
      "id": "a15ffd2e",
      "metadata": {
        "id": "a15ffd2e"
      },
      "outputs": [],
      "source": [
        "# CODE HERE"
      ]
    },
    {
      "cell_type": "markdown",
      "id": "71cfe85f",
      "metadata": {
        "id": "71cfe85f"
      },
      "source": [
        "![image.png](attachment:image.png)"
      ]
    },
    {
      "cell_type": "markdown",
      "id": "1e03ca82",
      "metadata": {
        "id": "1e03ca82"
      },
      "source": [
        "___\n",
        "\n",
        "<p style='text-align: center;'><img src='https://docs.google.com/uc?id=1lY0Uj5R04yMY3-ZppPWxqCr5pvBLYPnV' class='img-fluid' alt='CLRSWY'></p>\n",
        "\n",
        "___"
      ]
    },
    {
      "cell_type": "code",
      "execution_count": null,
      "id": "7e96266e",
      "metadata": {
        "id": "7e96266e"
      },
      "outputs": [],
      "source": []
    }
  ],
  "metadata": {
    "colab": {
      "collapsed_sections": [],
      "name": "EDA_Data_Analyst_Job_Student.ipynb",
      "provenance": []
    },
    "kernelspec": {
      "display_name": "Python 3 (ipykernel)",
      "language": "python",
      "name": "python3"
    },
    "language_info": {
      "codemirror_mode": {
        "name": "ipython",
        "version": 3
      },
      "file_extension": ".py",
      "mimetype": "text/x-python",
      "name": "python",
      "nbconvert_exporter": "python",
      "pygments_lexer": "ipython3",
      "version": "3.9.12"
    }
  },
  "nbformat": 4,
  "nbformat_minor": 5
}
